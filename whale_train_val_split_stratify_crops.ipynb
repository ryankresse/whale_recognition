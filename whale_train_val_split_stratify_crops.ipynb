{
 "cells": [
  {
   "cell_type": "code",
   "execution_count": 1,
   "metadata": {
    "collapsed": true
   },
   "outputs": [],
   "source": [
    "import pandas as pd\n",
    "import numpy as np\n",
    "from glob import glob\n",
    "import os\n",
    "%matplotlib inline"
   ]
  },
  {
   "cell_type": "code",
   "execution_count": 2,
   "metadata": {
    "collapsed": false
   },
   "outputs": [],
   "source": [
    "cwd = os.getcwd()\n",
    "data_dir = os.path.join('data', 'whale')\n",
    "img_dir = os.path.join(os.getcwd(), 'data', 'whale', 'crops')\n"
   ]
  },
  {
   "cell_type": "code",
   "execution_count": 3,
   "metadata": {
    "collapsed": false
   },
   "outputs": [
    {
     "data": {
      "text/plain": [
       "'data/whale'"
      ]
     },
     "execution_count": 3,
     "metadata": {},
     "output_type": "execute_result"
    }
   ],
   "source": [
    "data_dir"
   ]
  },
  {
   "cell_type": "code",
   "execution_count": 4,
   "metadata": {
    "collapsed": false
   },
   "outputs": [],
   "source": [
    "tr = pd.read_csv(data_dir+'/train.csv')"
   ]
  },
  {
   "cell_type": "code",
   "execution_count": 5,
   "metadata": {
    "collapsed": false
   },
   "outputs": [
    {
     "data": {
      "text/plain": [
       "447"
      ]
     },
     "execution_count": 5,
     "metadata": {},
     "output_type": "execute_result"
    }
   ],
   "source": [
    "tr.whaleID.nunique()"
   ]
  },
  {
   "cell_type": "markdown",
   "metadata": {},
   "source": [
    "- unzip\n",
    "- resize them all\n",
    "- move test to its own directory\n",
    "- use preprocessing to create new images for each class\n",
    "- how many images will you need to create proportional training/validation sets.\n",
    "- maybe you start by not trying to create copies or things like that. maybe you just start by creating empty directories in the train and validation sets? \n",
    "- What if you didn't have a validation set. You could probably get to the proportional distribution then?\n",
    "- The issue is that if your validation set has a different distribution of whales, you will not get an accurate score, and your model will not train well.\n"
   ]
  },
  {
   "cell_type": "markdown",
   "metadata": {},
   "source": [
    "### Make the test directory and move the test files to that directory."
   ]
  },
  {
   "cell_type": "code",
   "execution_count": 7,
   "metadata": {
    "collapsed": false
   },
   "outputs": [
    {
     "name": "stdout",
     "output_type": "stream",
     "text": [
      "/home/ubuntu/courses/deeplearning1/nbs/data/whale\n"
     ]
    }
   ],
   "source": [
    "% cd $data_dir\n"
   ]
  },
  {
   "cell_type": "code",
   "execution_count": 8,
   "metadata": {
    "collapsed": false
   },
   "outputs": [
    {
     "name": "stdout",
     "output_type": "stream",
     "text": [
      "mv: cannot stat 'w_7489.jpg': No such file or directory\r\n"
     ]
    }
   ],
   "source": [
    "% mv w_7489.jpg crops/"
   ]
  },
  {
   "cell_type": "code",
   "execution_count": 9,
   "metadata": {
    "collapsed": false
   },
   "outputs": [
    {
     "name": "stdout",
     "output_type": "stream",
     "text": [
      "/home/ubuntu/courses/deeplearning1/nbs/data/whale/crops\n"
     ]
    }
   ],
   "source": [
    "% cd crops"
   ]
  },
  {
   "cell_type": "code",
   "execution_count": 10,
   "metadata": {
    "collapsed": true
   },
   "outputs": [],
   "source": [
    "% mkdir test\n"
   ]
  },
  {
   "cell_type": "code",
   "execution_count": 11,
   "metadata": {
    "collapsed": true
   },
   "outputs": [],
   "source": [
    "imgs = glob('*.jpg')"
   ]
  },
  {
   "cell_type": "code",
   "execution_count": 12,
   "metadata": {
    "collapsed": false
   },
   "outputs": [
    {
     "data": {
      "text/plain": [
       "6925"
      ]
     },
     "execution_count": 12,
     "metadata": {},
     "output_type": "execute_result"
    }
   ],
   "source": [
    "len(imgs)"
   ]
  },
  {
   "cell_type": "code",
   "execution_count": 13,
   "metadata": {
    "collapsed": false
   },
   "outputs": [],
   "source": [
    "% mkdir test/unknown"
   ]
  },
  {
   "cell_type": "code",
   "execution_count": 14,
   "metadata": {
    "collapsed": false
   },
   "outputs": [],
   "source": [
    "for fname in imgs:\n",
    "    #print(os.path.join(os.getcwd(), 'test', 'unknown', fname))\n",
    "    os.rename(os.path.join(os.getcwd(), fname),os.path.join(os.getcwd(), 'test','unknown', fname))\n"
   ]
  },
  {
   "cell_type": "code",
   "execution_count": 15,
   "metadata": {
    "collapsed": false
   },
   "outputs": [
    {
     "name": "stdout",
     "output_type": "stream",
     "text": [
      "/home/ubuntu/courses/deeplearning1/nbs/data/whale/crops/test/unknown\n"
     ]
    }
   ],
   "source": [
    "% cd test/unknown"
   ]
  },
  {
   "cell_type": "code",
   "execution_count": 16,
   "metadata": {
    "collapsed": true
   },
   "outputs": [],
   "source": [
    "test_files = glob('*.jpg')"
   ]
  },
  {
   "cell_type": "code",
   "execution_count": 17,
   "metadata": {
    "collapsed": false
   },
   "outputs": [
    {
     "name": "stdout",
     "output_type": "stream",
     "text": [
      "/home/ubuntu/courses/deeplearning1/nbs\n"
     ]
    }
   ],
   "source": [
    "% cd $cwd"
   ]
  },
  {
   "cell_type": "code",
   "execution_count": 18,
   "metadata": {
    "collapsed": false
   },
   "outputs": [],
   "source": [
    "sub = pd.read_csv(data_dir+'/sample_submission.csv')"
   ]
  },
  {
   "cell_type": "code",
   "execution_count": 19,
   "metadata": {
    "collapsed": false
   },
   "outputs": [],
   "source": [
    "assert len(test_files) == len(sub)"
   ]
  },
  {
   "cell_type": "markdown",
   "metadata": {},
   "source": [
    "### Make train and validation sets"
   ]
  },
  {
   "cell_type": "code",
   "execution_count": 20,
   "metadata": {
    "collapsed": false
   },
   "outputs": [
    {
     "name": "stdout",
     "output_type": "stream",
     "text": [
      "/home/ubuntu/courses/deeplearning1/nbs/data/whale/crops\n"
     ]
    }
   ],
   "source": [
    "% cd $img_dir\n"
   ]
  },
  {
   "cell_type": "code",
   "execution_count": 21,
   "metadata": {
    "collapsed": true
   },
   "outputs": [],
   "source": [
    "% mkdir valid\n"
   ]
  },
  {
   "cell_type": "code",
   "execution_count": 22,
   "metadata": {
    "collapsed": false
   },
   "outputs": [
    {
     "name": "stdout",
     "output_type": "stream",
     "text": [
      "/home/ubuntu/courses/deeplearning1/nbs/data/whale/crops/train\n"
     ]
    }
   ],
   "source": [
    "%cd train"
   ]
  },
  {
   "cell_type": "code",
   "execution_count": 23,
   "metadata": {
    "collapsed": true
   },
   "outputs": [],
   "source": [
    "for whale in tr.whaleID.unique():\n",
    "    os.mkdir(whale)\n",
    "    \n",
    "    "
   ]
  },
  {
   "cell_type": "code",
   "execution_count": 24,
   "metadata": {
    "collapsed": false
   },
   "outputs": [
    {
     "name": "stdout",
     "output_type": "stream",
     "text": [
      "/home/ubuntu/courses/deeplearning1/nbs\n",
      "/home/ubuntu/courses/deeplearning1/nbs/data/whale/crops/valid\n"
     ]
    }
   ],
   "source": [
    "% cd $cwd\n",
    "% cd $img_dir/valid"
   ]
  },
  {
   "cell_type": "code",
   "execution_count": 25,
   "metadata": {
    "collapsed": false
   },
   "outputs": [],
   "source": [
    "for whale in tr.whaleID.unique():\n",
    "    os.mkdir(whale)\n"
   ]
  },
  {
   "cell_type": "code",
   "execution_count": 26,
   "metadata": {
    "collapsed": false
   },
   "outputs": [
    {
     "name": "stdout",
     "output_type": "stream",
     "text": [
      "/home/ubuntu/courses/deeplearning1/nbs\n",
      "/home/ubuntu/courses/deeplearning1/nbs/data/whale/crops\n"
     ]
    }
   ],
   "source": [
    "% cd $cwd\n",
    "% cd $img_dir\n"
   ]
  },
  {
   "cell_type": "code",
   "execution_count": 27,
   "metadata": {
    "collapsed": false
   },
   "outputs": [
    {
     "data": {
      "text/plain": [
       "4991"
      ]
     },
     "execution_count": 27,
     "metadata": {},
     "output_type": "execute_result"
    }
   ],
   "source": [
    "len(os.listdir('train'))"
   ]
  },
  {
   "cell_type": "code",
   "execution_count": 28,
   "metadata": {
    "collapsed": false
   },
   "outputs": [
    {
     "data": {
      "text/plain": [
       "447"
      ]
     },
     "execution_count": 28,
     "metadata": {},
     "output_type": "execute_result"
    }
   ],
   "source": [
    "len(os.listdir('valid'))"
   ]
  },
  {
   "cell_type": "code",
   "execution_count": 29,
   "metadata": {
    "collapsed": false
   },
   "outputs": [],
   "source": [
    "whale_counts = tr.whaleID.value_counts()"
   ]
  },
  {
   "cell_type": "code",
   "execution_count": 30,
   "metadata": {
    "collapsed": true
   },
   "outputs": [],
   "source": [
    "one_whale = whale_counts[whale_counts == 1]"
   ]
  },
  {
   "cell_type": "code",
   "execution_count": 31,
   "metadata": {
    "collapsed": false
   },
   "outputs": [
    {
     "data": {
      "text/plain": [
       "whale_88085    1\n",
       "whale_77984    1\n",
       "whale_88226    1\n",
       "whale_51332    1\n",
       "whale_54497    1\n",
       "whale_90966    1\n",
       "whale_05140    1\n",
       "whale_34513    1\n",
       "whale_64299    1\n",
       "whale_89271    1\n",
       "whale_22212    1\n",
       "whale_56281    1\n",
       "whale_21655    1\n",
       "whale_88432    1\n",
       "whale_45294    1\n",
       "whale_04480    1\n",
       "whale_86081    1\n",
       "whale_08729    1\n",
       "whale_66539    1\n",
       "whale_54796    1\n",
       "whale_81915    1\n",
       "whale_22848    1\n",
       "whale_51114    1\n",
       "whale_40483    1\n",
       "Name: whaleID, dtype: int64"
      ]
     },
     "execution_count": 31,
     "metadata": {},
     "output_type": "execute_result"
    }
   ],
   "source": [
    "one_whale"
   ]
  },
  {
   "cell_type": "code",
   "execution_count": 32,
   "metadata": {
    "collapsed": true
   },
   "outputs": [],
   "source": [
    "one_whale_df = tr[tr.whaleID.isin(one_whale.index.values)]"
   ]
  },
  {
   "cell_type": "code",
   "execution_count": 33,
   "metadata": {
    "collapsed": false
   },
   "outputs": [
    {
     "data": {
      "text/html": [
       "<div>\n",
       "<table border=\"1\" class=\"dataframe\">\n",
       "  <thead>\n",
       "    <tr style=\"text-align: right;\">\n",
       "      <th></th>\n",
       "      <th>Image</th>\n",
       "      <th>whaleID</th>\n",
       "    </tr>\n",
       "  </thead>\n",
       "  <tbody>\n",
       "    <tr>\n",
       "      <th>41</th>\n",
       "      <td>w_3003.jpg</td>\n",
       "      <td>whale_54796</td>\n",
       "    </tr>\n",
       "    <tr>\n",
       "      <th>320</th>\n",
       "      <td>w_5416.jpg</td>\n",
       "      <td>whale_64299</td>\n",
       "    </tr>\n",
       "    <tr>\n",
       "      <th>353</th>\n",
       "      <td>w_6656.jpg</td>\n",
       "      <td>whale_21655</td>\n",
       "    </tr>\n",
       "    <tr>\n",
       "      <th>864</th>\n",
       "      <td>w_1881.jpg</td>\n",
       "      <td>whale_56281</td>\n",
       "    </tr>\n",
       "    <tr>\n",
       "      <th>885</th>\n",
       "      <td>w_7464.jpg</td>\n",
       "      <td>whale_86081</td>\n",
       "    </tr>\n",
       "  </tbody>\n",
       "</table>\n",
       "</div>"
      ],
      "text/plain": [
       "          Image      whaleID\n",
       "41   w_3003.jpg  whale_54796\n",
       "320  w_5416.jpg  whale_64299\n",
       "353  w_6656.jpg  whale_21655\n",
       "864  w_1881.jpg  whale_56281\n",
       "885  w_7464.jpg  whale_86081"
      ]
     },
     "execution_count": 33,
     "metadata": {},
     "output_type": "execute_result"
    }
   ],
   "source": [
    "one_whale_df.head()"
   ]
  },
  {
   "cell_type": "code",
   "execution_count": 34,
   "metadata": {
    "collapsed": false
   },
   "outputs": [
    {
     "data": {
      "text/plain": [
       "u'/home/ubuntu/courses/deeplearning1/nbs/data/whale/crops'"
      ]
     },
     "execution_count": 34,
     "metadata": {},
     "output_type": "execute_result"
    }
   ],
   "source": [
    "%pwd"
   ]
  },
  {
   "cell_type": "code",
   "execution_count": 38,
   "metadata": {
    "collapsed": false
   },
   "outputs": [
    {
     "name": "stdout",
     "output_type": "stream",
     "text": [
      "/home/ubuntu/courses/deeplearning1/nbs/data/whale/crops/train\n"
     ]
    }
   ],
   "source": [
    "% cd train"
   ]
  },
  {
   "cell_type": "code",
   "execution_count": 35,
   "metadata": {
    "collapsed": false
   },
   "outputs": [
    {
     "data": {
      "text/html": [
       "<div>\n",
       "<table border=\"1\" class=\"dataframe\">\n",
       "  <thead>\n",
       "    <tr style=\"text-align: right;\">\n",
       "      <th></th>\n",
       "      <th>Image</th>\n",
       "      <th>whaleID</th>\n",
       "    </tr>\n",
       "  </thead>\n",
       "  <tbody>\n",
       "    <tr>\n",
       "      <th>41</th>\n",
       "      <td>w_3003.jpg</td>\n",
       "      <td>whale_54796</td>\n",
       "    </tr>\n",
       "    <tr>\n",
       "      <th>320</th>\n",
       "      <td>w_5416.jpg</td>\n",
       "      <td>whale_64299</td>\n",
       "    </tr>\n",
       "    <tr>\n",
       "      <th>353</th>\n",
       "      <td>w_6656.jpg</td>\n",
       "      <td>whale_21655</td>\n",
       "    </tr>\n",
       "    <tr>\n",
       "      <th>864</th>\n",
       "      <td>w_1881.jpg</td>\n",
       "      <td>whale_56281</td>\n",
       "    </tr>\n",
       "    <tr>\n",
       "      <th>885</th>\n",
       "      <td>w_7464.jpg</td>\n",
       "      <td>whale_86081</td>\n",
       "    </tr>\n",
       "  </tbody>\n",
       "</table>\n",
       "</div>"
      ],
      "text/plain": [
       "          Image      whaleID\n",
       "41   w_3003.jpg  whale_54796\n",
       "320  w_5416.jpg  whale_64299\n",
       "353  w_6656.jpg  whale_21655\n",
       "864  w_1881.jpg  whale_56281\n",
       "885  w_7464.jpg  whale_86081"
      ]
     },
     "execution_count": 35,
     "metadata": {},
     "output_type": "execute_result"
    }
   ],
   "source": [
    "one_whale_df.head()"
   ]
  },
  {
   "cell_type": "code",
   "execution_count": 39,
   "metadata": {
    "collapsed": false
   },
   "outputs": [
    {
     "name": "stdout",
     "output_type": "stream",
     "text": [
      "/home/ubuntu/courses/deeplearning1/nbs/data/whale/crops/train/whale_54796/w_3003.jpg\n",
      "/home/ubuntu/courses/deeplearning1/nbs/data/whale/crops/train/whale_64299/w_5416.jpg\n",
      "/home/ubuntu/courses/deeplearning1/nbs/data/whale/crops/train/whale_21655/w_6656.jpg\n",
      "/home/ubuntu/courses/deeplearning1/nbs/data/whale/crops/train/whale_56281/w_1881.jpg\n",
      "/home/ubuntu/courses/deeplearning1/nbs/data/whale/crops/train/whale_86081/w_7464.jpg\n",
      "/home/ubuntu/courses/deeplearning1/nbs/data/whale/crops/train/whale_04480/w_1067.jpg\n",
      "/home/ubuntu/courses/deeplearning1/nbs/data/whale/crops/train/whale_22212/w_7426.jpg\n",
      "/home/ubuntu/courses/deeplearning1/nbs/data/whale/crops/train/whale_88085/w_73.jpg\n",
      "/home/ubuntu/courses/deeplearning1/nbs/data/whale/crops/train/whale_88226/w_7758.jpg\n",
      "/home/ubuntu/courses/deeplearning1/nbs/data/whale/crops/train/whale_90966/w_5493.jpg\n",
      "/home/ubuntu/courses/deeplearning1/nbs/data/whale/crops/train/whale_40483/w_8841.jpg\n",
      "/home/ubuntu/courses/deeplearning1/nbs/data/whale/crops/train/whale_51332/w_3750.jpg\n",
      "/home/ubuntu/courses/deeplearning1/nbs/data/whale/crops/train/whale_66539/w_4732.jpg\n",
      "/home/ubuntu/courses/deeplearning1/nbs/data/whale/crops/train/whale_77984/w_836.jpg\n",
      "/home/ubuntu/courses/deeplearning1/nbs/data/whale/crops/train/whale_88432/w_5445.jpg\n",
      "/home/ubuntu/courses/deeplearning1/nbs/data/whale/crops/train/whale_45294/w_6241.jpg\n",
      "/home/ubuntu/courses/deeplearning1/nbs/data/whale/crops/train/whale_54497/w_4045.jpg\n",
      "/home/ubuntu/courses/deeplearning1/nbs/data/whale/crops/train/whale_34513/w_4269.jpg\n",
      "/home/ubuntu/courses/deeplearning1/nbs/data/whale/crops/train/whale_81915/w_5471.jpg\n",
      "/home/ubuntu/courses/deeplearning1/nbs/data/whale/crops/train/whale_22848/w_5640.jpg\n",
      "/home/ubuntu/courses/deeplearning1/nbs/data/whale/crops/train/whale_89271/w_2755.jpg\n",
      "/home/ubuntu/courses/deeplearning1/nbs/data/whale/crops/train/whale_08729/w_5252.jpg\n",
      "/home/ubuntu/courses/deeplearning1/nbs/data/whale/crops/train/whale_05140/w_3576.jpg\n",
      "/home/ubuntu/courses/deeplearning1/nbs/data/whale/crops/train/whale_51114/w_7937.jpg\n"
     ]
    }
   ],
   "source": [
    "for r in one_whale_df.iterrows():\n",
    "    f = os.path.join(img_dir, 'train', r[1].whaleID, r[1].Image)\n",
    "    print(f)\n",
    "    os.rename(r[1].Image, f)"
   ]
  },
  {
   "cell_type": "code",
   "execution_count": 40,
   "metadata": {
    "collapsed": true
   },
   "outputs": [],
   "source": [
    "more_than_one = tr[~tr.whaleID.isin(one_whale.index.values)]"
   ]
  },
  {
   "cell_type": "code",
   "execution_count": 41,
   "metadata": {
    "collapsed": false
   },
   "outputs": [
    {
     "name": "stdout",
     "output_type": "stream",
     "text": [
      "Object `train_test_split` not found.\n"
     ]
    }
   ],
   "source": [
    "train_test_split?"
   ]
  },
  {
   "cell_type": "code",
   "execution_count": 42,
   "metadata": {
    "collapsed": false
   },
   "outputs": [
    {
     "name": "stderr",
     "output_type": "stream",
     "text": [
      "/home/ubuntu/anaconda2/lib/python2.7/site-packages/sklearn/cross_validation.py:44: DeprecationWarning: This module was deprecated in version 0.18 in favor of the model_selection module into which all the refactored classes and functions are moved. Also note that the interface of the new CV iterators are different from that of this module. This module will be removed in 0.20.\n",
      "  \"This module will be removed in 0.20.\", DeprecationWarning)\n"
     ]
    }
   ],
   "source": [
    "from sklearn.cross_validation import train_test_split\n",
    "tr_idx, val_idx = train_test_split(more_than_one.index.values, stratify=more_than_one.whaleID.values, test_size=0.1, random_state=17)"
   ]
  },
  {
   "cell_type": "code",
   "execution_count": 43,
   "metadata": {
    "collapsed": false
   },
   "outputs": [],
   "source": [
    "for idx in tr_idx:\n",
    "    r = more_than_one.loc[idx, :]\n",
    "    f = os.path.join(img_dir, 'train', r.whaleID, r.Image)\n",
    "    os.rename(r.Image, f)"
   ]
  },
  {
   "cell_type": "code",
   "execution_count": 44,
   "metadata": {
    "collapsed": false
   },
   "outputs": [],
   "source": [
    "for idx in val_idx:\n",
    "    r = more_than_one.loc[idx, :]\n",
    "    f = os.path.join(img_dir, 'valid', r.whaleID, r.Image)\n",
    "    #print(f)\n",
    "    os.rename(r.Image, f)"
   ]
  },
  {
   "cell_type": "code",
   "execution_count": 45,
   "metadata": {
    "collapsed": true
   },
   "outputs": [],
   "source": [
    "g = glob('*.jpg')"
   ]
  },
  {
   "cell_type": "markdown",
   "metadata": {},
   "source": [
    "## Checks"
   ]
  },
  {
   "cell_type": "code",
   "execution_count": 46,
   "metadata": {
    "collapsed": false
   },
   "outputs": [
    {
     "data": {
      "text/plain": [
       "u'/home/ubuntu/courses/deeplearning1/nbs/data/whale/crops/train'"
      ]
     },
     "execution_count": 46,
     "metadata": {},
     "output_type": "execute_result"
    }
   ],
   "source": [
    "% pwd"
   ]
  },
  {
   "cell_type": "code",
   "execution_count": 47,
   "metadata": {
    "collapsed": false
   },
   "outputs": [
    {
     "name": "stdout",
     "output_type": "stream",
     "text": [
      "/home/ubuntu/courses/deeplearning1/nbs/data/whale/crops\n"
     ]
    }
   ],
   "source": [
    "% cd $img_dir"
   ]
  },
  {
   "cell_type": "code",
   "execution_count": 48,
   "metadata": {
    "collapsed": false
   },
   "outputs": [],
   "source": [
    "g = os.walk('train')"
   ]
  },
  {
   "cell_type": "code",
   "execution_count": 49,
   "metadata": {
    "collapsed": false
   },
   "outputs": [],
   "source": [
    "path ,dirs,files = g.next()"
   ]
  },
  {
   "cell_type": "code",
   "execution_count": 50,
   "metadata": {
    "collapsed": false
   },
   "outputs": [],
   "source": [
    "assert len(dirs) == 447"
   ]
  },
  {
   "cell_type": "code",
   "execution_count": 51,
   "metadata": {
    "collapsed": false
   },
   "outputs": [],
   "source": [
    "path ,dirs,files = g.next()"
   ]
  },
  {
   "cell_type": "code",
   "execution_count": 52,
   "metadata": {
    "collapsed": false
   },
   "outputs": [
    {
     "data": {
      "text/plain": [
       "'train/whale_89211'"
      ]
     },
     "execution_count": 52,
     "metadata": {},
     "output_type": "execute_result"
    }
   ],
   "source": [
    "path"
   ]
  },
  {
   "cell_type": "code",
   "execution_count": 53,
   "metadata": {
    "collapsed": false
   },
   "outputs": [],
   "source": [
    "for f in files:\n",
    "    if not f in tr[tr.whaleID == \"whale_89211\"].Image.values: print(f)"
   ]
  },
  {
   "cell_type": "code",
   "execution_count": 54,
   "metadata": {
    "collapsed": false
   },
   "outputs": [],
   "source": [
    "g = os.walk('valid')"
   ]
  },
  {
   "cell_type": "code",
   "execution_count": 55,
   "metadata": {
    "collapsed": false
   },
   "outputs": [],
   "source": [
    "path ,dirs,files = g.next()"
   ]
  },
  {
   "cell_type": "code",
   "execution_count": 56,
   "metadata": {
    "collapsed": false
   },
   "outputs": [],
   "source": [
    "assert len(dirs) == 447"
   ]
  },
  {
   "cell_type": "code",
   "execution_count": 57,
   "metadata": {
    "collapsed": false
   },
   "outputs": [],
   "source": [
    "path ,dirs,files = g.next()"
   ]
  },
  {
   "cell_type": "code",
   "execution_count": 64,
   "metadata": {
    "collapsed": false
   },
   "outputs": [
    {
     "data": {
      "text/plain": [
       "'valid/whale_89211'"
      ]
     },
     "execution_count": 64,
     "metadata": {},
     "output_type": "execute_result"
    }
   ],
   "source": [
    "path"
   ]
  },
  {
   "cell_type": "code",
   "execution_count": 68,
   "metadata": {
    "collapsed": false
   },
   "outputs": [],
   "source": [
    "for f in files:\n",
    "    if not f in tr[tr.whaleID == \"whale_89211\"].Image.values: print(f)"
   ]
  }
 ],
 "metadata": {
  "anaconda-cloud": {},
  "kernelspec": {
   "display_name": "Python [conda root]",
   "language": "python",
   "name": "conda-root-py"
  },
  "language_info": {
   "codemirror_mode": {
    "name": "ipython",
    "version": 2
   },
   "file_extension": ".py",
   "mimetype": "text/x-python",
   "name": "python",
   "nbconvert_exporter": "python",
   "pygments_lexer": "ipython2",
   "version": "2.7.12"
  }
 },
 "nbformat": 4,
 "nbformat_minor": 1
}
