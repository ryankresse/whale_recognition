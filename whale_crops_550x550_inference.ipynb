{
 "cells": [
  {
   "cell_type": "code",
   "execution_count": 49,
   "metadata": {
    "collapsed": false
   },
   "outputs": [],
   "source": [
    "import sys\n",
    "import os\n",
    "sys.path.insert(1, os.path.join(sys.path[0], '..'))\n",
    "from utils import *\n",
    "import resnet50\n",
    "import pandas as pd\n",
    "import numpy as np\n",
    "from glob import glob\n",
    "from keras.layers import Dense, Conv2D, BatchNormalization, Dropout, Flatten, MaxPooling2D\n",
    "from keras.models import Sequential\n",
    "from keras.preprocessing.image import ImageDataGenerator\n",
    "from keras.optimizers import Adam\n",
    "from sklearn.metrics import log_loss\n",
    "%matplotlib inline\n",
    "cwd = os.getcwd()\n",
    "input_dir  = os.path.join(os.path.dirname(cwd), 'data', 'crops_for_class', 'wrap')\n",
    "batch_size=64\n",
    "num_class = 447\n",
    "img_shape=(3, 550, 550)\n",
    "target_size = (550,550)"
   ]
  },
  {
   "cell_type": "markdown",
   "metadata": {},
   "source": [
    "# Load Data"
   ]
  },
  {
   "cell_type": "code",
   "execution_count": 2,
   "metadata": {
    "collapsed": true
   },
   "outputs": [],
   "source": [
    "tr_data = load_array('tr_crop_550_conv_feats.bc')\n",
    "val_data = load_array('val_crop_550_conv_feats.bc')\n",
    "tr_c = load_array('tr_classes_550_crop.bc')\n",
    "val_c = load_array('val_classes_550_crop.bc')"
   ]
  },
  {
   "cell_type": "code",
   "execution_count": 3,
   "metadata": {
    "collapsed": false
   },
   "outputs": [
    {
     "data": {
      "text/plain": [
       "(3864, 512, 17, 17)"
      ]
     },
     "execution_count": 3,
     "metadata": {},
     "output_type": "execute_result"
    }
   ],
   "source": [
    "tr_data.shape"
   ]
  },
  {
   "cell_type": "code",
   "execution_count": 4,
   "metadata": {
    "collapsed": false
   },
   "outputs": [
    {
     "data": {
      "text/plain": [
       "(680, 512, 17, 17)"
      ]
     },
     "execution_count": 4,
     "metadata": {},
     "output_type": "execute_result"
    }
   ],
   "source": [
    "val_data.shape"
   ]
  },
  {
   "cell_type": "code",
   "execution_count": 5,
   "metadata": {
    "collapsed": false
   },
   "outputs": [
    {
     "data": {
      "text/plain": [
       "(3864,)"
      ]
     },
     "execution_count": 5,
     "metadata": {},
     "output_type": "execute_result"
    }
   ],
   "source": [
    "tr_c.shape"
   ]
  },
  {
   "cell_type": "code",
   "execution_count": 6,
   "metadata": {
    "collapsed": false
   },
   "outputs": [
    {
     "data": {
      "text/plain": [
       "(680,)"
      ]
     },
     "execution_count": 6,
     "metadata": {},
     "output_type": "execute_result"
    }
   ],
   "source": [
    "val_c.shape"
   ]
  },
  {
   "cell_type": "markdown",
   "metadata": {},
   "source": [
    "# Fit Model"
   ]
  },
  {
   "cell_type": "code",
   "execution_count": 34,
   "metadata": {
    "collapsed": true
   },
   "outputs": [],
   "source": [
    "def getlm():\n",
    "    return Sequential([\n",
    "            Flatten(input_shape=(512, 17, 17)),\n",
    "            BatchNormalization(),\n",
    "            Dense(512, activation='relu'),\n",
    "            \n",
    "            BatchNormalization(),\n",
    "            Dense(num_class, activation='softmax')\n",
    "        ])"
   ]
  },
  {
   "cell_type": "code",
   "execution_count": 35,
   "metadata": {
    "collapsed": false
   },
   "outputs": [],
   "source": [
    "model = getlm()"
   ]
  },
  {
   "cell_type": "code",
   "execution_count": 36,
   "metadata": {
    "collapsed": true
   },
   "outputs": [],
   "source": [
    "model.compile(Adam(lr=0.001), loss='sparse_categorical_crossentropy', metrics=['accuracy'])"
   ]
  },
  {
   "cell_type": "code",
   "execution_count": 37,
   "metadata": {
    "collapsed": false
   },
   "outputs": [
    {
     "name": "stdout",
     "output_type": "stream",
     "text": [
      "Train on 3864 samples, validate on 680 samples\n",
      "Epoch 1/3\n",
      "3864/3864 [==============================] - 10s - loss: 6.1623 - acc: 0.0380 - val_loss: 6.8270 - val_acc: 0.0676\n",
      "Epoch 2/3\n",
      "3864/3864 [==============================] - 10s - loss: 0.1995 - acc: 0.9990 - val_loss: 5.6785 - val_acc: 0.0721\n",
      "Epoch 3/3\n",
      "3864/3864 [==============================] - 10s - loss: 0.0237 - acc: 1.0000 - val_loss: 5.6219 - val_acc: 0.0794\n"
     ]
    },
    {
     "data": {
      "text/plain": [
       "<keras.callbacks.History at 0x7f089c383850>"
      ]
     },
     "execution_count": 37,
     "metadata": {},
     "output_type": "execute_result"
    }
   ],
   "source": [
    "model.fit(tr_data, tr_c, validation_data=(val_data, val_c), shuffle=True, nb_epoch=3)"
   ]
  },
  {
   "cell_type": "code",
   "execution_count": 38,
   "metadata": {
    "collapsed": true
   },
   "outputs": [],
   "source": [
    "model.save_weights('crop_class_5.61.h5')"
   ]
  },
  {
   "cell_type": "code",
   "execution_count": 39,
   "metadata": {
    "collapsed": true
   },
   "outputs": [],
   "source": [
    "model.optimizer.lr = 0.0001"
   ]
  },
  {
   "cell_type": "code",
   "execution_count": 40,
   "metadata": {
    "collapsed": false
   },
   "outputs": [
    {
     "name": "stdout",
     "output_type": "stream",
     "text": [
      "Train on 3864 samples, validate on 680 samples\n",
      "Epoch 1/3\n",
      "3864/3864 [==============================] - 10s - loss: 0.0132 - acc: 1.0000 - val_loss: 5.6054 - val_acc: 0.0809\n",
      "Epoch 2/3\n",
      "3864/3864 [==============================] - 10s - loss: 0.0086 - acc: 1.0000 - val_loss: 5.5993 - val_acc: 0.0868\n",
      "Epoch 3/3\n",
      "3864/3864 [==============================] - 10s - loss: 0.0066 - acc: 1.0000 - val_loss: 5.5985 - val_acc: 0.0868\n"
     ]
    },
    {
     "data": {
      "text/plain": [
       "<keras.callbacks.History at 0x7f0898f7c5d0>"
      ]
     },
     "execution_count": 40,
     "metadata": {},
     "output_type": "execute_result"
    }
   ],
   "source": [
    "model.fit(tr_data, tr_c, validation_data=(val_data, val_c), shuffle=True, nb_epoch=3)"
   ]
  },
  {
   "cell_type": "code",
   "execution_count": 41,
   "metadata": {
    "collapsed": true
   },
   "outputs": [],
   "source": [
    "model.save_weights('crop_class_5.59.h5')"
   ]
  },
  {
   "cell_type": "code",
   "execution_count": null,
   "metadata": {
    "collapsed": true
   },
   "outputs": [],
   "source": []
  },
  {
   "cell_type": "markdown",
   "metadata": {},
   "source": [
    "# Make Predictions"
   ]
  },
  {
   "cell_type": "code",
   "execution_count": 42,
   "metadata": {
    "collapsed": true
   },
   "outputs": [],
   "source": [
    "test_data = load_array('test_crop_550_conv_feats.bc')"
   ]
  },
  {
   "cell_type": "code",
   "execution_count": 44,
   "metadata": {
    "collapsed": false
   },
   "outputs": [],
   "source": [
    "test_preds = model.predict(test_data)"
   ]
  },
  {
   "cell_type": "code",
   "execution_count": 45,
   "metadata": {
    "collapsed": false
   },
   "outputs": [
    {
     "data": {
      "text/plain": [
       "(6925, 447)"
      ]
     },
     "execution_count": 45,
     "metadata": {},
     "output_type": "execute_result"
    }
   ],
   "source": [
    "test_preds.shape"
   ]
  },
  {
   "cell_type": "code",
   "execution_count": 56,
   "metadata": {
    "collapsed": false
   },
   "outputs": [
    {
     "name": "stdout",
     "output_type": "stream",
     "text": [
      "Found 6925 images belonging to 1 classes.\n"
     ]
    }
   ],
   "source": [
    "test_b = ImageDataGenerator().flow_from_directory(input_dir+'/test', shuffle=False, batch_size=1)"
   ]
  },
  {
   "cell_type": "code",
   "execution_count": 57,
   "metadata": {
    "collapsed": true
   },
   "outputs": [],
   "source": [
    "test_files = test_b.filenames"
   ]
  },
  {
   "cell_type": "code",
   "execution_count": 59,
   "metadata": {
    "collapsed": false
   },
   "outputs": [],
   "source": [
    "test_files = [f.split('/')[-1] for f in test_files]"
   ]
  },
  {
   "cell_type": "code",
   "execution_count": 64,
   "metadata": {
    "collapsed": true
   },
   "outputs": [],
   "source": [
    "class_ind = load_array('tr_indices_550_crop.bc')"
   ]
  },
  {
   "cell_type": "code",
   "execution_count": 70,
   "metadata": {
    "collapsed": true
   },
   "outputs": [],
   "source": [
    "from create_whale_sub import create_sub"
   ]
  },
  {
   "cell_type": "code",
   "execution_count": 71,
   "metadata": {
    "collapsed": false
   },
   "outputs": [
    {
     "name": "stdout",
     "output_type": "stream",
     "text": [
      "Found 3864 images belonging to 447 classes.\n",
      "Found 6925 images belonging to 1 classes.\n"
     ]
    }
   ],
   "source": [
    "sub = create_sub(test_preds, input_dir+'/train', input_dir+'/test')"
   ]
  },
  {
   "cell_type": "code",
   "execution_count": 72,
   "metadata": {
    "collapsed": false
   },
   "outputs": [
    {
     "data": {
      "text/html": [
       "<div>\n",
       "<table border=\"1\" class=\"dataframe\">\n",
       "  <thead>\n",
       "    <tr style=\"text-align: right;\">\n",
       "      <th></th>\n",
       "      <th>Image</th>\n",
       "      <th>whale_00195</th>\n",
       "      <th>whale_00442</th>\n",
       "      <th>whale_02411</th>\n",
       "      <th>whale_02608</th>\n",
       "      <th>whale_02839</th>\n",
       "      <th>whale_03103</th>\n",
       "      <th>whale_03227</th>\n",
       "      <th>whale_03623</th>\n",
       "      <th>whale_03728</th>\n",
       "      <th>...</th>\n",
       "      <th>whale_98618</th>\n",
       "      <th>whale_98633</th>\n",
       "      <th>whale_98645</th>\n",
       "      <th>whale_98746</th>\n",
       "      <th>whale_98939</th>\n",
       "      <th>whale_98996</th>\n",
       "      <th>whale_99243</th>\n",
       "      <th>whale_99326</th>\n",
       "      <th>whale_99558</th>\n",
       "      <th>whale_99573</th>\n",
       "    </tr>\n",
       "  </thead>\n",
       "  <tbody>\n",
       "    <tr>\n",
       "      <th>0</th>\n",
       "      <td>w_8037.jpg</td>\n",
       "      <td>0.00045050677727</td>\n",
       "      <td>0.000869674724527</td>\n",
       "      <td>0.00825662724674</td>\n",
       "      <td>0.00118368084077</td>\n",
       "      <td>0.000973085174337</td>\n",
       "      <td>0.000943258753978</td>\n",
       "      <td>0.00186946091708</td>\n",
       "      <td>0.000869923969731</td>\n",
       "      <td>0.00179296627175</td>\n",
       "      <td>...</td>\n",
       "      <td>0.000636930402834</td>\n",
       "      <td>0.00115494965576</td>\n",
       "      <td>0.000742861826438</td>\n",
       "      <td>0.00362458219752</td>\n",
       "      <td>0.00273776077665</td>\n",
       "      <td>0.00415017595515</td>\n",
       "      <td>0.00268598506227</td>\n",
       "      <td>0.00234726583585</td>\n",
       "      <td>0.000823813665193</td>\n",
       "      <td>0.00102987687569</td>\n",
       "    </tr>\n",
       "    <tr>\n",
       "      <th>1</th>\n",
       "      <td>w_4494.jpg</td>\n",
       "      <td>0.0014414510224</td>\n",
       "      <td>0.000386572151911</td>\n",
       "      <td>0.0037086638622</td>\n",
       "      <td>0.00491609843448</td>\n",
       "      <td>0.0012361262925</td>\n",
       "      <td>0.00106194533873</td>\n",
       "      <td>0.0039384663105</td>\n",
       "      <td>0.00146460405085</td>\n",
       "      <td>0.000998414587229</td>\n",
       "      <td>...</td>\n",
       "      <td>0.00124140433036</td>\n",
       "      <td>0.00191066693515</td>\n",
       "      <td>0.000475915789139</td>\n",
       "      <td>0.00273562828079</td>\n",
       "      <td>0.000975822738837</td>\n",
       "      <td>0.00668139336631</td>\n",
       "      <td>0.00179154681973</td>\n",
       "      <td>0.00628502946347</td>\n",
       "      <td>0.00139774719719</td>\n",
       "      <td>0.0017936239019</td>\n",
       "    </tr>\n",
       "    <tr>\n",
       "      <th>2</th>\n",
       "      <td>w_4673.jpg</td>\n",
       "      <td>0.00164186931215</td>\n",
       "      <td>0.00405753217638</td>\n",
       "      <td>0.000823369191494</td>\n",
       "      <td>0.00137424224522</td>\n",
       "      <td>0.00167955853976</td>\n",
       "      <td>0.00197377311997</td>\n",
       "      <td>0.00181203987449</td>\n",
       "      <td>0.00153286242858</td>\n",
       "      <td>0.00445810426027</td>\n",
       "      <td>...</td>\n",
       "      <td>0.00360396131873</td>\n",
       "      <td>0.00366715388373</td>\n",
       "      <td>0.000745384721085</td>\n",
       "      <td>0.00399981811643</td>\n",
       "      <td>0.000541688932572</td>\n",
       "      <td>0.00125695951283</td>\n",
       "      <td>0.00797817669809</td>\n",
       "      <td>0.00184187258128</td>\n",
       "      <td>0.00616874173284</td>\n",
       "      <td>0.0020067980513</td>\n",
       "    </tr>\n",
       "    <tr>\n",
       "      <th>3</th>\n",
       "      <td>w_8273.jpg</td>\n",
       "      <td>0.000358745164704</td>\n",
       "      <td>0.000321814382914</td>\n",
       "      <td>0.00854142196476</td>\n",
       "      <td>0.0128783313558</td>\n",
       "      <td>0.000678644399159</td>\n",
       "      <td>0.00198532803915</td>\n",
       "      <td>0.000341606908478</td>\n",
       "      <td>0.000944130180869</td>\n",
       "      <td>0.000647524720989</td>\n",
       "      <td>...</td>\n",
       "      <td>0.0007751234225</td>\n",
       "      <td>0.000696532195434</td>\n",
       "      <td>0.00151734566316</td>\n",
       "      <td>0.00276913889684</td>\n",
       "      <td>0.00297112087719</td>\n",
       "      <td>0.00658826204017</td>\n",
       "      <td>0.000890566094313</td>\n",
       "      <td>0.000389042805182</td>\n",
       "      <td>0.00123505829833</td>\n",
       "      <td>0.00124370516278</td>\n",
       "    </tr>\n",
       "    <tr>\n",
       "      <th>4</th>\n",
       "      <td>w_7611.jpg</td>\n",
       "      <td>0.00216307747178</td>\n",
       "      <td>0.00210913992487</td>\n",
       "      <td>0.00114769500215</td>\n",
       "      <td>0.000811097736005</td>\n",
       "      <td>0.00210286863148</td>\n",
       "      <td>0.000820437737275</td>\n",
       "      <td>0.0020252126269</td>\n",
       "      <td>0.0021647720132</td>\n",
       "      <td>0.00148711644579</td>\n",
       "      <td>...</td>\n",
       "      <td>0.000955023861025</td>\n",
       "      <td>0.00156665907707</td>\n",
       "      <td>0.000539564003702</td>\n",
       "      <td>0.00937144272029</td>\n",
       "      <td>0.000224342438742</td>\n",
       "      <td>0.00198740744963</td>\n",
       "      <td>0.00362000684254</td>\n",
       "      <td>0.000952210451942</td>\n",
       "      <td>0.00274119595997</td>\n",
       "      <td>0.0024198780302</td>\n",
       "    </tr>\n",
       "  </tbody>\n",
       "</table>\n",
       "<p>5 rows × 448 columns</p>\n",
       "</div>"
      ],
      "text/plain": [
       "        Image        whale_00195        whale_00442        whale_02411  \\\n",
       "0  w_8037.jpg   0.00045050677727  0.000869674724527   0.00825662724674   \n",
       "1  w_4494.jpg    0.0014414510224  0.000386572151911    0.0037086638622   \n",
       "2  w_4673.jpg   0.00164186931215   0.00405753217638  0.000823369191494   \n",
       "3  w_8273.jpg  0.000358745164704  0.000321814382914   0.00854142196476   \n",
       "4  w_7611.jpg   0.00216307747178   0.00210913992487   0.00114769500215   \n",
       "\n",
       "         whale_02608        whale_02839        whale_03103        whale_03227  \\\n",
       "0   0.00118368084077  0.000973085174337  0.000943258753978   0.00186946091708   \n",
       "1   0.00491609843448    0.0012361262925   0.00106194533873    0.0039384663105   \n",
       "2   0.00137424224522   0.00167955853976   0.00197377311997   0.00181203987449   \n",
       "3    0.0128783313558  0.000678644399159   0.00198532803915  0.000341606908478   \n",
       "4  0.000811097736005   0.00210286863148  0.000820437737275    0.0020252126269   \n",
       "\n",
       "         whale_03623        whale_03728        ...               whale_98618  \\\n",
       "0  0.000869923969731   0.00179296627175        ...         0.000636930402834   \n",
       "1   0.00146460405085  0.000998414587229        ...          0.00124140433036   \n",
       "2   0.00153286242858   0.00445810426027        ...          0.00360396131873   \n",
       "3  0.000944130180869  0.000647524720989        ...           0.0007751234225   \n",
       "4    0.0021647720132   0.00148711644579        ...         0.000955023861025   \n",
       "\n",
       "         whale_98633        whale_98645       whale_98746        whale_98939  \\\n",
       "0   0.00115494965576  0.000742861826438  0.00362458219752   0.00273776077665   \n",
       "1   0.00191066693515  0.000475915789139  0.00273562828079  0.000975822738837   \n",
       "2   0.00366715388373  0.000745384721085  0.00399981811643  0.000541688932572   \n",
       "3  0.000696532195434   0.00151734566316  0.00276913889684   0.00297112087719   \n",
       "4   0.00156665907707  0.000539564003702  0.00937144272029  0.000224342438742   \n",
       "\n",
       "        whale_98996        whale_99243        whale_99326        whale_99558  \\\n",
       "0  0.00415017595515   0.00268598506227   0.00234726583585  0.000823813665193   \n",
       "1  0.00668139336631   0.00179154681973   0.00628502946347   0.00139774719719   \n",
       "2  0.00125695951283   0.00797817669809   0.00184187258128   0.00616874173284   \n",
       "3  0.00658826204017  0.000890566094313  0.000389042805182   0.00123505829833   \n",
       "4  0.00198740744963   0.00362000684254  0.000952210451942   0.00274119595997   \n",
       "\n",
       "        whale_99573  \n",
       "0  0.00102987687569  \n",
       "1   0.0017936239019  \n",
       "2   0.0020067980513  \n",
       "3  0.00124370516278  \n",
       "4   0.0024198780302  \n",
       "\n",
       "[5 rows x 448 columns]"
      ]
     },
     "execution_count": 72,
     "metadata": {},
     "output_type": "execute_result"
    }
   ],
   "source": [
    "sub.head()"
   ]
  },
  {
   "cell_type": "code",
   "execution_count": 73,
   "metadata": {
    "collapsed": false
   },
   "outputs": [
    {
     "data": {
      "text/html": [
       "<a href='sub_crops_550.csv' target='_blank'>sub_crops_550.csv</a><br>"
      ],
      "text/plain": [
       "/home/ubuntu/courses/deeplearning1/nbs/whale_recognition/sub_crops_550.csv"
      ]
     },
     "execution_count": 73,
     "metadata": {},
     "output_type": "execute_result"
    }
   ],
   "source": [
    "sub.to_csv('sub_crops_550.csv', index=False)\n",
    "from IPython.display import FileLink\n",
    "FileLink('sub_crops_550.csv')"
   ]
  },
  {
   "cell_type": "code",
   "execution_count": null,
   "metadata": {
    "collapsed": true
   },
   "outputs": [],
   "source": []
  }
 ],
 "metadata": {
  "anaconda-cloud": {},
  "kernelspec": {
   "display_name": "Python [conda root]",
   "language": "python",
   "name": "conda-root-py"
  },
  "language_info": {
   "codemirror_mode": {
    "name": "ipython",
    "version": 2
   },
   "file_extension": ".py",
   "mimetype": "text/x-python",
   "name": "python",
   "nbconvert_exporter": "python",
   "pygments_lexer": "ipython2",
   "version": "2.7.12"
  }
 },
 "nbformat": 4,
 "nbformat_minor": 1
}
