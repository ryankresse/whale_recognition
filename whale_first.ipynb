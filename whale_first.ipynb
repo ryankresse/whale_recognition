{
 "cells": [
  {
   "cell_type": "code",
   "execution_count": 1,
   "metadata": {
    "collapsed": false
   },
   "outputs": [
    {
     "name": "stderr",
     "output_type": "stream",
     "text": [
      "Using gpu device 0: Tesla K80 (CNMeM is disabled, cuDNN 5103)\n",
      "/home/ubuntu/anaconda2/lib/python2.7/site-packages/theano/sandbox/cuda/__init__.py:600: UserWarning: Your cuDNN version is more recent than the one Theano officially supports. If you see any problems, try updating Theano or downgrading cuDNN to version 5.\n",
      "  warnings.warn(warn)\n",
      "Using Theano backend.\n"
     ]
    }
   ],
   "source": [
    "import sys\n",
    "import os\n",
    "sys.path.insert(1, os.path.join(sys.path[0], '..'))\n",
    "from utils import *\n",
    "import pandas as pd\n",
    "import numpy as np\n",
    "from glob import glob\n",
    "from keras.layers import Dense, Conv2D, BatchNormalization, Dropout, Flatten, MaxPooling2D\n",
    "from keras.models import Sequential\n",
    "from keras.preprocessing.image import ImageDataGenerator\n",
    "from keras.optimizers import Adam\n",
    "%matplotlib inline"
   ]
  },
  {
   "cell_type": "code",
   "execution_count": 2,
   "metadata": {
    "collapsed": false
   },
   "outputs": [],
   "source": [
    "data_dir = os.path.join(os.pardir, 'data', 'whale', 'imgs')\n",
    "batch_size=32\n",
    "num_class = 447\n",
    "img_shape=(3, 300, 200)\n",
    "target_size = (300,200)"
   ]
  },
  {
   "cell_type": "code",
   "execution_count": 3,
   "metadata": {
    "collapsed": false
   },
   "outputs": [
    {
     "data": {
      "text/plain": [
       "'../data/whale/imgs'"
      ]
     },
     "execution_count": 3,
     "metadata": {},
     "output_type": "execute_result"
    }
   ],
   "source": [
    "data_dir"
   ]
  },
  {
   "cell_type": "code",
   "execution_count": 4,
   "metadata": {
    "collapsed": true
   },
   "outputs": [],
   "source": [
    "def get_tr_batches(dr = data_dir+ '/train', gen = ImageDataGenerator(), batch_size=batch_size):\n",
    "    return gen.flow_from_directory(dr, shuffle=True, target_size=target_size, batch_size=64)"
   ]
  },
  {
   "cell_type": "code",
   "execution_count": 5,
   "metadata": {
    "collapsed": false
   },
   "outputs": [],
   "source": [
    "def get_val_batches(dr = data_dir+ '/valid', gen = ImageDataGenerator(), batch_size=batch_size):\n",
    "    return gen.flow_from_directory(dr, shuffle=False, target_size=target_size, batch_size=batch_size)"
   ]
  },
  {
   "cell_type": "code",
   "execution_count": 6,
   "metadata": {
    "collapsed": false
   },
   "outputs": [
    {
     "name": "stdout",
     "output_type": "stream",
     "text": [
      "Found 3644 images belonging to 447 classes.\n",
      "Found 900 images belonging to 447 classes.\n"
     ]
    }
   ],
   "source": [
    "def fit_model(model, epochs, tr_b = get_tr_batches(), val_b = get_val_batches()):\n",
    "    model.fit_generator(tr_b, tr_b.nb_sample, \n",
    "                    validation_data=val_b, \n",
    "                    nb_val_samples=val_b.nb_sample, \n",
    "                    nb_epoch=epochs)"
   ]
  },
  {
   "cell_type": "markdown",
   "metadata": {},
   "source": [
    "## Linear Model"
   ]
  },
  {
   "cell_type": "code",
   "execution_count": 19,
   "metadata": {
    "collapsed": false
   },
   "outputs": [],
   "source": [
    "def get_lm():\n",
    "    return Sequential([BatchNormalization(axis=1, input_shape=img_shape),\n",
    "                       Flatten(),\n",
    "                       Dense(num_class, activation='softmax')\n",
    "                      ])"
   ]
  },
  {
   "cell_type": "code",
   "execution_count": 20,
   "metadata": {
    "collapsed": false
   },
   "outputs": [
    {
     "name": "stdout",
     "output_type": "stream",
     "text": [
      "Found 3644 images belonging to 447 classes.\n",
      "Found 900 images belonging to 447 classes.\n"
     ]
    }
   ],
   "source": [
    "tr_b = get_tr_batches()\n",
    "val_b = get_val_batches()"
   ]
  },
  {
   "cell_type": "code",
   "execution_count": 21,
   "metadata": {
    "collapsed": false
   },
   "outputs": [],
   "source": [
    "model = get_lm()"
   ]
  },
  {
   "cell_type": "code",
   "execution_count": 22,
   "metadata": {
    "collapsed": true
   },
   "outputs": [],
   "source": [
    "model.compile(Adam(lr=0.0001), loss='categorical_crossentropy', metrics=['accuracy'])"
   ]
  },
  {
   "cell_type": "code",
   "execution_count": 38,
   "metadata": {
    "collapsed": true
   },
   "outputs": [],
   "source": [
    "model.fit_generator?"
   ]
  },
  {
   "cell_type": "code",
   "execution_count": null,
   "metadata": {
    "collapsed": true
   },
   "outputs": [],
   "source": [
    "model.fit_generator(tr_b, tr_b.nb_sample, \n",
    "                    validation_data=val_b, \n",
    "                    nb_val_samples=val_b.nb_sample, \n",
    "                    nb_epoch=1)"
   ]
  },
  {
   "cell_type": "code",
   "execution_count": 48,
   "metadata": {
    "collapsed": true
   },
   "outputs": [],
   "source": [
    "model.optimizer.lr = 0.001"
   ]
  },
  {
   "cell_type": "code",
   "execution_count": 49,
   "metadata": {
    "collapsed": false
   },
   "outputs": [
    {
     "name": "stdout",
     "output_type": "stream",
     "text": [
      "Epoch 1/1\n",
      "3644/3644 [==============================] - 47s - loss: 10.1541 - acc: 0.0749 - val_loss: 12.0137 - val_acc: 0.0000e+00\n"
     ]
    },
    {
     "data": {
      "text/plain": [
       "<keras.callbacks.History at 0x7f538bf735d0>"
      ]
     },
     "execution_count": 49,
     "metadata": {},
     "output_type": "execute_result"
    }
   ],
   "source": [
    "model.fit_generator(tr_b, tr_b.nb_sample, \n",
    "                    validation_data=val_b, \n",
    "                    nb_val_samples=val_b.nb_sample, \n",
    "                    nb_epoch=1)"
   ]
  },
  {
   "cell_type": "code",
   "execution_count": 50,
   "metadata": {
    "collapsed": true
   },
   "outputs": [],
   "source": [
    "model.optimizer.lr = 0.01"
   ]
  },
  {
   "cell_type": "code",
   "execution_count": 51,
   "metadata": {
    "collapsed": false
   },
   "outputs": [
    {
     "name": "stdout",
     "output_type": "stream",
     "text": [
      "Epoch 1/6\n",
      "3644/3644 [==============================] - 47s - loss: 9.6548 - acc: 0.0771 - val_loss: 11.5356 - val_acc: 0.0033\n",
      "Epoch 2/6\n",
      "3644/3644 [==============================] - 41s - loss: 9.3997 - acc: 0.0686 - val_loss: 11.1526 - val_acc: 0.0067\n",
      "Epoch 3/6\n",
      "3644/3644 [==============================] - 41s - loss: 9.1618 - acc: 0.0741 - val_loss: 10.7962 - val_acc: 0.0100\n",
      "Epoch 4/6\n",
      "3644/3644 [==============================] - 43s - loss: 8.9295 - acc: 0.0757 - val_loss: 10.9093 - val_acc: 0.0044\n",
      "Epoch 5/6\n",
      "3644/3644 [==============================] - 42s - loss: 8.7766 - acc: 0.0714 - val_loss: 10.9804 - val_acc: 0.0022\n",
      "Epoch 6/6\n",
      "3644/3644 [==============================] - 41s - loss: 8.4072 - acc: 0.0897 - val_loss: 11.0688 - val_acc: 0.0033\n"
     ]
    },
    {
     "data": {
      "text/plain": [
       "<keras.callbacks.History at 0x7f538bf73810>"
      ]
     },
     "execution_count": 51,
     "metadata": {},
     "output_type": "execute_result"
    }
   ],
   "source": [
    "model.fit_generator(tr_b, tr_b.nb_sample, \n",
    "                    validation_data=val_b, \n",
    "                    nb_val_samples=val_b.nb_sample, \n",
    "                    nb_epoch=6)"
   ]
  },
  {
   "cell_type": "code",
   "execution_count": 47,
   "metadata": {
    "collapsed": false
   },
   "outputs": [
    {
     "name": "stdout",
     "output_type": "stream",
     "text": [
      "Epoch 1/1\n",
      "3644/3644 [==============================] - 47s - loss: 11.4567 - acc: 0.0080 - val_loss: 12.6913 - val_acc: 0.0022\n"
     ]
    },
    {
     "data": {
      "text/plain": [
       "<keras.callbacks.History at 0x7f53a413db50>"
      ]
     },
     "execution_count": 47,
     "metadata": {},
     "output_type": "execute_result"
    }
   ],
   "source": [
    "model.fit_generator(tr_b, tr_b.nb_sample, \n",
    "                    validation_data=val_b, \n",
    "                    nb_val_samples=val_b.nb_sample, \n",
    "                    nb_epoch=1)"
   ]
  },
  {
   "cell_type": "markdown",
   "metadata": {},
   "source": [
    "# One layer Net"
   ]
  },
  {
   "cell_type": "code",
   "execution_count": 62,
   "metadata": {
    "collapsed": true
   },
   "outputs": [],
   "source": [
    "Dense?"
   ]
  },
  {
   "cell_type": "code",
   "execution_count": 27,
   "metadata": {
    "collapsed": false
   },
   "outputs": [],
   "source": [
    "def get_net():\n",
    "    return Sequential([BatchNormalization(axis=1, input_shape=img_shape),\n",
    "                       Flatten(),\n",
    "                       Dense(256, activation='relu'),\n",
    "                       Dense(num_class, activation='softmax')\n",
    "                      ])\n"
   ]
  },
  {
   "cell_type": "code",
   "execution_count": 28,
   "metadata": {
    "collapsed": false
   },
   "outputs": [],
   "source": [
    "model = get_net()"
   ]
  },
  {
   "cell_type": "code",
   "execution_count": 29,
   "metadata": {
    "collapsed": true
   },
   "outputs": [],
   "source": [
    "model.compile(Adam(lr=0.0001), loss='categorical_crossentropy', metrics=['accuracy'])"
   ]
  },
  {
   "cell_type": "code",
   "execution_count": 30,
   "metadata": {
    "collapsed": false
   },
   "outputs": [
    {
     "name": "stdout",
     "output_type": "stream",
     "text": [
      "Epoch 1/1\n",
      "3644/3644 [==============================] - 51s - loss: 11.7812 - acc: 0.0080 - val_loss: 15.6901 - val_acc: 0.0056\n"
     ]
    }
   ],
   "source": [
    "fit_model(model,1)\n"
   ]
  },
  {
   "cell_type": "code",
   "execution_count": 81,
   "metadata": {
    "collapsed": false
   },
   "outputs": [
    {
     "name": "stdout",
     "output_type": "stream",
     "text": [
      "Epoch 1/4\n",
      "3644/3644 [==============================] - 48s - loss: 8.6638 - acc: 0.0999 - val_loss: 14.3431 - val_acc: 0.0033\n",
      "Epoch 2/4\n",
      "3644/3644 [==============================] - 41s - loss: 8.0003 - acc: 0.1685 - val_loss: 12.9595 - val_acc: 0.0033\n",
      "Epoch 3/4\n",
      "3068/3644 [========================>.....] - ETA: 4s - loss: 7.5326 - acc: 0.2122"
     ]
    },
    {
     "ename": "KeyboardInterrupt",
     "evalue": "",
     "output_type": "error",
     "traceback": [
      "\u001b[0;31m---------------------------------------------------------------------------\u001b[0m",
      "\u001b[0;31mKeyboardInterrupt\u001b[0m                         Traceback (most recent call last)",
      "\u001b[0;32m<ipython-input-81-d8ce9666b57a>\u001b[0m in \u001b[0;36m<module>\u001b[0;34m()\u001b[0m\n\u001b[1;32m      1\u001b[0m \u001b[0mmodel\u001b[0m\u001b[0;34m.\u001b[0m\u001b[0moptimizer\u001b[0m\u001b[0;34m.\u001b[0m\u001b[0mlr\u001b[0m \u001b[0;34m=\u001b[0m \u001b[0;36m0.001\u001b[0m\u001b[0;34m\u001b[0m\u001b[0m\n\u001b[0;32m----> 2\u001b[0;31m \u001b[0mfit_model\u001b[0m\u001b[0;34m(\u001b[0m\u001b[0mmodel\u001b[0m\u001b[0;34m,\u001b[0m\u001b[0;36m4\u001b[0m\u001b[0;34m)\u001b[0m\u001b[0;34m\u001b[0m\u001b[0m\n\u001b[0m",
      "\u001b[0;32m<ipython-input-76-4b6c97e989a6>\u001b[0m in \u001b[0;36mfit_model\u001b[0;34m(model, epochs, tr_b, val_b)\u001b[0m\n\u001b[1;32m      3\u001b[0m                     \u001b[0mvalidation_data\u001b[0m\u001b[0;34m=\u001b[0m\u001b[0mval_b\u001b[0m\u001b[0;34m,\u001b[0m\u001b[0;34m\u001b[0m\u001b[0m\n\u001b[1;32m      4\u001b[0m                     \u001b[0mnb_val_samples\u001b[0m\u001b[0;34m=\u001b[0m\u001b[0mval_b\u001b[0m\u001b[0;34m.\u001b[0m\u001b[0mnb_sample\u001b[0m\u001b[0;34m,\u001b[0m\u001b[0;34m\u001b[0m\u001b[0m\n\u001b[0;32m----> 5\u001b[0;31m                     nb_epoch=epochs)\n\u001b[0m",
      "\u001b[0;32m/home/ubuntu/anaconda2/lib/python2.7/site-packages/keras/models.pyc\u001b[0m in \u001b[0;36mfit_generator\u001b[0;34m(self, generator, samples_per_epoch, nb_epoch, verbose, callbacks, validation_data, nb_val_samples, class_weight, max_q_size, nb_worker, pickle_safe, **kwargs)\u001b[0m\n\u001b[1;32m    872\u001b[0m                                         \u001b[0mmax_q_size\u001b[0m\u001b[0;34m=\u001b[0m\u001b[0mmax_q_size\u001b[0m\u001b[0;34m,\u001b[0m\u001b[0;34m\u001b[0m\u001b[0m\n\u001b[1;32m    873\u001b[0m                                         \u001b[0mnb_worker\u001b[0m\u001b[0;34m=\u001b[0m\u001b[0mnb_worker\u001b[0m\u001b[0;34m,\u001b[0m\u001b[0;34m\u001b[0m\u001b[0m\n\u001b[0;32m--> 874\u001b[0;31m                                         pickle_safe=pickle_safe)\n\u001b[0m\u001b[1;32m    875\u001b[0m \u001b[0;34m\u001b[0m\u001b[0m\n\u001b[1;32m    876\u001b[0m     \u001b[0;32mdef\u001b[0m \u001b[0mevaluate_generator\u001b[0m\u001b[0;34m(\u001b[0m\u001b[0mself\u001b[0m\u001b[0;34m,\u001b[0m \u001b[0mgenerator\u001b[0m\u001b[0;34m,\u001b[0m \u001b[0mval_samples\u001b[0m\u001b[0;34m,\u001b[0m \u001b[0mmax_q_size\u001b[0m\u001b[0;34m=\u001b[0m\u001b[0;36m10\u001b[0m\u001b[0;34m,\u001b[0m \u001b[0mnb_worker\u001b[0m\u001b[0;34m=\u001b[0m\u001b[0;36m1\u001b[0m\u001b[0;34m,\u001b[0m \u001b[0mpickle_safe\u001b[0m\u001b[0;34m=\u001b[0m\u001b[0mFalse\u001b[0m\u001b[0;34m,\u001b[0m \u001b[0;34m**\u001b[0m\u001b[0mkwargs\u001b[0m\u001b[0;34m)\u001b[0m\u001b[0;34m:\u001b[0m\u001b[0;34m\u001b[0m\u001b[0m\n",
      "\u001b[0;32m/home/ubuntu/anaconda2/lib/python2.7/site-packages/keras/engine/training.pyc\u001b[0m in \u001b[0;36mfit_generator\u001b[0;34m(self, generator, samples_per_epoch, nb_epoch, verbose, callbacks, validation_data, nb_val_samples, class_weight, max_q_size, nb_worker, pickle_safe)\u001b[0m\n\u001b[1;32m   1409\u001b[0m                         \u001b[0;32mbreak\u001b[0m\u001b[0;34m\u001b[0m\u001b[0m\n\u001b[1;32m   1410\u001b[0m                     \u001b[0;32melse\u001b[0m\u001b[0;34m:\u001b[0m\u001b[0;34m\u001b[0m\u001b[0m\n\u001b[0;32m-> 1411\u001b[0;31m                         \u001b[0mtime\u001b[0m\u001b[0;34m.\u001b[0m\u001b[0msleep\u001b[0m\u001b[0;34m(\u001b[0m\u001b[0mwait_time\u001b[0m\u001b[0;34m)\u001b[0m\u001b[0;34m\u001b[0m\u001b[0m\n\u001b[0m\u001b[1;32m   1412\u001b[0m \u001b[0;34m\u001b[0m\u001b[0m\n\u001b[1;32m   1413\u001b[0m                 \u001b[0;32mif\u001b[0m \u001b[0;32mnot\u001b[0m \u001b[0mhasattr\u001b[0m\u001b[0;34m(\u001b[0m\u001b[0mgenerator_output\u001b[0m\u001b[0;34m,\u001b[0m \u001b[0;34m'__len__'\u001b[0m\u001b[0;34m)\u001b[0m\u001b[0;34m:\u001b[0m\u001b[0;34m\u001b[0m\u001b[0m\n",
      "\u001b[0;31mKeyboardInterrupt\u001b[0m: "
     ]
    }
   ],
   "source": [
    "model.optimizer.lr = 0.001\n",
    "fit_model(model,4)\n"
   ]
  },
  {
   "cell_type": "markdown",
   "metadata": {
    "collapsed": true
   },
   "source": [
    "# Simple Convnet"
   ]
  },
  {
   "cell_type": "code",
   "execution_count": 36,
   "metadata": {
    "collapsed": true
   },
   "outputs": [],
   "source": [
    "MaxPooling2D?"
   ]
  },
  {
   "cell_type": "code",
   "execution_count": 34,
   "metadata": {
    "collapsed": true
   },
   "outputs": [],
   "source": [
    "from keras.layers import ZeroPadding2D"
   ]
  },
  {
   "cell_type": "code",
   "execution_count": 38,
   "metadata": {
    "collapsed": false
   },
   "outputs": [],
   "source": [
    "def get_net():\n",
    "    return Sequential([BatchNormalization(axis=1, input_shape=img_shape),\n",
    "                       Conv2D(64, 3,3, activation='relu'),\n",
    "                       MaxPooling2D((2,2),strides=(2,2)),\n",
    "                       Conv2D(32, 3,3, activation='relu'),\n",
    "                       MaxPooling2D((2,2),strides=(2,2)),\n",
    "                       Flatten(),\n",
    "                       Dense(256, activation='relu'),\n",
    "                       Dense(num_class, activation='softmax')\n",
    "                      ])\n",
    "\n"
   ]
  },
  {
   "cell_type": "code",
   "execution_count": 39,
   "metadata": {
    "collapsed": true
   },
   "outputs": [],
   "source": [
    "model = get_net()"
   ]
  },
  {
   "cell_type": "code",
   "execution_count": 40,
   "metadata": {
    "collapsed": true
   },
   "outputs": [],
   "source": [
    "model.compile(Adam(lr=0.0001), loss='categorical_crossentropy', metrics=['accuracy'])"
   ]
  },
  {
   "cell_type": "code",
   "execution_count": 41,
   "metadata": {
    "collapsed": false
   },
   "outputs": [
    {
     "name": "stdout",
     "output_type": "stream",
     "text": [
      "Epoch 1/1\n",
      "3644/3644 [==============================] - 53s - loss: 6.1009 - acc: 0.0066 - val_loss: 6.3322 - val_acc: 0.0067\n"
     ]
    }
   ],
   "source": [
    "fit_model(model,1)\n"
   ]
  },
  {
   "cell_type": "code",
   "execution_count": 42,
   "metadata": {
    "collapsed": true
   },
   "outputs": [],
   "source": [
    "model.optimizer.lr = 0.001"
   ]
  },
  {
   "cell_type": "code",
   "execution_count": 43,
   "metadata": {
    "collapsed": false
   },
   "outputs": [
    {
     "name": "stdout",
     "output_type": "stream",
     "text": [
      "Epoch 1/2\n",
      "3644/3644 [==============================] - 48s - loss: 5.8812 - acc: 0.0247 - val_loss: 6.4452 - val_acc: 0.0044\n",
      "Epoch 2/2\n",
      "3644/3644 [==============================] - 46s - loss: 5.4817 - acc: 0.0639 - val_loss: 6.5381 - val_acc: 0.0089\n"
     ]
    }
   ],
   "source": [
    "fit_model(model,2)\n"
   ]
  },
  {
   "cell_type": "code",
   "execution_count": 44,
   "metadata": {
    "collapsed": true
   },
   "outputs": [],
   "source": [
    "model.optimizer.lr = 0.0001"
   ]
  },
  {
   "cell_type": "code",
   "execution_count": 45,
   "metadata": {
    "collapsed": false
   },
   "outputs": [
    {
     "name": "stdout",
     "output_type": "stream",
     "text": [
      "Epoch 1/1\n",
      "3644/3644 [==============================] - 48s - loss: 4.5977 - acc: 0.1998 - val_loss: 6.5487 - val_acc: 0.0056\n"
     ]
    }
   ],
   "source": [
    "fit_model(model,1)\n"
   ]
  },
  {
   "cell_type": "markdown",
   "metadata": {
    "collapsed": true
   },
   "source": [
    "# Convnet with Dropout"
   ]
  },
  {
   "cell_type": "code",
   "execution_count": 54,
   "metadata": {
    "collapsed": false
   },
   "outputs": [],
   "source": [
    "def get_drop_net():\n",
    "    return Sequential([BatchNormalization(axis=1, input_shape=img_shape),\n",
    "                       Conv2D(64, 3,3, activation='relu'),\n",
    "                       MaxPooling2D((2,2),strides=(2,2)),\n",
    "                       Dropout(0.9),\n",
    "                       Conv2D(32, 3,3, activation='relu'),\n",
    "                       MaxPooling2D((2,2),strides=(2,2)),\n",
    "                       Dropout(0.9),\n",
    "                       Flatten(),\n",
    "                       Dense(256, activation='relu'),\n",
    "                       Dropout(0.9),\n",
    "                       Dense(num_class, activation='softmax')\n",
    "                      ])\n",
    "\n"
   ]
  },
  {
   "cell_type": "code",
   "execution_count": 55,
   "metadata": {
    "collapsed": true
   },
   "outputs": [],
   "source": [
    "model = get_drop_net()"
   ]
  },
  {
   "cell_type": "code",
   "execution_count": 56,
   "metadata": {
    "collapsed": true
   },
   "outputs": [],
   "source": [
    "model.compile(Adam(lr=0.0001), loss='categorical_crossentropy', metrics=['accuracy'])"
   ]
  },
  {
   "cell_type": "code",
   "execution_count": 57,
   "metadata": {
    "collapsed": false
   },
   "outputs": [
    {
     "name": "stdout",
     "output_type": "stream",
     "text": [
      "Epoch 1/1\n",
      "3644/3644 [==============================] - 50s - loss: 8.4548 - acc: 0.0071 - val_loss: 6.1017 - val_acc: 0.0067\n"
     ]
    }
   ],
   "source": [
    "fit_model(model,1)\n"
   ]
  },
  {
   "cell_type": "code",
   "execution_count": 58,
   "metadata": {
    "collapsed": true
   },
   "outputs": [],
   "source": [
    "model.optimizer.lr = 0.001"
   ]
  },
  {
   "cell_type": "code",
   "execution_count": 59,
   "metadata": {
    "collapsed": false
   },
   "outputs": [
    {
     "name": "stdout",
     "output_type": "stream",
     "text": [
      "Epoch 1/1\n",
      "3644/3644 [==============================] - 50s - loss: 6.1149 - acc: 0.0104 - val_loss: 6.1008 - val_acc: 0.0067\n"
     ]
    }
   ],
   "source": [
    "fit_model(model,1)\n"
   ]
  },
  {
   "cell_type": "code",
   "execution_count": 60,
   "metadata": {
    "collapsed": true
   },
   "outputs": [],
   "source": [
    "model.optimizer.lr = 0.00001"
   ]
  },
  {
   "cell_type": "code",
   "execution_count": 61,
   "metadata": {
    "collapsed": false
   },
   "outputs": [
    {
     "name": "stdout",
     "output_type": "stream",
     "text": [
      "Epoch 1/1\n",
      "3644/3644 [==============================] - 51s - loss: 6.1150 - acc: 0.0107 - val_loss: 6.0999 - val_acc: 0.0067\n"
     ]
    }
   ],
   "source": [
    "fit_model(model,1)"
   ]
  },
  {
   "cell_type": "markdown",
   "metadata": {
    "collapsed": true
   },
   "source": [
    "# Convnet more params"
   ]
  },
  {
   "cell_type": "code",
   "execution_count": 7,
   "metadata": {
    "collapsed": false
   },
   "outputs": [],
   "source": [
    "def get_drop_net():\n",
    "    return Sequential([BatchNormalization(axis=1, input_shape=img_shape),\n",
    "                       Conv2D(128, 3,3, activation='relu'),\n",
    "                       MaxPooling2D((2,2),strides=(2,2)),\n",
    "                       Conv2D(64, 3,3, activation='relu'),\n",
    "                       MaxPooling2D((2,2),strides=(2,2)),\n",
    "                       Flatten(),\n",
    "                       Dense(512, activation='relu'),\n",
    "                       Dropout(0.9),\n",
    "                       Dense(256, activation='relu'),\n",
    "                       Dropout(0.9),\n",
    "                       Dense(num_class, activation='softmax')\n",
    "                      ])\n",
    "\n"
   ]
  },
  {
   "cell_type": "code",
   "execution_count": 8,
   "metadata": {
    "collapsed": true
   },
   "outputs": [],
   "source": [
    "model = get_drop_net()"
   ]
  },
  {
   "cell_type": "code",
   "execution_count": 9,
   "metadata": {
    "collapsed": true
   },
   "outputs": [],
   "source": [
    "model.compile(Adam(lr=0.0001), loss='categorical_crossentropy', metrics=['accuracy'])"
   ]
  },
  {
   "cell_type": "code",
   "execution_count": 10,
   "metadata": {
    "collapsed": false
   },
   "outputs": [
    {
     "name": "stdout",
     "output_type": "stream",
     "text": [
      "Epoch 1/1\n",
      "3644/3644 [==============================] - 81s - loss: 7.0686 - acc: 0.0027 - val_loss: 6.1019 - val_acc: 0.0022\n"
     ]
    }
   ],
   "source": [
    "fit_model(model,1)\n"
   ]
  },
  {
   "cell_type": "code",
   "execution_count": 11,
   "metadata": {
    "collapsed": true
   },
   "outputs": [],
   "source": [
    "model.optimizer.lr = 0.001"
   ]
  },
  {
   "cell_type": "code",
   "execution_count": 12,
   "metadata": {
    "collapsed": false
   },
   "outputs": [
    {
     "name": "stdout",
     "output_type": "stream",
     "text": [
      "Epoch 1/1\n",
      "3644/3644 [==============================] - 79s - loss: 6.1008 - acc: 0.0060 - val_loss: 6.1008 - val_acc: 0.0000e+00\n"
     ]
    }
   ],
   "source": [
    "fit_model(model,1)\n"
   ]
  },
  {
   "cell_type": "markdown",
   "metadata": {
    "collapsed": true
   },
   "source": [
    "# Predict on Test Set"
   ]
  },
  {
   "cell_type": "code",
   "execution_count": 13,
   "metadata": {
    "collapsed": false
   },
   "outputs": [],
   "source": [
    "def get_test_batches(dr = data_dir+ '/test', gen = ImageDataGenerator(), batch_size=batch_size):\n",
    "    return gen.flow_from_directory(dr, shuffle=False, target_size=target_size, batch_size=batch_size)"
   ]
  },
  {
   "cell_type": "code",
   "execution_count": 14,
   "metadata": {
    "collapsed": false
   },
   "outputs": [
    {
     "name": "stdout",
     "output_type": "stream",
     "text": [
      "Found 6925 images belonging to 1 classes.\n"
     ]
    }
   ],
   "source": [
    "test_batches = get_test_batches()"
   ]
  },
  {
   "cell_type": "code",
   "execution_count": 27,
   "metadata": {
    "collapsed": true
   },
   "outputs": [],
   "source": [
    "model.predict_generator?"
   ]
  },
  {
   "cell_type": "code",
   "execution_count": 15,
   "metadata": {
    "collapsed": true
   },
   "outputs": [],
   "source": [
    "preds = model.predict_generator(test_batches, val_samples=test_batches.nb_sample)"
   ]
  },
  {
   "cell_type": "code",
   "execution_count": 16,
   "metadata": {
    "collapsed": false
   },
   "outputs": [
    {
     "data": {
      "text/plain": [
       "array([[ 0.0022,  0.0023,  0.0022, ...,  0.0022,  0.0022,  0.0022],\n",
       "       [ 0.0022,  0.0023,  0.0022, ...,  0.0022,  0.0022,  0.0022],\n",
       "       [ 0.0022,  0.0024,  0.0022, ...,  0.0022,  0.0023,  0.0022],\n",
       "       ..., \n",
       "       [ 0.0022,  0.0023,  0.0022, ...,  0.0022,  0.0022,  0.0022],\n",
       "       [ 0.0022,  0.0023,  0.0022, ...,  0.0022,  0.0022,  0.0022],\n",
       "       [ 0.0022,  0.0022,  0.0022, ...,  0.0022,  0.0022,  0.0022]], dtype=float32)"
      ]
     },
     "execution_count": 16,
     "metadata": {},
     "output_type": "execute_result"
    }
   ],
   "source": [
    "preds"
   ]
  },
  {
   "cell_type": "code",
   "execution_count": 17,
   "metadata": {
    "collapsed": false
   },
   "outputs": [],
   "source": [
    "whale_dir = os.path.join(os.pardir, 'data', 'whale')"
   ]
  },
  {
   "cell_type": "code",
   "execution_count": 18,
   "metadata": {
    "collapsed": true
   },
   "outputs": [],
   "source": [
    "samp = pd.read_csv(whale_dir+'/sample_submission.csv')"
   ]
  },
  {
   "cell_type": "code",
   "execution_count": 19,
   "metadata": {
    "collapsed": false
   },
   "outputs": [
    {
     "name": "stdout",
     "output_type": "stream",
     "text": [
      "Found 3644 images belonging to 447 classes.\n"
     ]
    }
   ],
   "source": [
    "tr_batches = get_tr_batches()"
   ]
  },
  {
   "cell_type": "code",
   "execution_count": 23,
   "metadata": {
    "collapsed": false
   },
   "outputs": [],
   "source": [
    "def create_sub(preds, test_batches, train_batches):\n",
    "    file_names = np.array([f[f.find('/') +1:] for f in test_batches.filenames])\n",
    "    \n",
    "    idx_class = [(v, k) for k,v in tr_batches.class_indices.items()]\n",
    "    idx_class= sorted(idx_class, key=lambda x: x[0])\n",
    "    classes = [x[1] for x in idx_class]\n",
    "    data = np.hstack((file_names[:, np.newaxis], preds))\n",
    "    columns = ['Image'] + classes\n",
    "    return pd.DataFrame(data, columns=columns)"
   ]
  },
  {
   "cell_type": "code",
   "execution_count": 24,
   "metadata": {
    "collapsed": false
   },
   "outputs": [],
   "source": [
    "sub = create_sub(preds, test_batches, tr_batches)"
   ]
  },
  {
   "cell_type": "code",
   "execution_count": 27,
   "metadata": {
    "collapsed": false
   },
   "outputs": [
    {
     "data": {
      "text/html": [
       "<div>\n",
       "<table border=\"1\" class=\"dataframe\">\n",
       "  <thead>\n",
       "    <tr style=\"text-align: right;\">\n",
       "      <th></th>\n",
       "      <th>Image</th>\n",
       "      <th>whale_00195</th>\n",
       "      <th>whale_00442</th>\n",
       "      <th>whale_02411</th>\n",
       "      <th>whale_02608</th>\n",
       "      <th>whale_02839</th>\n",
       "      <th>whale_03103</th>\n",
       "      <th>whale_03227</th>\n",
       "      <th>whale_03623</th>\n",
       "      <th>whale_03728</th>\n",
       "      <th>...</th>\n",
       "      <th>whale_98618</th>\n",
       "      <th>whale_98633</th>\n",
       "      <th>whale_98645</th>\n",
       "      <th>whale_98746</th>\n",
       "      <th>whale_98939</th>\n",
       "      <th>whale_98996</th>\n",
       "      <th>whale_99243</th>\n",
       "      <th>whale_99326</th>\n",
       "      <th>whale_99558</th>\n",
       "      <th>whale_99573</th>\n",
       "    </tr>\n",
       "  </thead>\n",
       "  <tbody>\n",
       "    <tr>\n",
       "      <th>0</th>\n",
       "      <td>w_8037.jpg</td>\n",
       "      <td>0.00224931770936</td>\n",
       "      <td>0.00225193682127</td>\n",
       "      <td>0.0022017066367</td>\n",
       "      <td>0.00221168785356</td>\n",
       "      <td>0.00220592762344</td>\n",
       "      <td>0.00219153170474</td>\n",
       "      <td>0.00228456570767</td>\n",
       "      <td>0.00223549129441</td>\n",
       "      <td>0.00225559389219</td>\n",
       "      <td>...</td>\n",
       "      <td>0.00223504728638</td>\n",
       "      <td>0.00222577597015</td>\n",
       "      <td>0.0022574160248</td>\n",
       "      <td>0.00227861781605</td>\n",
       "      <td>0.00222936272621</td>\n",
       "      <td>0.00220952951349</td>\n",
       "      <td>0.00222373357974</td>\n",
       "      <td>0.00221352605149</td>\n",
       "      <td>0.00223460420966</td>\n",
       "      <td>0.00222191866487</td>\n",
       "    </tr>\n",
       "    <tr>\n",
       "      <th>1</th>\n",
       "      <td>w_4494.jpg</td>\n",
       "      <td>0.00223772507161</td>\n",
       "      <td>0.00229111709632</td>\n",
       "      <td>0.00221004500054</td>\n",
       "      <td>0.00220582145266</td>\n",
       "      <td>0.00217056111433</td>\n",
       "      <td>0.00221282010898</td>\n",
       "      <td>0.00230586202815</td>\n",
       "      <td>0.00227250088938</td>\n",
       "      <td>0.00226316298358</td>\n",
       "      <td>...</td>\n",
       "      <td>0.00227137259208</td>\n",
       "      <td>0.00223008403555</td>\n",
       "      <td>0.00221053534187</td>\n",
       "      <td>0.00232449523173</td>\n",
       "      <td>0.00222057430074</td>\n",
       "      <td>0.00217467756011</td>\n",
       "      <td>0.00221117213368</td>\n",
       "      <td>0.0021644087974</td>\n",
       "      <td>0.00224630045705</td>\n",
       "      <td>0.00220335205086</td>\n",
       "    </tr>\n",
       "    <tr>\n",
       "      <th>2</th>\n",
       "      <td>w_4673.jpg</td>\n",
       "      <td>0.00222146860324</td>\n",
       "      <td>0.00235310429707</td>\n",
       "      <td>0.00215468043461</td>\n",
       "      <td>0.00221396819688</td>\n",
       "      <td>0.00219106394798</td>\n",
       "      <td>0.00213481672108</td>\n",
       "      <td>0.00229335622862</td>\n",
       "      <td>0.00220231269486</td>\n",
       "      <td>0.00229474925436</td>\n",
       "      <td>...</td>\n",
       "      <td>0.00223404099233</td>\n",
       "      <td>0.0021764645353</td>\n",
       "      <td>0.00225853268057</td>\n",
       "      <td>0.0023292817641</td>\n",
       "      <td>0.00228868843988</td>\n",
       "      <td>0.00219468260184</td>\n",
       "      <td>0.00220470014028</td>\n",
       "      <td>0.00219992036</td>\n",
       "      <td>0.0022615713533</td>\n",
       "      <td>0.00217787874863</td>\n",
       "    </tr>\n",
       "    <tr>\n",
       "      <th>3</th>\n",
       "      <td>w_8273.jpg</td>\n",
       "      <td>0.00224115955643</td>\n",
       "      <td>0.00226141489111</td>\n",
       "      <td>0.00222268467769</td>\n",
       "      <td>0.00221747695468</td>\n",
       "      <td>0.00219283136539</td>\n",
       "      <td>0.00222086696886</td>\n",
       "      <td>0.00227946415544</td>\n",
       "      <td>0.0022596239578</td>\n",
       "      <td>0.00224920781329</td>\n",
       "      <td>...</td>\n",
       "      <td>0.00225545209832</td>\n",
       "      <td>0.00223349686712</td>\n",
       "      <td>0.00222505396232</td>\n",
       "      <td>0.0022899643518</td>\n",
       "      <td>0.00222731102258</td>\n",
       "      <td>0.00220002117567</td>\n",
       "      <td>0.00222342298366</td>\n",
       "      <td>0.00219295267016</td>\n",
       "      <td>0.00224516098388</td>\n",
       "      <td>0.00221747206524</td>\n",
       "    </tr>\n",
       "    <tr>\n",
       "      <th>4</th>\n",
       "      <td>w_7611.jpg</td>\n",
       "      <td>0.00220042630099</td>\n",
       "      <td>0.00232659908943</td>\n",
       "      <td>0.00213251449168</td>\n",
       "      <td>0.00223747314885</td>\n",
       "      <td>0.0022390789818</td>\n",
       "      <td>0.00213853619061</td>\n",
       "      <td>0.00232293806039</td>\n",
       "      <td>0.00220596184954</td>\n",
       "      <td>0.00229228730313</td>\n",
       "      <td>...</td>\n",
       "      <td>0.00223859306425</td>\n",
       "      <td>0.00212115887552</td>\n",
       "      <td>0.00235242280178</td>\n",
       "      <td>0.00231035868637</td>\n",
       "      <td>0.00224314234219</td>\n",
       "      <td>0.00218514748849</td>\n",
       "      <td>0.00223006005399</td>\n",
       "      <td>0.00221631769091</td>\n",
       "      <td>0.00231484137475</td>\n",
       "      <td>0.00222031935118</td>\n",
       "    </tr>\n",
       "  </tbody>\n",
       "</table>\n",
       "<p>5 rows × 448 columns</p>\n",
       "</div>"
      ],
      "text/plain": [
       "        Image       whale_00195       whale_00442       whale_02411  \\\n",
       "0  w_8037.jpg  0.00224931770936  0.00225193682127   0.0022017066367   \n",
       "1  w_4494.jpg  0.00223772507161  0.00229111709632  0.00221004500054   \n",
       "2  w_4673.jpg  0.00222146860324  0.00235310429707  0.00215468043461   \n",
       "3  w_8273.jpg  0.00224115955643  0.00226141489111  0.00222268467769   \n",
       "4  w_7611.jpg  0.00220042630099  0.00232659908943  0.00213251449168   \n",
       "\n",
       "        whale_02608       whale_02839       whale_03103       whale_03227  \\\n",
       "0  0.00221168785356  0.00220592762344  0.00219153170474  0.00228456570767   \n",
       "1  0.00220582145266  0.00217056111433  0.00221282010898  0.00230586202815   \n",
       "2  0.00221396819688  0.00219106394798  0.00213481672108  0.00229335622862   \n",
       "3  0.00221747695468  0.00219283136539  0.00222086696886  0.00227946415544   \n",
       "4  0.00223747314885   0.0022390789818  0.00213853619061  0.00232293806039   \n",
       "\n",
       "        whale_03623       whale_03728        ...              whale_98618  \\\n",
       "0  0.00223549129441  0.00225559389219        ...         0.00223504728638   \n",
       "1  0.00227250088938  0.00226316298358        ...         0.00227137259208   \n",
       "2  0.00220231269486  0.00229474925436        ...         0.00223404099233   \n",
       "3   0.0022596239578  0.00224920781329        ...         0.00225545209832   \n",
       "4  0.00220596184954  0.00229228730313        ...         0.00223859306425   \n",
       "\n",
       "        whale_98633       whale_98645       whale_98746       whale_98939  \\\n",
       "0  0.00222577597015   0.0022574160248  0.00227861781605  0.00222936272621   \n",
       "1  0.00223008403555  0.00221053534187  0.00232449523173  0.00222057430074   \n",
       "2   0.0021764645353  0.00225853268057   0.0023292817641  0.00228868843988   \n",
       "3  0.00223349686712  0.00222505396232   0.0022899643518  0.00222731102258   \n",
       "4  0.00212115887552  0.00235242280178  0.00231035868637  0.00224314234219   \n",
       "\n",
       "        whale_98996       whale_99243       whale_99326       whale_99558  \\\n",
       "0  0.00220952951349  0.00222373357974  0.00221352605149  0.00223460420966   \n",
       "1  0.00217467756011  0.00221117213368   0.0021644087974  0.00224630045705   \n",
       "2  0.00219468260184  0.00220470014028     0.00219992036   0.0022615713533   \n",
       "3  0.00220002117567  0.00222342298366  0.00219295267016  0.00224516098388   \n",
       "4  0.00218514748849  0.00223006005399  0.00221631769091  0.00231484137475   \n",
       "\n",
       "        whale_99573  \n",
       "0  0.00222191866487  \n",
       "1  0.00220335205086  \n",
       "2  0.00217787874863  \n",
       "3  0.00221747206524  \n",
       "4  0.00222031935118  \n",
       "\n",
       "[5 rows x 448 columns]"
      ]
     },
     "execution_count": 27,
     "metadata": {},
     "output_type": "execute_result"
    }
   ],
   "source": [
    "sub.head()"
   ]
  },
  {
   "cell_type": "code",
   "execution_count": 29,
   "metadata": {
    "collapsed": false
   },
   "outputs": [
    {
     "data": {
      "text/plain": [
       "(6925, 448)"
      ]
     },
     "execution_count": 29,
     "metadata": {},
     "output_type": "execute_result"
    }
   ],
   "source": [
    "sub.shape"
   ]
  },
  {
   "cell_type": "code",
   "execution_count": 30,
   "metadata": {
    "collapsed": true
   },
   "outputs": [],
   "source": [
    "sub.to_csv('base.csv', index=False)"
   ]
  },
  {
   "cell_type": "code",
   "execution_count": 32,
   "metadata": {
    "collapsed": false
   },
   "outputs": [
    {
     "data": {
      "text/html": [
       "<a href='base.csv' target='_blank'>base.csv</a><br>"
      ],
      "text/plain": [
       "/home/ubuntu/courses/deeplearning1/nbs/whale/base.csv"
      ]
     },
     "execution_count": 32,
     "metadata": {},
     "output_type": "execute_result"
    }
   ],
   "source": [
    "from IPython.display import FileLink\n",
    "\n",
    "FileLink('base.csv')"
   ]
  },
  {
   "cell_type": "markdown",
   "metadata": {},
   "source": [
    "Scores: 6.10062"
   ]
  },
  {
   "cell_type": "markdown",
   "metadata": {},
   "source": [
    "## Analysis"
   ]
  },
  {
   "cell_type": "code",
   "execution_count": 33,
   "metadata": {
    "collapsed": true
   },
   "outputs": [],
   "source": [
    "sub = sub.iloc[:, 1:]"
   ]
  },
  {
   "cell_type": "code",
   "execution_count": 36,
   "metadata": {
    "collapsed": false
   },
   "outputs": [
    {
     "data": {
      "text/html": [
       "<div>\n",
       "<table border=\"1\" class=\"dataframe\">\n",
       "  <thead>\n",
       "    <tr style=\"text-align: right;\">\n",
       "      <th></th>\n",
       "      <th>whale_00195</th>\n",
       "      <th>whale_00442</th>\n",
       "      <th>whale_02411</th>\n",
       "      <th>whale_02608</th>\n",
       "      <th>whale_02839</th>\n",
       "      <th>whale_03103</th>\n",
       "      <th>whale_03227</th>\n",
       "      <th>whale_03623</th>\n",
       "      <th>whale_03728</th>\n",
       "      <th>whale_03935</th>\n",
       "      <th>...</th>\n",
       "      <th>whale_98618</th>\n",
       "      <th>whale_98633</th>\n",
       "      <th>whale_98645</th>\n",
       "      <th>whale_98746</th>\n",
       "      <th>whale_98939</th>\n",
       "      <th>whale_98996</th>\n",
       "      <th>whale_99243</th>\n",
       "      <th>whale_99326</th>\n",
       "      <th>whale_99558</th>\n",
       "      <th>whale_99573</th>\n",
       "    </tr>\n",
       "  </thead>\n",
       "  <tbody>\n",
       "    <tr>\n",
       "      <th>0</th>\n",
       "      <td>0.00224931770936</td>\n",
       "      <td>0.00225193682127</td>\n",
       "      <td>0.0022017066367</td>\n",
       "      <td>0.00221168785356</td>\n",
       "      <td>0.00220592762344</td>\n",
       "      <td>0.00219153170474</td>\n",
       "      <td>0.00228456570767</td>\n",
       "      <td>0.00223549129441</td>\n",
       "      <td>0.00225559389219</td>\n",
       "      <td>0.00226420070976</td>\n",
       "      <td>...</td>\n",
       "      <td>0.00223504728638</td>\n",
       "      <td>0.00222577597015</td>\n",
       "      <td>0.0022574160248</td>\n",
       "      <td>0.00227861781605</td>\n",
       "      <td>0.00222936272621</td>\n",
       "      <td>0.00220952951349</td>\n",
       "      <td>0.00222373357974</td>\n",
       "      <td>0.00221352605149</td>\n",
       "      <td>0.00223460420966</td>\n",
       "      <td>0.00222191866487</td>\n",
       "    </tr>\n",
       "    <tr>\n",
       "      <th>1</th>\n",
       "      <td>0.00223772507161</td>\n",
       "      <td>0.00229111709632</td>\n",
       "      <td>0.00221004500054</td>\n",
       "      <td>0.00220582145266</td>\n",
       "      <td>0.00217056111433</td>\n",
       "      <td>0.00221282010898</td>\n",
       "      <td>0.00230586202815</td>\n",
       "      <td>0.00227250088938</td>\n",
       "      <td>0.00226316298358</td>\n",
       "      <td>0.00229386449791</td>\n",
       "      <td>...</td>\n",
       "      <td>0.00227137259208</td>\n",
       "      <td>0.00223008403555</td>\n",
       "      <td>0.00221053534187</td>\n",
       "      <td>0.00232449523173</td>\n",
       "      <td>0.00222057430074</td>\n",
       "      <td>0.00217467756011</td>\n",
       "      <td>0.00221117213368</td>\n",
       "      <td>0.0021644087974</td>\n",
       "      <td>0.00224630045705</td>\n",
       "      <td>0.00220335205086</td>\n",
       "    </tr>\n",
       "    <tr>\n",
       "      <th>2</th>\n",
       "      <td>0.00222146860324</td>\n",
       "      <td>0.00235310429707</td>\n",
       "      <td>0.00215468043461</td>\n",
       "      <td>0.00221396819688</td>\n",
       "      <td>0.00219106394798</td>\n",
       "      <td>0.00213481672108</td>\n",
       "      <td>0.00229335622862</td>\n",
       "      <td>0.00220231269486</td>\n",
       "      <td>0.00229474925436</td>\n",
       "      <td>0.00227660406381</td>\n",
       "      <td>...</td>\n",
       "      <td>0.00223404099233</td>\n",
       "      <td>0.0021764645353</td>\n",
       "      <td>0.00225853268057</td>\n",
       "      <td>0.0023292817641</td>\n",
       "      <td>0.00228868843988</td>\n",
       "      <td>0.00219468260184</td>\n",
       "      <td>0.00220470014028</td>\n",
       "      <td>0.00219992036</td>\n",
       "      <td>0.0022615713533</td>\n",
       "      <td>0.00217787874863</td>\n",
       "    </tr>\n",
       "    <tr>\n",
       "      <th>3</th>\n",
       "      <td>0.00224115955643</td>\n",
       "      <td>0.00226141489111</td>\n",
       "      <td>0.00222268467769</td>\n",
       "      <td>0.00221747695468</td>\n",
       "      <td>0.00219283136539</td>\n",
       "      <td>0.00222086696886</td>\n",
       "      <td>0.00227946415544</td>\n",
       "      <td>0.0022596239578</td>\n",
       "      <td>0.00224920781329</td>\n",
       "      <td>0.00226887804456</td>\n",
       "      <td>...</td>\n",
       "      <td>0.00225545209832</td>\n",
       "      <td>0.00223349686712</td>\n",
       "      <td>0.00222505396232</td>\n",
       "      <td>0.0022899643518</td>\n",
       "      <td>0.00222731102258</td>\n",
       "      <td>0.00220002117567</td>\n",
       "      <td>0.00222342298366</td>\n",
       "      <td>0.00219295267016</td>\n",
       "      <td>0.00224516098388</td>\n",
       "      <td>0.00221747206524</td>\n",
       "    </tr>\n",
       "    <tr>\n",
       "      <th>4</th>\n",
       "      <td>0.00220042630099</td>\n",
       "      <td>0.00232659908943</td>\n",
       "      <td>0.00213251449168</td>\n",
       "      <td>0.00223747314885</td>\n",
       "      <td>0.0022390789818</td>\n",
       "      <td>0.00213853619061</td>\n",
       "      <td>0.00232293806039</td>\n",
       "      <td>0.00220596184954</td>\n",
       "      <td>0.00229228730313</td>\n",
       "      <td>0.00233325292356</td>\n",
       "      <td>...</td>\n",
       "      <td>0.00223859306425</td>\n",
       "      <td>0.00212115887552</td>\n",
       "      <td>0.00235242280178</td>\n",
       "      <td>0.00231035868637</td>\n",
       "      <td>0.00224314234219</td>\n",
       "      <td>0.00218514748849</td>\n",
       "      <td>0.00223006005399</td>\n",
       "      <td>0.00221631769091</td>\n",
       "      <td>0.00231484137475</td>\n",
       "      <td>0.00222031935118</td>\n",
       "    </tr>\n",
       "  </tbody>\n",
       "</table>\n",
       "<p>5 rows × 447 columns</p>\n",
       "</div>"
      ],
      "text/plain": [
       "        whale_00195       whale_00442       whale_02411       whale_02608  \\\n",
       "0  0.00224931770936  0.00225193682127   0.0022017066367  0.00221168785356   \n",
       "1  0.00223772507161  0.00229111709632  0.00221004500054  0.00220582145266   \n",
       "2  0.00222146860324  0.00235310429707  0.00215468043461  0.00221396819688   \n",
       "3  0.00224115955643  0.00226141489111  0.00222268467769  0.00221747695468   \n",
       "4  0.00220042630099  0.00232659908943  0.00213251449168  0.00223747314885   \n",
       "\n",
       "        whale_02839       whale_03103       whale_03227       whale_03623  \\\n",
       "0  0.00220592762344  0.00219153170474  0.00228456570767  0.00223549129441   \n",
       "1  0.00217056111433  0.00221282010898  0.00230586202815  0.00227250088938   \n",
       "2  0.00219106394798  0.00213481672108  0.00229335622862  0.00220231269486   \n",
       "3  0.00219283136539  0.00222086696886  0.00227946415544   0.0022596239578   \n",
       "4   0.0022390789818  0.00213853619061  0.00232293806039  0.00220596184954   \n",
       "\n",
       "        whale_03728       whale_03935        ...              whale_98618  \\\n",
       "0  0.00225559389219  0.00226420070976        ...         0.00223504728638   \n",
       "1  0.00226316298358  0.00229386449791        ...         0.00227137259208   \n",
       "2  0.00229474925436  0.00227660406381        ...         0.00223404099233   \n",
       "3  0.00224920781329  0.00226887804456        ...         0.00225545209832   \n",
       "4  0.00229228730313  0.00233325292356        ...         0.00223859306425   \n",
       "\n",
       "        whale_98633       whale_98645       whale_98746       whale_98939  \\\n",
       "0  0.00222577597015   0.0022574160248  0.00227861781605  0.00222936272621   \n",
       "1  0.00223008403555  0.00221053534187  0.00232449523173  0.00222057430074   \n",
       "2   0.0021764645353  0.00225853268057   0.0023292817641  0.00228868843988   \n",
       "3  0.00223349686712  0.00222505396232   0.0022899643518  0.00222731102258   \n",
       "4  0.00212115887552  0.00235242280178  0.00231035868637  0.00224314234219   \n",
       "\n",
       "        whale_98996       whale_99243       whale_99326       whale_99558  \\\n",
       "0  0.00220952951349  0.00222373357974  0.00221352605149  0.00223460420966   \n",
       "1  0.00217467756011  0.00221117213368   0.0021644087974  0.00224630045705   \n",
       "2  0.00219468260184  0.00220470014028     0.00219992036   0.0022615713533   \n",
       "3  0.00220002117567  0.00222342298366  0.00219295267016  0.00224516098388   \n",
       "4  0.00218514748849  0.00223006005399  0.00221631769091  0.00231484137475   \n",
       "\n",
       "        whale_99573  \n",
       "0  0.00222191866487  \n",
       "1  0.00220335205086  \n",
       "2  0.00217787874863  \n",
       "3  0.00221747206524  \n",
       "4  0.00222031935118  \n",
       "\n",
       "[5 rows x 447 columns]"
      ]
     },
     "execution_count": 36,
     "metadata": {},
     "output_type": "execute_result"
    }
   ],
   "source": [
    "sub.head()"
   ]
  },
  {
   "cell_type": "code",
   "execution_count": 43,
   "metadata": {
    "collapsed": false
   },
   "outputs": [],
   "source": [
    "maxes = sub.max(axis=1)"
   ]
  },
  {
   "cell_type": "code",
   "execution_count": 44,
   "metadata": {
    "collapsed": false
   },
   "outputs": [
    {
     "data": {
      "text/plain": [
       "0.0025273603387200002"
      ]
     },
     "execution_count": 44,
     "metadata": {},
     "output_type": "execute_result"
    }
   ],
   "source": [
    "maxes.max()"
   ]
  },
  {
   "cell_type": "code",
   "execution_count": 45,
   "metadata": {
    "collapsed": false
   },
   "outputs": [
    {
     "data": {
      "text/plain": [
       "0.00225573289208"
      ]
     },
     "execution_count": 45,
     "metadata": {},
     "output_type": "execute_result"
    }
   ],
   "source": [
    "maxes.min()"
   ]
  },
  {
   "cell_type": "code",
   "execution_count": 48,
   "metadata": {
    "collapsed": false
   },
   "outputs": [
    {
     "data": {
      "text/plain": [
       "1.00831260275976"
      ]
     },
     "execution_count": 48,
     "metadata": {},
     "output_type": "execute_result"
    }
   ],
   "source": [
    "maxes.min() * 447"
   ]
  },
  {
   "cell_type": "code",
   "execution_count": 51,
   "metadata": {
    "collapsed": false
   },
   "outputs": [
    {
     "name": "stdout",
     "output_type": "stream",
     "text": [
      "0.00212844577618\n"
     ]
    },
    {
     "data": {
      "text/plain": [
       "'0.00235452363268'"
      ]
     },
     "execution_count": 51,
     "metadata": {},
     "output_type": "execute_result"
    }
   ],
   "source": [
    "print(sub.iloc[1,:].min())\n",
    "sub.iloc[1,:].max()"
   ]
  },
  {
   "cell_type": "markdown",
   "metadata": {},
   "source": [
    "Our model is giving equal probability to each whale. How might we prevent that from happening? Why is that happening?\n",
    "\n",
    "- It doesn't have enough information to identify the whale. We could increase the resolution size of the images. We could crop the images so we just have the whale, then crop the images. Since we have aerial photos, the orientation of the images doesn't matter. You could rotate them in a 360 degree range to increase the amount of data you have.\n",
    "- That's a really simple thing to do. Maybe you try that.\n",
    "- Could it be the way you've set up your train and validation sets? How did you set it up? You made sure that your training set had at least one example for each whale, then you remainder into train and validation sets. Could this mean that rare whales are disproportionately common in your training set? That could be.\n",
    "\n",
    "- Maybe eventually you should create a lot more training images by creating a bunch of random rotations of each image. Then you divide the images in a way so that the training and validation sets would be more representative of the overall distribution of whales. Do that with the resized whales. Wouldn't want to do that on the massive original whale images`\n",
    "\n",
    "- You could also use a more powerful model. Try more filters or hidden units. Try pretrained vgg features. That would probably be the simplest thing to do.\n",
    "\n",
    "\n"
   ]
  },
  {
   "cell_type": "markdown",
   "metadata": {},
   "source": [
    "## Rotate Images"
   ]
  },
  {
   "cell_type": "code",
   "execution_count": 52,
   "metadata": {
    "collapsed": false
   },
   "outputs": [],
   "source": [
    "def get_drop_net():\n",
    "    return Sequential([BatchNormalization(axis=1, input_shape=img_shape),\n",
    "                       Conv2D(128, 3,3, activation='relu'),\n",
    "                       MaxPooling2D((2,2),strides=(2,2)),\n",
    "                       Conv2D(64, 3,3, activation='relu'),\n",
    "                       MaxPooling2D((2,2),strides=(2,2)),\n",
    "                       Flatten(),\n",
    "                       Dense(512, activation='relu'),\n",
    "                       Dropout(0.9),\n",
    "                       Dense(256, activation='relu'),\n",
    "                       Dropout(0.9),\n",
    "                       Dense(num_class, activation='softmax')\n",
    "                      ])\n",
    "\n"
   ]
  },
  {
   "cell_type": "code",
   "execution_count": 53,
   "metadata": {
    "collapsed": true
   },
   "outputs": [],
   "source": [
    "model = get_drop_net()"
   ]
  },
  {
   "cell_type": "code",
   "execution_count": 54,
   "metadata": {
    "collapsed": true
   },
   "outputs": [],
   "source": [
    "model.compile(Adam(lr=0.0001), loss='categorical_crossentropy', metrics=['accuracy'])"
   ]
  },
  {
   "cell_type": "code",
   "execution_count": 56,
   "metadata": {
    "collapsed": true
   },
   "outputs": [],
   "source": [
    "ImageDataGenerator?"
   ]
  },
  {
   "cell_type": "code",
   "execution_count": 57,
   "metadata": {
    "collapsed": false
   },
   "outputs": [
    {
     "name": "stdout",
     "output_type": "stream",
     "text": [
      "Found 3644 images belonging to 447 classes.\n",
      "Found 900 images belonging to 447 classes.\n"
     ]
    }
   ],
   "source": [
    "tr_b  = get_tr_batches(gen=ImageDataGenerator(rotation_range=180))\n",
    "val_b = get_val_batches()"
   ]
  },
  {
   "cell_type": "code",
   "execution_count": 60,
   "metadata": {
    "collapsed": false
   },
   "outputs": [
    {
     "name": "stdout",
     "output_type": "stream",
     "text": [
      "Epoch 1/1\n",
      "3644/3644 [==============================] - 77s - loss: 7.8723 - acc: 0.0030 - val_loss: 6.1024 - val_acc: 0.0022\n"
     ]
    }
   ],
   "source": [
    "fit_model(model, epochs=1, tr_b=tr_b)"
   ]
  },
  {
   "cell_type": "code",
   "execution_count": 61,
   "metadata": {
    "collapsed": true
   },
   "outputs": [],
   "source": [
    "model.optimizer.lr = 0.001"
   ]
  },
  {
   "cell_type": "code",
   "execution_count": 62,
   "metadata": {
    "collapsed": false
   },
   "outputs": [
    {
     "name": "stdout",
     "output_type": "stream",
     "text": [
      "Epoch 1/1\n",
      "3644/3644 [==============================] - 77s - loss: 6.1027 - acc: 0.0063 - val_loss: 6.1008 - val_acc: 0.0056\n"
     ]
    }
   ],
   "source": [
    "fit_model(model, epochs=1, tr_b=tr_b)"
   ]
  },
  {
   "cell_type": "code",
   "execution_count": 63,
   "metadata": {
    "collapsed": false
   },
   "outputs": [
    {
     "name": "stdout",
     "output_type": "stream",
     "text": [
      "Epoch 1/10\n",
      "3644/3644 [==============================] - 77s - loss: 6.1000 - acc: 0.0085 - val_loss: 6.0998 - val_acc: 0.0111\n",
      "Epoch 2/10\n",
      "3644/3644 [==============================] - 77s - loss: 6.0997 - acc: 0.0049 - val_loss: 6.0989 - val_acc: 0.0089\n",
      "Epoch 3/10\n",
      "3644/3644 [==============================] - 77s - loss: 6.0981 - acc: 0.0058 - val_loss: 6.0978 - val_acc: 0.0078\n",
      "Epoch 4/10\n",
      "3644/3644 [==============================] - 78s - loss: 6.0969 - acc: 0.0063 - val_loss: 6.0969 - val_acc: 0.0100\n",
      "Epoch 5/10\n",
      "3644/3644 [==============================] - 77s - loss: 6.0968 - acc: 0.0080 - val_loss: 6.0960 - val_acc: 0.0100\n",
      "Epoch 6/10\n",
      "3644/3644 [==============================] - 77s - loss: 6.0949 - acc: 0.0085 - val_loss: 6.0950 - val_acc: 0.0100\n",
      "Epoch 7/10\n",
      "3580/3644 [============================>.] - ETA: 1s - loss: 6.0937 - acc: 0.0061"
     ]
    },
    {
     "ename": "KeyboardInterrupt",
     "evalue": "",
     "output_type": "error",
     "traceback": [
      "\u001b[0;31m---------------------------------------------------------------------------\u001b[0m",
      "\u001b[0;31mKeyboardInterrupt\u001b[0m                         Traceback (most recent call last)",
      "\u001b[0;32m<ipython-input-63-2dc0bfe4350f>\u001b[0m in \u001b[0;36m<module>\u001b[0;34m()\u001b[0m\n\u001b[0;32m----> 1\u001b[0;31m \u001b[0mfit_model\u001b[0m\u001b[0;34m(\u001b[0m\u001b[0mmodel\u001b[0m\u001b[0;34m,\u001b[0m \u001b[0mepochs\u001b[0m\u001b[0;34m=\u001b[0m\u001b[0;36m10\u001b[0m\u001b[0;34m,\u001b[0m \u001b[0mtr_b\u001b[0m\u001b[0;34m=\u001b[0m\u001b[0mtr_b\u001b[0m\u001b[0;34m)\u001b[0m\u001b[0;34m\u001b[0m\u001b[0m\n\u001b[0m",
      "\u001b[0;32m<ipython-input-6-4b6c97e989a6>\u001b[0m in \u001b[0;36mfit_model\u001b[0;34m(model, epochs, tr_b, val_b)\u001b[0m\n\u001b[1;32m      3\u001b[0m                     \u001b[0mvalidation_data\u001b[0m\u001b[0;34m=\u001b[0m\u001b[0mval_b\u001b[0m\u001b[0;34m,\u001b[0m\u001b[0;34m\u001b[0m\u001b[0m\n\u001b[1;32m      4\u001b[0m                     \u001b[0mnb_val_samples\u001b[0m\u001b[0;34m=\u001b[0m\u001b[0mval_b\u001b[0m\u001b[0;34m.\u001b[0m\u001b[0mnb_sample\u001b[0m\u001b[0;34m,\u001b[0m\u001b[0;34m\u001b[0m\u001b[0m\n\u001b[0;32m----> 5\u001b[0;31m                     nb_epoch=epochs)\n\u001b[0m",
      "\u001b[0;32m/home/ubuntu/anaconda2/lib/python2.7/site-packages/keras/models.pyc\u001b[0m in \u001b[0;36mfit_generator\u001b[0;34m(self, generator, samples_per_epoch, nb_epoch, verbose, callbacks, validation_data, nb_val_samples, class_weight, max_q_size, nb_worker, pickle_safe, **kwargs)\u001b[0m\n\u001b[1;32m    872\u001b[0m                                         \u001b[0mmax_q_size\u001b[0m\u001b[0;34m=\u001b[0m\u001b[0mmax_q_size\u001b[0m\u001b[0;34m,\u001b[0m\u001b[0;34m\u001b[0m\u001b[0m\n\u001b[1;32m    873\u001b[0m                                         \u001b[0mnb_worker\u001b[0m\u001b[0;34m=\u001b[0m\u001b[0mnb_worker\u001b[0m\u001b[0;34m,\u001b[0m\u001b[0;34m\u001b[0m\u001b[0m\n\u001b[0;32m--> 874\u001b[0;31m                                         pickle_safe=pickle_safe)\n\u001b[0m\u001b[1;32m    875\u001b[0m \u001b[0;34m\u001b[0m\u001b[0m\n\u001b[1;32m    876\u001b[0m     \u001b[0;32mdef\u001b[0m \u001b[0mevaluate_generator\u001b[0m\u001b[0;34m(\u001b[0m\u001b[0mself\u001b[0m\u001b[0;34m,\u001b[0m \u001b[0mgenerator\u001b[0m\u001b[0;34m,\u001b[0m \u001b[0mval_samples\u001b[0m\u001b[0;34m,\u001b[0m \u001b[0mmax_q_size\u001b[0m\u001b[0;34m=\u001b[0m\u001b[0;36m10\u001b[0m\u001b[0;34m,\u001b[0m \u001b[0mnb_worker\u001b[0m\u001b[0;34m=\u001b[0m\u001b[0;36m1\u001b[0m\u001b[0;34m,\u001b[0m \u001b[0mpickle_safe\u001b[0m\u001b[0;34m=\u001b[0m\u001b[0mFalse\u001b[0m\u001b[0;34m,\u001b[0m \u001b[0;34m**\u001b[0m\u001b[0mkwargs\u001b[0m\u001b[0;34m)\u001b[0m\u001b[0;34m:\u001b[0m\u001b[0;34m\u001b[0m\u001b[0m\n",
      "\u001b[0;32m/home/ubuntu/anaconda2/lib/python2.7/site-packages/keras/engine/training.pyc\u001b[0m in \u001b[0;36mfit_generator\u001b[0;34m(self, generator, samples_per_epoch, nb_epoch, verbose, callbacks, validation_data, nb_val_samples, class_weight, max_q_size, nb_worker, pickle_safe)\u001b[0m\n\u001b[1;32m   1469\u001b[0m                         val_outs = self.evaluate_generator(validation_data,\n\u001b[1;32m   1470\u001b[0m                                                            \u001b[0mnb_val_samples\u001b[0m\u001b[0;34m,\u001b[0m\u001b[0;34m\u001b[0m\u001b[0m\n\u001b[0;32m-> 1471\u001b[0;31m                                                            max_q_size=max_q_size)\n\u001b[0m\u001b[1;32m   1472\u001b[0m                     \u001b[0;32melse\u001b[0m\u001b[0;34m:\u001b[0m\u001b[0;34m\u001b[0m\u001b[0m\n\u001b[1;32m   1473\u001b[0m                         \u001b[0;31m# no need for try/except because\u001b[0m\u001b[0;34m\u001b[0m\u001b[0;34m\u001b[0m\u001b[0m\n",
      "\u001b[0;32m/home/ubuntu/anaconda2/lib/python2.7/site-packages/keras/engine/training.pyc\u001b[0m in \u001b[0;36mevaluate_generator\u001b[0;34m(self, generator, val_samples, max_q_size, nb_worker, pickle_safe)\u001b[0m\n\u001b[1;32m   1552\u001b[0m                                 'or (x, y). Found: ' + str(generator_output))\n\u001b[1;32m   1553\u001b[0m             \u001b[0;32mtry\u001b[0m\u001b[0;34m:\u001b[0m\u001b[0;34m\u001b[0m\u001b[0m\n\u001b[0;32m-> 1554\u001b[0;31m                 \u001b[0mouts\u001b[0m \u001b[0;34m=\u001b[0m \u001b[0mself\u001b[0m\u001b[0;34m.\u001b[0m\u001b[0mtest_on_batch\u001b[0m\u001b[0;34m(\u001b[0m\u001b[0mx\u001b[0m\u001b[0;34m,\u001b[0m \u001b[0my\u001b[0m\u001b[0;34m,\u001b[0m \u001b[0msample_weight\u001b[0m\u001b[0;34m=\u001b[0m\u001b[0msample_weight\u001b[0m\u001b[0;34m)\u001b[0m\u001b[0;34m\u001b[0m\u001b[0m\n\u001b[0m\u001b[1;32m   1555\u001b[0m             \u001b[0;32mexcept\u001b[0m\u001b[0;34m:\u001b[0m\u001b[0;34m\u001b[0m\u001b[0m\n\u001b[1;32m   1556\u001b[0m                 \u001b[0m_stop\u001b[0m\u001b[0;34m.\u001b[0m\u001b[0mset\u001b[0m\u001b[0;34m(\u001b[0m\u001b[0;34m)\u001b[0m\u001b[0;34m\u001b[0m\u001b[0m\n",
      "\u001b[0;32m/home/ubuntu/anaconda2/lib/python2.7/site-packages/keras/engine/training.pyc\u001b[0m in \u001b[0;36mtest_on_batch\u001b[0;34m(self, x, y, sample_weight)\u001b[0m\n\u001b[1;32m   1257\u001b[0m             \u001b[0mins\u001b[0m \u001b[0;34m=\u001b[0m \u001b[0mx\u001b[0m \u001b[0;34m+\u001b[0m \u001b[0my\u001b[0m \u001b[0;34m+\u001b[0m \u001b[0msample_weights\u001b[0m\u001b[0;34m\u001b[0m\u001b[0m\n\u001b[1;32m   1258\u001b[0m         \u001b[0mself\u001b[0m\u001b[0;34m.\u001b[0m\u001b[0m_make_test_function\u001b[0m\u001b[0;34m(\u001b[0m\u001b[0;34m)\u001b[0m\u001b[0;34m\u001b[0m\u001b[0m\n\u001b[0;32m-> 1259\u001b[0;31m         \u001b[0moutputs\u001b[0m \u001b[0;34m=\u001b[0m \u001b[0mself\u001b[0m\u001b[0;34m.\u001b[0m\u001b[0mtest_function\u001b[0m\u001b[0;34m(\u001b[0m\u001b[0mins\u001b[0m\u001b[0;34m)\u001b[0m\u001b[0;34m\u001b[0m\u001b[0m\n\u001b[0m\u001b[1;32m   1260\u001b[0m         \u001b[0;32mif\u001b[0m \u001b[0mlen\u001b[0m\u001b[0;34m(\u001b[0m\u001b[0moutputs\u001b[0m\u001b[0;34m)\u001b[0m \u001b[0;34m==\u001b[0m \u001b[0;36m1\u001b[0m\u001b[0;34m:\u001b[0m\u001b[0;34m\u001b[0m\u001b[0m\n\u001b[1;32m   1261\u001b[0m             \u001b[0;32mreturn\u001b[0m \u001b[0moutputs\u001b[0m\u001b[0;34m[\u001b[0m\u001b[0;36m0\u001b[0m\u001b[0;34m]\u001b[0m\u001b[0;34m\u001b[0m\u001b[0m\n",
      "\u001b[0;32m/home/ubuntu/anaconda2/lib/python2.7/site-packages/keras/backend/theano_backend.pyc\u001b[0m in \u001b[0;36m__call__\u001b[0;34m(self, inputs)\u001b[0m\n\u001b[1;32m    715\u001b[0m     \u001b[0;32mdef\u001b[0m \u001b[0m__call__\u001b[0m\u001b[0;34m(\u001b[0m\u001b[0mself\u001b[0m\u001b[0;34m,\u001b[0m \u001b[0minputs\u001b[0m\u001b[0;34m)\u001b[0m\u001b[0;34m:\u001b[0m\u001b[0;34m\u001b[0m\u001b[0m\n\u001b[1;32m    716\u001b[0m         \u001b[0;32massert\u001b[0m \u001b[0mtype\u001b[0m\u001b[0;34m(\u001b[0m\u001b[0minputs\u001b[0m\u001b[0;34m)\u001b[0m \u001b[0;32min\u001b[0m \u001b[0;34m{\u001b[0m\u001b[0mlist\u001b[0m\u001b[0;34m,\u001b[0m \u001b[0mtuple\u001b[0m\u001b[0;34m}\u001b[0m\u001b[0;34m\u001b[0m\u001b[0m\n\u001b[0;32m--> 717\u001b[0;31m         \u001b[0;32mreturn\u001b[0m \u001b[0mself\u001b[0m\u001b[0;34m.\u001b[0m\u001b[0mfunction\u001b[0m\u001b[0;34m(\u001b[0m\u001b[0;34m*\u001b[0m\u001b[0minputs\u001b[0m\u001b[0;34m)\u001b[0m\u001b[0;34m\u001b[0m\u001b[0m\n\u001b[0m\u001b[1;32m    718\u001b[0m \u001b[0;34m\u001b[0m\u001b[0m\n\u001b[1;32m    719\u001b[0m \u001b[0;34m\u001b[0m\u001b[0m\n",
      "\u001b[0;32m/home/ubuntu/anaconda2/lib/python2.7/site-packages/theano/compile/function_module.pyc\u001b[0m in \u001b[0;36m__call__\u001b[0;34m(self, *args, **kwargs)\u001b[0m\n\u001b[1;32m    857\u001b[0m         \u001b[0mt0_fn\u001b[0m \u001b[0;34m=\u001b[0m \u001b[0mtime\u001b[0m\u001b[0;34m.\u001b[0m\u001b[0mtime\u001b[0m\u001b[0;34m(\u001b[0m\u001b[0;34m)\u001b[0m\u001b[0;34m\u001b[0m\u001b[0m\n\u001b[1;32m    858\u001b[0m         \u001b[0;32mtry\u001b[0m\u001b[0;34m:\u001b[0m\u001b[0;34m\u001b[0m\u001b[0m\n\u001b[0;32m--> 859\u001b[0;31m             \u001b[0moutputs\u001b[0m \u001b[0;34m=\u001b[0m \u001b[0mself\u001b[0m\u001b[0;34m.\u001b[0m\u001b[0mfn\u001b[0m\u001b[0;34m(\u001b[0m\u001b[0;34m)\u001b[0m\u001b[0;34m\u001b[0m\u001b[0m\n\u001b[0m\u001b[1;32m    860\u001b[0m         \u001b[0;32mexcept\u001b[0m \u001b[0mException\u001b[0m\u001b[0;34m:\u001b[0m\u001b[0;34m\u001b[0m\u001b[0m\n\u001b[1;32m    861\u001b[0m             \u001b[0;32mif\u001b[0m \u001b[0mhasattr\u001b[0m\u001b[0;34m(\u001b[0m\u001b[0mself\u001b[0m\u001b[0;34m.\u001b[0m\u001b[0mfn\u001b[0m\u001b[0;34m,\u001b[0m \u001b[0;34m'position_of_error'\u001b[0m\u001b[0;34m)\u001b[0m\u001b[0;34m:\u001b[0m\u001b[0;34m\u001b[0m\u001b[0m\n",
      "\u001b[0;31mKeyboardInterrupt\u001b[0m: "
     ]
    }
   ],
   "source": [
    "fit_model(model, epochs=10, tr_b=tr_b)"
   ]
  },
  {
   "cell_type": "code",
   "execution_count": null,
   "metadata": {
    "collapsed": true
   },
   "outputs": [],
   "source": []
  }
 ],
 "metadata": {
  "anaconda-cloud": {},
  "kernelspec": {
   "display_name": "Python [conda root]",
   "language": "python",
   "name": "conda-root-py"
  },
  "language_info": {
   "codemirror_mode": {
    "name": "ipython",
    "version": 2
   },
   "file_extension": ".py",
   "mimetype": "text/x-python",
   "name": "python",
   "nbconvert_exporter": "python",
   "pygments_lexer": "ipython2",
   "version": "2.7.12"
  }
 },
 "nbformat": 4,
 "nbformat_minor": 1
}
