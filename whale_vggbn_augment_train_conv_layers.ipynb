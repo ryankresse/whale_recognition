{
 "cells": [
  {
   "cell_type": "code",
   "execution_count": 1,
   "metadata": {
    "collapsed": false
   },
   "outputs": [
    {
     "name": "stderr",
     "output_type": "stream",
     "text": [
      "Using gpu device 0: Tesla K80 (CNMeM is disabled, cuDNN 5103)\n",
      "/home/ubuntu/anaconda2/lib/python2.7/site-packages/theano/sandbox/cuda/__init__.py:600: UserWarning: Your cuDNN version is more recent than the one Theano officially supports. If you see any problems, try updating Theano or downgrading cuDNN to version 5.\n",
      "  warnings.warn(warn)\n",
      "Using Theano backend.\n"
     ]
    }
   ],
   "source": [
    "import sys\n",
    "import os\n",
    "sys.path.insert(1, os.path.join(sys.path[0], '..'))\n",
    "from utils import *\n",
    "import vgg16bn\n",
    "import pandas as pd\n",
    "import numpy as np\n",
    "from glob import glob\n",
    "from keras.layers import Dense, Conv2D, BatchNormalization, Dropout, Flatten, MaxPooling2D\n",
    "from keras.models import Sequential\n",
    "from keras.preprocessing.image import ImageDataGenerator\n",
    "from keras.optimizers import Adam\n",
    "from sklearn.metrics import log_loss\n",
    "%matplotlib inline\n",
    "\n",
    "data_dir = os.path.join(os.getcwd(), 'data', 'whale')\n",
    "img_dir  = os.path.join(os.getcwd(), 'data', 'whale', 'imgs')\n",
    "batch_size=64\n",
    "num_class = 447\n",
    "img_shape=(3, 224, 224)\n",
    "target_size = (224,224)"
   ]
  },
  {
   "cell_type": "code",
   "execution_count": 2,
   "metadata": {
    "collapsed": false
   },
   "outputs": [
    {
     "data": {
      "text/plain": [
       "'/home/ubuntu/courses/deeplearning1/nbs/data/whale'"
      ]
     },
     "execution_count": 2,
     "metadata": {},
     "output_type": "execute_result"
    }
   ],
   "source": [
    "data_dir"
   ]
  },
  {
   "cell_type": "code",
   "execution_count": 3,
   "metadata": {
    "collapsed": false
   },
   "outputs": [
    {
     "data": {
      "text/plain": [
       "'/home/ubuntu/courses/deeplearning1/nbs/data/whale/imgs'"
      ]
     },
     "execution_count": 3,
     "metadata": {},
     "output_type": "execute_result"
    }
   ],
   "source": [
    "img_dir"
   ]
  },
  {
   "cell_type": "code",
   "execution_count": 4,
   "metadata": {
    "collapsed": true
   },
   "outputs": [],
   "source": [
    "ImageDataGenerator?"
   ]
  },
  {
   "cell_type": "code",
   "execution_count": 5,
   "metadata": {
    "collapsed": false
   },
   "outputs": [],
   "source": [
    "def get_tr_batches(dr = img_dir+ '/train', gen = ImageDataGenerator(), batch_size=batch_size):\n",
    "    return gen.flow_from_directory(dr, shuffle=True, target_size=target_size, batch_size=64)\n",
    "\n",
    "def get_val_batches(dr = img_dir+ '/valid', gen = ImageDataGenerator(), batch_size=batch_size):\n",
    "    return gen.flow_from_directory(dr, shuffle=False, target_size=target_size, batch_size=batch_size)\n",
    "\n",
    "\n",
    "def get_test_batches(dr = img_dir+ '/test', gen = ImageDataGenerator(), batch_size=batch_size):\n",
    "    return gen.flow_from_directory(dr, shuffle=False, target_size=target_size, batch_size=batch_size)"
   ]
  },
  {
   "cell_type": "markdown",
   "metadata": {
    "collapsed": false
   },
   "source": [
    "tr_features = load_array('vgg_conv_tr.bc')\n",
    "val_features = load_array('vgg_val_tr.bc')\n"
   ]
  },
  {
   "cell_type": "markdown",
   "metadata": {
    "collapsed": true
   },
   "source": [
    "tr_labels = load_array('whale_tr_classes.bc')\n",
    "val_labels = load_array('whale_val_classes.bc')\n"
   ]
  },
  {
   "cell_type": "code",
   "execution_count": 5,
   "metadata": {
    "collapsed": false
   },
   "outputs": [
    {
     "name": "stdout",
     "output_type": "stream",
     "text": [
      "Found 3635 images belonging to 447 classes.\n",
      "Found 909 images belonging to 447 classes.\n"
     ]
    }
   ],
   "source": [
    "def fit_model(model, epochs, tr_b = get_tr_batches(), val_b = get_val_batches()):\n",
    "    model.fit_generator(tr_b, tr_b.nb_sample, \n",
    "                    validation_data=val_b, \n",
    "                    nb_val_samples=val_b.nb_sample, \n",
    "                    nb_epoch=epochs)"
   ]
  },
  {
   "cell_type": "code",
   "execution_count": 13,
   "metadata": {
    "collapsed": true
   },
   "outputs": [],
   "source": [
    "def get_model():\n",
    "    vgg = Vgg16BN()\n",
    "    model = vgg.model\n",
    "    last_untrainable = [i for i, v in enumerate(model.layers) if type(v) is Conv2D][-3]\n",
    "    for layer in model.layers[:last_untrainable+1]: layer.trainable=False\n",
    "    model.layers = model.layers[:-1]\n",
    "    model.add(Dense(num_class, activation='softmax'))\n",
    "    return model"
   ]
  },
  {
   "cell_type": "code",
   "execution_count": 14,
   "metadata": {
    "collapsed": false
   },
   "outputs": [],
   "source": [
    "model = get_model()"
   ]
  },
  {
   "cell_type": "code",
   "execution_count": 15,
   "metadata": {
    "collapsed": false
   },
   "outputs": [
    {
     "name": "stdout",
     "output_type": "stream",
     "text": [
      "<class 'keras.layers.core.Lambda'>\n",
      "False\n",
      "<class 'keras.layers.convolutional.ZeroPadding2D'>\n",
      "False\n",
      "<class 'keras.layers.convolutional.Convolution2D'>\n",
      "False\n",
      "<class 'keras.layers.convolutional.ZeroPadding2D'>\n",
      "False\n",
      "<class 'keras.layers.convolutional.Convolution2D'>\n",
      "False\n",
      "<class 'keras.layers.pooling.MaxPooling2D'>\n",
      "False\n",
      "<class 'keras.layers.convolutional.ZeroPadding2D'>\n",
      "False\n",
      "<class 'keras.layers.convolutional.Convolution2D'>\n",
      "False\n",
      "<class 'keras.layers.convolutional.ZeroPadding2D'>\n",
      "False\n",
      "<class 'keras.layers.convolutional.Convolution2D'>\n",
      "False\n",
      "<class 'keras.layers.pooling.MaxPooling2D'>\n",
      "False\n",
      "<class 'keras.layers.convolutional.ZeroPadding2D'>\n",
      "False\n",
      "<class 'keras.layers.convolutional.Convolution2D'>\n",
      "False\n",
      "<class 'keras.layers.convolutional.ZeroPadding2D'>\n",
      "False\n",
      "<class 'keras.layers.convolutional.Convolution2D'>\n",
      "False\n",
      "<class 'keras.layers.convolutional.ZeroPadding2D'>\n",
      "False\n",
      "<class 'keras.layers.convolutional.Convolution2D'>\n",
      "False\n",
      "<class 'keras.layers.pooling.MaxPooling2D'>\n",
      "False\n",
      "<class 'keras.layers.convolutional.ZeroPadding2D'>\n",
      "False\n",
      "<class 'keras.layers.convolutional.Convolution2D'>\n",
      "False\n",
      "<class 'keras.layers.convolutional.ZeroPadding2D'>\n",
      "False\n",
      "<class 'keras.layers.convolutional.Convolution2D'>\n",
      "False\n",
      "<class 'keras.layers.convolutional.ZeroPadding2D'>\n",
      "False\n",
      "<class 'keras.layers.convolutional.Convolution2D'>\n",
      "False\n",
      "<class 'keras.layers.pooling.MaxPooling2D'>\n",
      "False\n",
      "<class 'keras.layers.convolutional.ZeroPadding2D'>\n",
      "False\n",
      "<class 'keras.layers.convolutional.Convolution2D'>\n",
      "False\n",
      "<class 'keras.layers.convolutional.ZeroPadding2D'>\n",
      "True\n",
      "<class 'keras.layers.convolutional.Convolution2D'>\n",
      "True\n",
      "<class 'keras.layers.convolutional.ZeroPadding2D'>\n",
      "True\n",
      "<class 'keras.layers.convolutional.Convolution2D'>\n",
      "True\n",
      "<class 'keras.layers.pooling.MaxPooling2D'>\n",
      "True\n",
      "<class 'keras.layers.core.Flatten'>\n",
      "True\n",
      "<class 'keras.layers.core.Dense'>\n",
      "True\n",
      "<class 'keras.layers.normalization.BatchNormalization'>\n",
      "True\n",
      "<class 'keras.layers.core.Dropout'>\n",
      "True\n",
      "<class 'keras.layers.core.Dense'>\n",
      "True\n",
      "<class 'keras.layers.normalization.BatchNormalization'>\n",
      "True\n",
      "<class 'keras.layers.core.Dropout'>\n",
      "True\n",
      "<class 'keras.layers.core.Dense'>\n",
      "True\n"
     ]
    }
   ],
   "source": [
    "for layer in model.layers:\n",
    "    print(type(layer))\n",
    "    print(layer.trainable)"
   ]
  },
  {
   "cell_type": "code",
   "execution_count": 16,
   "metadata": {
    "collapsed": true
   },
   "outputs": [],
   "source": [
    "augmenter = ImageDataGenerator(rotation_range=180, horizontal_flip=True, vertical_flip=True, zoom_range=0.10)"
   ]
  },
  {
   "cell_type": "code",
   "execution_count": 17,
   "metadata": {
    "collapsed": false
   },
   "outputs": [
    {
     "name": "stdout",
     "output_type": "stream",
     "text": [
      "Found 3635 images belonging to 447 classes.\n"
     ]
    }
   ],
   "source": [
    "tr_batches = get_tr_batches(gen=augmenter)"
   ]
  },
  {
   "cell_type": "code",
   "execution_count": 18,
   "metadata": {
    "collapsed": false
   },
   "outputs": [
    {
     "name": "stdout",
     "output_type": "stream",
     "text": [
      "Found 909 images belonging to 447 classes.\n"
     ]
    }
   ],
   "source": [
    "val_b = get_val_batches()"
   ]
  },
  {
   "cell_type": "code",
   "execution_count": 19,
   "metadata": {
    "collapsed": false
   },
   "outputs": [],
   "source": [
    "model.compile(Adam(0.001), 'categorical_crossentropy', metrics=['accuracy'])"
   ]
  },
  {
   "cell_type": "code",
   "execution_count": 20,
   "metadata": {
    "collapsed": false
   },
   "outputs": [
    {
     "name": "stdout",
     "output_type": "stream",
     "text": [
      "Epoch 1/25\n",
      "3635/3635 [==============================] - 127s - loss: 6.0959 - acc: 0.0028 - val_loss: 6.0913 - val_acc: 0.0077\n",
      "Epoch 2/25\n",
      "3635/3635 [==============================] - 128s - loss: 6.0712 - acc: 0.0063 - val_loss: 6.0706 - val_acc: 0.0099\n",
      "Epoch 3/25\n",
      "3635/3635 [==============================] - 129s - loss: 6.0484 - acc: 0.0096 - val_loss: 6.0580 - val_acc: 0.0099\n",
      "Epoch 4/25\n",
      "3635/3635 [==============================] - 129s - loss: 6.0285 - acc: 0.0099 - val_loss: 6.0460 - val_acc: 0.0099\n",
      "Epoch 5/25\n",
      "3635/3635 [==============================] - 129s - loss: 6.0087 - acc: 0.0096 - val_loss: 6.0355 - val_acc: 0.0099\n",
      "Epoch 6/25\n",
      "3635/3635 [==============================] - 129s - loss: 5.9933 - acc: 0.0105 - val_loss: 6.0250 - val_acc: 0.0099\n",
      "Epoch 7/25\n",
      "3635/3635 [==============================] - 129s - loss: 5.9771 - acc: 0.0107 - val_loss: 6.0178 - val_acc: 0.0143\n",
      "Epoch 8/25\n",
      "3635/3635 [==============================] - 129s - loss: 5.9618 - acc: 0.0096 - val_loss: 6.0052 - val_acc: 0.0099\n",
      "Epoch 9/25\n",
      "3635/3635 [==============================] - 129s - loss: 5.9481 - acc: 0.0124 - val_loss: 5.9970 - val_acc: 0.0132\n",
      "Epoch 10/25\n",
      "3635/3635 [==============================] - 129s - loss: 5.9371 - acc: 0.0129 - val_loss: 5.9892 - val_acc: 0.0143\n",
      "Epoch 11/25\n",
      "3635/3635 [==============================] - 129s - loss: 5.9270 - acc: 0.0127 - val_loss: 5.9833 - val_acc: 0.0132\n",
      "Epoch 12/25\n",
      "3635/3635 [==============================] - 129s - loss: 5.9179 - acc: 0.0129 - val_loss: 5.9863 - val_acc: 0.0110\n",
      "Epoch 13/25\n",
      "1024/3635 [=======>......................] - ETA: 76s - loss: 5.9048 - acc: 0.0088"
     ]
    },
    {
     "ename": "KeyboardInterrupt",
     "evalue": "",
     "output_type": "error",
     "traceback": [
      "\u001b[0;31m---------------------------------------------------------------------------\u001b[0m",
      "\u001b[0;31mKeyboardInterrupt\u001b[0m                         Traceback (most recent call last)",
      "\u001b[0;32m<ipython-input-20-2dae3530f052>\u001b[0m in \u001b[0;36m<module>\u001b[0;34m()\u001b[0m\n\u001b[1;32m      2\u001b[0m                     \u001b[0mtr_batches\u001b[0m\u001b[0;34m.\u001b[0m\u001b[0mnb_sample\u001b[0m\u001b[0;34m,\u001b[0m\u001b[0;34m\u001b[0m\u001b[0m\n\u001b[1;32m      3\u001b[0m                     \u001b[0mvalidation_data\u001b[0m\u001b[0;34m=\u001b[0m\u001b[0mval_b\u001b[0m\u001b[0;34m,\u001b[0m\u001b[0;34m\u001b[0m\u001b[0m\n\u001b[0;32m----> 4\u001b[0;31m                     nb_val_samples=val_b.nb_sample, nb_epoch=25)\n\u001b[0m",
      "\u001b[0;32m/home/ubuntu/anaconda2/lib/python2.7/site-packages/keras/models.pyc\u001b[0m in \u001b[0;36mfit_generator\u001b[0;34m(self, generator, samples_per_epoch, nb_epoch, verbose, callbacks, validation_data, nb_val_samples, class_weight, max_q_size, nb_worker, pickle_safe, **kwargs)\u001b[0m\n\u001b[1;32m    872\u001b[0m                                         \u001b[0mmax_q_size\u001b[0m\u001b[0;34m=\u001b[0m\u001b[0mmax_q_size\u001b[0m\u001b[0;34m,\u001b[0m\u001b[0;34m\u001b[0m\u001b[0m\n\u001b[1;32m    873\u001b[0m                                         \u001b[0mnb_worker\u001b[0m\u001b[0;34m=\u001b[0m\u001b[0mnb_worker\u001b[0m\u001b[0;34m,\u001b[0m\u001b[0;34m\u001b[0m\u001b[0m\n\u001b[0;32m--> 874\u001b[0;31m                                         pickle_safe=pickle_safe)\n\u001b[0m\u001b[1;32m    875\u001b[0m \u001b[0;34m\u001b[0m\u001b[0m\n\u001b[1;32m    876\u001b[0m     \u001b[0;32mdef\u001b[0m \u001b[0mevaluate_generator\u001b[0m\u001b[0;34m(\u001b[0m\u001b[0mself\u001b[0m\u001b[0;34m,\u001b[0m \u001b[0mgenerator\u001b[0m\u001b[0;34m,\u001b[0m \u001b[0mval_samples\u001b[0m\u001b[0;34m,\u001b[0m \u001b[0mmax_q_size\u001b[0m\u001b[0;34m=\u001b[0m\u001b[0;36m10\u001b[0m\u001b[0;34m,\u001b[0m \u001b[0mnb_worker\u001b[0m\u001b[0;34m=\u001b[0m\u001b[0;36m1\u001b[0m\u001b[0;34m,\u001b[0m \u001b[0mpickle_safe\u001b[0m\u001b[0;34m=\u001b[0m\u001b[0mFalse\u001b[0m\u001b[0;34m,\u001b[0m \u001b[0;34m**\u001b[0m\u001b[0mkwargs\u001b[0m\u001b[0;34m)\u001b[0m\u001b[0;34m:\u001b[0m\u001b[0;34m\u001b[0m\u001b[0m\n",
      "\u001b[0;32m/home/ubuntu/anaconda2/lib/python2.7/site-packages/keras/engine/training.pyc\u001b[0m in \u001b[0;36mfit_generator\u001b[0;34m(self, generator, samples_per_epoch, nb_epoch, verbose, callbacks, validation_data, nb_val_samples, class_weight, max_q_size, nb_worker, pickle_safe)\u001b[0m\n\u001b[1;32m   1441\u001b[0m                     outs = self.train_on_batch(x, y,\n\u001b[1;32m   1442\u001b[0m                                                \u001b[0msample_weight\u001b[0m\u001b[0;34m=\u001b[0m\u001b[0msample_weight\u001b[0m\u001b[0;34m,\u001b[0m\u001b[0;34m\u001b[0m\u001b[0m\n\u001b[0;32m-> 1443\u001b[0;31m                                                class_weight=class_weight)\n\u001b[0m\u001b[1;32m   1444\u001b[0m                 \u001b[0;32mexcept\u001b[0m\u001b[0;34m:\u001b[0m\u001b[0;34m\u001b[0m\u001b[0m\n\u001b[1;32m   1445\u001b[0m                     \u001b[0m_stop\u001b[0m\u001b[0;34m.\u001b[0m\u001b[0mset\u001b[0m\u001b[0;34m(\u001b[0m\u001b[0;34m)\u001b[0m\u001b[0;34m\u001b[0m\u001b[0m\n",
      "\u001b[0;32m/home/ubuntu/anaconda2/lib/python2.7/site-packages/keras/engine/training.pyc\u001b[0m in \u001b[0;36mtrain_on_batch\u001b[0;34m(self, x, y, sample_weight, class_weight)\u001b[0m\n\u001b[1;32m   1219\u001b[0m             \u001b[0mins\u001b[0m \u001b[0;34m=\u001b[0m \u001b[0mx\u001b[0m \u001b[0;34m+\u001b[0m \u001b[0my\u001b[0m \u001b[0;34m+\u001b[0m \u001b[0msample_weights\u001b[0m\u001b[0;34m\u001b[0m\u001b[0m\n\u001b[1;32m   1220\u001b[0m         \u001b[0mself\u001b[0m\u001b[0;34m.\u001b[0m\u001b[0m_make_train_function\u001b[0m\u001b[0;34m(\u001b[0m\u001b[0;34m)\u001b[0m\u001b[0;34m\u001b[0m\u001b[0m\n\u001b[0;32m-> 1221\u001b[0;31m         \u001b[0moutputs\u001b[0m \u001b[0;34m=\u001b[0m \u001b[0mself\u001b[0m\u001b[0;34m.\u001b[0m\u001b[0mtrain_function\u001b[0m\u001b[0;34m(\u001b[0m\u001b[0mins\u001b[0m\u001b[0;34m)\u001b[0m\u001b[0;34m\u001b[0m\u001b[0m\n\u001b[0m\u001b[1;32m   1222\u001b[0m         \u001b[0;32mif\u001b[0m \u001b[0mlen\u001b[0m\u001b[0;34m(\u001b[0m\u001b[0moutputs\u001b[0m\u001b[0;34m)\u001b[0m \u001b[0;34m==\u001b[0m \u001b[0;36m1\u001b[0m\u001b[0;34m:\u001b[0m\u001b[0;34m\u001b[0m\u001b[0m\n\u001b[1;32m   1223\u001b[0m             \u001b[0;32mreturn\u001b[0m \u001b[0moutputs\u001b[0m\u001b[0;34m[\u001b[0m\u001b[0;36m0\u001b[0m\u001b[0;34m]\u001b[0m\u001b[0;34m\u001b[0m\u001b[0m\n",
      "\u001b[0;32m/home/ubuntu/anaconda2/lib/python2.7/site-packages/keras/backend/theano_backend.pyc\u001b[0m in \u001b[0;36m__call__\u001b[0;34m(self, inputs)\u001b[0m\n\u001b[1;32m    715\u001b[0m     \u001b[0;32mdef\u001b[0m \u001b[0m__call__\u001b[0m\u001b[0;34m(\u001b[0m\u001b[0mself\u001b[0m\u001b[0;34m,\u001b[0m \u001b[0minputs\u001b[0m\u001b[0;34m)\u001b[0m\u001b[0;34m:\u001b[0m\u001b[0;34m\u001b[0m\u001b[0m\n\u001b[1;32m    716\u001b[0m         \u001b[0;32massert\u001b[0m \u001b[0mtype\u001b[0m\u001b[0;34m(\u001b[0m\u001b[0minputs\u001b[0m\u001b[0;34m)\u001b[0m \u001b[0;32min\u001b[0m \u001b[0;34m{\u001b[0m\u001b[0mlist\u001b[0m\u001b[0;34m,\u001b[0m \u001b[0mtuple\u001b[0m\u001b[0;34m}\u001b[0m\u001b[0;34m\u001b[0m\u001b[0m\n\u001b[0;32m--> 717\u001b[0;31m         \u001b[0;32mreturn\u001b[0m \u001b[0mself\u001b[0m\u001b[0;34m.\u001b[0m\u001b[0mfunction\u001b[0m\u001b[0;34m(\u001b[0m\u001b[0;34m*\u001b[0m\u001b[0minputs\u001b[0m\u001b[0;34m)\u001b[0m\u001b[0;34m\u001b[0m\u001b[0m\n\u001b[0m\u001b[1;32m    718\u001b[0m \u001b[0;34m\u001b[0m\u001b[0m\n\u001b[1;32m    719\u001b[0m \u001b[0;34m\u001b[0m\u001b[0m\n",
      "\u001b[0;32m/home/ubuntu/anaconda2/lib/python2.7/site-packages/theano/compile/function_module.pyc\u001b[0m in \u001b[0;36m__call__\u001b[0;34m(self, *args, **kwargs)\u001b[0m\n\u001b[1;32m    857\u001b[0m         \u001b[0mt0_fn\u001b[0m \u001b[0;34m=\u001b[0m \u001b[0mtime\u001b[0m\u001b[0;34m.\u001b[0m\u001b[0mtime\u001b[0m\u001b[0;34m(\u001b[0m\u001b[0;34m)\u001b[0m\u001b[0;34m\u001b[0m\u001b[0m\n\u001b[1;32m    858\u001b[0m         \u001b[0;32mtry\u001b[0m\u001b[0;34m:\u001b[0m\u001b[0;34m\u001b[0m\u001b[0m\n\u001b[0;32m--> 859\u001b[0;31m             \u001b[0moutputs\u001b[0m \u001b[0;34m=\u001b[0m \u001b[0mself\u001b[0m\u001b[0;34m.\u001b[0m\u001b[0mfn\u001b[0m\u001b[0;34m(\u001b[0m\u001b[0;34m)\u001b[0m\u001b[0;34m\u001b[0m\u001b[0m\n\u001b[0m\u001b[1;32m    860\u001b[0m         \u001b[0;32mexcept\u001b[0m \u001b[0mException\u001b[0m\u001b[0;34m:\u001b[0m\u001b[0;34m\u001b[0m\u001b[0m\n\u001b[1;32m    861\u001b[0m             \u001b[0;32mif\u001b[0m \u001b[0mhasattr\u001b[0m\u001b[0;34m(\u001b[0m\u001b[0mself\u001b[0m\u001b[0;34m.\u001b[0m\u001b[0mfn\u001b[0m\u001b[0;34m,\u001b[0m \u001b[0;34m'position_of_error'\u001b[0m\u001b[0;34m)\u001b[0m\u001b[0;34m:\u001b[0m\u001b[0;34m\u001b[0m\u001b[0m\n",
      "\u001b[0;31mKeyboardInterrupt\u001b[0m: "
     ]
    }
   ],
   "source": [
    "model.fit_generator(tr_batches, \n",
    "                    tr_batches.nb_sample, \n",
    "                    validation_data=val_b, \n",
    "                    nb_val_samples=val_b.nb_sample, nb_epoch=25)"
   ]
  },
  {
   "cell_type": "code",
   "execution_count": 21,
   "metadata": {
    "collapsed": true
   },
   "outputs": [],
   "source": [
    "model.optimizer.lr = 0.0001"
   ]
  },
  {
   "cell_type": "code",
   "execution_count": 22,
   "metadata": {
    "collapsed": false
   },
   "outputs": [
    {
     "name": "stdout",
     "output_type": "stream",
     "text": [
      "Epoch 1/3\n",
      "3635/3635 [==============================] - 129s - loss: 5.9050 - acc: 0.0143 - val_loss: 5.9789 - val_acc: 0.0110\n",
      "Epoch 2/3\n",
      "3635/3635 [==============================] - 129s - loss: 5.8930 - acc: 0.0110 - val_loss: 5.9735 - val_acc: 0.0132\n",
      "Epoch 3/3\n",
      "3635/3635 [==============================] - 129s - loss: 5.8868 - acc: 0.0107 - val_loss: 5.9723 - val_acc: 0.0121\n"
     ]
    },
    {
     "data": {
      "text/plain": [
       "<keras.callbacks.History at 0x7fb410f00c90>"
      ]
     },
     "execution_count": 22,
     "metadata": {},
     "output_type": "execute_result"
    }
   ],
   "source": [
    "model.fit_generator(tr_batches, \n",
    "                    tr_batches.nb_sample, \n",
    "                    validation_data=val_b, \n",
    "                    nb_val_samples=val_b.nb_sample, nb_epoch=3)"
   ]
  },
  {
   "cell_type": "code",
   "execution_count": 23,
   "metadata": {
    "collapsed": false
   },
   "outputs": [
    {
     "name": "stdout",
     "output_type": "stream",
     "text": [
      "Epoch 1/1\n",
      "3635/3635 [==============================] - 129s - loss: 5.8808 - acc: 0.0129 - val_loss: 5.9651 - val_acc: 0.0143\n"
     ]
    },
    {
     "data": {
      "text/plain": [
       "<keras.callbacks.History at 0x7fb410f00b10>"
      ]
     },
     "execution_count": 23,
     "metadata": {},
     "output_type": "execute_result"
    }
   ],
   "source": [
    "model.fit_generator(tr_batches, \n",
    "                    tr_batches.nb_sample, \n",
    "                    validation_data=val_b, \n",
    "                    nb_val_samples=val_b.nb_sample, nb_epoch=1)"
   ]
  },
  {
   "cell_type": "code",
   "execution_count": 24,
   "metadata": {
    "collapsed": false
   },
   "outputs": [
    {
     "name": "stdout",
     "output_type": "stream",
     "text": [
      "Epoch 1/1\n",
      "3635/3635 [==============================] - 128s - loss: 5.8691 - acc: 0.0138 - val_loss: 5.9582 - val_acc: 0.0143\n"
     ]
    },
    {
     "data": {
      "text/plain": [
       "<keras.callbacks.History at 0x7fb410f00750>"
      ]
     },
     "execution_count": 24,
     "metadata": {},
     "output_type": "execute_result"
    }
   ],
   "source": [
    "model.fit_generator(tr_batches, \n",
    "                    tr_batches.nb_sample, \n",
    "                    validation_data=val_b, \n",
    "                    nb_val_samples=val_b.nb_sample, nb_epoch=1)"
   ]
  },
  {
   "cell_type": "code",
   "execution_count": 25,
   "metadata": {
    "collapsed": false
   },
   "outputs": [
    {
     "name": "stdout",
     "output_type": "stream",
     "text": [
      "Epoch 1/1\n",
      "3635/3635 [==============================] - 128s - loss: 5.8636 - acc: 0.0132 - val_loss: 5.9540 - val_acc: 0.0154\n"
     ]
    },
    {
     "data": {
      "text/plain": [
       "<keras.callbacks.History at 0x7fb410f00a10>"
      ]
     },
     "execution_count": 25,
     "metadata": {},
     "output_type": "execute_result"
    }
   ],
   "source": [
    "model.fit_generator(tr_batches, \n",
    "                    tr_batches.nb_sample, \n",
    "                    validation_data=val_b, \n",
    "                    nb_val_samples=val_b.nb_sample, nb_epoch=1)"
   ]
  },
  {
   "cell_type": "code",
   "execution_count": 26,
   "metadata": {
    "collapsed": false
   },
   "outputs": [
    {
     "name": "stdout",
     "output_type": "stream",
     "text": [
      "Epoch 1/1\n",
      "3635/3635 [==============================] - 128s - loss: 5.8592 - acc: 0.0118 - val_loss: 5.9559 - val_acc: 0.0121\n"
     ]
    },
    {
     "data": {
      "text/plain": [
       "<keras.callbacks.History at 0x7fb410f00d50>"
      ]
     },
     "execution_count": 26,
     "metadata": {},
     "output_type": "execute_result"
    }
   ],
   "source": [
    "model.fit_generator(tr_batches, \n",
    "                    tr_batches.nb_sample, \n",
    "                    validation_data=val_b, \n",
    "                    nb_val_samples=val_b.nb_sample, nb_epoch=1)"
   ]
  },
  {
   "cell_type": "code",
   "execution_count": 27,
   "metadata": {
    "collapsed": true
   },
   "outputs": [],
   "source": [
    "model.optimizer.lr = 0.00001"
   ]
  },
  {
   "cell_type": "code",
   "execution_count": 28,
   "metadata": {
    "collapsed": false
   },
   "outputs": [
    {
     "name": "stdout",
     "output_type": "stream",
     "text": [
      "Epoch 1/1\n",
      "3635/3635 [==============================] - 128s - loss: 5.8536 - acc: 0.0146 - val_loss: 5.9510 - val_acc: 0.0154\n"
     ]
    },
    {
     "data": {
      "text/plain": [
       "<keras.callbacks.History at 0x7fb410f00410>"
      ]
     },
     "execution_count": 28,
     "metadata": {},
     "output_type": "execute_result"
    }
   ],
   "source": [
    "model.fit_generator(tr_batches, \n",
    "                    tr_batches.nb_sample, \n",
    "                    validation_data=val_b, \n",
    "                    nb_val_samples=val_b.nb_sample, nb_epoch=1)"
   ]
  },
  {
   "cell_type": "code",
   "execution_count": 29,
   "metadata": {
    "collapsed": false
   },
   "outputs": [
    {
     "name": "stdout",
     "output_type": "stream",
     "text": [
      "Epoch 1/1\n",
      "3635/3635 [==============================] - 128s - loss: 5.8434 - acc: 0.0132 - val_loss: 5.9473 - val_acc: 0.0132\n"
     ]
    },
    {
     "data": {
      "text/plain": [
       "<keras.callbacks.History at 0x7fb410f003d0>"
      ]
     },
     "execution_count": 29,
     "metadata": {},
     "output_type": "execute_result"
    }
   ],
   "source": [
    "model.fit_generator(tr_batches, \n",
    "                    tr_batches.nb_sample, \n",
    "                    validation_data=val_b, \n",
    "                    nb_val_samples=val_b.nb_sample, nb_epoch=1)"
   ]
  },
  {
   "cell_type": "code",
   "execution_count": 30,
   "metadata": {
    "collapsed": false
   },
   "outputs": [
    {
     "name": "stdout",
     "output_type": "stream",
     "text": [
      "Epoch 1/1\n",
      "3635/3635 [==============================] - 127s - loss: 5.8462 - acc: 0.0105 - val_loss: 5.9424 - val_acc: 0.0132\n"
     ]
    },
    {
     "data": {
      "text/plain": [
       "<keras.callbacks.History at 0x7fb410f00690>"
      ]
     },
     "execution_count": 30,
     "metadata": {},
     "output_type": "execute_result"
    }
   ],
   "source": [
    "model.fit_generator(tr_batches, \n",
    "                    tr_batches.nb_sample, \n",
    "                    validation_data=val_b, \n",
    "                    nb_val_samples=val_b.nb_sample, nb_epoch=1)"
   ]
  },
  {
   "cell_type": "code",
   "execution_count": 31,
   "metadata": {
    "collapsed": false
   },
   "outputs": [
    {
     "name": "stdout",
     "output_type": "stream",
     "text": [
      "Epoch 1/1\n",
      "3635/3635 [==============================] - 128s - loss: 5.8323 - acc: 0.0132 - val_loss: 5.9440 - val_acc: 0.0132\n"
     ]
    },
    {
     "data": {
      "text/plain": [
       "<keras.callbacks.History at 0x7fb410f00fd0>"
      ]
     },
     "execution_count": 31,
     "metadata": {},
     "output_type": "execute_result"
    }
   ],
   "source": [
    "model.fit_generator(tr_batches, \n",
    "                    tr_batches.nb_sample, \n",
    "                    validation_data=val_b, \n",
    "                    nb_val_samples=val_b.nb_sample, nb_epoch=1)"
   ]
  },
  {
   "cell_type": "code",
   "execution_count": 32,
   "metadata": {
    "collapsed": true
   },
   "outputs": [],
   "source": [
    "model.optimizer.lr = 0.00001"
   ]
  },
  {
   "cell_type": "code",
   "execution_count": 33,
   "metadata": {
    "collapsed": false
   },
   "outputs": [
    {
     "name": "stdout",
     "output_type": "stream",
     "text": [
      "Epoch 1/1\n",
      "3635/3635 [==============================] - 128s - loss: 5.8343 - acc: 0.0113 - val_loss: 5.9386 - val_acc: 0.0143\n"
     ]
    },
    {
     "data": {
      "text/plain": [
       "<keras.callbacks.History at 0x7fb410f00390>"
      ]
     },
     "execution_count": 33,
     "metadata": {},
     "output_type": "execute_result"
    }
   ],
   "source": [
    "model.fit_generator(tr_batches, \n",
    "                    tr_batches.nb_sample, \n",
    "                    validation_data=val_b, \n",
    "                    nb_val_samples=val_b.nb_sample, nb_epoch=1)"
   ]
  },
  {
   "cell_type": "code",
   "execution_count": 34,
   "metadata": {
    "collapsed": false
   },
   "outputs": [
    {
     "name": "stdout",
     "output_type": "stream",
     "text": [
      "Epoch 1/1\n",
      "3635/3635 [==============================] - 128s - loss: 5.8301 - acc: 0.0127 - val_loss: 5.9401 - val_acc: 0.0143\n"
     ]
    },
    {
     "data": {
      "text/plain": [
       "<keras.callbacks.History at 0x7fb410f00e10>"
      ]
     },
     "execution_count": 34,
     "metadata": {},
     "output_type": "execute_result"
    }
   ],
   "source": [
    "model.fit_generator(tr_batches, \n",
    "                    tr_batches.nb_sample, \n",
    "                    validation_data=val_b, \n",
    "                    nb_val_samples=val_b.nb_sample, nb_epoch=1)"
   ]
  },
  {
   "cell_type": "code",
   "execution_count": 35,
   "metadata": {
    "collapsed": false
   },
   "outputs": [
    {
     "name": "stdout",
     "output_type": "stream",
     "text": [
      "Epoch 1/1\n",
      "3635/3635 [==============================] - 128s - loss: 5.8200 - acc: 0.0146 - val_loss: 5.9342 - val_acc: 0.0121\n"
     ]
    },
    {
     "data": {
      "text/plain": [
       "<keras.callbacks.History at 0x7fb410f009d0>"
      ]
     },
     "execution_count": 35,
     "metadata": {},
     "output_type": "execute_result"
    }
   ],
   "source": [
    "model.fit_generator(tr_batches, \n",
    "                    tr_batches.nb_sample, \n",
    "                    validation_data=val_b, \n",
    "                    nb_val_samples=val_b.nb_sample, nb_epoch=1)"
   ]
  },
  {
   "cell_type": "code",
   "execution_count": 36,
   "metadata": {
    "collapsed": true
   },
   "outputs": [],
   "source": [
    "model.save_weights('vggbn_aug_train_conv_5.9342')"
   ]
  },
  {
   "cell_type": "code",
   "execution_count": 37,
   "metadata": {
    "collapsed": false
   },
   "outputs": [
    {
     "name": "stdout",
     "output_type": "stream",
     "text": [
      "Epoch 1/1\n",
      "3635/3635 [==============================] - 128s - loss: 5.8165 - acc: 0.0146 - val_loss: 5.9347 - val_acc: 0.0121\n"
     ]
    },
    {
     "data": {
      "text/plain": [
       "<keras.callbacks.History at 0x7fb410f2b650>"
      ]
     },
     "execution_count": 37,
     "metadata": {},
     "output_type": "execute_result"
    }
   ],
   "source": [
    "model.fit_generator(tr_batches, \n",
    "                    tr_batches.nb_sample, \n",
    "                    validation_data=val_b, \n",
    "                    nb_val_samples=val_b.nb_sample, nb_epoch=1)"
   ]
  },
  {
   "cell_type": "code",
   "execution_count": 38,
   "metadata": {
    "collapsed": false
   },
   "outputs": [
    {
     "name": "stdout",
     "output_type": "stream",
     "text": [
      "Epoch 1/1\n",
      "3635/3635 [==============================] - 128s - loss: 5.8199 - acc: 0.0116 - val_loss: 5.9324 - val_acc: 0.0121\n"
     ]
    },
    {
     "data": {
      "text/plain": [
       "<keras.callbacks.History at 0x7fb410f2f4d0>"
      ]
     },
     "execution_count": 38,
     "metadata": {},
     "output_type": "execute_result"
    }
   ],
   "source": [
    "model.fit_generator(tr_batches, \n",
    "                    tr_batches.nb_sample, \n",
    "                    validation_data=val_b, \n",
    "                    nb_val_samples=val_b.nb_sample, nb_epoch=1)"
   ]
  },
  {
   "cell_type": "code",
   "execution_count": 39,
   "metadata": {
    "collapsed": true
   },
   "outputs": [],
   "source": [
    "model.save_weights('vggbn_aug_train_conv_5.9324')"
   ]
  },
  {
   "cell_type": "code",
   "execution_count": 40,
   "metadata": {
    "collapsed": false
   },
   "outputs": [
    {
     "name": "stdout",
     "output_type": "stream",
     "text": [
      "Epoch 1/3\n",
      "3635/3635 [==============================] - 129s - loss: 5.8092 - acc: 0.0138 - val_loss: 5.9362 - val_acc: 0.0121\n",
      "Epoch 2/3\n",
      "3635/3635 [==============================] - 129s - loss: 5.8055 - acc: 0.0121 - val_loss: 5.9416 - val_acc: 0.0143\n",
      "Epoch 3/3\n",
      "3635/3635 [==============================] - 129s - loss: 5.8044 - acc: 0.0121 - val_loss: 5.9391 - val_acc: 0.0132\n"
     ]
    },
    {
     "data": {
      "text/plain": [
       "<keras.callbacks.History at 0x7fb410f33d10>"
      ]
     },
     "execution_count": 40,
     "metadata": {},
     "output_type": "execute_result"
    }
   ],
   "source": [
    "model.fit_generator(tr_batches, \n",
    "                    tr_batches.nb_sample, \n",
    "                    validation_data=val_b, \n",
    "                    nb_val_samples=val_b.nb_sample, nb_epoch=3)"
   ]
  },
  {
   "cell_type": "code",
   "execution_count": 41,
   "metadata": {
    "collapsed": true
   },
   "outputs": [],
   "source": [
    "model.load_weights('vggbn_aug_train_conv_5.9324')"
   ]
  },
  {
   "cell_type": "code",
   "execution_count": 42,
   "metadata": {
    "collapsed": true
   },
   "outputs": [],
   "source": [
    "model.optimizer.lr = 0.000001"
   ]
  },
  {
   "cell_type": "code",
   "execution_count": 43,
   "metadata": {
    "collapsed": false
   },
   "outputs": [
    {
     "name": "stdout",
     "output_type": "stream",
     "text": [
      "Epoch 1/3\n",
      "3635/3635 [==============================] - 127s - loss: 5.8115 - acc: 0.0124 - val_loss: 5.9335 - val_acc: 0.0110\n",
      "Epoch 2/3\n",
      "3635/3635 [==============================] - 128s - loss: 5.8096 - acc: 0.0127 - val_loss: 5.9321 - val_acc: 0.0121\n",
      "Epoch 3/3\n",
      "3635/3635 [==============================] - 129s - loss: 5.8000 - acc: 0.0135 - val_loss: 5.9321 - val_acc: 0.0132\n"
     ]
    },
    {
     "data": {
      "text/plain": [
       "<keras.callbacks.History at 0x7fb410f2bd10>"
      ]
     },
     "execution_count": 43,
     "metadata": {},
     "output_type": "execute_result"
    }
   ],
   "source": [
    "model.fit_generator(tr_batches, \n",
    "                    tr_batches.nb_sample, \n",
    "                    validation_data=val_b, \n",
    "                    nb_val_samples=val_b.nb_sample, nb_epoch=3)"
   ]
  },
  {
   "cell_type": "code",
   "execution_count": null,
   "metadata": {
    "collapsed": true
   },
   "outputs": [],
   "source": []
  },
  {
   "cell_type": "code",
   "execution_count": null,
   "metadata": {
    "collapsed": true
   },
   "outputs": [],
   "source": []
  },
  {
   "cell_type": "code",
   "execution_count": null,
   "metadata": {
    "collapsed": true
   },
   "outputs": [],
   "source": []
  },
  {
   "cell_type": "code",
   "execution_count": null,
   "metadata": {
    "collapsed": true
   },
   "outputs": [],
   "source": []
  },
  {
   "cell_type": "code",
   "execution_count": null,
   "metadata": {
    "collapsed": true
   },
   "outputs": [],
   "source": []
  },
  {
   "cell_type": "code",
   "execution_count": null,
   "metadata": {
    "collapsed": true
   },
   "outputs": [],
   "source": []
  },
  {
   "cell_type": "code",
   "execution_count": 16,
   "metadata": {
    "collapsed": true
   },
   "outputs": [],
   "source": [
    "model.save_weights('vgg_bn_aug__5.9465.h5')"
   ]
  },
  {
   "cell_type": "code",
   "execution_count": 17,
   "metadata": {
    "collapsed": false
   },
   "outputs": [
    {
     "name": "stdout",
     "output_type": "stream",
     "text": [
      "Epoch 1/3\n",
      "3635/3635 [==============================] - 123s - loss: 5.8449 - acc: 0.0127 - val_loss: 5.9521 - val_acc: 0.0121\n",
      "Epoch 2/3\n",
      " 256/3635 [=>............................] - ETA: 92s - loss: 5.8858 - acc: 0.0078"
     ]
    },
    {
     "ename": "KeyboardInterrupt",
     "evalue": "",
     "output_type": "error",
     "traceback": [
      "\u001b[0;31m---------------------------------------------------------------------------\u001b[0m",
      "\u001b[0;31mKeyboardInterrupt\u001b[0m                         Traceback (most recent call last)",
      "\u001b[0;32m<ipython-input-17-ac3d92e01718>\u001b[0m in \u001b[0;36m<module>\u001b[0;34m()\u001b[0m\n\u001b[1;32m      2\u001b[0m                     \u001b[0mtr_batches\u001b[0m\u001b[0;34m.\u001b[0m\u001b[0mnb_sample\u001b[0m\u001b[0;34m,\u001b[0m\u001b[0;34m\u001b[0m\u001b[0m\n\u001b[1;32m      3\u001b[0m                     \u001b[0mvalidation_data\u001b[0m\u001b[0;34m=\u001b[0m\u001b[0mval_b\u001b[0m\u001b[0;34m,\u001b[0m\u001b[0;34m\u001b[0m\u001b[0m\n\u001b[0;32m----> 4\u001b[0;31m                     nb_val_samples=val_b.nb_sample, nb_epoch=3)\n\u001b[0m",
      "\u001b[0;32m/home/ubuntu/anaconda2/lib/python2.7/site-packages/keras/models.pyc\u001b[0m in \u001b[0;36mfit_generator\u001b[0;34m(self, generator, samples_per_epoch, nb_epoch, verbose, callbacks, validation_data, nb_val_samples, class_weight, max_q_size, nb_worker, pickle_safe, **kwargs)\u001b[0m\n\u001b[1;32m    872\u001b[0m                                         \u001b[0mmax_q_size\u001b[0m\u001b[0;34m=\u001b[0m\u001b[0mmax_q_size\u001b[0m\u001b[0;34m,\u001b[0m\u001b[0;34m\u001b[0m\u001b[0m\n\u001b[1;32m    873\u001b[0m                                         \u001b[0mnb_worker\u001b[0m\u001b[0;34m=\u001b[0m\u001b[0mnb_worker\u001b[0m\u001b[0;34m,\u001b[0m\u001b[0;34m\u001b[0m\u001b[0m\n\u001b[0;32m--> 874\u001b[0;31m                                         pickle_safe=pickle_safe)\n\u001b[0m\u001b[1;32m    875\u001b[0m \u001b[0;34m\u001b[0m\u001b[0m\n\u001b[1;32m    876\u001b[0m     \u001b[0;32mdef\u001b[0m \u001b[0mevaluate_generator\u001b[0m\u001b[0;34m(\u001b[0m\u001b[0mself\u001b[0m\u001b[0;34m,\u001b[0m \u001b[0mgenerator\u001b[0m\u001b[0;34m,\u001b[0m \u001b[0mval_samples\u001b[0m\u001b[0;34m,\u001b[0m \u001b[0mmax_q_size\u001b[0m\u001b[0;34m=\u001b[0m\u001b[0;36m10\u001b[0m\u001b[0;34m,\u001b[0m \u001b[0mnb_worker\u001b[0m\u001b[0;34m=\u001b[0m\u001b[0;36m1\u001b[0m\u001b[0;34m,\u001b[0m \u001b[0mpickle_safe\u001b[0m\u001b[0;34m=\u001b[0m\u001b[0mFalse\u001b[0m\u001b[0;34m,\u001b[0m \u001b[0;34m**\u001b[0m\u001b[0mkwargs\u001b[0m\u001b[0;34m)\u001b[0m\u001b[0;34m:\u001b[0m\u001b[0;34m\u001b[0m\u001b[0m\n",
      "\u001b[0;32m/home/ubuntu/anaconda2/lib/python2.7/site-packages/keras/engine/training.pyc\u001b[0m in \u001b[0;36mfit_generator\u001b[0;34m(self, generator, samples_per_epoch, nb_epoch, verbose, callbacks, validation_data, nb_val_samples, class_weight, max_q_size, nb_worker, pickle_safe)\u001b[0m\n\u001b[1;32m   1441\u001b[0m                     outs = self.train_on_batch(x, y,\n\u001b[1;32m   1442\u001b[0m                                                \u001b[0msample_weight\u001b[0m\u001b[0;34m=\u001b[0m\u001b[0msample_weight\u001b[0m\u001b[0;34m,\u001b[0m\u001b[0;34m\u001b[0m\u001b[0m\n\u001b[0;32m-> 1443\u001b[0;31m                                                class_weight=class_weight)\n\u001b[0m\u001b[1;32m   1444\u001b[0m                 \u001b[0;32mexcept\u001b[0m\u001b[0;34m:\u001b[0m\u001b[0;34m\u001b[0m\u001b[0m\n\u001b[1;32m   1445\u001b[0m                     \u001b[0m_stop\u001b[0m\u001b[0;34m.\u001b[0m\u001b[0mset\u001b[0m\u001b[0;34m(\u001b[0m\u001b[0;34m)\u001b[0m\u001b[0;34m\u001b[0m\u001b[0m\n",
      "\u001b[0;32m/home/ubuntu/anaconda2/lib/python2.7/site-packages/keras/engine/training.pyc\u001b[0m in \u001b[0;36mtrain_on_batch\u001b[0;34m(self, x, y, sample_weight, class_weight)\u001b[0m\n\u001b[1;32m   1219\u001b[0m             \u001b[0mins\u001b[0m \u001b[0;34m=\u001b[0m \u001b[0mx\u001b[0m \u001b[0;34m+\u001b[0m \u001b[0my\u001b[0m \u001b[0;34m+\u001b[0m \u001b[0msample_weights\u001b[0m\u001b[0;34m\u001b[0m\u001b[0m\n\u001b[1;32m   1220\u001b[0m         \u001b[0mself\u001b[0m\u001b[0;34m.\u001b[0m\u001b[0m_make_train_function\u001b[0m\u001b[0;34m(\u001b[0m\u001b[0;34m)\u001b[0m\u001b[0;34m\u001b[0m\u001b[0m\n\u001b[0;32m-> 1221\u001b[0;31m         \u001b[0moutputs\u001b[0m \u001b[0;34m=\u001b[0m \u001b[0mself\u001b[0m\u001b[0;34m.\u001b[0m\u001b[0mtrain_function\u001b[0m\u001b[0;34m(\u001b[0m\u001b[0mins\u001b[0m\u001b[0;34m)\u001b[0m\u001b[0;34m\u001b[0m\u001b[0m\n\u001b[0m\u001b[1;32m   1222\u001b[0m         \u001b[0;32mif\u001b[0m \u001b[0mlen\u001b[0m\u001b[0;34m(\u001b[0m\u001b[0moutputs\u001b[0m\u001b[0;34m)\u001b[0m \u001b[0;34m==\u001b[0m \u001b[0;36m1\u001b[0m\u001b[0;34m:\u001b[0m\u001b[0;34m\u001b[0m\u001b[0m\n\u001b[1;32m   1223\u001b[0m             \u001b[0;32mreturn\u001b[0m \u001b[0moutputs\u001b[0m\u001b[0;34m[\u001b[0m\u001b[0;36m0\u001b[0m\u001b[0;34m]\u001b[0m\u001b[0;34m\u001b[0m\u001b[0m\n",
      "\u001b[0;32m/home/ubuntu/anaconda2/lib/python2.7/site-packages/keras/backend/theano_backend.pyc\u001b[0m in \u001b[0;36m__call__\u001b[0;34m(self, inputs)\u001b[0m\n\u001b[1;32m    715\u001b[0m     \u001b[0;32mdef\u001b[0m \u001b[0m__call__\u001b[0m\u001b[0;34m(\u001b[0m\u001b[0mself\u001b[0m\u001b[0;34m,\u001b[0m \u001b[0minputs\u001b[0m\u001b[0;34m)\u001b[0m\u001b[0;34m:\u001b[0m\u001b[0;34m\u001b[0m\u001b[0m\n\u001b[1;32m    716\u001b[0m         \u001b[0;32massert\u001b[0m \u001b[0mtype\u001b[0m\u001b[0;34m(\u001b[0m\u001b[0minputs\u001b[0m\u001b[0;34m)\u001b[0m \u001b[0;32min\u001b[0m \u001b[0;34m{\u001b[0m\u001b[0mlist\u001b[0m\u001b[0;34m,\u001b[0m \u001b[0mtuple\u001b[0m\u001b[0;34m}\u001b[0m\u001b[0;34m\u001b[0m\u001b[0m\n\u001b[0;32m--> 717\u001b[0;31m         \u001b[0;32mreturn\u001b[0m \u001b[0mself\u001b[0m\u001b[0;34m.\u001b[0m\u001b[0mfunction\u001b[0m\u001b[0;34m(\u001b[0m\u001b[0;34m*\u001b[0m\u001b[0minputs\u001b[0m\u001b[0;34m)\u001b[0m\u001b[0;34m\u001b[0m\u001b[0m\n\u001b[0m\u001b[1;32m    718\u001b[0m \u001b[0;34m\u001b[0m\u001b[0m\n\u001b[1;32m    719\u001b[0m \u001b[0;34m\u001b[0m\u001b[0m\n",
      "\u001b[0;32m/home/ubuntu/anaconda2/lib/python2.7/site-packages/theano/compile/function_module.pyc\u001b[0m in \u001b[0;36m__call__\u001b[0;34m(self, *args, **kwargs)\u001b[0m\n\u001b[1;32m    857\u001b[0m         \u001b[0mt0_fn\u001b[0m \u001b[0;34m=\u001b[0m \u001b[0mtime\u001b[0m\u001b[0;34m.\u001b[0m\u001b[0mtime\u001b[0m\u001b[0;34m(\u001b[0m\u001b[0;34m)\u001b[0m\u001b[0;34m\u001b[0m\u001b[0m\n\u001b[1;32m    858\u001b[0m         \u001b[0;32mtry\u001b[0m\u001b[0;34m:\u001b[0m\u001b[0;34m\u001b[0m\u001b[0m\n\u001b[0;32m--> 859\u001b[0;31m             \u001b[0moutputs\u001b[0m \u001b[0;34m=\u001b[0m \u001b[0mself\u001b[0m\u001b[0;34m.\u001b[0m\u001b[0mfn\u001b[0m\u001b[0;34m(\u001b[0m\u001b[0;34m)\u001b[0m\u001b[0;34m\u001b[0m\u001b[0m\n\u001b[0m\u001b[1;32m    860\u001b[0m         \u001b[0;32mexcept\u001b[0m \u001b[0mException\u001b[0m\u001b[0;34m:\u001b[0m\u001b[0;34m\u001b[0m\u001b[0m\n\u001b[1;32m    861\u001b[0m             \u001b[0;32mif\u001b[0m \u001b[0mhasattr\u001b[0m\u001b[0;34m(\u001b[0m\u001b[0mself\u001b[0m\u001b[0;34m.\u001b[0m\u001b[0mfn\u001b[0m\u001b[0;34m,\u001b[0m \u001b[0;34m'position_of_error'\u001b[0m\u001b[0;34m)\u001b[0m\u001b[0;34m:\u001b[0m\u001b[0;34m\u001b[0m\u001b[0m\n",
      "\u001b[0;31mKeyboardInterrupt\u001b[0m: "
     ]
    }
   ],
   "source": [
    "model.fit_generator(tr_batches, \n",
    "                    tr_batches.nb_sample, \n",
    "                    validation_data=val_b, \n",
    "                    nb_val_samples=val_b.nb_sample, nb_epoch=3)"
   ]
  },
  {
   "cell_type": "code",
   "execution_count": 18,
   "metadata": {
    "collapsed": true
   },
   "outputs": [],
   "source": [
    "model.load_weights('vgg_bn_aug__5.9465.h5')"
   ]
  },
  {
   "cell_type": "code",
   "execution_count": 19,
   "metadata": {
    "collapsed": true
   },
   "outputs": [],
   "source": [
    "model.optimizer.lr = 0.00001"
   ]
  },
  {
   "cell_type": "code",
   "execution_count": 20,
   "metadata": {
    "collapsed": false
   },
   "outputs": [
    {
     "name": "stdout",
     "output_type": "stream",
     "text": [
      "Epoch 1/1\n",
      "3635/3635 [==============================] - 123s - loss: 5.8402 - acc: 0.0121 - val_loss: 5.9419 - val_acc: 0.0143\n"
     ]
    },
    {
     "data": {
      "text/plain": [
       "<keras.callbacks.History at 0x7f274632af50>"
      ]
     },
     "execution_count": 20,
     "metadata": {},
     "output_type": "execute_result"
    }
   ],
   "source": [
    "model.fit_generator(tr_batches, \n",
    "                    tr_batches.nb_sample, \n",
    "                    validation_data=val_b, \n",
    "                    nb_val_samples=val_b.nb_sample, nb_epoch=1)"
   ]
  },
  {
   "cell_type": "code",
   "execution_count": 21,
   "metadata": {
    "collapsed": true
   },
   "outputs": [],
   "source": [
    "model.save_weights('vgg_bn_aug__5.9419.h5')"
   ]
  },
  {
   "cell_type": "code",
   "execution_count": 22,
   "metadata": {
    "collapsed": false
   },
   "outputs": [
    {
     "name": "stdout",
     "output_type": "stream",
     "text": [
      "Epoch 1/1\n",
      "3635/3635 [==============================] - 124s - loss: 5.8335 - acc: 0.0132 - val_loss: 5.9386 - val_acc: 0.0154\n"
     ]
    },
    {
     "data": {
      "text/plain": [
       "<keras.callbacks.History at 0x7f27458bcbd0>"
      ]
     },
     "execution_count": 22,
     "metadata": {},
     "output_type": "execute_result"
    }
   ],
   "source": [
    "model.fit_generator(tr_batches, \n",
    "                    tr_batches.nb_sample, \n",
    "                    validation_data=val_b, \n",
    "                    nb_val_samples=val_b.nb_sample, nb_epoch=1)"
   ]
  },
  {
   "cell_type": "code",
   "execution_count": 23,
   "metadata": {
    "collapsed": true
   },
   "outputs": [],
   "source": [
    "model.save_weights('vgg_bn_aug__5.9386.h5')"
   ]
  },
  {
   "cell_type": "code",
   "execution_count": 24,
   "metadata": {
    "collapsed": false
   },
   "outputs": [
    {
     "name": "stdout",
     "output_type": "stream",
     "text": [
      "Epoch 1/1\n",
      "3635/3635 [==============================] - 124s - loss: 5.8327 - acc: 0.0138 - val_loss: 5.9357 - val_acc: 0.0154\n"
     ]
    },
    {
     "data": {
      "text/plain": [
       "<keras.callbacks.History at 0x7f2744e50290>"
      ]
     },
     "execution_count": 24,
     "metadata": {},
     "output_type": "execute_result"
    }
   ],
   "source": [
    "model.fit_generator(tr_batches, \n",
    "                    tr_batches.nb_sample, \n",
    "                    validation_data=val_b, \n",
    "                    nb_val_samples=val_b.nb_sample, nb_epoch=1)"
   ]
  },
  {
   "cell_type": "code",
   "execution_count": 25,
   "metadata": {
    "collapsed": true
   },
   "outputs": [],
   "source": [
    "model.save_weights('vgg_bn_aug__5.9357.h5')"
   ]
  },
  {
   "cell_type": "code",
   "execution_count": 26,
   "metadata": {
    "collapsed": false
   },
   "outputs": [
    {
     "name": "stdout",
     "output_type": "stream",
     "text": [
      "Epoch 1/2\n",
      "3635/3635 [==============================] - 124s - loss: 5.8276 - acc: 0.0113 - val_loss: 5.9379 - val_acc: 0.0132\n",
      "Epoch 2/2\n",
      " 128/3635 [>.............................] - ETA: 97s - loss: 5.8626 - acc: 0.0156"
     ]
    },
    {
     "ename": "KeyboardInterrupt",
     "evalue": "",
     "output_type": "error",
     "traceback": [
      "\u001b[0;31m---------------------------------------------------------------------------\u001b[0m",
      "\u001b[0;31mKeyboardInterrupt\u001b[0m                         Traceback (most recent call last)",
      "\u001b[0;32m<ipython-input-26-da6ff5231bbe>\u001b[0m in \u001b[0;36m<module>\u001b[0;34m()\u001b[0m\n\u001b[1;32m      2\u001b[0m                     \u001b[0mtr_batches\u001b[0m\u001b[0;34m.\u001b[0m\u001b[0mnb_sample\u001b[0m\u001b[0;34m,\u001b[0m\u001b[0;34m\u001b[0m\u001b[0m\n\u001b[1;32m      3\u001b[0m                     \u001b[0mvalidation_data\u001b[0m\u001b[0;34m=\u001b[0m\u001b[0mval_b\u001b[0m\u001b[0;34m,\u001b[0m\u001b[0;34m\u001b[0m\u001b[0m\n\u001b[0;32m----> 4\u001b[0;31m                     nb_val_samples=val_b.nb_sample, nb_epoch=2)\n\u001b[0m",
      "\u001b[0;32m/home/ubuntu/anaconda2/lib/python2.7/site-packages/keras/models.pyc\u001b[0m in \u001b[0;36mfit_generator\u001b[0;34m(self, generator, samples_per_epoch, nb_epoch, verbose, callbacks, validation_data, nb_val_samples, class_weight, max_q_size, nb_worker, pickle_safe, **kwargs)\u001b[0m\n\u001b[1;32m    872\u001b[0m                                         \u001b[0mmax_q_size\u001b[0m\u001b[0;34m=\u001b[0m\u001b[0mmax_q_size\u001b[0m\u001b[0;34m,\u001b[0m\u001b[0;34m\u001b[0m\u001b[0m\n\u001b[1;32m    873\u001b[0m                                         \u001b[0mnb_worker\u001b[0m\u001b[0;34m=\u001b[0m\u001b[0mnb_worker\u001b[0m\u001b[0;34m,\u001b[0m\u001b[0;34m\u001b[0m\u001b[0m\n\u001b[0;32m--> 874\u001b[0;31m                                         pickle_safe=pickle_safe)\n\u001b[0m\u001b[1;32m    875\u001b[0m \u001b[0;34m\u001b[0m\u001b[0m\n\u001b[1;32m    876\u001b[0m     \u001b[0;32mdef\u001b[0m \u001b[0mevaluate_generator\u001b[0m\u001b[0;34m(\u001b[0m\u001b[0mself\u001b[0m\u001b[0;34m,\u001b[0m \u001b[0mgenerator\u001b[0m\u001b[0;34m,\u001b[0m \u001b[0mval_samples\u001b[0m\u001b[0;34m,\u001b[0m \u001b[0mmax_q_size\u001b[0m\u001b[0;34m=\u001b[0m\u001b[0;36m10\u001b[0m\u001b[0;34m,\u001b[0m \u001b[0mnb_worker\u001b[0m\u001b[0;34m=\u001b[0m\u001b[0;36m1\u001b[0m\u001b[0;34m,\u001b[0m \u001b[0mpickle_safe\u001b[0m\u001b[0;34m=\u001b[0m\u001b[0mFalse\u001b[0m\u001b[0;34m,\u001b[0m \u001b[0;34m**\u001b[0m\u001b[0mkwargs\u001b[0m\u001b[0;34m)\u001b[0m\u001b[0;34m:\u001b[0m\u001b[0;34m\u001b[0m\u001b[0m\n",
      "\u001b[0;32m/home/ubuntu/anaconda2/lib/python2.7/site-packages/keras/engine/training.pyc\u001b[0m in \u001b[0;36mfit_generator\u001b[0;34m(self, generator, samples_per_epoch, nb_epoch, verbose, callbacks, validation_data, nb_val_samples, class_weight, max_q_size, nb_worker, pickle_safe)\u001b[0m\n\u001b[1;32m   1441\u001b[0m                     outs = self.train_on_batch(x, y,\n\u001b[1;32m   1442\u001b[0m                                                \u001b[0msample_weight\u001b[0m\u001b[0;34m=\u001b[0m\u001b[0msample_weight\u001b[0m\u001b[0;34m,\u001b[0m\u001b[0;34m\u001b[0m\u001b[0m\n\u001b[0;32m-> 1443\u001b[0;31m                                                class_weight=class_weight)\n\u001b[0m\u001b[1;32m   1444\u001b[0m                 \u001b[0;32mexcept\u001b[0m\u001b[0;34m:\u001b[0m\u001b[0;34m\u001b[0m\u001b[0m\n\u001b[1;32m   1445\u001b[0m                     \u001b[0m_stop\u001b[0m\u001b[0;34m.\u001b[0m\u001b[0mset\u001b[0m\u001b[0;34m(\u001b[0m\u001b[0;34m)\u001b[0m\u001b[0;34m\u001b[0m\u001b[0m\n",
      "\u001b[0;32m/home/ubuntu/anaconda2/lib/python2.7/site-packages/keras/engine/training.pyc\u001b[0m in \u001b[0;36mtrain_on_batch\u001b[0;34m(self, x, y, sample_weight, class_weight)\u001b[0m\n\u001b[1;32m   1219\u001b[0m             \u001b[0mins\u001b[0m \u001b[0;34m=\u001b[0m \u001b[0mx\u001b[0m \u001b[0;34m+\u001b[0m \u001b[0my\u001b[0m \u001b[0;34m+\u001b[0m \u001b[0msample_weights\u001b[0m\u001b[0;34m\u001b[0m\u001b[0m\n\u001b[1;32m   1220\u001b[0m         \u001b[0mself\u001b[0m\u001b[0;34m.\u001b[0m\u001b[0m_make_train_function\u001b[0m\u001b[0;34m(\u001b[0m\u001b[0;34m)\u001b[0m\u001b[0;34m\u001b[0m\u001b[0m\n\u001b[0;32m-> 1221\u001b[0;31m         \u001b[0moutputs\u001b[0m \u001b[0;34m=\u001b[0m \u001b[0mself\u001b[0m\u001b[0;34m.\u001b[0m\u001b[0mtrain_function\u001b[0m\u001b[0;34m(\u001b[0m\u001b[0mins\u001b[0m\u001b[0;34m)\u001b[0m\u001b[0;34m\u001b[0m\u001b[0m\n\u001b[0m\u001b[1;32m   1222\u001b[0m         \u001b[0;32mif\u001b[0m \u001b[0mlen\u001b[0m\u001b[0;34m(\u001b[0m\u001b[0moutputs\u001b[0m\u001b[0;34m)\u001b[0m \u001b[0;34m==\u001b[0m \u001b[0;36m1\u001b[0m\u001b[0;34m:\u001b[0m\u001b[0;34m\u001b[0m\u001b[0m\n\u001b[1;32m   1223\u001b[0m             \u001b[0;32mreturn\u001b[0m \u001b[0moutputs\u001b[0m\u001b[0;34m[\u001b[0m\u001b[0;36m0\u001b[0m\u001b[0;34m]\u001b[0m\u001b[0;34m\u001b[0m\u001b[0m\n",
      "\u001b[0;32m/home/ubuntu/anaconda2/lib/python2.7/site-packages/keras/backend/theano_backend.pyc\u001b[0m in \u001b[0;36m__call__\u001b[0;34m(self, inputs)\u001b[0m\n\u001b[1;32m    715\u001b[0m     \u001b[0;32mdef\u001b[0m \u001b[0m__call__\u001b[0m\u001b[0;34m(\u001b[0m\u001b[0mself\u001b[0m\u001b[0;34m,\u001b[0m \u001b[0minputs\u001b[0m\u001b[0;34m)\u001b[0m\u001b[0;34m:\u001b[0m\u001b[0;34m\u001b[0m\u001b[0m\n\u001b[1;32m    716\u001b[0m         \u001b[0;32massert\u001b[0m \u001b[0mtype\u001b[0m\u001b[0;34m(\u001b[0m\u001b[0minputs\u001b[0m\u001b[0;34m)\u001b[0m \u001b[0;32min\u001b[0m \u001b[0;34m{\u001b[0m\u001b[0mlist\u001b[0m\u001b[0;34m,\u001b[0m \u001b[0mtuple\u001b[0m\u001b[0;34m}\u001b[0m\u001b[0;34m\u001b[0m\u001b[0m\n\u001b[0;32m--> 717\u001b[0;31m         \u001b[0;32mreturn\u001b[0m \u001b[0mself\u001b[0m\u001b[0;34m.\u001b[0m\u001b[0mfunction\u001b[0m\u001b[0;34m(\u001b[0m\u001b[0;34m*\u001b[0m\u001b[0minputs\u001b[0m\u001b[0;34m)\u001b[0m\u001b[0;34m\u001b[0m\u001b[0m\n\u001b[0m\u001b[1;32m    718\u001b[0m \u001b[0;34m\u001b[0m\u001b[0m\n\u001b[1;32m    719\u001b[0m \u001b[0;34m\u001b[0m\u001b[0m\n",
      "\u001b[0;32m/home/ubuntu/anaconda2/lib/python2.7/site-packages/theano/compile/function_module.pyc\u001b[0m in \u001b[0;36m__call__\u001b[0;34m(self, *args, **kwargs)\u001b[0m\n\u001b[1;32m    857\u001b[0m         \u001b[0mt0_fn\u001b[0m \u001b[0;34m=\u001b[0m \u001b[0mtime\u001b[0m\u001b[0;34m.\u001b[0m\u001b[0mtime\u001b[0m\u001b[0;34m(\u001b[0m\u001b[0;34m)\u001b[0m\u001b[0;34m\u001b[0m\u001b[0m\n\u001b[1;32m    858\u001b[0m         \u001b[0;32mtry\u001b[0m\u001b[0;34m:\u001b[0m\u001b[0;34m\u001b[0m\u001b[0m\n\u001b[0;32m--> 859\u001b[0;31m             \u001b[0moutputs\u001b[0m \u001b[0;34m=\u001b[0m \u001b[0mself\u001b[0m\u001b[0;34m.\u001b[0m\u001b[0mfn\u001b[0m\u001b[0;34m(\u001b[0m\u001b[0;34m)\u001b[0m\u001b[0;34m\u001b[0m\u001b[0m\n\u001b[0m\u001b[1;32m    860\u001b[0m         \u001b[0;32mexcept\u001b[0m \u001b[0mException\u001b[0m\u001b[0;34m:\u001b[0m\u001b[0;34m\u001b[0m\u001b[0m\n\u001b[1;32m    861\u001b[0m             \u001b[0;32mif\u001b[0m \u001b[0mhasattr\u001b[0m\u001b[0;34m(\u001b[0m\u001b[0mself\u001b[0m\u001b[0;34m.\u001b[0m\u001b[0mfn\u001b[0m\u001b[0;34m,\u001b[0m \u001b[0;34m'position_of_error'\u001b[0m\u001b[0;34m)\u001b[0m\u001b[0;34m:\u001b[0m\u001b[0;34m\u001b[0m\u001b[0m\n",
      "\u001b[0;31mKeyboardInterrupt\u001b[0m: "
     ]
    }
   ],
   "source": [
    "model.fit_generator(tr_batches, \n",
    "                    tr_batches.nb_sample, \n",
    "                    validation_data=val_b, \n",
    "                    nb_val_samples=val_b.nb_sample, nb_epoch=2)"
   ]
  },
  {
   "cell_type": "code",
   "execution_count": 27,
   "metadata": {
    "collapsed": true
   },
   "outputs": [],
   "source": [
    "model.load_weights('vgg_bn_aug__5.9357.h5')"
   ]
  },
  {
   "cell_type": "code",
   "execution_count": 28,
   "metadata": {
    "collapsed": true
   },
   "outputs": [],
   "source": [
    "model.optimizer.lr = 0.000001"
   ]
  },
  {
   "cell_type": "code",
   "execution_count": 29,
   "metadata": {
    "collapsed": false
   },
   "outputs": [
    {
     "name": "stdout",
     "output_type": "stream",
     "text": [
      "Epoch 1/1\n",
      "3635/3635 [==============================] - 123s - loss: 5.8234 - acc: 0.0143 - val_loss: 5.9350 - val_acc: 0.0143\n"
     ]
    },
    {
     "data": {
      "text/plain": [
       "<keras.callbacks.History at 0x7f2744e50750>"
      ]
     },
     "execution_count": 29,
     "metadata": {},
     "output_type": "execute_result"
    }
   ],
   "source": [
    "model.fit_generator(tr_batches, \n",
    "                    tr_batches.nb_sample, \n",
    "                    validation_data=val_b, \n",
    "                    nb_val_samples=val_b.nb_sample, nb_epoch=1)"
   ]
  },
  {
   "cell_type": "code",
   "execution_count": 30,
   "metadata": {
    "collapsed": true
   },
   "outputs": [],
   "source": [
    "model.save_weights('vgg_bn_aug__5.9350.h5')"
   ]
  },
  {
   "cell_type": "code",
   "execution_count": 31,
   "metadata": {
    "collapsed": false
   },
   "outputs": [
    {
     "name": "stdout",
     "output_type": "stream",
     "text": [
      "Epoch 1/1\n",
      "3635/3635 [==============================] - 124s - loss: 5.8186 - acc: 0.0113 - val_loss: 5.9341 - val_acc: 0.0154\n"
     ]
    },
    {
     "data": {
      "text/plain": [
       "<keras.callbacks.History at 0x7f27458af550>"
      ]
     },
     "execution_count": 31,
     "metadata": {},
     "output_type": "execute_result"
    }
   ],
   "source": [
    "model.fit_generator(tr_batches, \n",
    "                    tr_batches.nb_sample, \n",
    "                    validation_data=val_b, \n",
    "                    nb_val_samples=val_b.nb_sample, nb_epoch=1)"
   ]
  },
  {
   "cell_type": "code",
   "execution_count": 32,
   "metadata": {
    "collapsed": true
   },
   "outputs": [],
   "source": [
    "model.save_weights('vgg_bn_aug__5.9341.h5')"
   ]
  },
  {
   "cell_type": "code",
   "execution_count": 33,
   "metadata": {
    "collapsed": false
   },
   "outputs": [
    {
     "name": "stdout",
     "output_type": "stream",
     "text": [
      "Epoch 1/1\n",
      "3635/3635 [==============================] - 123s - loss: 5.8153 - acc: 0.0127 - val_loss: 5.9446 - val_acc: 0.0143\n"
     ]
    },
    {
     "data": {
      "text/plain": [
       "<keras.callbacks.History at 0x7f27458beb90>"
      ]
     },
     "execution_count": 33,
     "metadata": {},
     "output_type": "execute_result"
    }
   ],
   "source": [
    "model.fit_generator(tr_batches, \n",
    "                    tr_batches.nb_sample, \n",
    "                    validation_data=val_b, \n",
    "                    nb_val_samples=val_b.nb_sample, nb_epoch=1)"
   ]
  },
  {
   "cell_type": "code",
   "execution_count": 34,
   "metadata": {
    "collapsed": true
   },
   "outputs": [],
   "source": [
    "model.load_weights('vgg_bn_aug__5.9341.h5')"
   ]
  },
  {
   "cell_type": "code",
   "execution_count": 36,
   "metadata": {
    "collapsed": false
   },
   "outputs": [
    {
     "name": "stdout",
     "output_type": "stream",
     "text": [
      "Found 6925 images belonging to 1 classes.\n"
     ]
    }
   ],
   "source": [
    "test_b = get_test_batches()"
   ]
  },
  {
   "cell_type": "code",
   "execution_count": 37,
   "metadata": {
    "collapsed": false
   },
   "outputs": [],
   "source": [
    "preds = model.predict_generator(test_b, test_b.nb_sample)"
   ]
  },
  {
   "cell_type": "code",
   "execution_count": 38,
   "metadata": {
    "collapsed": true
   },
   "outputs": [],
   "source": [
    "from create_whale_sub import create_sub"
   ]
  },
  {
   "cell_type": "code",
   "execution_count": 39,
   "metadata": {
    "collapsed": false
   },
   "outputs": [
    {
     "data": {
      "text/plain": [
       "(6925, 447)"
      ]
     },
     "execution_count": 39,
     "metadata": {},
     "output_type": "execute_result"
    }
   ],
   "source": [
    "preds.shape"
   ]
  },
  {
   "cell_type": "code",
   "execution_count": 40,
   "metadata": {
    "collapsed": false
   },
   "outputs": [
    {
     "name": "stdout",
     "output_type": "stream",
     "text": [
      "Found 3635 images belonging to 447 classes.\n",
      "Found 6925 images belonging to 1 classes.\n"
     ]
    }
   ],
   "source": [
    "sub = create_sub(preds)"
   ]
  },
  {
   "cell_type": "code",
   "execution_count": 41,
   "metadata": {
    "collapsed": false
   },
   "outputs": [
    {
     "data": {
      "text/html": [
       "<div>\n",
       "<table border=\"1\" class=\"dataframe\">\n",
       "  <thead>\n",
       "    <tr style=\"text-align: right;\">\n",
       "      <th></th>\n",
       "      <th>Image</th>\n",
       "      <th>whale_00195</th>\n",
       "      <th>whale_00442</th>\n",
       "      <th>whale_02411</th>\n",
       "      <th>whale_02608</th>\n",
       "      <th>whale_02839</th>\n",
       "      <th>whale_03103</th>\n",
       "      <th>whale_03227</th>\n",
       "      <th>whale_03623</th>\n",
       "      <th>whale_03728</th>\n",
       "      <th>...</th>\n",
       "      <th>whale_98618</th>\n",
       "      <th>whale_98633</th>\n",
       "      <th>whale_98645</th>\n",
       "      <th>whale_98746</th>\n",
       "      <th>whale_98939</th>\n",
       "      <th>whale_98996</th>\n",
       "      <th>whale_99243</th>\n",
       "      <th>whale_99326</th>\n",
       "      <th>whale_99558</th>\n",
       "      <th>whale_99573</th>\n",
       "    </tr>\n",
       "  </thead>\n",
       "  <tbody>\n",
       "    <tr>\n",
       "      <th>0</th>\n",
       "      <td>w_8037.jpg</td>\n",
       "      <td>0.00330140558071</td>\n",
       "      <td>0.00107163877692</td>\n",
       "      <td>0.00298443879001</td>\n",
       "      <td>0.00180055375677</td>\n",
       "      <td>0.00145936675835</td>\n",
       "      <td>0.000481946190121</td>\n",
       "      <td>0.00291534373537</td>\n",
       "      <td>0.00207554502413</td>\n",
       "      <td>0.00229167821817</td>\n",
       "      <td>...</td>\n",
       "      <td>0.0015491831582</td>\n",
       "      <td>0.00206484901719</td>\n",
       "      <td>0.00330859259702</td>\n",
       "      <td>0.00464711943641</td>\n",
       "      <td>0.00218376261182</td>\n",
       "      <td>0.0014458252117</td>\n",
       "      <td>0.00242781057023</td>\n",
       "      <td>0.00167237408459</td>\n",
       "      <td>0.00449525006115</td>\n",
       "      <td>0.00259288446978</td>\n",
       "    </tr>\n",
       "    <tr>\n",
       "      <th>1</th>\n",
       "      <td>w_4494.jpg</td>\n",
       "      <td>0.00330140558071</td>\n",
       "      <td>0.00107163877692</td>\n",
       "      <td>0.00298443879001</td>\n",
       "      <td>0.00180055375677</td>\n",
       "      <td>0.00145936675835</td>\n",
       "      <td>0.000481946190121</td>\n",
       "      <td>0.00291534373537</td>\n",
       "      <td>0.00207554502413</td>\n",
       "      <td>0.00229167821817</td>\n",
       "      <td>...</td>\n",
       "      <td>0.0015491831582</td>\n",
       "      <td>0.00206484901719</td>\n",
       "      <td>0.00330859259702</td>\n",
       "      <td>0.00464711943641</td>\n",
       "      <td>0.00218376261182</td>\n",
       "      <td>0.0014458252117</td>\n",
       "      <td>0.00242781057023</td>\n",
       "      <td>0.00167237408459</td>\n",
       "      <td>0.00449525006115</td>\n",
       "      <td>0.00259288446978</td>\n",
       "    </tr>\n",
       "    <tr>\n",
       "      <th>2</th>\n",
       "      <td>w_4673.jpg</td>\n",
       "      <td>0.00286285975017</td>\n",
       "      <td>0.00133441668004</td>\n",
       "      <td>0.00309766852297</td>\n",
       "      <td>0.00168319640215</td>\n",
       "      <td>0.00149236188736</td>\n",
       "      <td>0.000955631083343</td>\n",
       "      <td>0.00430827727541</td>\n",
       "      <td>0.00166171591263</td>\n",
       "      <td>0.00155158585403</td>\n",
       "      <td>...</td>\n",
       "      <td>0.0018753928598</td>\n",
       "      <td>0.002270426834</td>\n",
       "      <td>0.00298910285346</td>\n",
       "      <td>0.00349396490492</td>\n",
       "      <td>0.00135786493775</td>\n",
       "      <td>0.00148632435594</td>\n",
       "      <td>0.00244975904934</td>\n",
       "      <td>0.0020736171864</td>\n",
       "      <td>0.00255226390436</td>\n",
       "      <td>0.00230655097403</td>\n",
       "    </tr>\n",
       "    <tr>\n",
       "      <th>3</th>\n",
       "      <td>w_8273.jpg</td>\n",
       "      <td>0.00253723887727</td>\n",
       "      <td>0.00100558856502</td>\n",
       "      <td>0.00309851090424</td>\n",
       "      <td>0.00193557445891</td>\n",
       "      <td>0.000445468933322</td>\n",
       "      <td>0.00104380666744</td>\n",
       "      <td>0.00475372979417</td>\n",
       "      <td>0.00142451631837</td>\n",
       "      <td>0.00141202867962</td>\n",
       "      <td>...</td>\n",
       "      <td>0.00210296176374</td>\n",
       "      <td>0.00166398868896</td>\n",
       "      <td>0.00333113502711</td>\n",
       "      <td>0.00266497768462</td>\n",
       "      <td>0.00190908589866</td>\n",
       "      <td>0.00169698696118</td>\n",
       "      <td>0.00077131355647</td>\n",
       "      <td>0.00215010205284</td>\n",
       "      <td>0.00303134019487</td>\n",
       "      <td>0.00270436680876</td>\n",
       "    </tr>\n",
       "    <tr>\n",
       "      <th>4</th>\n",
       "      <td>w_7611.jpg</td>\n",
       "      <td>0.00286286580376</td>\n",
       "      <td>0.00133442285005</td>\n",
       "      <td>0.003097636858</td>\n",
       "      <td>0.00168321689125</td>\n",
       "      <td>0.001492371317</td>\n",
       "      <td>0.000955640512984</td>\n",
       "      <td>0.00430819019675</td>\n",
       "      <td>0.00166173430625</td>\n",
       "      <td>0.00155161705334</td>\n",
       "      <td>...</td>\n",
       "      <td>0.00187540159095</td>\n",
       "      <td>0.0022704184521</td>\n",
       "      <td>0.00298909749836</td>\n",
       "      <td>0.00349395861849</td>\n",
       "      <td>0.00135790521745</td>\n",
       "      <td>0.0014863446122</td>\n",
       "      <td>0.00244975276291</td>\n",
       "      <td>0.00207360880449</td>\n",
       "      <td>0.00255230534822</td>\n",
       "      <td>0.0023065651767</td>\n",
       "    </tr>\n",
       "  </tbody>\n",
       "</table>\n",
       "<p>5 rows × 448 columns</p>\n",
       "</div>"
      ],
      "text/plain": [
       "        Image       whale_00195       whale_00442       whale_02411  \\\n",
       "0  w_8037.jpg  0.00330140558071  0.00107163877692  0.00298443879001   \n",
       "1  w_4494.jpg  0.00330140558071  0.00107163877692  0.00298443879001   \n",
       "2  w_4673.jpg  0.00286285975017  0.00133441668004  0.00309766852297   \n",
       "3  w_8273.jpg  0.00253723887727  0.00100558856502  0.00309851090424   \n",
       "4  w_7611.jpg  0.00286286580376  0.00133442285005    0.003097636858   \n",
       "\n",
       "        whale_02608        whale_02839        whale_03103       whale_03227  \\\n",
       "0  0.00180055375677   0.00145936675835  0.000481946190121  0.00291534373537   \n",
       "1  0.00180055375677   0.00145936675835  0.000481946190121  0.00291534373537   \n",
       "2  0.00168319640215   0.00149236188736  0.000955631083343  0.00430827727541   \n",
       "3  0.00193557445891  0.000445468933322   0.00104380666744  0.00475372979417   \n",
       "4  0.00168321689125     0.001492371317  0.000955640512984  0.00430819019675   \n",
       "\n",
       "        whale_03623       whale_03728        ...              whale_98618  \\\n",
       "0  0.00207554502413  0.00229167821817        ...          0.0015491831582   \n",
       "1  0.00207554502413  0.00229167821817        ...          0.0015491831582   \n",
       "2  0.00166171591263  0.00155158585403        ...          0.0018753928598   \n",
       "3  0.00142451631837  0.00141202867962        ...         0.00210296176374   \n",
       "4  0.00166173430625  0.00155161705334        ...         0.00187540159095   \n",
       "\n",
       "        whale_98633       whale_98645       whale_98746       whale_98939  \\\n",
       "0  0.00206484901719  0.00330859259702  0.00464711943641  0.00218376261182   \n",
       "1  0.00206484901719  0.00330859259702  0.00464711943641  0.00218376261182   \n",
       "2    0.002270426834  0.00298910285346  0.00349396490492  0.00135786493775   \n",
       "3  0.00166398868896  0.00333113502711  0.00266497768462  0.00190908589866   \n",
       "4   0.0022704184521  0.00298909749836  0.00349395861849  0.00135790521745   \n",
       "\n",
       "        whale_98996       whale_99243       whale_99326       whale_99558  \\\n",
       "0   0.0014458252117  0.00242781057023  0.00167237408459  0.00449525006115   \n",
       "1   0.0014458252117  0.00242781057023  0.00167237408459  0.00449525006115   \n",
       "2  0.00148632435594  0.00244975904934   0.0020736171864  0.00255226390436   \n",
       "3  0.00169698696118  0.00077131355647  0.00215010205284  0.00303134019487   \n",
       "4   0.0014863446122  0.00244975276291  0.00207360880449  0.00255230534822   \n",
       "\n",
       "        whale_99573  \n",
       "0  0.00259288446978  \n",
       "1  0.00259288446978  \n",
       "2  0.00230655097403  \n",
       "3  0.00270436680876  \n",
       "4   0.0023065651767  \n",
       "\n",
       "[5 rows x 448 columns]"
      ]
     },
     "execution_count": 41,
     "metadata": {},
     "output_type": "execute_result"
    }
   ],
   "source": [
    "sub.head()"
   ]
  },
  {
   "cell_type": "code",
   "execution_count": 42,
   "metadata": {
    "collapsed": false
   },
   "outputs": [],
   "source": [
    "sub.to_csv('vgg_bn_aug.csv', index=False)"
   ]
  },
  {
   "cell_type": "code",
   "execution_count": 43,
   "metadata": {
    "collapsed": false
   },
   "outputs": [
    {
     "data": {
      "text/html": [
       "<a href='vgg_bn_aug.csv' target='_blank'>vgg_bn_aug.csv</a><br>"
      ],
      "text/plain": [
       "/home/ubuntu/courses/deeplearning1/nbs/vgg_bn_aug.csv"
      ]
     },
     "execution_count": 43,
     "metadata": {},
     "output_type": "execute_result"
    }
   ],
   "source": [
    "from IPython.display import FileLink\n",
    "FileLink('vgg_bn_aug.csv')"
   ]
  },
  {
   "cell_type": "markdown",
   "metadata": {
    "collapsed": true
   },
   "source": [
    "scores 5.94492"
   ]
  }
 ],
 "metadata": {
  "anaconda-cloud": {},
  "kernelspec": {
   "display_name": "Python [conda root]",
   "language": "python",
   "name": "conda-root-py"
  },
  "language_info": {
   "codemirror_mode": {
    "name": "ipython",
    "version": 2
   },
   "file_extension": ".py",
   "mimetype": "text/x-python",
   "name": "python",
   "nbconvert_exporter": "python",
   "pygments_lexer": "ipython2",
   "version": "2.7.12"
  }
 },
 "nbformat": 4,
 "nbformat_minor": 1
}
