{
 "cells": [
  {
   "cell_type": "code",
   "execution_count": 1,
   "metadata": {
    "collapsed": false
   },
   "outputs": [
    {
     "name": "stderr",
     "output_type": "stream",
     "text": [
      "Using gpu device 0: Tesla K80 (CNMeM is disabled, cuDNN 5103)\n",
      "/home/ubuntu/anaconda2/lib/python2.7/site-packages/theano/sandbox/cuda/__init__.py:600: UserWarning: Your cuDNN version is more recent than the one Theano officially supports. If you see any problems, try updating Theano or downgrading cuDNN to version 5.\n",
      "  warnings.warn(warn)\n",
      "Using Theano backend.\n"
     ]
    }
   ],
   "source": [
    "import sys\n",
    "import os\n",
    "sys.path.insert(1, os.path.join(sys.path[0], '..'))\n",
    "from utils import *\n",
    "import vgg16\n",
    "import pandas as pd\n",
    "import numpy as np\n",
    "from glob import glob\n",
    "from keras.layers import Dense, Conv2D, BatchNormalization, Dropout, Flatten, MaxPooling2D\n",
    "from keras.models import Sequential\n",
    "from keras.preprocessing.image import ImageDataGenerator\n",
    "from keras.optimizers import Adam\n",
    "from sklearn.metrics import log_loss\n",
    "%matplotlib inline\n",
    "\n",
    "data_dir = os.path.join(os.getcwd(), 'data', 'whale')\n",
    "img_dir  = os.path.join(os.getcwd(), 'data', 'whale', 'imgs')\n",
    "batch_size=64\n",
    "num_class = 447\n",
    "img_shape=(3, 224, 224)\n",
    "target_size = (224,224)"
   ]
  },
  {
   "cell_type": "code",
   "execution_count": 2,
   "metadata": {
    "collapsed": false
   },
   "outputs": [
    {
     "data": {
      "text/plain": [
       "'/home/ubuntu/courses/deeplearning1/nbs/data/whale'"
      ]
     },
     "execution_count": 2,
     "metadata": {},
     "output_type": "execute_result"
    }
   ],
   "source": [
    "data_dir"
   ]
  },
  {
   "cell_type": "code",
   "execution_count": 3,
   "metadata": {
    "collapsed": false
   },
   "outputs": [
    {
     "data": {
      "text/plain": [
       "'/home/ubuntu/courses/deeplearning1/nbs/data/whale/imgs'"
      ]
     },
     "execution_count": 3,
     "metadata": {},
     "output_type": "execute_result"
    }
   ],
   "source": [
    "img_dir"
   ]
  },
  {
   "cell_type": "code",
   "execution_count": 4,
   "metadata": {
    "collapsed": true
   },
   "outputs": [],
   "source": [
    "def get_tr_batches(dr = img_dir+ '/train', gen = ImageDataGenerator(), batch_size=batch_size):\n",
    "    return gen.flow_from_directory(dr, shuffle=True, target_size=target_size, batch_size=64)\n",
    "\n",
    "def get_val_batches(dr = img_dir+ '/valid', gen = ImageDataGenerator(), batch_size=batch_size):\n",
    "    return gen.flow_from_directory(dr, shuffle=False, target_size=target_size, batch_size=batch_size)"
   ]
  },
  {
   "cell_type": "code",
   "execution_count": 5,
   "metadata": {
    "collapsed": false
   },
   "outputs": [],
   "source": [
    "tr_features = load_array('vgg_conv_tr.bc')\n",
    "val_features = load_array('vgg_val_tr.bc')\n"
   ]
  },
  {
   "cell_type": "code",
   "execution_count": 6,
   "metadata": {
    "collapsed": true
   },
   "outputs": [],
   "source": [
    "tr_labels = load_array('whale_tr_classes.bc')\n",
    "val_labels = load_array('whale_val_classes.bc')\n"
   ]
  },
  {
   "cell_type": "code",
   "execution_count": 41,
   "metadata": {
    "collapsed": false
   },
   "outputs": [
    {
     "name": "stdout",
     "output_type": "stream",
     "text": [
      "Found 3635 images belonging to 447 classes.\n",
      "Found 909 images belonging to 447 classes.\n"
     ]
    }
   ],
   "source": [
    "def fit_model(model, epochs, tr_b = get_tr_batches(), val_b = get_val_batches()):\n",
    "    model.fit_generator(tr_b, tr_b.nb_sample, \n",
    "                    validation_data=val_b, \n",
    "                    nb_val_samples=val_b.nb_sample, \n",
    "                    nb_epoch=epochs)"
   ]
  },
  {
   "cell_type": "code",
   "execution_count": 7,
   "metadata": {
    "collapsed": true
   },
   "outputs": [],
   "source": [
    "vgg = Vgg16()"
   ]
  },
  {
   "cell_type": "code",
   "execution_count": 8,
   "metadata": {
    "collapsed": true
   },
   "outputs": [],
   "source": [
    "model = vgg.model"
   ]
  },
  {
   "cell_type": "code",
   "execution_count": 9,
   "metadata": {
    "collapsed": true
   },
   "outputs": [],
   "source": [
    "last_conv = [i for i, v in enumerate(vgg.model.layers) if type(v) is Conv2D][-1]\n",
    "conv_layers = vgg.model.layers[:last_conv+1] \n",
    "fc_layers = vgg.model.layers[last_conv+1:]"
   ]
  },
  {
   "cell_type": "code",
   "execution_count": 13,
   "metadata": {
    "collapsed": true
   },
   "outputs": [],
   "source": [
    "def get_fc_model():\n",
    "    model = Sequential([\n",
    "            MaxPooling2D(input_shape=conv_layers[-1].output_shape[1:]),\n",
    "            Flatten(),\n",
    "            Dense(4096, activation='relu'),\n",
    "            Dropout(0.5),\n",
    "            Dense(4096, activation='relu'),\n",
    "            Dropout(0.5),\n",
    "            Dense(1000, activation='softmax')\n",
    "        ])\n",
    "    \n",
    "    for l1, l2, in zip(model.layers, fc_layers): l1.set_weights(l2.get_weights())\n",
    "    return model"
   ]
  },
  {
   "cell_type": "code",
   "execution_count": 96,
   "metadata": {
    "collapsed": false
   },
   "outputs": [],
   "source": [
    "fc_model = get_fc_model()"
   ]
  },
  {
   "cell_type": "code",
   "execution_count": 97,
   "metadata": {
    "collapsed": true
   },
   "outputs": [],
   "source": [
    "fc_model.layers = fc_model.layers[:-1]"
   ]
  },
  {
   "cell_type": "code",
   "execution_count": 98,
   "metadata": {
    "collapsed": false
   },
   "outputs": [],
   "source": [
    "for l in fc_model.layers: l.trainable = False"
   ]
  },
  {
   "cell_type": "code",
   "execution_count": 99,
   "metadata": {
    "collapsed": true
   },
   "outputs": [],
   "source": [
    "fc_model.add(Dense(num_class, activation='softmax'))"
   ]
  },
  {
   "cell_type": "code",
   "execution_count": 100,
   "metadata": {
    "collapsed": false
   },
   "outputs": [
    {
     "name": "stdout",
     "output_type": "stream",
     "text": [
      "____________________________________________________________________________________________________\n",
      "Layer (type)                     Output Shape          Param #     Connected to                     \n",
      "====================================================================================================\n",
      "maxpooling2d_18 (MaxPooling2D)   (None, 512, 7, 7)     0           maxpooling2d_input_7[0][0]       \n",
      "____________________________________________________________________________________________________\n",
      "flatten_9 (Flatten)              (None, 25088)         0           maxpooling2d_18[0][0]            \n",
      "____________________________________________________________________________________________________\n",
      "dense_29 (Dense)                 (None, 4096)          0           flatten_9[0][0]                  \n",
      "____________________________________________________________________________________________________\n",
      "dropout_17 (Dropout)             (None, 4096)          0           dense_29[0][0]                   \n",
      "____________________________________________________________________________________________________\n",
      "dense_30 (Dense)                 (None, 4096)          0           dropout_17[0][0]                 \n",
      "____________________________________________________________________________________________________\n",
      "dropout_18 (Dropout)             (None, 4096)          0           dense_30[0][0]                   \n",
      "____________________________________________________________________________________________________\n",
      "dense_32 (Dense)                 (None, 447)           447447      dense_31[0][0]                   \n",
      "====================================================================================================\n",
      "Total params: 447447\n",
      "____________________________________________________________________________________________________\n"
     ]
    }
   ],
   "source": [
    "fc_model.summary()"
   ]
  },
  {
   "cell_type": "code",
   "execution_count": 101,
   "metadata": {
    "collapsed": true
   },
   "outputs": [],
   "source": [
    "fc_model.compile(Adam(lr=0.0001), 'sparse_categorical_crossentropy', metrics=['accuracy'])"
   ]
  },
  {
   "cell_type": "code",
   "execution_count": 102,
   "metadata": {
    "collapsed": false
   },
   "outputs": [
    {
     "name": "stdout",
     "output_type": "stream",
     "text": [
      "Train on 3635 samples, validate on 909 samples\n",
      "Epoch 1/300\n",
      "3635/3635 [==============================] - 2s - loss: 6.1020 - acc: 0.0025 - val_loss: 6.1013 - val_acc: 0.0055\n",
      "Epoch 2/300\n",
      "3635/3635 [==============================] - 2s - loss: 6.0977 - acc: 0.0080 - val_loss: 6.0987 - val_acc: 0.0055\n",
      "Epoch 3/300\n",
      "3635/3635 [==============================] - 2s - loss: 6.0936 - acc: 0.0094 - val_loss: 6.0962 - val_acc: 0.0044\n",
      "Epoch 4/300\n",
      "3635/3635 [==============================] - 2s - loss: 6.0890 - acc: 0.0083 - val_loss: 6.0939 - val_acc: 0.0055\n",
      "Epoch 5/300\n",
      "3635/3635 [==============================] - 2s - loss: 6.0847 - acc: 0.0077 - val_loss: 6.0917 - val_acc: 0.0055\n",
      "Epoch 6/300\n",
      "3635/3635 [==============================] - 2s - loss: 6.0809 - acc: 0.0110 - val_loss: 6.0901 - val_acc: 0.0066\n",
      "Epoch 7/300\n",
      "3635/3635 [==============================] - 2s - loss: 6.0771 - acc: 0.0105 - val_loss: 6.0884 - val_acc: 0.0066\n",
      "Epoch 8/300\n",
      "3635/3635 [==============================] - 2s - loss: 6.0734 - acc: 0.0107 - val_loss: 6.0868 - val_acc: 0.0055\n",
      "Epoch 9/300\n",
      "3635/3635 [==============================] - 2s - loss: 6.0698 - acc: 0.0127 - val_loss: 6.0855 - val_acc: 0.0066\n",
      "Epoch 10/300\n",
      "3635/3635 [==============================] - 2s - loss: 6.0661 - acc: 0.0113 - val_loss: 6.0840 - val_acc: 0.0066\n",
      "Epoch 11/300\n",
      "3635/3635 [==============================] - 2s - loss: 6.0620 - acc: 0.0091 - val_loss: 6.0826 - val_acc: 0.0088\n",
      "Epoch 12/300\n",
      "3635/3635 [==============================] - 2s - loss: 6.0584 - acc: 0.0102 - val_loss: 6.0811 - val_acc: 0.0077\n",
      "Epoch 13/300\n",
      "3635/3635 [==============================] - 2s - loss: 6.0548 - acc: 0.0107 - val_loss: 6.0795 - val_acc: 0.0077\n",
      "Epoch 14/300\n",
      "3635/3635 [==============================] - 2s - loss: 6.0511 - acc: 0.0129 - val_loss: 6.0782 - val_acc: 0.0055\n",
      "Epoch 15/300\n",
      "3635/3635 [==============================] - 2s - loss: 6.0477 - acc: 0.0132 - val_loss: 6.0767 - val_acc: 0.0055\n",
      "Epoch 16/300\n",
      "3635/3635 [==============================] - 2s - loss: 6.0444 - acc: 0.0110 - val_loss: 6.0752 - val_acc: 0.0077\n",
      "Epoch 17/300\n",
      "3635/3635 [==============================] - 2s - loss: 6.0406 - acc: 0.0146 - val_loss: 6.0738 - val_acc: 0.0055\n",
      "Epoch 18/300\n",
      "3635/3635 [==============================] - 2s - loss: 6.0374 - acc: 0.0146 - val_loss: 6.0726 - val_acc: 0.0044\n",
      "Epoch 19/300\n",
      "3635/3635 [==============================] - 2s - loss: 6.0337 - acc: 0.0121 - val_loss: 6.0712 - val_acc: 0.0044\n",
      "Epoch 20/300\n",
      "3635/3635 [==============================] - 2s - loss: 6.0309 - acc: 0.0135 - val_loss: 6.0699 - val_acc: 0.0044\n",
      "Epoch 21/300\n",
      "3635/3635 [==============================] - 2s - loss: 6.0270 - acc: 0.0140 - val_loss: 6.0682 - val_acc: 0.0044\n",
      "Epoch 22/300\n",
      "3635/3635 [==============================] - 2s - loss: 6.0243 - acc: 0.0135 - val_loss: 6.0673 - val_acc: 0.0033\n",
      "Epoch 23/300\n",
      "3635/3635 [==============================] - 2s - loss: 6.0210 - acc: 0.0149 - val_loss: 6.0660 - val_acc: 0.0044\n",
      "Epoch 24/300\n",
      "3635/3635 [==============================] - 2s - loss: 6.0178 - acc: 0.0129 - val_loss: 6.0645 - val_acc: 0.0055\n",
      "Epoch 25/300\n",
      "3635/3635 [==============================] - 2s - loss: 6.0139 - acc: 0.0127 - val_loss: 6.0636 - val_acc: 0.0066\n",
      "Epoch 26/300\n",
      "3635/3635 [==============================] - 2s - loss: 6.0112 - acc: 0.0154 - val_loss: 6.0621 - val_acc: 0.0066\n",
      "Epoch 27/300\n",
      "3635/3635 [==============================] - 2s - loss: 6.0083 - acc: 0.0138 - val_loss: 6.0615 - val_acc: 0.0077\n",
      "Epoch 28/300\n",
      "3635/3635 [==============================] - 2s - loss: 6.0052 - acc: 0.0129 - val_loss: 6.0602 - val_acc: 0.0066\n",
      "Epoch 29/300\n",
      "3635/3635 [==============================] - 2s - loss: 6.0024 - acc: 0.0143 - val_loss: 6.0588 - val_acc: 0.0066\n",
      "Epoch 30/300\n",
      "3635/3635 [==============================] - 2s - loss: 5.9990 - acc: 0.0146 - val_loss: 6.0580 - val_acc: 0.0066\n",
      "Epoch 31/300\n",
      "3635/3635 [==============================] - 2s - loss: 5.9952 - acc: 0.0154 - val_loss: 6.0570 - val_acc: 0.0066\n",
      "Epoch 32/300\n",
      "3635/3635 [==============================] - 2s - loss: 5.9936 - acc: 0.0146 - val_loss: 6.0560 - val_acc: 0.0066\n",
      "Epoch 33/300\n",
      "3635/3635 [==============================] - 2s - loss: 5.9901 - acc: 0.0146 - val_loss: 6.0544 - val_acc: 0.0066\n",
      "Epoch 34/300\n",
      "3635/3635 [==============================] - 2s - loss: 5.9875 - acc: 0.0154 - val_loss: 6.0537 - val_acc: 0.0066\n",
      "Epoch 35/300\n",
      "3635/3635 [==============================] - 2s - loss: 5.9841 - acc: 0.0143 - val_loss: 6.0525 - val_acc: 0.0055\n",
      "Epoch 36/300\n",
      "3635/3635 [==============================] - 2s - loss: 5.9811 - acc: 0.0160 - val_loss: 6.0516 - val_acc: 0.0066\n",
      "Epoch 37/300\n",
      "3635/3635 [==============================] - 2s - loss: 5.9778 - acc: 0.0143 - val_loss: 6.0506 - val_acc: 0.0055\n",
      "Epoch 38/300\n",
      "3635/3635 [==============================] - 2s - loss: 5.9748 - acc: 0.0162 - val_loss: 6.0493 - val_acc: 0.0055\n",
      "Epoch 39/300\n",
      "3635/3635 [==============================] - 2s - loss: 5.9727 - acc: 0.0157 - val_loss: 6.0485 - val_acc: 0.0055\n",
      "Epoch 40/300\n",
      "3635/3635 [==============================] - 2s - loss: 5.9688 - acc: 0.0176 - val_loss: 6.0475 - val_acc: 0.0066\n",
      "Epoch 41/300\n",
      "3635/3635 [==============================] - 2s - loss: 5.9665 - acc: 0.0179 - val_loss: 6.0470 - val_acc: 0.0044\n",
      "Epoch 42/300\n",
      "3635/3635 [==============================] - 2s - loss: 5.9638 - acc: 0.0157 - val_loss: 6.0458 - val_acc: 0.0044\n",
      "Epoch 43/300\n",
      "3635/3635 [==============================] - 2s - loss: 5.9612 - acc: 0.0162 - val_loss: 6.0450 - val_acc: 0.0055\n",
      "Epoch 44/300\n",
      "3635/3635 [==============================] - 2s - loss: 5.9576 - acc: 0.0176 - val_loss: 6.0443 - val_acc: 0.0066\n",
      "Epoch 45/300\n",
      "3635/3635 [==============================] - 2s - loss: 5.9552 - acc: 0.0162 - val_loss: 6.0431 - val_acc: 0.0055\n",
      "Epoch 46/300\n",
      "3635/3635 [==============================] - 2s - loss: 5.9522 - acc: 0.0157 - val_loss: 6.0426 - val_acc: 0.0066\n",
      "Epoch 47/300\n",
      "3635/3635 [==============================] - 2s - loss: 5.9495 - acc: 0.0168 - val_loss: 6.0411 - val_acc: 0.0066\n",
      "Epoch 48/300\n",
      "3635/3635 [==============================] - 2s - loss: 5.9475 - acc: 0.0162 - val_loss: 6.0407 - val_acc: 0.0066\n",
      "Epoch 49/300\n",
      "3635/3635 [==============================] - 2s - loss: 5.9438 - acc: 0.0184 - val_loss: 6.0401 - val_acc: 0.0066\n",
      "Epoch 50/300\n",
      "3635/3635 [==============================] - 2s - loss: 5.9411 - acc: 0.0165 - val_loss: 6.0391 - val_acc: 0.0055\n",
      "Epoch 51/300\n",
      "3635/3635 [==============================] - 2s - loss: 5.9391 - acc: 0.0168 - val_loss: 6.0378 - val_acc: 0.0044\n",
      "Epoch 52/300\n",
      "3635/3635 [==============================] - 2s - loss: 5.9353 - acc: 0.0168 - val_loss: 6.0372 - val_acc: 0.0066\n",
      "Epoch 53/300\n",
      "3635/3635 [==============================] - 2s - loss: 5.9332 - acc: 0.0179 - val_loss: 6.0365 - val_acc: 0.0044\n",
      "Epoch 54/300\n",
      "3635/3635 [==============================] - 2s - loss: 5.9306 - acc: 0.0187 - val_loss: 6.0359 - val_acc: 0.0044\n",
      "Epoch 55/300\n",
      "3635/3635 [==============================] - 2s - loss: 5.9280 - acc: 0.0173 - val_loss: 6.0349 - val_acc: 0.0044\n",
      "Epoch 56/300\n",
      "3635/3635 [==============================] - 2s - loss: 5.9249 - acc: 0.0182 - val_loss: 6.0339 - val_acc: 0.0055\n",
      "Epoch 57/300\n",
      "3635/3635 [==============================] - 2s - loss: 5.9226 - acc: 0.0162 - val_loss: 6.0332 - val_acc: 0.0055\n",
      "Epoch 58/300\n",
      "3635/3635 [==============================] - 2s - loss: 5.9203 - acc: 0.0171 - val_loss: 6.0323 - val_acc: 0.0044\n",
      "Epoch 59/300\n",
      "3635/3635 [==============================] - 2s - loss: 5.9179 - acc: 0.0176 - val_loss: 6.0318 - val_acc: 0.0055\n",
      "Epoch 60/300\n",
      "3635/3635 [==============================] - 2s - loss: 5.9149 - acc: 0.0184 - val_loss: 6.0309 - val_acc: 0.0055\n",
      "Epoch 61/300\n",
      "3635/3635 [==============================] - 2s - loss: 5.9127 - acc: 0.0165 - val_loss: 6.0302 - val_acc: 0.0055\n",
      "Epoch 62/300\n",
      "3635/3635 [==============================] - 2s - loss: 5.9101 - acc: 0.0176 - val_loss: 6.0300 - val_acc: 0.0055\n",
      "Epoch 63/300\n",
      "3635/3635 [==============================] - 2s - loss: 5.9071 - acc: 0.0171 - val_loss: 6.0290 - val_acc: 0.0044\n",
      "Epoch 64/300\n",
      "3635/3635 [==============================] - 2s - loss: 5.9055 - acc: 0.0184 - val_loss: 6.0281 - val_acc: 0.0055\n",
      "Epoch 65/300\n",
      "3635/3635 [==============================] - 2s - loss: 5.9022 - acc: 0.0162 - val_loss: 6.0280 - val_acc: 0.0066\n",
      "Epoch 66/300\n",
      "3635/3635 [==============================] - 2s - loss: 5.8991 - acc: 0.0168 - val_loss: 6.0277 - val_acc: 0.0066\n",
      "Epoch 67/300\n",
      "3635/3635 [==============================] - 2s - loss: 5.8966 - acc: 0.0187 - val_loss: 6.0266 - val_acc: 0.0066\n",
      "Epoch 68/300\n",
      "3635/3635 [==============================] - 2s - loss: 5.8944 - acc: 0.0190 - val_loss: 6.0251 - val_acc: 0.0066\n",
      "Epoch 69/300\n",
      "3635/3635 [==============================] - 2s - loss: 5.8926 - acc: 0.0173 - val_loss: 6.0255 - val_acc: 0.0066\n",
      "Epoch 70/300\n",
      "3635/3635 [==============================] - 2s - loss: 5.8891 - acc: 0.0165 - val_loss: 6.0247 - val_acc: 0.0066\n",
      "Epoch 71/300\n",
      "3635/3635 [==============================] - 2s - loss: 5.8875 - acc: 0.0198 - val_loss: 6.0241 - val_acc: 0.0066\n",
      "Epoch 72/300\n",
      "3635/3635 [==============================] - 2s - loss: 5.8848 - acc: 0.0176 - val_loss: 6.0234 - val_acc: 0.0066\n",
      "Epoch 73/300\n",
      "3635/3635 [==============================] - 2s - loss: 5.8820 - acc: 0.0176 - val_loss: 6.0235 - val_acc: 0.0077\n",
      "Epoch 74/300\n",
      "3635/3635 [==============================] - 2s - loss: 5.8805 - acc: 0.0182 - val_loss: 6.0226 - val_acc: 0.0055\n",
      "Epoch 75/300\n",
      "3635/3635 [==============================] - 2s - loss: 5.8774 - acc: 0.0168 - val_loss: 6.0222 - val_acc: 0.0066\n",
      "Epoch 76/300\n",
      "3635/3635 [==============================] - 2s - loss: 5.8752 - acc: 0.0173 - val_loss: 6.0212 - val_acc: 0.0066\n",
      "Epoch 77/300\n",
      "3635/3635 [==============================] - 2s - loss: 5.8722 - acc: 0.0160 - val_loss: 6.0211 - val_acc: 0.0066\n",
      "Epoch 78/300\n",
      "3635/3635 [==============================] - 2s - loss: 5.8712 - acc: 0.0179 - val_loss: 6.0204 - val_acc: 0.0066\n",
      "Epoch 79/300\n",
      "3635/3635 [==============================] - 2s - loss: 5.8686 - acc: 0.0173 - val_loss: 6.0197 - val_acc: 0.0066\n",
      "Epoch 80/300\n",
      "3635/3635 [==============================] - 2s - loss: 5.8662 - acc: 0.0157 - val_loss: 6.0196 - val_acc: 0.0066\n",
      "Epoch 81/300\n",
      "3635/3635 [==============================] - 2s - loss: 5.8638 - acc: 0.0187 - val_loss: 6.0186 - val_acc: 0.0066\n",
      "Epoch 82/300\n",
      "3635/3635 [==============================] - 2s - loss: 5.8613 - acc: 0.0173 - val_loss: 6.0184 - val_acc: 0.0066\n",
      "Epoch 83/300\n",
      "3635/3635 [==============================] - 2s - loss: 5.8581 - acc: 0.0184 - val_loss: 6.0177 - val_acc: 0.0077\n",
      "Epoch 84/300\n",
      "3635/3635 [==============================] - 2s - loss: 5.8565 - acc: 0.0168 - val_loss: 6.0177 - val_acc: 0.0066\n",
      "Epoch 85/300\n",
      "3635/3635 [==============================] - 2s - loss: 5.8558 - acc: 0.0176 - val_loss: 6.0179 - val_acc: 0.0055\n",
      "Epoch 86/300\n",
      "3635/3635 [==============================] - 2s - loss: 5.8509 - acc: 0.0171 - val_loss: 6.0169 - val_acc: 0.0066\n",
      "Epoch 87/300\n",
      "3635/3635 [==============================] - 2s - loss: 5.8492 - acc: 0.0179 - val_loss: 6.0168 - val_acc: 0.0066\n",
      "Epoch 88/300\n",
      "3635/3635 [==============================] - 2s - loss: 5.8472 - acc: 0.0176 - val_loss: 6.0158 - val_acc: 0.0066\n",
      "Epoch 89/300\n",
      "3635/3635 [==============================] - 2s - loss: 5.8444 - acc: 0.0193 - val_loss: 6.0160 - val_acc: 0.0066\n",
      "Epoch 90/300\n",
      "3635/3635 [==============================] - 2s - loss: 5.8428 - acc: 0.0176 - val_loss: 6.0160 - val_acc: 0.0066\n",
      "Epoch 91/300\n",
      "3635/3635 [==============================] - 2s - loss: 5.8399 - acc: 0.0182 - val_loss: 6.0150 - val_acc: 0.0066\n",
      "Epoch 92/300\n",
      "3635/3635 [==============================] - 2s - loss: 5.8380 - acc: 0.0190 - val_loss: 6.0150 - val_acc: 0.0066\n",
      "Epoch 93/300\n",
      "3635/3635 [==============================] - 2s - loss: 5.8353 - acc: 0.0179 - val_loss: 6.0140 - val_acc: 0.0066\n",
      "Epoch 94/300\n",
      "3635/3635 [==============================] - 2s - loss: 5.8337 - acc: 0.0151 - val_loss: 6.0140 - val_acc: 0.0066\n",
      "Epoch 95/300\n",
      "3635/3635 [==============================] - 2s - loss: 5.8322 - acc: 0.0171 - val_loss: 6.0137 - val_acc: 0.0066\n",
      "Epoch 96/300\n",
      "3635/3635 [==============================] - 2s - loss: 5.8296 - acc: 0.0173 - val_loss: 6.0137 - val_acc: 0.0077\n",
      "Epoch 97/300\n",
      "3635/3635 [==============================] - 2s - loss: 5.8264 - acc: 0.0184 - val_loss: 6.0129 - val_acc: 0.0066\n",
      "Epoch 98/300\n",
      "3635/3635 [==============================] - 2s - loss: 5.8244 - acc: 0.0168 - val_loss: 6.0125 - val_acc: 0.0077\n",
      "Epoch 99/300\n",
      "3635/3635 [==============================] - 2s - loss: 5.8225 - acc: 0.0165 - val_loss: 6.0116 - val_acc: 0.0077\n",
      "Epoch 100/300\n",
      "3635/3635 [==============================] - 2s - loss: 5.8202 - acc: 0.0168 - val_loss: 6.0118 - val_acc: 0.0077\n",
      "Epoch 101/300\n",
      "3635/3635 [==============================] - 2s - loss: 5.8183 - acc: 0.0184 - val_loss: 6.0107 - val_acc: 0.0077\n",
      "Epoch 102/300\n",
      "3635/3635 [==============================] - 2s - loss: 5.8155 - acc: 0.0173 - val_loss: 6.0109 - val_acc: 0.0077\n",
      "Epoch 103/300\n",
      "3635/3635 [==============================] - 2s - loss: 5.8131 - acc: 0.0171 - val_loss: 6.0116 - val_acc: 0.0077\n",
      "Epoch 104/300\n",
      "3635/3635 [==============================] - 2s - loss: 5.8111 - acc: 0.0171 - val_loss: 6.0103 - val_acc: 0.0077\n",
      "Epoch 105/300\n",
      "3635/3635 [==============================] - 2s - loss: 5.8092 - acc: 0.0165 - val_loss: 6.0100 - val_acc: 0.0077\n",
      "Epoch 106/300\n",
      "3635/3635 [==============================] - 2s - loss: 5.8065 - acc: 0.0173 - val_loss: 6.0106 - val_acc: 0.0077\n",
      "Epoch 107/300\n",
      "3635/3635 [==============================] - 2s - loss: 5.8053 - acc: 0.0171 - val_loss: 6.0092 - val_acc: 0.0077\n",
      "Epoch 108/300\n",
      "3635/3635 [==============================] - 2s - loss: 5.8038 - acc: 0.0171 - val_loss: 6.0095 - val_acc: 0.0077\n",
      "Epoch 109/300\n",
      "3635/3635 [==============================] - 2s - loss: 5.7995 - acc: 0.0173 - val_loss: 6.0089 - val_acc: 0.0077\n",
      "Epoch 110/300\n",
      "3635/3635 [==============================] - 2s - loss: 5.7989 - acc: 0.0168 - val_loss: 6.0092 - val_acc: 0.0077\n",
      "Epoch 111/300\n",
      "3635/3635 [==============================] - 2s - loss: 5.7962 - acc: 0.0165 - val_loss: 6.0084 - val_acc: 0.0077\n",
      "Epoch 112/300\n",
      "3635/3635 [==============================] - 2s - loss: 5.7938 - acc: 0.0165 - val_loss: 6.0080 - val_acc: 0.0077\n",
      "Epoch 113/300\n",
      "3635/3635 [==============================] - 2s - loss: 5.7914 - acc: 0.0179 - val_loss: 6.0087 - val_acc: 0.0077\n",
      "Epoch 114/300\n",
      "3635/3635 [==============================] - 2s - loss: 5.7910 - acc: 0.0198 - val_loss: 6.0072 - val_acc: 0.0077\n",
      "Epoch 115/300\n",
      "3635/3635 [==============================] - 2s - loss: 5.7868 - acc: 0.0165 - val_loss: 6.0076 - val_acc: 0.0077\n",
      "Epoch 116/300\n",
      "3635/3635 [==============================] - 2s - loss: 5.7860 - acc: 0.0162 - val_loss: 6.0074 - val_acc: 0.0088\n",
      "Epoch 117/300\n",
      "3635/3635 [==============================] - 2s - loss: 5.7832 - acc: 0.0176 - val_loss: 6.0073 - val_acc: 0.0077\n",
      "Epoch 118/300\n",
      "3635/3635 [==============================] - 2s - loss: 5.7812 - acc: 0.0171 - val_loss: 6.0079 - val_acc: 0.0077\n",
      "Epoch 119/300\n",
      "3635/3635 [==============================] - 2s - loss: 5.7790 - acc: 0.0173 - val_loss: 6.0066 - val_acc: 0.0077\n",
      "Epoch 120/300\n",
      "3635/3635 [==============================] - 2s - loss: 5.7773 - acc: 0.0173 - val_loss: 6.0073 - val_acc: 0.0077\n",
      "Epoch 121/300\n",
      "3635/3635 [==============================] - 2s - loss: 5.7756 - acc: 0.0165 - val_loss: 6.0067 - val_acc: 0.0077\n",
      "Epoch 122/300\n",
      "3635/3635 [==============================] - 2s - loss: 5.7732 - acc: 0.0182 - val_loss: 6.0056 - val_acc: 0.0077\n",
      "Epoch 123/300\n",
      "3635/3635 [==============================] - 2s - loss: 5.7720 - acc: 0.0171 - val_loss: 6.0072 - val_acc: 0.0077\n",
      "Epoch 124/300\n",
      "3635/3635 [==============================] - 2s - loss: 5.7699 - acc: 0.0162 - val_loss: 6.0060 - val_acc: 0.0077\n",
      "Epoch 125/300\n",
      "3635/3635 [==============================] - 2s - loss: 5.7676 - acc: 0.0173 - val_loss: 6.0061 - val_acc: 0.0077\n",
      "Epoch 126/300\n",
      "3635/3635 [==============================] - 2s - loss: 5.7643 - acc: 0.0171 - val_loss: 6.0065 - val_acc: 0.0077\n",
      "Epoch 127/300\n",
      "3635/3635 [==============================] - 2s - loss: 5.7639 - acc: 0.0179 - val_loss: 6.0065 - val_acc: 0.0077\n",
      "Epoch 128/300\n",
      "3635/3635 [==============================] - 2s - loss: 5.7604 - acc: 0.0179 - val_loss: 6.0054 - val_acc: 0.0077\n",
      "Epoch 129/300\n",
      "3635/3635 [==============================] - 2s - loss: 5.7592 - acc: 0.0171 - val_loss: 6.0057 - val_acc: 0.0077\n",
      "Epoch 130/300\n",
      "3635/3635 [==============================] - 2s - loss: 5.7574 - acc: 0.0182 - val_loss: 6.0062 - val_acc: 0.0077\n",
      "Epoch 131/300\n",
      "3635/3635 [==============================] - 2s - loss: 5.7559 - acc: 0.0173 - val_loss: 6.0047 - val_acc: 0.0077\n",
      "Epoch 132/300\n",
      "3635/3635 [==============================] - 2s - loss: 5.7530 - acc: 0.0171 - val_loss: 6.0048 - val_acc: 0.0077\n",
      "Epoch 133/300\n",
      "3635/3635 [==============================] - 2s - loss: 5.7506 - acc: 0.0179 - val_loss: 6.0049 - val_acc: 0.0077\n",
      "Epoch 134/300\n",
      "3635/3635 [==============================] - 2s - loss: 5.7486 - acc: 0.0173 - val_loss: 6.0059 - val_acc: 0.0077\n",
      "Epoch 135/300\n",
      "3635/3635 [==============================] - 2s - loss: 5.7469 - acc: 0.0171 - val_loss: 6.0053 - val_acc: 0.0077\n",
      "Epoch 136/300\n",
      "3635/3635 [==============================] - 2s - loss: 5.7448 - acc: 0.0162 - val_loss: 6.0043 - val_acc: 0.0077\n",
      "Epoch 137/300\n",
      "1344/3635 [==========>...................] - ETA: 1s - loss: 5.7459 - acc: 0.0141"
     ]
    },
    {
     "ename": "KeyboardInterrupt",
     "evalue": "",
     "output_type": "error",
     "traceback": [
      "\u001b[0;31m---------------------------------------------------------------------------\u001b[0m",
      "\u001b[0;31mKeyboardInterrupt\u001b[0m                         Traceback (most recent call last)",
      "\u001b[0;32m<ipython-input-102-b12d659199dd>\u001b[0m in \u001b[0;36m<module>\u001b[0;34m()\u001b[0m\n\u001b[0;32m----> 1\u001b[0;31m \u001b[0mfc_model\u001b[0m\u001b[0;34m.\u001b[0m\u001b[0mfit\u001b[0m\u001b[0;34m(\u001b[0m\u001b[0mtr_features\u001b[0m\u001b[0;34m,\u001b[0m \u001b[0mtr_labels\u001b[0m\u001b[0;34m,\u001b[0m\u001b[0mbatch_size\u001b[0m\u001b[0;34m=\u001b[0m\u001b[0mbatch_size\u001b[0m\u001b[0;34m,\u001b[0m \u001b[0mvalidation_data\u001b[0m\u001b[0;34m=\u001b[0m\u001b[0;34m(\u001b[0m\u001b[0mval_features\u001b[0m\u001b[0;34m,\u001b[0m \u001b[0mval_labels\u001b[0m\u001b[0;34m)\u001b[0m\u001b[0;34m,\u001b[0m \u001b[0mnb_epoch\u001b[0m\u001b[0;34m=\u001b[0m\u001b[0;36m300\u001b[0m\u001b[0;34m)\u001b[0m\u001b[0;34m\u001b[0m\u001b[0m\n\u001b[0m",
      "\u001b[0;32m/home/ubuntu/anaconda2/lib/python2.7/site-packages/keras/models.pyc\u001b[0m in \u001b[0;36mfit\u001b[0;34m(self, x, y, batch_size, nb_epoch, verbose, callbacks, validation_split, validation_data, shuffle, class_weight, sample_weight, **kwargs)\u001b[0m\n\u001b[1;32m    618\u001b[0m                               \u001b[0mshuffle\u001b[0m\u001b[0;34m=\u001b[0m\u001b[0mshuffle\u001b[0m\u001b[0;34m,\u001b[0m\u001b[0;34m\u001b[0m\u001b[0m\n\u001b[1;32m    619\u001b[0m                               \u001b[0mclass_weight\u001b[0m\u001b[0;34m=\u001b[0m\u001b[0mclass_weight\u001b[0m\u001b[0;34m,\u001b[0m\u001b[0;34m\u001b[0m\u001b[0m\n\u001b[0;32m--> 620\u001b[0;31m                               sample_weight=sample_weight)\n\u001b[0m\u001b[1;32m    621\u001b[0m \u001b[0;34m\u001b[0m\u001b[0m\n\u001b[1;32m    622\u001b[0m     def evaluate(self, x, y, batch_size=32, verbose=1,\n",
      "\u001b[0;32m/home/ubuntu/anaconda2/lib/python2.7/site-packages/keras/engine/training.pyc\u001b[0m in \u001b[0;36mfit\u001b[0;34m(self, x, y, batch_size, nb_epoch, verbose, callbacks, validation_split, validation_data, shuffle, class_weight, sample_weight)\u001b[0m\n\u001b[1;32m   1104\u001b[0m                               \u001b[0mverbose\u001b[0m\u001b[0;34m=\u001b[0m\u001b[0mverbose\u001b[0m\u001b[0;34m,\u001b[0m \u001b[0mcallbacks\u001b[0m\u001b[0;34m=\u001b[0m\u001b[0mcallbacks\u001b[0m\u001b[0;34m,\u001b[0m\u001b[0;34m\u001b[0m\u001b[0m\n\u001b[1;32m   1105\u001b[0m                               \u001b[0mval_f\u001b[0m\u001b[0;34m=\u001b[0m\u001b[0mval_f\u001b[0m\u001b[0;34m,\u001b[0m \u001b[0mval_ins\u001b[0m\u001b[0;34m=\u001b[0m\u001b[0mval_ins\u001b[0m\u001b[0;34m,\u001b[0m \u001b[0mshuffle\u001b[0m\u001b[0;34m=\u001b[0m\u001b[0mshuffle\u001b[0m\u001b[0;34m,\u001b[0m\u001b[0;34m\u001b[0m\u001b[0m\n\u001b[0;32m-> 1106\u001b[0;31m                               callback_metrics=callback_metrics)\n\u001b[0m\u001b[1;32m   1107\u001b[0m \u001b[0;34m\u001b[0m\u001b[0m\n\u001b[1;32m   1108\u001b[0m     \u001b[0;32mdef\u001b[0m \u001b[0mevaluate\u001b[0m\u001b[0;34m(\u001b[0m\u001b[0mself\u001b[0m\u001b[0;34m,\u001b[0m \u001b[0mx\u001b[0m\u001b[0;34m,\u001b[0m \u001b[0my\u001b[0m\u001b[0;34m,\u001b[0m \u001b[0mbatch_size\u001b[0m\u001b[0;34m=\u001b[0m\u001b[0;36m32\u001b[0m\u001b[0;34m,\u001b[0m \u001b[0mverbose\u001b[0m\u001b[0;34m=\u001b[0m\u001b[0;36m1\u001b[0m\u001b[0;34m,\u001b[0m \u001b[0msample_weight\u001b[0m\u001b[0;34m=\u001b[0m\u001b[0mNone\u001b[0m\u001b[0;34m)\u001b[0m\u001b[0;34m:\u001b[0m\u001b[0;34m\u001b[0m\u001b[0m\n",
      "\u001b[0;32m/home/ubuntu/anaconda2/lib/python2.7/site-packages/keras/engine/training.pyc\u001b[0m in \u001b[0;36m_fit_loop\u001b[0;34m(self, f, ins, out_labels, batch_size, nb_epoch, verbose, callbacks, val_f, val_ins, shuffle, callback_metrics)\u001b[0m\n\u001b[1;32m    822\u001b[0m                 \u001b[0mbatch_logs\u001b[0m\u001b[0;34m[\u001b[0m\u001b[0;34m'size'\u001b[0m\u001b[0;34m]\u001b[0m \u001b[0;34m=\u001b[0m \u001b[0mlen\u001b[0m\u001b[0;34m(\u001b[0m\u001b[0mbatch_ids\u001b[0m\u001b[0;34m)\u001b[0m\u001b[0;34m\u001b[0m\u001b[0m\n\u001b[1;32m    823\u001b[0m                 \u001b[0mcallbacks\u001b[0m\u001b[0;34m.\u001b[0m\u001b[0mon_batch_begin\u001b[0m\u001b[0;34m(\u001b[0m\u001b[0mbatch_index\u001b[0m\u001b[0;34m,\u001b[0m \u001b[0mbatch_logs\u001b[0m\u001b[0;34m)\u001b[0m\u001b[0;34m\u001b[0m\u001b[0m\n\u001b[0;32m--> 824\u001b[0;31m                 \u001b[0mouts\u001b[0m \u001b[0;34m=\u001b[0m \u001b[0mf\u001b[0m\u001b[0;34m(\u001b[0m\u001b[0mins_batch\u001b[0m\u001b[0;34m)\u001b[0m\u001b[0;34m\u001b[0m\u001b[0m\n\u001b[0m\u001b[1;32m    825\u001b[0m                 \u001b[0;32mif\u001b[0m \u001b[0mtype\u001b[0m\u001b[0;34m(\u001b[0m\u001b[0mouts\u001b[0m\u001b[0;34m)\u001b[0m \u001b[0;34m!=\u001b[0m \u001b[0mlist\u001b[0m\u001b[0;34m:\u001b[0m\u001b[0;34m\u001b[0m\u001b[0m\n\u001b[1;32m    826\u001b[0m                     \u001b[0mouts\u001b[0m \u001b[0;34m=\u001b[0m \u001b[0;34m[\u001b[0m\u001b[0mouts\u001b[0m\u001b[0;34m]\u001b[0m\u001b[0;34m\u001b[0m\u001b[0m\n",
      "\u001b[0;32m/home/ubuntu/anaconda2/lib/python2.7/site-packages/keras/backend/theano_backend.pyc\u001b[0m in \u001b[0;36m__call__\u001b[0;34m(self, inputs)\u001b[0m\n\u001b[1;32m    715\u001b[0m     \u001b[0;32mdef\u001b[0m \u001b[0m__call__\u001b[0m\u001b[0;34m(\u001b[0m\u001b[0mself\u001b[0m\u001b[0;34m,\u001b[0m \u001b[0minputs\u001b[0m\u001b[0;34m)\u001b[0m\u001b[0;34m:\u001b[0m\u001b[0;34m\u001b[0m\u001b[0m\n\u001b[1;32m    716\u001b[0m         \u001b[0;32massert\u001b[0m \u001b[0mtype\u001b[0m\u001b[0;34m(\u001b[0m\u001b[0minputs\u001b[0m\u001b[0;34m)\u001b[0m \u001b[0;32min\u001b[0m \u001b[0;34m{\u001b[0m\u001b[0mlist\u001b[0m\u001b[0;34m,\u001b[0m \u001b[0mtuple\u001b[0m\u001b[0;34m}\u001b[0m\u001b[0;34m\u001b[0m\u001b[0m\n\u001b[0;32m--> 717\u001b[0;31m         \u001b[0;32mreturn\u001b[0m \u001b[0mself\u001b[0m\u001b[0;34m.\u001b[0m\u001b[0mfunction\u001b[0m\u001b[0;34m(\u001b[0m\u001b[0;34m*\u001b[0m\u001b[0minputs\u001b[0m\u001b[0;34m)\u001b[0m\u001b[0;34m\u001b[0m\u001b[0m\n\u001b[0m\u001b[1;32m    718\u001b[0m \u001b[0;34m\u001b[0m\u001b[0m\n\u001b[1;32m    719\u001b[0m \u001b[0;34m\u001b[0m\u001b[0m\n",
      "\u001b[0;32m/home/ubuntu/anaconda2/lib/python2.7/site-packages/theano/compile/function_module.pyc\u001b[0m in \u001b[0;36m__call__\u001b[0;34m(self, *args, **kwargs)\u001b[0m\n\u001b[1;32m    857\u001b[0m         \u001b[0mt0_fn\u001b[0m \u001b[0;34m=\u001b[0m \u001b[0mtime\u001b[0m\u001b[0;34m.\u001b[0m\u001b[0mtime\u001b[0m\u001b[0;34m(\u001b[0m\u001b[0;34m)\u001b[0m\u001b[0;34m\u001b[0m\u001b[0m\n\u001b[1;32m    858\u001b[0m         \u001b[0;32mtry\u001b[0m\u001b[0;34m:\u001b[0m\u001b[0;34m\u001b[0m\u001b[0m\n\u001b[0;32m--> 859\u001b[0;31m             \u001b[0moutputs\u001b[0m \u001b[0;34m=\u001b[0m \u001b[0mself\u001b[0m\u001b[0;34m.\u001b[0m\u001b[0mfn\u001b[0m\u001b[0;34m(\u001b[0m\u001b[0;34m)\u001b[0m\u001b[0;34m\u001b[0m\u001b[0m\n\u001b[0m\u001b[1;32m    860\u001b[0m         \u001b[0;32mexcept\u001b[0m \u001b[0mException\u001b[0m\u001b[0;34m:\u001b[0m\u001b[0;34m\u001b[0m\u001b[0m\n\u001b[1;32m    861\u001b[0m             \u001b[0;32mif\u001b[0m \u001b[0mhasattr\u001b[0m\u001b[0;34m(\u001b[0m\u001b[0mself\u001b[0m\u001b[0;34m.\u001b[0m\u001b[0mfn\u001b[0m\u001b[0;34m,\u001b[0m \u001b[0;34m'position_of_error'\u001b[0m\u001b[0;34m)\u001b[0m\u001b[0;34m:\u001b[0m\u001b[0;34m\u001b[0m\u001b[0m\n",
      "\u001b[0;32m/home/ubuntu/anaconda2/lib/python2.7/site-packages/theano/gof/op.pyc\u001b[0m in \u001b[0;36mrval\u001b[0;34m(p, i, o, n)\u001b[0m\n\u001b[1;32m    909\u001b[0m         \u001b[0;32mif\u001b[0m \u001b[0mparams\u001b[0m \u001b[0;32mis\u001b[0m \u001b[0mgraph\u001b[0m\u001b[0;34m.\u001b[0m\u001b[0mNoParams\u001b[0m\u001b[0;34m:\u001b[0m\u001b[0;34m\u001b[0m\u001b[0m\n\u001b[1;32m    910\u001b[0m             \u001b[0;31m# default arguments are stored in the closure of `rval`\u001b[0m\u001b[0;34m\u001b[0m\u001b[0;34m\u001b[0m\u001b[0m\n\u001b[0;32m--> 911\u001b[0;31m             \u001b[0;32mdef\u001b[0m \u001b[0mrval\u001b[0m\u001b[0;34m(\u001b[0m\u001b[0mp\u001b[0m\u001b[0;34m=\u001b[0m\u001b[0mp\u001b[0m\u001b[0;34m,\u001b[0m \u001b[0mi\u001b[0m\u001b[0;34m=\u001b[0m\u001b[0mnode_input_storage\u001b[0m\u001b[0;34m,\u001b[0m \u001b[0mo\u001b[0m\u001b[0;34m=\u001b[0m\u001b[0mnode_output_storage\u001b[0m\u001b[0;34m,\u001b[0m \u001b[0mn\u001b[0m\u001b[0;34m=\u001b[0m\u001b[0mnode\u001b[0m\u001b[0;34m)\u001b[0m\u001b[0;34m:\u001b[0m\u001b[0;34m\u001b[0m\u001b[0m\n\u001b[0m\u001b[1;32m    912\u001b[0m                 \u001b[0mr\u001b[0m \u001b[0;34m=\u001b[0m \u001b[0mp\u001b[0m\u001b[0;34m(\u001b[0m\u001b[0mn\u001b[0m\u001b[0;34m,\u001b[0m \u001b[0;34m[\u001b[0m\u001b[0mx\u001b[0m\u001b[0;34m[\u001b[0m\u001b[0;36m0\u001b[0m\u001b[0;34m]\u001b[0m \u001b[0;32mfor\u001b[0m \u001b[0mx\u001b[0m \u001b[0;32min\u001b[0m \u001b[0mi\u001b[0m\u001b[0;34m]\u001b[0m\u001b[0;34m,\u001b[0m \u001b[0mo\u001b[0m\u001b[0;34m)\u001b[0m\u001b[0;34m\u001b[0m\u001b[0m\n\u001b[1;32m    913\u001b[0m                 \u001b[0;32mfor\u001b[0m \u001b[0mo\u001b[0m \u001b[0;32min\u001b[0m \u001b[0mnode\u001b[0m\u001b[0;34m.\u001b[0m\u001b[0moutputs\u001b[0m\u001b[0;34m:\u001b[0m\u001b[0;34m\u001b[0m\u001b[0m\n",
      "\u001b[0;31mKeyboardInterrupt\u001b[0m: "
     ]
    }
   ],
   "source": [
    "fc_model.fit(tr_features, tr_labels,batch_size=batch_size, validation_data=(val_features, val_labels), nb_epoch=300)"
   ]
  },
  {
   "cell_type": "code",
   "execution_count": 103,
   "metadata": {
    "collapsed": true
   },
   "outputs": [],
   "source": [
    "fc_model.optimizer.lr = 0.00001"
   ]
  },
  {
   "cell_type": "code",
   "execution_count": 104,
   "metadata": {
    "collapsed": false
   },
   "outputs": [
    {
     "name": "stdout",
     "output_type": "stream",
     "text": [
      "Train on 3635 samples, validate on 909 samples\n",
      "Epoch 1/100\n",
      "3635/3635 [==============================] - 2s - loss: 5.7424 - acc: 0.0184 - val_loss: 6.0049 - val_acc: 0.0077\n",
      "Epoch 2/100\n",
      "3635/3635 [==============================] - 2s - loss: 5.7404 - acc: 0.0187 - val_loss: 6.0055 - val_acc: 0.0077\n",
      "Epoch 3/100\n",
      "3635/3635 [==============================] - 2s - loss: 5.7369 - acc: 0.0182 - val_loss: 6.0046 - val_acc: 0.0077\n",
      "Epoch 4/100\n",
      "3635/3635 [==============================] - 2s - loss: 5.7355 - acc: 0.0187 - val_loss: 6.0053 - val_acc: 0.0077\n",
      "Epoch 5/100\n",
      "3635/3635 [==============================] - 2s - loss: 5.7349 - acc: 0.0193 - val_loss: 6.0049 - val_acc: 0.0077\n",
      "Epoch 6/100\n",
      "3635/3635 [==============================] - 2s - loss: 5.7322 - acc: 0.0182 - val_loss: 6.0044 - val_acc: 0.0077\n",
      "Epoch 7/100\n",
      "3635/3635 [==============================] - 2s - loss: 5.7300 - acc: 0.0187 - val_loss: 6.0041 - val_acc: 0.0077\n",
      "Epoch 8/100\n",
      "3635/3635 [==============================] - 2s - loss: 5.7276 - acc: 0.0176 - val_loss: 6.0048 - val_acc: 0.0077\n",
      "Epoch 9/100\n",
      "3635/3635 [==============================] - 2s - loss: 5.7256 - acc: 0.0173 - val_loss: 6.0054 - val_acc: 0.0077\n",
      "Epoch 10/100\n",
      "3635/3635 [==============================] - 2s - loss: 5.7245 - acc: 0.0176 - val_loss: 6.0052 - val_acc: 0.0077\n",
      "Epoch 11/100\n",
      "3635/3635 [==============================] - 2s - loss: 5.7215 - acc: 0.0165 - val_loss: 6.0053 - val_acc: 0.0077\n",
      "Epoch 12/100\n",
      "3635/3635 [==============================] - 2s - loss: 5.7203 - acc: 0.0176 - val_loss: 6.0053 - val_acc: 0.0077\n",
      "Epoch 13/100\n",
      "3635/3635 [==============================] - 2s - loss: 5.7188 - acc: 0.0179 - val_loss: 6.0052 - val_acc: 0.0077\n",
      "Epoch 14/100\n",
      "3635/3635 [==============================] - 2s - loss: 5.7178 - acc: 0.0173 - val_loss: 6.0053 - val_acc: 0.0077\n",
      "Epoch 15/100\n",
      "3635/3635 [==============================] - 2s - loss: 5.7160 - acc: 0.0173 - val_loss: 6.0042 - val_acc: 0.0077\n",
      "Epoch 16/100\n",
      "3635/3635 [==============================] - 2s - loss: 5.7114 - acc: 0.0195 - val_loss: 6.0053 - val_acc: 0.0077\n",
      "Epoch 17/100\n",
      "3635/3635 [==============================] - 2s - loss: 5.7123 - acc: 0.0171 - val_loss: 6.0043 - val_acc: 0.0077\n",
      "Epoch 18/100\n",
      "3635/3635 [==============================] - 2s - loss: 5.7093 - acc: 0.0154 - val_loss: 6.0058 - val_acc: 0.0088\n",
      "Epoch 19/100\n",
      "3635/3635 [==============================] - 2s - loss: 5.7077 - acc: 0.0165 - val_loss: 6.0052 - val_acc: 0.0077\n",
      "Epoch 20/100\n",
      "3635/3635 [==============================] - 2s - loss: 5.7052 - acc: 0.0171 - val_loss: 6.0041 - val_acc: 0.0077\n",
      "Epoch 21/100\n",
      "3635/3635 [==============================] - 2s - loss: 5.7034 - acc: 0.0171 - val_loss: 6.0052 - val_acc: 0.0077\n",
      "Epoch 22/100\n",
      "3635/3635 [==============================] - 2s - loss: 5.7016 - acc: 0.0179 - val_loss: 6.0065 - val_acc: 0.0077\n",
      "Epoch 23/100\n",
      "3635/3635 [==============================] - 2s - loss: 5.7002 - acc: 0.0179 - val_loss: 6.0057 - val_acc: 0.0077\n",
      "Epoch 24/100\n",
      "2816/3635 [======================>.......] - ETA: 0s - loss: 5.6979 - acc: 0.0178"
     ]
    },
    {
     "ename": "KeyboardInterrupt",
     "evalue": "",
     "output_type": "error",
     "traceback": [
      "\u001b[0;31m---------------------------------------------------------------------------\u001b[0m",
      "\u001b[0;31mKeyboardInterrupt\u001b[0m                         Traceback (most recent call last)",
      "\u001b[0;32m<ipython-input-104-baa2be7e63f4>\u001b[0m in \u001b[0;36m<module>\u001b[0;34m()\u001b[0m\n\u001b[0;32m----> 1\u001b[0;31m \u001b[0mfc_model\u001b[0m\u001b[0;34m.\u001b[0m\u001b[0mfit\u001b[0m\u001b[0;34m(\u001b[0m\u001b[0mtr_features\u001b[0m\u001b[0;34m,\u001b[0m \u001b[0mtr_labels\u001b[0m\u001b[0;34m,\u001b[0m\u001b[0mbatch_size\u001b[0m\u001b[0;34m=\u001b[0m\u001b[0mbatch_size\u001b[0m\u001b[0;34m,\u001b[0m \u001b[0mvalidation_data\u001b[0m\u001b[0;34m=\u001b[0m\u001b[0;34m(\u001b[0m\u001b[0mval_features\u001b[0m\u001b[0;34m,\u001b[0m \u001b[0mval_labels\u001b[0m\u001b[0;34m)\u001b[0m\u001b[0;34m,\u001b[0m \u001b[0mnb_epoch\u001b[0m\u001b[0;34m=\u001b[0m\u001b[0;36m100\u001b[0m\u001b[0;34m)\u001b[0m\u001b[0;34m\u001b[0m\u001b[0m\n\u001b[0m",
      "\u001b[0;32m/home/ubuntu/anaconda2/lib/python2.7/site-packages/keras/models.pyc\u001b[0m in \u001b[0;36mfit\u001b[0;34m(self, x, y, batch_size, nb_epoch, verbose, callbacks, validation_split, validation_data, shuffle, class_weight, sample_weight, **kwargs)\u001b[0m\n\u001b[1;32m    618\u001b[0m                               \u001b[0mshuffle\u001b[0m\u001b[0;34m=\u001b[0m\u001b[0mshuffle\u001b[0m\u001b[0;34m,\u001b[0m\u001b[0;34m\u001b[0m\u001b[0m\n\u001b[1;32m    619\u001b[0m                               \u001b[0mclass_weight\u001b[0m\u001b[0;34m=\u001b[0m\u001b[0mclass_weight\u001b[0m\u001b[0;34m,\u001b[0m\u001b[0;34m\u001b[0m\u001b[0m\n\u001b[0;32m--> 620\u001b[0;31m                               sample_weight=sample_weight)\n\u001b[0m\u001b[1;32m    621\u001b[0m \u001b[0;34m\u001b[0m\u001b[0m\n\u001b[1;32m    622\u001b[0m     def evaluate(self, x, y, batch_size=32, verbose=1,\n",
      "\u001b[0;32m/home/ubuntu/anaconda2/lib/python2.7/site-packages/keras/engine/training.pyc\u001b[0m in \u001b[0;36mfit\u001b[0;34m(self, x, y, batch_size, nb_epoch, verbose, callbacks, validation_split, validation_data, shuffle, class_weight, sample_weight)\u001b[0m\n\u001b[1;32m   1104\u001b[0m                               \u001b[0mverbose\u001b[0m\u001b[0;34m=\u001b[0m\u001b[0mverbose\u001b[0m\u001b[0;34m,\u001b[0m \u001b[0mcallbacks\u001b[0m\u001b[0;34m=\u001b[0m\u001b[0mcallbacks\u001b[0m\u001b[0;34m,\u001b[0m\u001b[0;34m\u001b[0m\u001b[0m\n\u001b[1;32m   1105\u001b[0m                               \u001b[0mval_f\u001b[0m\u001b[0;34m=\u001b[0m\u001b[0mval_f\u001b[0m\u001b[0;34m,\u001b[0m \u001b[0mval_ins\u001b[0m\u001b[0;34m=\u001b[0m\u001b[0mval_ins\u001b[0m\u001b[0;34m,\u001b[0m \u001b[0mshuffle\u001b[0m\u001b[0;34m=\u001b[0m\u001b[0mshuffle\u001b[0m\u001b[0;34m,\u001b[0m\u001b[0;34m\u001b[0m\u001b[0m\n\u001b[0;32m-> 1106\u001b[0;31m                               callback_metrics=callback_metrics)\n\u001b[0m\u001b[1;32m   1107\u001b[0m \u001b[0;34m\u001b[0m\u001b[0m\n\u001b[1;32m   1108\u001b[0m     \u001b[0;32mdef\u001b[0m \u001b[0mevaluate\u001b[0m\u001b[0;34m(\u001b[0m\u001b[0mself\u001b[0m\u001b[0;34m,\u001b[0m \u001b[0mx\u001b[0m\u001b[0;34m,\u001b[0m \u001b[0my\u001b[0m\u001b[0;34m,\u001b[0m \u001b[0mbatch_size\u001b[0m\u001b[0;34m=\u001b[0m\u001b[0;36m32\u001b[0m\u001b[0;34m,\u001b[0m \u001b[0mverbose\u001b[0m\u001b[0;34m=\u001b[0m\u001b[0;36m1\u001b[0m\u001b[0;34m,\u001b[0m \u001b[0msample_weight\u001b[0m\u001b[0;34m=\u001b[0m\u001b[0mNone\u001b[0m\u001b[0;34m)\u001b[0m\u001b[0;34m:\u001b[0m\u001b[0;34m\u001b[0m\u001b[0m\n",
      "\u001b[0;32m/home/ubuntu/anaconda2/lib/python2.7/site-packages/keras/engine/training.pyc\u001b[0m in \u001b[0;36m_fit_loop\u001b[0;34m(self, f, ins, out_labels, batch_size, nb_epoch, verbose, callbacks, val_f, val_ins, shuffle, callback_metrics)\u001b[0m\n\u001b[1;32m    822\u001b[0m                 \u001b[0mbatch_logs\u001b[0m\u001b[0;34m[\u001b[0m\u001b[0;34m'size'\u001b[0m\u001b[0;34m]\u001b[0m \u001b[0;34m=\u001b[0m \u001b[0mlen\u001b[0m\u001b[0;34m(\u001b[0m\u001b[0mbatch_ids\u001b[0m\u001b[0;34m)\u001b[0m\u001b[0;34m\u001b[0m\u001b[0m\n\u001b[1;32m    823\u001b[0m                 \u001b[0mcallbacks\u001b[0m\u001b[0;34m.\u001b[0m\u001b[0mon_batch_begin\u001b[0m\u001b[0;34m(\u001b[0m\u001b[0mbatch_index\u001b[0m\u001b[0;34m,\u001b[0m \u001b[0mbatch_logs\u001b[0m\u001b[0;34m)\u001b[0m\u001b[0;34m\u001b[0m\u001b[0m\n\u001b[0;32m--> 824\u001b[0;31m                 \u001b[0mouts\u001b[0m \u001b[0;34m=\u001b[0m \u001b[0mf\u001b[0m\u001b[0;34m(\u001b[0m\u001b[0mins_batch\u001b[0m\u001b[0;34m)\u001b[0m\u001b[0;34m\u001b[0m\u001b[0m\n\u001b[0m\u001b[1;32m    825\u001b[0m                 \u001b[0;32mif\u001b[0m \u001b[0mtype\u001b[0m\u001b[0;34m(\u001b[0m\u001b[0mouts\u001b[0m\u001b[0;34m)\u001b[0m \u001b[0;34m!=\u001b[0m \u001b[0mlist\u001b[0m\u001b[0;34m:\u001b[0m\u001b[0;34m\u001b[0m\u001b[0m\n\u001b[1;32m    826\u001b[0m                     \u001b[0mouts\u001b[0m \u001b[0;34m=\u001b[0m \u001b[0;34m[\u001b[0m\u001b[0mouts\u001b[0m\u001b[0;34m]\u001b[0m\u001b[0;34m\u001b[0m\u001b[0m\n",
      "\u001b[0;32m/home/ubuntu/anaconda2/lib/python2.7/site-packages/keras/backend/theano_backend.pyc\u001b[0m in \u001b[0;36m__call__\u001b[0;34m(self, inputs)\u001b[0m\n\u001b[1;32m    715\u001b[0m     \u001b[0;32mdef\u001b[0m \u001b[0m__call__\u001b[0m\u001b[0;34m(\u001b[0m\u001b[0mself\u001b[0m\u001b[0;34m,\u001b[0m \u001b[0minputs\u001b[0m\u001b[0;34m)\u001b[0m\u001b[0;34m:\u001b[0m\u001b[0;34m\u001b[0m\u001b[0m\n\u001b[1;32m    716\u001b[0m         \u001b[0;32massert\u001b[0m \u001b[0mtype\u001b[0m\u001b[0;34m(\u001b[0m\u001b[0minputs\u001b[0m\u001b[0;34m)\u001b[0m \u001b[0;32min\u001b[0m \u001b[0;34m{\u001b[0m\u001b[0mlist\u001b[0m\u001b[0;34m,\u001b[0m \u001b[0mtuple\u001b[0m\u001b[0;34m}\u001b[0m\u001b[0;34m\u001b[0m\u001b[0m\n\u001b[0;32m--> 717\u001b[0;31m         \u001b[0;32mreturn\u001b[0m \u001b[0mself\u001b[0m\u001b[0;34m.\u001b[0m\u001b[0mfunction\u001b[0m\u001b[0;34m(\u001b[0m\u001b[0;34m*\u001b[0m\u001b[0minputs\u001b[0m\u001b[0;34m)\u001b[0m\u001b[0;34m\u001b[0m\u001b[0m\n\u001b[0m\u001b[1;32m    718\u001b[0m \u001b[0;34m\u001b[0m\u001b[0m\n\u001b[1;32m    719\u001b[0m \u001b[0;34m\u001b[0m\u001b[0m\n",
      "\u001b[0;32m/home/ubuntu/anaconda2/lib/python2.7/site-packages/theano/compile/function_module.pyc\u001b[0m in \u001b[0;36m__call__\u001b[0;34m(self, *args, **kwargs)\u001b[0m\n\u001b[1;32m    857\u001b[0m         \u001b[0mt0_fn\u001b[0m \u001b[0;34m=\u001b[0m \u001b[0mtime\u001b[0m\u001b[0;34m.\u001b[0m\u001b[0mtime\u001b[0m\u001b[0;34m(\u001b[0m\u001b[0;34m)\u001b[0m\u001b[0;34m\u001b[0m\u001b[0m\n\u001b[1;32m    858\u001b[0m         \u001b[0;32mtry\u001b[0m\u001b[0;34m:\u001b[0m\u001b[0;34m\u001b[0m\u001b[0m\n\u001b[0;32m--> 859\u001b[0;31m             \u001b[0moutputs\u001b[0m \u001b[0;34m=\u001b[0m \u001b[0mself\u001b[0m\u001b[0;34m.\u001b[0m\u001b[0mfn\u001b[0m\u001b[0;34m(\u001b[0m\u001b[0;34m)\u001b[0m\u001b[0;34m\u001b[0m\u001b[0m\n\u001b[0m\u001b[1;32m    860\u001b[0m         \u001b[0;32mexcept\u001b[0m \u001b[0mException\u001b[0m\u001b[0;34m:\u001b[0m\u001b[0;34m\u001b[0m\u001b[0m\n\u001b[1;32m    861\u001b[0m             \u001b[0;32mif\u001b[0m \u001b[0mhasattr\u001b[0m\u001b[0;34m(\u001b[0m\u001b[0mself\u001b[0m\u001b[0;34m.\u001b[0m\u001b[0mfn\u001b[0m\u001b[0;34m,\u001b[0m \u001b[0;34m'position_of_error'\u001b[0m\u001b[0;34m)\u001b[0m\u001b[0;34m:\u001b[0m\u001b[0;34m\u001b[0m\u001b[0m\n",
      "\u001b[0;32m/home/ubuntu/anaconda2/lib/python2.7/site-packages/theano/gof/op.pyc\u001b[0m in \u001b[0;36mrval\u001b[0;34m(p, i, o, n)\u001b[0m\n\u001b[1;32m    909\u001b[0m         \u001b[0;32mif\u001b[0m \u001b[0mparams\u001b[0m \u001b[0;32mis\u001b[0m \u001b[0mgraph\u001b[0m\u001b[0;34m.\u001b[0m\u001b[0mNoParams\u001b[0m\u001b[0;34m:\u001b[0m\u001b[0;34m\u001b[0m\u001b[0m\n\u001b[1;32m    910\u001b[0m             \u001b[0;31m# default arguments are stored in the closure of `rval`\u001b[0m\u001b[0;34m\u001b[0m\u001b[0;34m\u001b[0m\u001b[0m\n\u001b[0;32m--> 911\u001b[0;31m             \u001b[0;32mdef\u001b[0m \u001b[0mrval\u001b[0m\u001b[0;34m(\u001b[0m\u001b[0mp\u001b[0m\u001b[0;34m=\u001b[0m\u001b[0mp\u001b[0m\u001b[0;34m,\u001b[0m \u001b[0mi\u001b[0m\u001b[0;34m=\u001b[0m\u001b[0mnode_input_storage\u001b[0m\u001b[0;34m,\u001b[0m \u001b[0mo\u001b[0m\u001b[0;34m=\u001b[0m\u001b[0mnode_output_storage\u001b[0m\u001b[0;34m,\u001b[0m \u001b[0mn\u001b[0m\u001b[0;34m=\u001b[0m\u001b[0mnode\u001b[0m\u001b[0;34m)\u001b[0m\u001b[0;34m:\u001b[0m\u001b[0;34m\u001b[0m\u001b[0m\n\u001b[0m\u001b[1;32m    912\u001b[0m                 \u001b[0mr\u001b[0m \u001b[0;34m=\u001b[0m \u001b[0mp\u001b[0m\u001b[0;34m(\u001b[0m\u001b[0mn\u001b[0m\u001b[0;34m,\u001b[0m \u001b[0;34m[\u001b[0m\u001b[0mx\u001b[0m\u001b[0;34m[\u001b[0m\u001b[0;36m0\u001b[0m\u001b[0;34m]\u001b[0m \u001b[0;32mfor\u001b[0m \u001b[0mx\u001b[0m \u001b[0;32min\u001b[0m \u001b[0mi\u001b[0m\u001b[0;34m]\u001b[0m\u001b[0;34m,\u001b[0m \u001b[0mo\u001b[0m\u001b[0;34m)\u001b[0m\u001b[0;34m\u001b[0m\u001b[0m\n\u001b[1;32m    913\u001b[0m                 \u001b[0;32mfor\u001b[0m \u001b[0mo\u001b[0m \u001b[0;32min\u001b[0m \u001b[0mnode\u001b[0m\u001b[0;34m.\u001b[0m\u001b[0moutputs\u001b[0m\u001b[0;34m:\u001b[0m\u001b[0;34m\u001b[0m\u001b[0m\n",
      "\u001b[0;31mKeyboardInterrupt\u001b[0m: "
     ]
    }
   ],
   "source": [
    "fc_model.fit(tr_features, tr_labels,batch_size=batch_size, validation_data=(val_features, val_labels), nb_epoch=100)"
   ]
  },
  {
   "cell_type": "code",
   "execution_count": 105,
   "metadata": {
    "collapsed": true
   },
   "outputs": [],
   "source": [
    "fc_model.optimizer.lr = 0.0000001"
   ]
  },
  {
   "cell_type": "code",
   "execution_count": 106,
   "metadata": {
    "collapsed": false
   },
   "outputs": [
    {
     "name": "stdout",
     "output_type": "stream",
     "text": [
      "Train on 3635 samples, validate on 909 samples\n",
      "Epoch 1/100\n",
      "3635/3635 [==============================] - 2s - loss: 5.6967 - acc: 0.0179 - val_loss: 6.0055 - val_acc: 0.0077\n",
      "Epoch 2/100\n",
      "3635/3635 [==============================] - 2s - loss: 5.6927 - acc: 0.0171 - val_loss: 6.0056 - val_acc: 0.0077\n",
      "Epoch 3/100\n",
      "3635/3635 [==============================] - 2s - loss: 5.6922 - acc: 0.0184 - val_loss: 6.0046 - val_acc: 0.0077\n",
      "Epoch 4/100\n",
      "3635/3635 [==============================] - 2s - loss: 5.6906 - acc: 0.0179 - val_loss: 6.0055 - val_acc: 0.0077\n",
      "Epoch 5/100\n",
      "3635/3635 [==============================] - 2s - loss: 5.6896 - acc: 0.0171 - val_loss: 6.0065 - val_acc: 0.0077\n",
      "Epoch 6/100\n",
      "3635/3635 [==============================] - 2s - loss: 5.6875 - acc: 0.0173 - val_loss: 6.0060 - val_acc: 0.0077\n",
      "Epoch 7/100\n",
      "3635/3635 [==============================] - 2s - loss: 5.6856 - acc: 0.0157 - val_loss: 6.0069 - val_acc: 0.0077\n",
      "Epoch 8/100\n",
      "3635/3635 [==============================] - 2s - loss: 5.6827 - acc: 0.0173 - val_loss: 6.0057 - val_acc: 0.0077\n",
      "Epoch 9/100\n",
      "3635/3635 [==============================] - 2s - loss: 5.6799 - acc: 0.0182 - val_loss: 6.0061 - val_acc: 0.0077\n",
      "Epoch 10/100\n",
      "3635/3635 [==============================] - 2s - loss: 5.6788 - acc: 0.0162 - val_loss: 6.0068 - val_acc: 0.0077\n",
      "Epoch 11/100\n",
      "3635/3635 [==============================] - 2s - loss: 5.6766 - acc: 0.0179 - val_loss: 6.0059 - val_acc: 0.0077\n",
      "Epoch 12/100\n",
      "3635/3635 [==============================] - 2s - loss: 5.6768 - acc: 0.0160 - val_loss: 6.0077 - val_acc: 0.0077\n",
      "Epoch 13/100\n",
      "3635/3635 [==============================] - 2s - loss: 5.6749 - acc: 0.0179 - val_loss: 6.0066 - val_acc: 0.0077\n",
      "Epoch 14/100\n",
      "3635/3635 [==============================] - 2s - loss: 5.6702 - acc: 0.0182 - val_loss: 6.0079 - val_acc: 0.0077\n",
      "Epoch 15/100\n",
      "3008/3635 [=======================>......] - ETA: 0s - loss: 5.6725 - acc: 0.0176"
     ]
    },
    {
     "ename": "KeyboardInterrupt",
     "evalue": "",
     "output_type": "error",
     "traceback": [
      "\u001b[0;31m---------------------------------------------------------------------------\u001b[0m",
      "\u001b[0;31mKeyboardInterrupt\u001b[0m                         Traceback (most recent call last)",
      "\u001b[0;32m<ipython-input-106-baa2be7e63f4>\u001b[0m in \u001b[0;36m<module>\u001b[0;34m()\u001b[0m\n\u001b[0;32m----> 1\u001b[0;31m \u001b[0mfc_model\u001b[0m\u001b[0;34m.\u001b[0m\u001b[0mfit\u001b[0m\u001b[0;34m(\u001b[0m\u001b[0mtr_features\u001b[0m\u001b[0;34m,\u001b[0m \u001b[0mtr_labels\u001b[0m\u001b[0;34m,\u001b[0m\u001b[0mbatch_size\u001b[0m\u001b[0;34m=\u001b[0m\u001b[0mbatch_size\u001b[0m\u001b[0;34m,\u001b[0m \u001b[0mvalidation_data\u001b[0m\u001b[0;34m=\u001b[0m\u001b[0;34m(\u001b[0m\u001b[0mval_features\u001b[0m\u001b[0;34m,\u001b[0m \u001b[0mval_labels\u001b[0m\u001b[0;34m)\u001b[0m\u001b[0;34m,\u001b[0m \u001b[0mnb_epoch\u001b[0m\u001b[0;34m=\u001b[0m\u001b[0;36m100\u001b[0m\u001b[0;34m)\u001b[0m\u001b[0;34m\u001b[0m\u001b[0m\n\u001b[0m",
      "\u001b[0;32m/home/ubuntu/anaconda2/lib/python2.7/site-packages/keras/models.pyc\u001b[0m in \u001b[0;36mfit\u001b[0;34m(self, x, y, batch_size, nb_epoch, verbose, callbacks, validation_split, validation_data, shuffle, class_weight, sample_weight, **kwargs)\u001b[0m\n\u001b[1;32m    618\u001b[0m                               \u001b[0mshuffle\u001b[0m\u001b[0;34m=\u001b[0m\u001b[0mshuffle\u001b[0m\u001b[0;34m,\u001b[0m\u001b[0;34m\u001b[0m\u001b[0m\n\u001b[1;32m    619\u001b[0m                               \u001b[0mclass_weight\u001b[0m\u001b[0;34m=\u001b[0m\u001b[0mclass_weight\u001b[0m\u001b[0;34m,\u001b[0m\u001b[0;34m\u001b[0m\u001b[0m\n\u001b[0;32m--> 620\u001b[0;31m                               sample_weight=sample_weight)\n\u001b[0m\u001b[1;32m    621\u001b[0m \u001b[0;34m\u001b[0m\u001b[0m\n\u001b[1;32m    622\u001b[0m     def evaluate(self, x, y, batch_size=32, verbose=1,\n",
      "\u001b[0;32m/home/ubuntu/anaconda2/lib/python2.7/site-packages/keras/engine/training.pyc\u001b[0m in \u001b[0;36mfit\u001b[0;34m(self, x, y, batch_size, nb_epoch, verbose, callbacks, validation_split, validation_data, shuffle, class_weight, sample_weight)\u001b[0m\n\u001b[1;32m   1104\u001b[0m                               \u001b[0mverbose\u001b[0m\u001b[0;34m=\u001b[0m\u001b[0mverbose\u001b[0m\u001b[0;34m,\u001b[0m \u001b[0mcallbacks\u001b[0m\u001b[0;34m=\u001b[0m\u001b[0mcallbacks\u001b[0m\u001b[0;34m,\u001b[0m\u001b[0;34m\u001b[0m\u001b[0m\n\u001b[1;32m   1105\u001b[0m                               \u001b[0mval_f\u001b[0m\u001b[0;34m=\u001b[0m\u001b[0mval_f\u001b[0m\u001b[0;34m,\u001b[0m \u001b[0mval_ins\u001b[0m\u001b[0;34m=\u001b[0m\u001b[0mval_ins\u001b[0m\u001b[0;34m,\u001b[0m \u001b[0mshuffle\u001b[0m\u001b[0;34m=\u001b[0m\u001b[0mshuffle\u001b[0m\u001b[0;34m,\u001b[0m\u001b[0;34m\u001b[0m\u001b[0m\n\u001b[0;32m-> 1106\u001b[0;31m                               callback_metrics=callback_metrics)\n\u001b[0m\u001b[1;32m   1107\u001b[0m \u001b[0;34m\u001b[0m\u001b[0m\n\u001b[1;32m   1108\u001b[0m     \u001b[0;32mdef\u001b[0m \u001b[0mevaluate\u001b[0m\u001b[0;34m(\u001b[0m\u001b[0mself\u001b[0m\u001b[0;34m,\u001b[0m \u001b[0mx\u001b[0m\u001b[0;34m,\u001b[0m \u001b[0my\u001b[0m\u001b[0;34m,\u001b[0m \u001b[0mbatch_size\u001b[0m\u001b[0;34m=\u001b[0m\u001b[0;36m32\u001b[0m\u001b[0;34m,\u001b[0m \u001b[0mverbose\u001b[0m\u001b[0;34m=\u001b[0m\u001b[0;36m1\u001b[0m\u001b[0;34m,\u001b[0m \u001b[0msample_weight\u001b[0m\u001b[0;34m=\u001b[0m\u001b[0mNone\u001b[0m\u001b[0;34m)\u001b[0m\u001b[0;34m:\u001b[0m\u001b[0;34m\u001b[0m\u001b[0m\n",
      "\u001b[0;32m/home/ubuntu/anaconda2/lib/python2.7/site-packages/keras/engine/training.pyc\u001b[0m in \u001b[0;36m_fit_loop\u001b[0;34m(self, f, ins, out_labels, batch_size, nb_epoch, verbose, callbacks, val_f, val_ins, shuffle, callback_metrics)\u001b[0m\n\u001b[1;32m    822\u001b[0m                 \u001b[0mbatch_logs\u001b[0m\u001b[0;34m[\u001b[0m\u001b[0;34m'size'\u001b[0m\u001b[0;34m]\u001b[0m \u001b[0;34m=\u001b[0m \u001b[0mlen\u001b[0m\u001b[0;34m(\u001b[0m\u001b[0mbatch_ids\u001b[0m\u001b[0;34m)\u001b[0m\u001b[0;34m\u001b[0m\u001b[0m\n\u001b[1;32m    823\u001b[0m                 \u001b[0mcallbacks\u001b[0m\u001b[0;34m.\u001b[0m\u001b[0mon_batch_begin\u001b[0m\u001b[0;34m(\u001b[0m\u001b[0mbatch_index\u001b[0m\u001b[0;34m,\u001b[0m \u001b[0mbatch_logs\u001b[0m\u001b[0;34m)\u001b[0m\u001b[0;34m\u001b[0m\u001b[0m\n\u001b[0;32m--> 824\u001b[0;31m                 \u001b[0mouts\u001b[0m \u001b[0;34m=\u001b[0m \u001b[0mf\u001b[0m\u001b[0;34m(\u001b[0m\u001b[0mins_batch\u001b[0m\u001b[0;34m)\u001b[0m\u001b[0;34m\u001b[0m\u001b[0m\n\u001b[0m\u001b[1;32m    825\u001b[0m                 \u001b[0;32mif\u001b[0m \u001b[0mtype\u001b[0m\u001b[0;34m(\u001b[0m\u001b[0mouts\u001b[0m\u001b[0;34m)\u001b[0m \u001b[0;34m!=\u001b[0m \u001b[0mlist\u001b[0m\u001b[0;34m:\u001b[0m\u001b[0;34m\u001b[0m\u001b[0m\n\u001b[1;32m    826\u001b[0m                     \u001b[0mouts\u001b[0m \u001b[0;34m=\u001b[0m \u001b[0;34m[\u001b[0m\u001b[0mouts\u001b[0m\u001b[0;34m]\u001b[0m\u001b[0;34m\u001b[0m\u001b[0m\n",
      "\u001b[0;32m/home/ubuntu/anaconda2/lib/python2.7/site-packages/keras/backend/theano_backend.pyc\u001b[0m in \u001b[0;36m__call__\u001b[0;34m(self, inputs)\u001b[0m\n\u001b[1;32m    715\u001b[0m     \u001b[0;32mdef\u001b[0m \u001b[0m__call__\u001b[0m\u001b[0;34m(\u001b[0m\u001b[0mself\u001b[0m\u001b[0;34m,\u001b[0m \u001b[0minputs\u001b[0m\u001b[0;34m)\u001b[0m\u001b[0;34m:\u001b[0m\u001b[0;34m\u001b[0m\u001b[0m\n\u001b[1;32m    716\u001b[0m         \u001b[0;32massert\u001b[0m \u001b[0mtype\u001b[0m\u001b[0;34m(\u001b[0m\u001b[0minputs\u001b[0m\u001b[0;34m)\u001b[0m \u001b[0;32min\u001b[0m \u001b[0;34m{\u001b[0m\u001b[0mlist\u001b[0m\u001b[0;34m,\u001b[0m \u001b[0mtuple\u001b[0m\u001b[0;34m}\u001b[0m\u001b[0;34m\u001b[0m\u001b[0m\n\u001b[0;32m--> 717\u001b[0;31m         \u001b[0;32mreturn\u001b[0m \u001b[0mself\u001b[0m\u001b[0;34m.\u001b[0m\u001b[0mfunction\u001b[0m\u001b[0;34m(\u001b[0m\u001b[0;34m*\u001b[0m\u001b[0minputs\u001b[0m\u001b[0;34m)\u001b[0m\u001b[0;34m\u001b[0m\u001b[0m\n\u001b[0m\u001b[1;32m    718\u001b[0m \u001b[0;34m\u001b[0m\u001b[0m\n\u001b[1;32m    719\u001b[0m \u001b[0;34m\u001b[0m\u001b[0m\n",
      "\u001b[0;32m/home/ubuntu/anaconda2/lib/python2.7/site-packages/theano/compile/function_module.pyc\u001b[0m in \u001b[0;36m__call__\u001b[0;34m(self, *args, **kwargs)\u001b[0m\n\u001b[1;32m    857\u001b[0m         \u001b[0mt0_fn\u001b[0m \u001b[0;34m=\u001b[0m \u001b[0mtime\u001b[0m\u001b[0;34m.\u001b[0m\u001b[0mtime\u001b[0m\u001b[0;34m(\u001b[0m\u001b[0;34m)\u001b[0m\u001b[0;34m\u001b[0m\u001b[0m\n\u001b[1;32m    858\u001b[0m         \u001b[0;32mtry\u001b[0m\u001b[0;34m:\u001b[0m\u001b[0;34m\u001b[0m\u001b[0m\n\u001b[0;32m--> 859\u001b[0;31m             \u001b[0moutputs\u001b[0m \u001b[0;34m=\u001b[0m \u001b[0mself\u001b[0m\u001b[0;34m.\u001b[0m\u001b[0mfn\u001b[0m\u001b[0;34m(\u001b[0m\u001b[0;34m)\u001b[0m\u001b[0;34m\u001b[0m\u001b[0m\n\u001b[0m\u001b[1;32m    860\u001b[0m         \u001b[0;32mexcept\u001b[0m \u001b[0mException\u001b[0m\u001b[0;34m:\u001b[0m\u001b[0;34m\u001b[0m\u001b[0m\n\u001b[1;32m    861\u001b[0m             \u001b[0;32mif\u001b[0m \u001b[0mhasattr\u001b[0m\u001b[0;34m(\u001b[0m\u001b[0mself\u001b[0m\u001b[0;34m.\u001b[0m\u001b[0mfn\u001b[0m\u001b[0;34m,\u001b[0m \u001b[0;34m'position_of_error'\u001b[0m\u001b[0;34m)\u001b[0m\u001b[0;34m:\u001b[0m\u001b[0;34m\u001b[0m\u001b[0m\n",
      "\u001b[0;31mKeyboardInterrupt\u001b[0m: "
     ]
    }
   ],
   "source": [
    "fc_model.fit(tr_features, tr_labels,batch_size=batch_size, validation_data=(val_features, val_labels), nb_epoch=100)"
   ]
  },
  {
   "cell_type": "code",
   "execution_count": null,
   "metadata": {
    "collapsed": true
   },
   "outputs": [],
   "source": []
  },
  {
   "cell_type": "code",
   "execution_count": null,
   "metadata": {
    "collapsed": true
   },
   "outputs": [],
   "source": []
  },
  {
   "cell_type": "code",
   "execution_count": null,
   "metadata": {
    "collapsed": true
   },
   "outputs": [],
   "source": []
  },
  {
   "cell_type": "code",
   "execution_count": null,
   "metadata": {
    "collapsed": true
   },
   "outputs": [],
   "source": []
  },
  {
   "cell_type": "code",
   "execution_count": 34,
   "metadata": {
    "collapsed": false
   },
   "outputs": [
    {
     "name": "stdout",
     "output_type": "stream",
     "text": [
      "Train on 3635 samples, validate on 909 samples\n",
      "Epoch 1/5\n",
      "3635/3635 [==============================] - 2s - loss: 6.0970 - acc: 0.0085 - val_loss: 6.0973 - val_acc: 0.0055\n",
      "Epoch 2/5\n",
      "3635/3635 [==============================] - 2s - loss: 6.0927 - acc: 0.0102 - val_loss: 6.0951 - val_acc: 0.0055\n",
      "Epoch 3/5\n",
      "3635/3635 [==============================] - 2s - loss: 6.0892 - acc: 0.0077 - val_loss: 6.0931 - val_acc: 0.0055\n",
      "Epoch 4/5\n",
      "3635/3635 [==============================] - 2s - loss: 6.0854 - acc: 0.0091 - val_loss: 6.0917 - val_acc: 0.0044\n",
      "Epoch 5/5\n",
      "3635/3635 [==============================] - 2s - loss: 6.0816 - acc: 0.0099 - val_loss: 6.0903 - val_acc: 0.0033\n"
     ]
    },
    {
     "data": {
      "text/plain": [
       "<keras.callbacks.History at 0x7f82ad8c53d0>"
      ]
     },
     "execution_count": 34,
     "metadata": {},
     "output_type": "execute_result"
    }
   ],
   "source": [
    "fc_model.fit(tr_features, tr_labels,batch_size=batch_size, validation_data=(val_features, val_labels), nb_epoch=5)"
   ]
  },
  {
   "cell_type": "code",
   "execution_count": 36,
   "metadata": {
    "collapsed": true
   },
   "outputs": [],
   "source": [
    "fc_model.lr = 0.001"
   ]
  },
  {
   "cell_type": "code",
   "execution_count": 35,
   "metadata": {
    "collapsed": false
   },
   "outputs": [
    {
     "name": "stdout",
     "output_type": "stream",
     "text": [
      "Train on 3635 samples, validate on 909 samples\n",
      "Epoch 1/10\n",
      "3635/3635 [==============================] - 2s - loss: 6.0774 - acc: 0.0096 - val_loss: 6.0888 - val_acc: 0.0066\n",
      "Epoch 2/10\n",
      "3635/3635 [==============================] - 2s - loss: 6.0737 - acc: 0.0091 - val_loss: 6.0872 - val_acc: 0.0077\n",
      "Epoch 3/10\n",
      "3635/3635 [==============================] - 2s - loss: 6.0696 - acc: 0.0107 - val_loss: 6.0851 - val_acc: 0.0055\n",
      "Epoch 4/10\n",
      "3635/3635 [==============================] - 2s - loss: 6.0653 - acc: 0.0099 - val_loss: 6.0834 - val_acc: 0.0055\n",
      "Epoch 5/10\n",
      "3635/3635 [==============================] - 2s - loss: 6.0614 - acc: 0.0116 - val_loss: 6.0817 - val_acc: 0.0066\n",
      "Epoch 6/10\n",
      "3635/3635 [==============================] - 2s - loss: 6.0575 - acc: 0.0121 - val_loss: 6.0800 - val_acc: 0.0055\n",
      "Epoch 7/10\n",
      "3635/3635 [==============================] - 2s - loss: 6.0535 - acc: 0.0118 - val_loss: 6.0783 - val_acc: 0.0055\n",
      "Epoch 8/10\n",
      "3635/3635 [==============================] - 2s - loss: 6.0504 - acc: 0.0113 - val_loss: 6.0769 - val_acc: 0.0066\n",
      "Epoch 9/10\n",
      "3635/3635 [==============================] - 2s - loss: 6.0467 - acc: 0.0138 - val_loss: 6.0750 - val_acc: 0.0077\n",
      "Epoch 10/10\n",
      "3635/3635 [==============================] - 2s - loss: 6.0436 - acc: 0.0140 - val_loss: 6.0739 - val_acc: 0.0110\n"
     ]
    },
    {
     "data": {
      "text/plain": [
       "<keras.callbacks.History at 0x7f82a7931f50>"
      ]
     },
     "execution_count": 35,
     "metadata": {},
     "output_type": "execute_result"
    }
   ],
   "source": [
    "fc_model.fit(tr_features, tr_labels,batch_size=batch_size, validation_data=(val_features, val_labels), nb_epoch=10)"
   ]
  },
  {
   "cell_type": "code",
   "execution_count": 38,
   "metadata": {
    "collapsed": false
   },
   "outputs": [
    {
     "name": "stdout",
     "output_type": "stream",
     "text": [
      "Train on 3635 samples, validate on 909 samples\n",
      "Epoch 1/25\n",
      "3635/3635 [==============================] - 2s - loss: 6.0081 - acc: 0.0146 - val_loss: 6.0612 - val_acc: 0.0088\n",
      "Epoch 2/25\n",
      "3635/3635 [==============================] - 2s - loss: 6.0048 - acc: 0.0146 - val_loss: 6.0604 - val_acc: 0.0088\n",
      "Epoch 3/25\n",
      "3635/3635 [==============================] - 2s - loss: 6.0018 - acc: 0.0140 - val_loss: 6.0593 - val_acc: 0.0088\n",
      "Epoch 4/25\n",
      "3635/3635 [==============================] - 2s - loss: 5.9985 - acc: 0.0143 - val_loss: 6.0579 - val_acc: 0.0088\n",
      "Epoch 5/25\n",
      "3635/3635 [==============================] - 2s - loss: 5.9953 - acc: 0.0146 - val_loss: 6.0572 - val_acc: 0.0088\n",
      "Epoch 6/25\n",
      "3635/3635 [==============================] - 2s - loss: 5.9926 - acc: 0.0165 - val_loss: 6.0562 - val_acc: 0.0088\n",
      "Epoch 7/25\n",
      "3635/3635 [==============================] - 2s - loss: 5.9903 - acc: 0.0151 - val_loss: 6.0553 - val_acc: 0.0088\n",
      "Epoch 8/25\n",
      "3635/3635 [==============================] - 2s - loss: 5.9865 - acc: 0.0143 - val_loss: 6.0543 - val_acc: 0.0088\n",
      "Epoch 9/25\n",
      "3635/3635 [==============================] - 2s - loss: 5.9840 - acc: 0.0160 - val_loss: 6.0537 - val_acc: 0.0088\n",
      "Epoch 10/25\n",
      "3635/3635 [==============================] - 2s - loss: 5.9811 - acc: 0.0151 - val_loss: 6.0526 - val_acc: 0.0099\n",
      "Epoch 11/25\n",
      "3635/3635 [==============================] - 2s - loss: 5.9783 - acc: 0.0138 - val_loss: 6.0512 - val_acc: 0.0088\n",
      "Epoch 12/25\n",
      "3635/3635 [==============================] - 2s - loss: 5.9761 - acc: 0.0149 - val_loss: 6.0502 - val_acc: 0.0088\n",
      "Epoch 13/25\n",
      "3635/3635 [==============================] - 2s - loss: 5.9727 - acc: 0.0140 - val_loss: 6.0499 - val_acc: 0.0099\n",
      "Epoch 14/25\n",
      "3635/3635 [==============================] - 2s - loss: 5.9705 - acc: 0.0140 - val_loss: 6.0488 - val_acc: 0.0088\n",
      "Epoch 15/25\n",
      "3635/3635 [==============================] - 2s - loss: 5.9672 - acc: 0.0151 - val_loss: 6.0484 - val_acc: 0.0088\n",
      "Epoch 16/25\n",
      "3635/3635 [==============================] - 2s - loss: 5.9649 - acc: 0.0149 - val_loss: 6.0474 - val_acc: 0.0066\n",
      "Epoch 17/25\n",
      "3635/3635 [==============================] - 2s - loss: 5.9618 - acc: 0.0149 - val_loss: 6.0466 - val_acc: 0.0088\n",
      "Epoch 18/25\n",
      "3635/3635 [==============================] - 2s - loss: 5.9595 - acc: 0.0140 - val_loss: 6.0455 - val_acc: 0.0099\n",
      "Epoch 19/25\n",
      "3635/3635 [==============================] - 2s - loss: 5.9562 - acc: 0.0162 - val_loss: 6.0447 - val_acc: 0.0099\n",
      "Epoch 20/25\n",
      "3635/3635 [==============================] - 2s - loss: 5.9541 - acc: 0.0160 - val_loss: 6.0443 - val_acc: 0.0099\n",
      "Epoch 21/25\n",
      "3635/3635 [==============================] - 2s - loss: 5.9514 - acc: 0.0162 - val_loss: 6.0432 - val_acc: 0.0088\n",
      "Epoch 22/25\n",
      "3635/3635 [==============================] - 2s - loss: 5.9492 - acc: 0.0135 - val_loss: 6.0424 - val_acc: 0.0088\n",
      "Epoch 23/25\n",
      "3635/3635 [==============================] - 2s - loss: 5.9454 - acc: 0.0143 - val_loss: 6.0418 - val_acc: 0.0099\n",
      "Epoch 24/25\n",
      "3635/3635 [==============================] - 2s - loss: 5.9432 - acc: 0.0146 - val_loss: 6.0413 - val_acc: 0.0110\n",
      "Epoch 25/25\n",
      "3635/3635 [==============================] - 2s - loss: 5.9412 - acc: 0.0143 - val_loss: 6.0406 - val_acc: 0.0110\n"
     ]
    },
    {
     "data": {
      "text/plain": [
       "<keras.callbacks.History at 0x7f82ae21f250>"
      ]
     },
     "execution_count": 38,
     "metadata": {},
     "output_type": "execute_result"
    }
   ],
   "source": [
    "fc_model.fit(tr_features, tr_labels,batch_size=batch_size, validation_data=(val_features, val_labels), nb_epoch=25)"
   ]
  },
  {
   "cell_type": "code",
   "execution_count": 39,
   "metadata": {
    "collapsed": false
   },
   "outputs": [
    {
     "name": "stdout",
     "output_type": "stream",
     "text": [
      "Train on 3635 samples, validate on 909 samples\n",
      "Epoch 1/50\n",
      "3635/3635 [==============================] - 2s - loss: 5.9381 - acc: 0.0146 - val_loss: 6.0393 - val_acc: 0.0099\n",
      "Epoch 2/50\n",
      "3635/3635 [==============================] - 2s - loss: 5.9360 - acc: 0.0149 - val_loss: 6.0392 - val_acc: 0.0110\n",
      "Epoch 3/50\n",
      "3635/3635 [==============================] - 2s - loss: 5.9330 - acc: 0.0165 - val_loss: 6.0375 - val_acc: 0.0099\n",
      "Epoch 4/50\n",
      "3635/3635 [==============================] - 2s - loss: 5.9309 - acc: 0.0143 - val_loss: 6.0381 - val_acc: 0.0099\n",
      "Epoch 5/50\n",
      "3635/3635 [==============================] - 2s - loss: 5.9280 - acc: 0.0162 - val_loss: 6.0370 - val_acc: 0.0099\n",
      "Epoch 6/50\n",
      "3635/3635 [==============================] - 2s - loss: 5.9260 - acc: 0.0151 - val_loss: 6.0363 - val_acc: 0.0099\n",
      "Epoch 7/50\n",
      "3635/3635 [==============================] - 2s - loss: 5.9238 - acc: 0.0157 - val_loss: 6.0355 - val_acc: 0.0099\n",
      "Epoch 8/50\n",
      "3635/3635 [==============================] - 2s - loss: 5.9215 - acc: 0.0157 - val_loss: 6.0353 - val_acc: 0.0110\n",
      "Epoch 9/50\n",
      "3635/3635 [==============================] - 2s - loss: 5.9193 - acc: 0.0157 - val_loss: 6.0341 - val_acc: 0.0110\n",
      "Epoch 10/50\n",
      "3635/3635 [==============================] - 2s - loss: 5.9163 - acc: 0.0149 - val_loss: 6.0338 - val_acc: 0.0099\n",
      "Epoch 11/50\n",
      "3635/3635 [==============================] - 2s - loss: 5.9139 - acc: 0.0149 - val_loss: 6.0325 - val_acc: 0.0110\n",
      "Epoch 12/50\n",
      "3635/3635 [==============================] - 2s - loss: 5.9114 - acc: 0.0162 - val_loss: 6.0322 - val_acc: 0.0099\n",
      "Epoch 13/50\n",
      "3635/3635 [==============================] - 2s - loss: 5.9095 - acc: 0.0143 - val_loss: 6.0313 - val_acc: 0.0099\n",
      "Epoch 14/50\n",
      "3635/3635 [==============================] - 2s - loss: 5.9062 - acc: 0.0146 - val_loss: 6.0309 - val_acc: 0.0110\n",
      "Epoch 15/50\n",
      "3635/3635 [==============================] - 2s - loss: 5.9038 - acc: 0.0143 - val_loss: 6.0310 - val_acc: 0.0088\n",
      "Epoch 16/50\n",
      "3635/3635 [==============================] - 2s - loss: 5.9021 - acc: 0.0151 - val_loss: 6.0303 - val_acc: 0.0088\n",
      "Epoch 17/50\n",
      "3635/3635 [==============================] - 2s - loss: 5.8992 - acc: 0.0157 - val_loss: 6.0294 - val_acc: 0.0099\n",
      "Epoch 18/50\n",
      "3635/3635 [==============================] - 2s - loss: 5.8968 - acc: 0.0143 - val_loss: 6.0290 - val_acc: 0.0088\n",
      "Epoch 19/50\n",
      "3635/3635 [==============================] - 2s - loss: 5.8944 - acc: 0.0143 - val_loss: 6.0279 - val_acc: 0.0088\n",
      "Epoch 20/50\n",
      "3635/3635 [==============================] - 2s - loss: 5.8923 - acc: 0.0140 - val_loss: 6.0273 - val_acc: 0.0088\n",
      "Epoch 21/50\n",
      "3635/3635 [==============================] - 2s - loss: 5.8909 - acc: 0.0157 - val_loss: 6.0266 - val_acc: 0.0088\n",
      "Epoch 22/50\n",
      "3635/3635 [==============================] - 2s - loss: 5.8872 - acc: 0.0160 - val_loss: 6.0265 - val_acc: 0.0088\n",
      "Epoch 23/50\n",
      "3635/3635 [==============================] - 2s - loss: 5.8850 - acc: 0.0154 - val_loss: 6.0259 - val_acc: 0.0088\n",
      "Epoch 24/50\n",
      "3635/3635 [==============================] - 2s - loss: 5.8830 - acc: 0.0146 - val_loss: 6.0259 - val_acc: 0.0088\n",
      "Epoch 25/50\n",
      "3635/3635 [==============================] - 2s - loss: 5.8808 - acc: 0.0143 - val_loss: 6.0248 - val_acc: 0.0088\n",
      "Epoch 26/50\n",
      "3635/3635 [==============================] - 2s - loss: 5.8788 - acc: 0.0135 - val_loss: 6.0240 - val_acc: 0.0088\n",
      "Epoch 27/50\n",
      "3635/3635 [==============================] - 2s - loss: 5.8768 - acc: 0.0138 - val_loss: 6.0243 - val_acc: 0.0088\n",
      "Epoch 28/50\n",
      "3635/3635 [==============================] - 2s - loss: 5.8739 - acc: 0.0154 - val_loss: 6.0240 - val_acc: 0.0088\n",
      "Epoch 29/50\n",
      "3635/3635 [==============================] - 2s - loss: 5.8704 - acc: 0.0143 - val_loss: 6.0235 - val_acc: 0.0099\n",
      "Epoch 30/50\n",
      "3635/3635 [==============================] - 2s - loss: 5.8695 - acc: 0.0132 - val_loss: 6.0232 - val_acc: 0.0088\n",
      "Epoch 31/50\n",
      "3635/3635 [==============================] - 2s - loss: 5.8668 - acc: 0.0157 - val_loss: 6.0221 - val_acc: 0.0088\n",
      "Epoch 32/50\n",
      "3635/3635 [==============================] - 2s - loss: 5.8641 - acc: 0.0154 - val_loss: 6.0219 - val_acc: 0.0099\n",
      "Epoch 33/50\n",
      "3635/3635 [==============================] - 2s - loss: 5.8613 - acc: 0.0149 - val_loss: 6.0223 - val_acc: 0.0088\n",
      "Epoch 34/50\n",
      "3635/3635 [==============================] - 2s - loss: 5.8603 - acc: 0.0138 - val_loss: 6.0208 - val_acc: 0.0088\n",
      "Epoch 35/50\n",
      "3635/3635 [==============================] - 2s - loss: 5.8579 - acc: 0.0146 - val_loss: 6.0219 - val_acc: 0.0088\n",
      "Epoch 36/50\n",
      "3635/3635 [==============================] - 2s - loss: 5.8565 - acc: 0.0138 - val_loss: 6.0215 - val_acc: 0.0088\n",
      "Epoch 37/50\n",
      "3635/3635 [==============================] - 2s - loss: 5.8544 - acc: 0.0132 - val_loss: 6.0211 - val_acc: 0.0088\n",
      "Epoch 38/50\n",
      "3635/3635 [==============================] - 2s - loss: 5.8512 - acc: 0.0146 - val_loss: 6.0189 - val_acc: 0.0088\n",
      "Epoch 39/50\n",
      "3635/3635 [==============================] - 2s - loss: 5.8504 - acc: 0.0143 - val_loss: 6.0189 - val_acc: 0.0088\n",
      "Epoch 40/50\n",
      "3635/3635 [==============================] - 2s - loss: 5.8480 - acc: 0.0143 - val_loss: 6.0196 - val_acc: 0.0088\n",
      "Epoch 41/50\n",
      "3635/3635 [==============================] - 2s - loss: 5.8447 - acc: 0.0135 - val_loss: 6.0193 - val_acc: 0.0088\n",
      "Epoch 42/50\n",
      "3635/3635 [==============================] - 2s - loss: 5.8420 - acc: 0.0162 - val_loss: 6.0191 - val_acc: 0.0088\n",
      "Epoch 43/50\n",
      "3635/3635 [==============================] - 2s - loss: 5.8399 - acc: 0.0146 - val_loss: 6.0184 - val_acc: 0.0088\n",
      "Epoch 44/50\n",
      "3635/3635 [==============================] - 2s - loss: 5.8393 - acc: 0.0124 - val_loss: 6.0188 - val_acc: 0.0088\n",
      "Epoch 45/50\n",
      "3635/3635 [==============================] - 2s - loss: 5.8364 - acc: 0.0135 - val_loss: 6.0174 - val_acc: 0.0099\n",
      "Epoch 46/50\n",
      "3635/3635 [==============================] - 2s - loss: 5.8343 - acc: 0.0132 - val_loss: 6.0178 - val_acc: 0.0099\n",
      "Epoch 47/50\n",
      "3635/3635 [==============================] - 2s - loss: 5.8319 - acc: 0.0146 - val_loss: 6.0175 - val_acc: 0.0099\n",
      "Epoch 48/50\n",
      "3635/3635 [==============================] - 2s - loss: 5.8299 - acc: 0.0138 - val_loss: 6.0177 - val_acc: 0.0099\n",
      "Epoch 49/50\n",
      "3635/3635 [==============================] - 2s - loss: 5.8272 - acc: 0.0138 - val_loss: 6.0173 - val_acc: 0.0099\n",
      "Epoch 50/50\n",
      "3635/3635 [==============================] - 2s - loss: 5.8246 - acc: 0.0154 - val_loss: 6.0161 - val_acc: 0.0099\n"
     ]
    },
    {
     "data": {
      "text/plain": [
       "<keras.callbacks.History at 0x7f82a7931d10>"
      ]
     },
     "execution_count": 39,
     "metadata": {},
     "output_type": "execute_result"
    }
   ],
   "source": [
    "cfc_model.fit(tr_features, tr_labels,batch_size=batch_size, validation_data=(val_features, val_labels), nb_epoch=50)`"
   ]
  },
  {
   "cell_type": "code",
   "execution_count": null,
   "metadata": {
    "collapsed": true
   },
   "outputs": [],
   "source": []
  },
  {
   "cell_type": "code",
   "execution_count": null,
   "metadata": {
    "collapsed": true
   },
   "outputs": [],
   "source": []
  },
  {
   "cell_type": "markdown",
   "metadata": {},
   "source": [
    "# Train all FC layers"
   ]
  },
  {
   "cell_type": "code",
   "execution_count": 49,
   "metadata": {
    "collapsed": false
   },
   "outputs": [],
   "source": [
    "fc_model = get_fc_model()"
   ]
  },
  {
   "cell_type": "code",
   "execution_count": 50,
   "metadata": {
    "collapsed": true
   },
   "outputs": [],
   "source": [
    "fc_model.layers = fc_model.layers[:-1]"
   ]
  },
  {
   "cell_type": "code",
   "execution_count": 51,
   "metadata": {
    "collapsed": true
   },
   "outputs": [],
   "source": [
    "fc_model.add(Dense(num_class, activation='softmax'))"
   ]
  },
  {
   "cell_type": "code",
   "execution_count": 52,
   "metadata": {
    "collapsed": false
   },
   "outputs": [],
   "source": [
    "fc_model.compile(RMSprop(lr=0.00001), 'sparse_categorical_crossentropy', metrics=['accuracy'])"
   ]
  },
  {
   "cell_type": "code",
   "execution_count": 53,
   "metadata": {
    "collapsed": false
   },
   "outputs": [
    {
     "name": "stdout",
     "output_type": "stream",
     "text": [
      "Train on 3635 samples, validate on 909 samples\n",
      "Epoch 1/3\n",
      "3635/3635 [==============================] - 6s - loss: 6.1025 - acc: 0.0022 - val_loss: 6.1018 - val_acc: 0.0011\n",
      "Epoch 2/3\n",
      "3635/3635 [==============================] - 6s - loss: 6.0999 - acc: 0.0039 - val_loss: 6.1022 - val_acc: 0.0044\n",
      "Epoch 3/3\n",
      "3635/3635 [==============================] - 6s - loss: 6.0973 - acc: 0.0063 - val_loss: 6.1023 - val_acc: 0.0055\n"
     ]
    },
    {
     "data": {
      "text/plain": [
       "<keras.callbacks.History at 0x7f82a1504950>"
      ]
     },
     "execution_count": 53,
     "metadata": {},
     "output_type": "execute_result"
    }
   ],
   "source": [
    "fc_model.fit(tr_features, \n",
    "             tr_labels,\n",
    "             batch_size=batch_size, \n",
    "             validation_data=(val_features, val_labels), \n",
    "             nb_epoch=3)"
   ]
  },
  {
   "cell_type": "code",
   "execution_count": 54,
   "metadata": {
    "collapsed": true
   },
   "outputs": [],
   "source": [
    "fc_model.optimizer.lr = 0.001"
   ]
  },
  {
   "cell_type": "code",
   "execution_count": 55,
   "metadata": {
    "collapsed": false
   },
   "outputs": [
    {
     "name": "stdout",
     "output_type": "stream",
     "text": [
      "Train on 3635 samples, validate on 909 samples\n",
      "Epoch 1/3\n",
      "3635/3635 [==============================] - 6s - loss: 6.0951 - acc: 0.0074 - val_loss: 6.1022 - val_acc: 0.0044\n",
      "Epoch 2/3\n",
      "3635/3635 [==============================] - 6s - loss: 6.0926 - acc: 0.0083 - val_loss: 6.1018 - val_acc: 0.0055\n",
      "Epoch 3/3\n",
      "3635/3635 [==============================] - 6s - loss: 6.0904 - acc: 0.0096 - val_loss: 6.1017 - val_acc: 0.0033\n"
     ]
    },
    {
     "data": {
      "text/plain": [
       "<keras.callbacks.History at 0x7f82a148e110>"
      ]
     },
     "execution_count": 55,
     "metadata": {},
     "output_type": "execute_result"
    }
   ],
   "source": [
    "fc_model.fit(tr_features, \n",
    "             tr_labels,\n",
    "             batch_size=batch_size, \n",
    "             validation_data=(val_features, val_labels), \n",
    "             nb_epoch=3)"
   ]
  },
  {
   "cell_type": "code",
   "execution_count": 56,
   "metadata": {
    "collapsed": true
   },
   "outputs": [],
   "source": [
    "fc_model.optimizer.lr = 0.01"
   ]
  },
  {
   "cell_type": "code",
   "execution_count": 57,
   "metadata": {
    "collapsed": false
   },
   "outputs": [
    {
     "name": "stdout",
     "output_type": "stream",
     "text": [
      "Train on 3635 samples, validate on 909 samples\n",
      "Epoch 1/10\n",
      "3635/3635 [==============================] - 6s - loss: 6.0879 - acc: 0.0102 - val_loss: 6.1021 - val_acc: 0.0033\n",
      "Epoch 2/10\n",
      "3635/3635 [==============================] - 6s - loss: 6.0854 - acc: 0.0116 - val_loss: 6.1022 - val_acc: 0.0033\n",
      "Epoch 3/10\n",
      "3635/3635 [==============================] - 6s - loss: 6.0834 - acc: 0.0127 - val_loss: 6.1013 - val_acc: 0.0033\n",
      "Epoch 4/10\n",
      "3635/3635 [==============================] - 6s - loss: 6.0815 - acc: 0.0135 - val_loss: 6.1013 - val_acc: 0.0022\n",
      "Epoch 5/10\n",
      "3635/3635 [==============================] - 6s - loss: 6.0792 - acc: 0.0160 - val_loss: 6.1013 - val_acc: 0.0022\n",
      "Epoch 6/10\n",
      "3635/3635 [==============================] - 6s - loss: 6.0773 - acc: 0.0160 - val_loss: 6.1010 - val_acc: 0.0044\n",
      "Epoch 7/10\n",
      "3635/3635 [==============================] - 6s - loss: 6.0752 - acc: 0.0168 - val_loss: 6.1009 - val_acc: 0.0044\n",
      "Epoch 8/10\n",
      "3635/3635 [==============================] - 6s - loss: 6.0732 - acc: 0.0182 - val_loss: 6.1009 - val_acc: 0.0055\n",
      "Epoch 9/10\n",
      "3635/3635 [==============================] - 6s - loss: 6.0715 - acc: 0.0245 - val_loss: 6.1000 - val_acc: 0.0044\n",
      "Epoch 10/10\n",
      "3635/3635 [==============================] - 6s - loss: 6.0697 - acc: 0.0242 - val_loss: 6.1007 - val_acc: 0.0033\n"
     ]
    },
    {
     "data": {
      "text/plain": [
       "<keras.callbacks.History at 0x7f82a148e190>"
      ]
     },
     "execution_count": 57,
     "metadata": {},
     "output_type": "execute_result"
    }
   ],
   "source": [
    "fc_model.fit(tr_features, \n",
    "             tr_labels,\n",
    "             batch_size=batch_size, \n",
    "             validation_data=(val_features, val_labels), \n",
    "             nb_epoch=10)"
   ]
  },
  {
   "cell_type": "code",
   "execution_count": null,
   "metadata": {
    "collapsed": true
   },
   "outputs": [],
   "source": []
  },
  {
   "cell_type": "markdown",
   "metadata": {},
   "source": [
    "# Less Dropout"
   ]
  },
  {
   "cell_type": "code",
   "execution_count": 14,
   "metadata": {
    "collapsed": true
   },
   "outputs": [],
   "source": [
    "def proc_wgts(layer): return [o/2 for o in layer.get_weights()]"
   ]
  },
  {
   "cell_type": "code",
   "execution_count": 11,
   "metadata": {
    "collapsed": true
   },
   "outputs": [],
   "source": [
    "def get_fc_model():\n",
    "    model = Sequential([\n",
    "            MaxPooling2D(input_shape=conv_layers[-1].output_shape[1:]),\n",
    "            Flatten(),\n",
    "            Dense(4096, activation='relu'),\n",
    "            Dropout(0.),\n",
    "            Dense(4096, activation='relu'),\n",
    "            Dropout(0.),\n",
    "            Dense(1000, activation='softmax')\n",
    "        ])\n",
    "    \n",
    "    for l1, l2, in zip(model.layers, fc_layers): l1.set_weights(proc_wgts(l2))\n",
    "    return model"
   ]
  },
  {
   "cell_type": "code",
   "execution_count": 60,
   "metadata": {
    "collapsed": false
   },
   "outputs": [],
   "source": [
    "fc_model = get_fc_model()"
   ]
  },
  {
   "cell_type": "code",
   "execution_count": 61,
   "metadata": {
    "collapsed": true
   },
   "outputs": [],
   "source": [
    "fc_model.layers = fc_model.layers[:-1]"
   ]
  },
  {
   "cell_type": "code",
   "execution_count": 62,
   "metadata": {
    "collapsed": false
   },
   "outputs": [],
   "source": [
    "for l in fc_model.layers: l.trainable = False"
   ]
  },
  {
   "cell_type": "code",
   "execution_count": 63,
   "metadata": {
    "collapsed": true
   },
   "outputs": [],
   "source": [
    "fc_model.add(Dense(num_class, activation='softmax'))"
   ]
  },
  {
   "cell_type": "code",
   "execution_count": 64,
   "metadata": {
    "collapsed": false
   },
   "outputs": [
    {
     "name": "stdout",
     "output_type": "stream",
     "text": [
      "____________________________________________________________________________________________________\n",
      "Layer (type)                     Output Shape          Param #     Connected to                     \n",
      "====================================================================================================\n",
      "maxpooling2d_12 (MaxPooling2D)   (None, 512, 7, 7)     0           maxpooling2d_input_6[0][0]       \n",
      "____________________________________________________________________________________________________\n",
      "flatten_7 (Flatten)              (None, 25088)         0           maxpooling2d_12[0][0]            \n",
      "____________________________________________________________________________________________________\n",
      "dense_22 (Dense)                 (None, 4096)          0           flatten_7[0][0]                  \n",
      "____________________________________________________________________________________________________\n",
      "dropout_13 (Dropout)             (None, 4096)          0           dense_22[0][0]                   \n",
      "____________________________________________________________________________________________________\n",
      "dense_23 (Dense)                 (None, 4096)          0           dropout_13[0][0]                 \n",
      "____________________________________________________________________________________________________\n",
      "dropout_14 (Dropout)             (None, 4096)          0           dense_23[0][0]                   \n",
      "____________________________________________________________________________________________________\n",
      "dense_25 (Dense)                 (None, 447)           447447      dense_24[0][0]                   \n",
      "====================================================================================================\n",
      "Total params: 447447\n",
      "____________________________________________________________________________________________________\n"
     ]
    }
   ],
   "source": [
    "fc_model.summary()"
   ]
  },
  {
   "cell_type": "code",
   "execution_count": 65,
   "metadata": {
    "collapsed": true
   },
   "outputs": [],
   "source": [
    "fc_model.compile(Adam(lr=0.0001), 'sparse_categorical_crossentropy', metrics=['accuracy'])"
   ]
  },
  {
   "cell_type": "code",
   "execution_count": 66,
   "metadata": {
    "collapsed": false
   },
   "outputs": [
    {
     "name": "stdout",
     "output_type": "stream",
     "text": [
      "Train on 3635 samples, validate on 909 samples\n",
      "Epoch 1/5\n",
      "3635/3635 [==============================] - 2s - loss: 6.1014 - acc: 0.0044 - val_loss: 6.1001 - val_acc: 0.0154\n",
      "Epoch 2/5\n",
      "3635/3635 [==============================] - 2s - loss: 6.0976 - acc: 0.0085 - val_loss: 6.0966 - val_acc: 0.0066\n",
      "Epoch 3/5\n",
      "3635/3635 [==============================] - 2s - loss: 6.0928 - acc: 0.0072 - val_loss: 6.0926 - val_acc: 0.0022\n",
      "Epoch 4/5\n",
      "3635/3635 [==============================] - 2s - loss: 6.0889 - acc: 0.0072 - val_loss: 6.0896 - val_acc: 0.0022\n",
      "Epoch 5/5\n",
      "3635/3635 [==============================] - 2s - loss: 6.0858 - acc: 0.0072 - val_loss: 6.0875 - val_acc: 0.0022\n"
     ]
    },
    {
     "data": {
      "text/plain": [
       "<keras.callbacks.History at 0x7f82a0eaa3d0>"
      ]
     },
     "execution_count": 66,
     "metadata": {},
     "output_type": "execute_result"
    }
   ],
   "source": [
    "fc_model.fit(tr_features, \n",
    "             tr_labels,\n",
    "             batch_size=batch_size, \n",
    "             validation_data=(val_features, val_labels), \n",
    "             nb_epoch=5)"
   ]
  },
  {
   "cell_type": "code",
   "execution_count": 67,
   "metadata": {
    "collapsed": false
   },
   "outputs": [
    {
     "name": "stdout",
     "output_type": "stream",
     "text": [
      "Train on 3635 samples, validate on 909 samples\n",
      "Epoch 1/25\n",
      "3635/3635 [==============================] - 2s - loss: 6.0832 - acc: 0.0072 - val_loss: 6.0856 - val_acc: 0.0022\n",
      "Epoch 2/25\n",
      "3635/3635 [==============================] - 2s - loss: 6.0808 - acc: 0.0072 - val_loss: 6.0839 - val_acc: 0.0022\n",
      "Epoch 3/25\n",
      "3635/3635 [==============================] - 2s - loss: 6.0785 - acc: 0.0072 - val_loss: 6.0823 - val_acc: 0.0022\n",
      "Epoch 4/25\n",
      "3635/3635 [==============================] - 2s - loss: 6.0762 - acc: 0.0072 - val_loss: 6.0809 - val_acc: 0.0022\n",
      "Epoch 5/25\n",
      "3635/3635 [==============================] - 2s - loss: 6.0740 - acc: 0.0072 - val_loss: 6.0794 - val_acc: 0.0022\n",
      "Epoch 6/25\n",
      "3635/3635 [==============================] - 2s - loss: 6.0718 - acc: 0.0072 - val_loss: 6.0782 - val_acc: 0.0022\n",
      "Epoch 7/25\n",
      "3635/3635 [==============================] - 2s - loss: 6.0695 - acc: 0.0077 - val_loss: 6.0768 - val_acc: 0.0022\n",
      "Epoch 8/25\n",
      "3635/3635 [==============================] - 2s - loss: 6.0672 - acc: 0.0077 - val_loss: 6.0757 - val_acc: 0.0033\n",
      "Epoch 9/25\n",
      "3635/3635 [==============================] - 2s - loss: 6.0649 - acc: 0.0083 - val_loss: 6.0744 - val_acc: 0.0022\n",
      "Epoch 10/25\n",
      "3635/3635 [==============================] - 2s - loss: 6.0625 - acc: 0.0091 - val_loss: 6.0730 - val_acc: 0.0044\n",
      "Epoch 11/25\n",
      "3635/3635 [==============================] - 2s - loss: 6.0603 - acc: 0.0091 - val_loss: 6.0716 - val_acc: 0.0055\n",
      "Epoch 12/25\n",
      "3635/3635 [==============================] - 2s - loss: 6.0580 - acc: 0.0099 - val_loss: 6.0702 - val_acc: 0.0044\n",
      "Epoch 13/25\n",
      "3635/3635 [==============================] - 2s - loss: 6.0558 - acc: 0.0096 - val_loss: 6.0688 - val_acc: 0.0066\n",
      "Epoch 14/25\n",
      "3635/3635 [==============================] - 2s - loss: 6.0537 - acc: 0.0102 - val_loss: 6.0675 - val_acc: 0.0077\n",
      "Epoch 15/25\n",
      "3635/3635 [==============================] - 2s - loss: 6.0515 - acc: 0.0107 - val_loss: 6.0660 - val_acc: 0.0066\n",
      "Epoch 16/25\n",
      "3635/3635 [==============================] - 2s - loss: 6.0495 - acc: 0.0107 - val_loss: 6.0646 - val_acc: 0.0077\n",
      "Epoch 17/25\n",
      "3635/3635 [==============================] - 2s - loss: 6.0475 - acc: 0.0110 - val_loss: 6.0632 - val_acc: 0.0077\n",
      "Epoch 18/25\n",
      "3635/3635 [==============================] - 2s - loss: 6.0455 - acc: 0.0099 - val_loss: 6.0618 - val_acc: 0.0099\n",
      "Epoch 19/25\n",
      "3635/3635 [==============================] - 2s - loss: 6.0435 - acc: 0.0107 - val_loss: 6.0607 - val_acc: 0.0099\n",
      "Epoch 20/25\n",
      "3635/3635 [==============================] - 2s - loss: 6.0417 - acc: 0.0105 - val_loss: 6.0594 - val_acc: 0.0099\n",
      "Epoch 21/25\n",
      "3635/3635 [==============================] - 2s - loss: 6.0399 - acc: 0.0105 - val_loss: 6.0580 - val_acc: 0.0099\n",
      "Epoch 22/25\n",
      "3635/3635 [==============================] - 2s - loss: 6.0380 - acc: 0.0105 - val_loss: 6.0566 - val_acc: 0.0099\n",
      "Epoch 23/25\n",
      "3635/3635 [==============================] - 2s - loss: 6.0361 - acc: 0.0105 - val_loss: 6.0558 - val_acc: 0.0099\n",
      "Epoch 24/25\n",
      "3635/3635 [==============================] - 2s - loss: 6.0344 - acc: 0.0105 - val_loss: 6.0547 - val_acc: 0.0099\n",
      "Epoch 25/25\n",
      "3635/3635 [==============================] - 2s - loss: 6.0326 - acc: 0.0105 - val_loss: 6.0532 - val_acc: 0.0099\n"
     ]
    },
    {
     "data": {
      "text/plain": [
       "<keras.callbacks.History at 0x7f82a071bf50>"
      ]
     },
     "execution_count": 67,
     "metadata": {},
     "output_type": "execute_result"
    }
   ],
   "source": [
    "fc_model.fit(tr_features, \n",
    "             tr_labels,\n",
    "             batch_size=batch_size, \n",
    "             validation_data=(val_features, val_labels), \n",
    "             nb_epoch=25)"
   ]
  },
  {
   "cell_type": "code",
   "execution_count": 68,
   "metadata": {
    "collapsed": false
   },
   "outputs": [
    {
     "name": "stdout",
     "output_type": "stream",
     "text": [
      "Train on 3635 samples, validate on 909 samples\n",
      "Epoch 1/25\n",
      "3635/3635 [==============================] - 2s - loss: 6.0309 - acc: 0.0105 - val_loss: 6.0521 - val_acc: 0.0099\n",
      "Epoch 2/25\n",
      "3635/3635 [==============================] - 2s - loss: 6.0291 - acc: 0.0105 - val_loss: 6.0513 - val_acc: 0.0099\n",
      "Epoch 3/25\n",
      "3635/3635 [==============================] - 2s - loss: 6.0275 - acc: 0.0105 - val_loss: 6.0500 - val_acc: 0.0099\n",
      "Epoch 4/25\n",
      "3635/3635 [==============================] - 2s - loss: 6.0258 - acc: 0.0105 - val_loss: 6.0489 - val_acc: 0.0099\n",
      "Epoch 5/25\n",
      "3635/3635 [==============================] - 2s - loss: 6.0242 - acc: 0.0105 - val_loss: 6.0479 - val_acc: 0.0099\n",
      "Epoch 6/25\n",
      "3635/3635 [==============================] - 2s - loss: 6.0226 - acc: 0.0105 - val_loss: 6.0469 - val_acc: 0.0099\n",
      "Epoch 7/25\n",
      "3635/3635 [==============================] - 2s - loss: 6.0210 - acc: 0.0105 - val_loss: 6.0459 - val_acc: 0.0099\n",
      "Epoch 8/25\n",
      "3635/3635 [==============================] - 2s - loss: 6.0194 - acc: 0.0105 - val_loss: 6.0450 - val_acc: 0.0099\n",
      "Epoch 9/25\n",
      "3635/3635 [==============================] - 2s - loss: 6.0178 - acc: 0.0105 - val_loss: 6.0441 - val_acc: 0.0099\n",
      "Epoch 10/25\n",
      "3635/3635 [==============================] - 2s - loss: 6.0163 - acc: 0.0105 - val_loss: 6.0431 - val_acc: 0.0099\n",
      "Epoch 11/25\n",
      "3635/3635 [==============================] - 2s - loss: 6.0147 - acc: 0.0105 - val_loss: 6.0419 - val_acc: 0.0099\n",
      "Epoch 12/25\n",
      "3635/3635 [==============================] - 2s - loss: 6.0132 - acc: 0.0105 - val_loss: 6.0407 - val_acc: 0.0099\n",
      "Epoch 13/25\n",
      "3635/3635 [==============================] - 2s - loss: 6.0117 - acc: 0.0105 - val_loss: 6.0404 - val_acc: 0.0099\n",
      "Epoch 14/25\n",
      "3635/3635 [==============================] - 2s - loss: 6.0103 - acc: 0.0105 - val_loss: 6.0395 - val_acc: 0.0099\n",
      "Epoch 15/25\n",
      "3635/3635 [==============================] - 2s - loss: 6.0087 - acc: 0.0105 - val_loss: 6.0385 - val_acc: 0.0099\n",
      "Epoch 16/25\n",
      "3635/3635 [==============================] - 2s - loss: 6.0073 - acc: 0.0105 - val_loss: 6.0378 - val_acc: 0.0099\n",
      "Epoch 17/25\n",
      "3635/3635 [==============================] - 2s - loss: 6.0058 - acc: 0.0105 - val_loss: 6.0368 - val_acc: 0.0099\n",
      "Epoch 18/25\n",
      "3635/3635 [==============================] - 2s - loss: 6.0044 - acc: 0.0105 - val_loss: 6.0360 - val_acc: 0.0099\n",
      "Epoch 19/25\n",
      "3635/3635 [==============================] - 2s - loss: 6.0030 - acc: 0.0105 - val_loss: 6.0348 - val_acc: 0.0099\n",
      "Epoch 20/25\n",
      "3635/3635 [==============================] - 2s - loss: 6.0016 - acc: 0.0105 - val_loss: 6.0348 - val_acc: 0.0099\n",
      "Epoch 21/25\n",
      "3635/3635 [==============================] - 2s - loss: 6.0003 - acc: 0.0105 - val_loss: 6.0333 - val_acc: 0.0099\n",
      "Epoch 22/25\n",
      "3635/3635 [==============================] - 2s - loss: 5.9988 - acc: 0.0105 - val_loss: 6.0325 - val_acc: 0.0099\n",
      "Epoch 23/25\n",
      "3635/3635 [==============================] - 2s - loss: 5.9974 - acc: 0.0105 - val_loss: 6.0322 - val_acc: 0.0099\n",
      "Epoch 24/25\n",
      "3635/3635 [==============================] - 2s - loss: 5.9960 - acc: 0.0105 - val_loss: 6.0312 - val_acc: 0.0099\n",
      "Epoch 25/25\n",
      "3635/3635 [==============================] - 2s - loss: 5.9947 - acc: 0.0105 - val_loss: 6.0306 - val_acc: 0.0099\n"
     ]
    },
    {
     "data": {
      "text/plain": [
       "<keras.callbacks.History at 0x7f82a1504f10>"
      ]
     },
     "execution_count": 68,
     "metadata": {},
     "output_type": "execute_result"
    }
   ],
   "source": [
    "fc_model.fit(tr_features, \n",
    "             tr_labels,\n",
    "             batch_size=batch_size, \n",
    "             validation_data=(val_features, val_labels), \n",
    "             nb_epoch=25)"
   ]
  },
  {
   "cell_type": "code",
   "execution_count": 69,
   "metadata": {
    "collapsed": false
   },
   "outputs": [
    {
     "name": "stdout",
     "output_type": "stream",
     "text": [
      "Train on 3635 samples, validate on 909 samples\n",
      "Epoch 1/25\n",
      "3635/3635 [==============================] - 2s - loss: 5.9934 - acc: 0.0105 - val_loss: 6.0301 - val_acc: 0.0099\n",
      "Epoch 2/25\n",
      "3635/3635 [==============================] - 2s - loss: 5.9920 - acc: 0.0105 - val_loss: 6.0292 - val_acc: 0.0099\n",
      "Epoch 3/25\n",
      "3635/3635 [==============================] - 2s - loss: 5.9907 - acc: 0.0105 - val_loss: 6.0284 - val_acc: 0.0099\n",
      "Epoch 4/25\n",
      "3635/3635 [==============================] - 2s - loss: 5.9893 - acc: 0.0105 - val_loss: 6.0274 - val_acc: 0.0099\n",
      "Epoch 5/25\n",
      "3635/3635 [==============================] - 2s - loss: 5.9880 - acc: 0.0105 - val_loss: 6.0271 - val_acc: 0.0099\n",
      "Epoch 6/25\n",
      "3635/3635 [==============================] - 2s - loss: 5.9868 - acc: 0.0105 - val_loss: 6.0259 - val_acc: 0.0099\n",
      "Epoch 7/25\n",
      "3635/3635 [==============================] - 2s - loss: 5.9854 - acc: 0.0105 - val_loss: 6.0259 - val_acc: 0.0099\n",
      "Epoch 8/25\n",
      "3635/3635 [==============================] - 2s - loss: 5.9841 - acc: 0.0105 - val_loss: 6.0252 - val_acc: 0.0099\n",
      "Epoch 9/25\n",
      "3635/3635 [==============================] - 2s - loss: 5.9829 - acc: 0.0105 - val_loss: 6.0242 - val_acc: 0.0099\n",
      "Epoch 10/25\n",
      "3635/3635 [==============================] - 2s - loss: 5.9817 - acc: 0.0105 - val_loss: 6.0239 - val_acc: 0.0099\n",
      "Epoch 11/25\n",
      "3635/3635 [==============================] - 2s - loss: 5.9803 - acc: 0.0105 - val_loss: 6.0227 - val_acc: 0.0099\n",
      "Epoch 12/25\n",
      "3635/3635 [==============================] - 2s - loss: 5.9791 - acc: 0.0105 - val_loss: 6.0224 - val_acc: 0.0099\n",
      "Epoch 13/25\n",
      "3635/3635 [==============================] - 2s - loss: 5.9778 - acc: 0.0105 - val_loss: 6.0215 - val_acc: 0.0099\n",
      "Epoch 14/25\n",
      "3635/3635 [==============================] - 2s - loss: 5.9766 - acc: 0.0105 - val_loss: 6.0208 - val_acc: 0.0099\n",
      "Epoch 15/25\n",
      "3635/3635 [==============================] - 2s - loss: 5.9754 - acc: 0.0105 - val_loss: 6.0204 - val_acc: 0.0099\n",
      "Epoch 16/25\n",
      "3635/3635 [==============================] - 2s - loss: 5.9741 - acc: 0.0105 - val_loss: 6.0200 - val_acc: 0.0099\n",
      "Epoch 17/25\n",
      "3635/3635 [==============================] - 2s - loss: 5.9729 - acc: 0.0105 - val_loss: 6.0191 - val_acc: 0.0099\n",
      "Epoch 18/25\n",
      "3635/3635 [==============================] - 2s - loss: 5.9717 - acc: 0.0105 - val_loss: 6.0187 - val_acc: 0.0099\n",
      "Epoch 19/25\n",
      "3635/3635 [==============================] - 2s - loss: 5.9704 - acc: 0.0105 - val_loss: 6.0183 - val_acc: 0.0099\n",
      "Epoch 20/25\n",
      "3635/3635 [==============================] - 2s - loss: 5.9692 - acc: 0.0105 - val_loss: 6.0177 - val_acc: 0.0099\n",
      "Epoch 21/25\n",
      "3635/3635 [==============================] - 2s - loss: 5.9681 - acc: 0.0105 - val_loss: 6.0170 - val_acc: 0.0099\n",
      "Epoch 22/25\n",
      "3635/3635 [==============================] - 2s - loss: 5.9669 - acc: 0.0105 - val_loss: 6.0162 - val_acc: 0.0099\n",
      "Epoch 23/25\n",
      "3635/3635 [==============================] - 2s - loss: 5.9657 - acc: 0.0105 - val_loss: 6.0161 - val_acc: 0.0099\n",
      "Epoch 24/25\n",
      "3635/3635 [==============================] - 2s - loss: 5.9645 - acc: 0.0105 - val_loss: 6.0152 - val_acc: 0.0099\n",
      "Epoch 25/25\n",
      "3635/3635 [==============================] - 2s - loss: 5.9634 - acc: 0.0105 - val_loss: 6.0148 - val_acc: 0.0099\n"
     ]
    },
    {
     "data": {
      "text/plain": [
       "<keras.callbacks.History at 0x7f82a1504bd0>"
      ]
     },
     "execution_count": 69,
     "metadata": {},
     "output_type": "execute_result"
    }
   ],
   "source": [
    "fc_model.fit(tr_features, \n",
    "             tr_labels,\n",
    "             batch_size=batch_size, \n",
    "             validation_data=(val_features, val_labels), \n",
    "             nb_epoch=25)"
   ]
  },
  {
   "cell_type": "code",
   "execution_count": 70,
   "metadata": {
    "collapsed": false
   },
   "outputs": [
    {
     "name": "stdout",
     "output_type": "stream",
     "text": [
      "Train on 3635 samples, validate on 909 samples\n",
      "Epoch 1/25\n",
      "3635/3635 [==============================] - 2s - loss: 5.9621 - acc: 0.0105 - val_loss: 6.0142 - val_acc: 0.0099\n",
      "Epoch 2/25\n",
      "3635/3635 [==============================] - 2s - loss: 5.9610 - acc: 0.0105 - val_loss: 6.0136 - val_acc: 0.0099\n",
      "Epoch 3/25\n",
      "3635/3635 [==============================] - 2s - loss: 5.9599 - acc: 0.0105 - val_loss: 6.0134 - val_acc: 0.0099\n",
      "Epoch 4/25\n",
      "3635/3635 [==============================] - 2s - loss: 5.9587 - acc: 0.0105 - val_loss: 6.0127 - val_acc: 0.0099\n",
      "Epoch 5/25\n",
      "3635/3635 [==============================] - 2s - loss: 5.9576 - acc: 0.0105 - val_loss: 6.0123 - val_acc: 0.0099\n",
      "Epoch 6/25\n",
      "3635/3635 [==============================] - 2s - loss: 5.9565 - acc: 0.0105 - val_loss: 6.0118 - val_acc: 0.0099\n",
      "Epoch 7/25\n",
      "3635/3635 [==============================] - 2s - loss: 5.9553 - acc: 0.0105 - val_loss: 6.0116 - val_acc: 0.0099\n",
      "Epoch 8/25\n",
      "3635/3635 [==============================] - 2s - loss: 5.9542 - acc: 0.0105 - val_loss: 6.0106 - val_acc: 0.0099\n",
      "Epoch 9/25\n",
      "3635/3635 [==============================] - 2s - loss: 5.9531 - acc: 0.0105 - val_loss: 6.0103 - val_acc: 0.0099\n",
      "Epoch 10/25\n",
      "3635/3635 [==============================] - 2s - loss: 5.9520 - acc: 0.0105 - val_loss: 6.0100 - val_acc: 0.0099\n",
      "Epoch 11/25\n",
      "3635/3635 [==============================] - 2s - loss: 5.9509 - acc: 0.0105 - val_loss: 6.0095 - val_acc: 0.0099\n",
      "Epoch 12/25\n",
      "3635/3635 [==============================] - 2s - loss: 5.9498 - acc: 0.0105 - val_loss: 6.0089 - val_acc: 0.0099\n",
      "Epoch 13/25\n",
      "3635/3635 [==============================] - 2s - loss: 5.9487 - acc: 0.0105 - val_loss: 6.0085 - val_acc: 0.0099\n",
      "Epoch 14/25\n",
      "3635/3635 [==============================] - 2s - loss: 5.9476 - acc: 0.0105 - val_loss: 6.0082 - val_acc: 0.0099\n",
      "Epoch 15/25\n",
      "3635/3635 [==============================] - 2s - loss: 5.9465 - acc: 0.0105 - val_loss: 6.0076 - val_acc: 0.0099\n",
      "Epoch 16/25\n",
      "3635/3635 [==============================] - 2s - loss: 5.9455 - acc: 0.0105 - val_loss: 6.0070 - val_acc: 0.0099\n",
      "Epoch 17/25\n",
      "3635/3635 [==============================] - 2s - loss: 5.9445 - acc: 0.0105 - val_loss: 6.0068 - val_acc: 0.0099\n",
      "Epoch 18/25\n",
      "3635/3635 [==============================] - 2s - loss: 5.9434 - acc: 0.0105 - val_loss: 6.0064 - val_acc: 0.0099\n",
      "Epoch 19/25\n",
      "3635/3635 [==============================] - 2s - loss: 5.9423 - acc: 0.0105 - val_loss: 6.0060 - val_acc: 0.0099\n",
      "Epoch 20/25\n",
      "3635/3635 [==============================] - 2s - loss: 5.9413 - acc: 0.0105 - val_loss: 6.0058 - val_acc: 0.0099\n",
      "Epoch 21/25\n",
      "3635/3635 [==============================] - 2s - loss: 5.9403 - acc: 0.0105 - val_loss: 6.0052 - val_acc: 0.0099\n",
      "Epoch 22/25\n",
      "3635/3635 [==============================] - 2s - loss: 5.9392 - acc: 0.0105 - val_loss: 6.0046 - val_acc: 0.0099\n",
      "Epoch 23/25\n",
      "3635/3635 [==============================] - 2s - loss: 5.9382 - acc: 0.0105 - val_loss: 6.0044 - val_acc: 0.0099\n",
      "Epoch 24/25\n",
      "3635/3635 [==============================] - 2s - loss: 5.9372 - acc: 0.0105 - val_loss: 6.0042 - val_acc: 0.0099\n",
      "Epoch 25/25\n",
      "3635/3635 [==============================] - 2s - loss: 5.9362 - acc: 0.0105 - val_loss: 6.0040 - val_acc: 0.0099\n"
     ]
    },
    {
     "data": {
      "text/plain": [
       "<keras.callbacks.History at 0x7f82a0d35190>"
      ]
     },
     "execution_count": 70,
     "metadata": {},
     "output_type": "execute_result"
    }
   ],
   "source": [
    "fc_model.fit(tr_features, \n",
    "             tr_labels,\n",
    "             batch_size=batch_size, \n",
    "             validation_data=(val_features, val_labels), \n",
    "             nb_epoch=25)"
   ]
  },
  {
   "cell_type": "code",
   "execution_count": 71,
   "metadata": {
    "collapsed": false
   },
   "outputs": [
    {
     "name": "stdout",
     "output_type": "stream",
     "text": [
      "Train on 3635 samples, validate on 909 samples\n",
      "Epoch 1/25\n",
      "3635/3635 [==============================] - 2s - loss: 5.9351 - acc: 0.0105 - val_loss: 6.0032 - val_acc: 0.0099\n",
      "Epoch 2/25\n",
      "3635/3635 [==============================] - 2s - loss: 5.9341 - acc: 0.0105 - val_loss: 6.0028 - val_acc: 0.0099\n",
      "Epoch 3/25\n",
      "3635/3635 [==============================] - 2s - loss: 5.9331 - acc: 0.0105 - val_loss: 6.0026 - val_acc: 0.0099\n",
      "Epoch 4/25\n",
      "3635/3635 [==============================] - 2s - loss: 5.9321 - acc: 0.0105 - val_loss: 6.0026 - val_acc: 0.0099\n",
      "Epoch 5/25\n",
      "3635/3635 [==============================] - 2s - loss: 5.9312 - acc: 0.0105 - val_loss: 6.0022 - val_acc: 0.0099\n",
      "Epoch 6/25\n",
      "3635/3635 [==============================] - 2s - loss: 5.9301 - acc: 0.0105 - val_loss: 6.0020 - val_acc: 0.0099\n",
      "Epoch 7/25\n",
      "3635/3635 [==============================] - 2s - loss: 5.9294 - acc: 0.0105 - val_loss: 6.0013 - val_acc: 0.0099\n",
      "Epoch 8/25\n",
      "3635/3635 [==============================] - 2s - loss: 5.9283 - acc: 0.0105 - val_loss: 6.0010 - val_acc: 0.0099\n",
      "Epoch 9/25\n",
      "3635/3635 [==============================] - 2s - loss: 5.9272 - acc: 0.0105 - val_loss: 6.0005 - val_acc: 0.0099\n",
      "Epoch 10/25\n",
      "3635/3635 [==============================] - 2s - loss: 5.9264 - acc: 0.0105 - val_loss: 6.0003 - val_acc: 0.0099\n",
      "Epoch 11/25\n",
      "3635/3635 [==============================] - 2s - loss: 5.9253 - acc: 0.0105 - val_loss: 6.0001 - val_acc: 0.0099\n",
      "Epoch 12/25\n",
      "3635/3635 [==============================] - 2s - loss: 5.9244 - acc: 0.0105 - val_loss: 5.9997 - val_acc: 0.0099\n",
      "Epoch 13/25\n",
      "3635/3635 [==============================] - 2s - loss: 5.9234 - acc: 0.0105 - val_loss: 5.9994 - val_acc: 0.0099\n",
      "Epoch 14/25\n",
      "3635/3635 [==============================] - 2s - loss: 5.9225 - acc: 0.0105 - val_loss: 5.9992 - val_acc: 0.0099\n",
      "Epoch 15/25\n",
      "3635/3635 [==============================] - 2s - loss: 5.9216 - acc: 0.0105 - val_loss: 5.9990 - val_acc: 0.0099\n",
      "Epoch 16/25\n",
      "3635/3635 [==============================] - 2s - loss: 5.9207 - acc: 0.0105 - val_loss: 5.9988 - val_acc: 0.0099\n",
      "Epoch 17/25\n",
      "3635/3635 [==============================] - 2s - loss: 5.9198 - acc: 0.0105 - val_loss: 5.9985 - val_acc: 0.0099\n",
      "Epoch 18/25\n",
      "3635/3635 [==============================] - 2s - loss: 5.9188 - acc: 0.0105 - val_loss: 5.9981 - val_acc: 0.0099\n",
      "Epoch 19/25\n",
      "3635/3635 [==============================] - 2s - loss: 5.9180 - acc: 0.0105 - val_loss: 5.9977 - val_acc: 0.0099\n",
      "Epoch 20/25\n",
      "3635/3635 [==============================] - 2s - loss: 5.9170 - acc: 0.0105 - val_loss: 5.9976 - val_acc: 0.0099\n",
      "Epoch 21/25\n",
      "3635/3635 [==============================] - 2s - loss: 5.9161 - acc: 0.0105 - val_loss: 5.9971 - val_acc: 0.0099\n",
      "Epoch 22/25\n",
      "3635/3635 [==============================] - 2s - loss: 5.9153 - acc: 0.0105 - val_loss: 5.9971 - val_acc: 0.0099\n",
      "Epoch 23/25\n",
      "3635/3635 [==============================] - 2s - loss: 5.9144 - acc: 0.0105 - val_loss: 5.9968 - val_acc: 0.0099\n",
      "Epoch 24/25\n",
      "3635/3635 [==============================] - 2s - loss: 5.9135 - acc: 0.0105 - val_loss: 5.9966 - val_acc: 0.0099\n",
      "Epoch 25/25\n",
      "3635/3635 [==============================] - 2s - loss: 5.9126 - acc: 0.0105 - val_loss: 5.9965 - val_acc: 0.0099\n"
     ]
    },
    {
     "data": {
      "text/plain": [
       "<keras.callbacks.History at 0x7f82a3d919d0>"
      ]
     },
     "execution_count": 71,
     "metadata": {},
     "output_type": "execute_result"
    }
   ],
   "source": [
    "fc_model.fit(tr_features, \n",
    "             tr_labels,\n",
    "             batch_size=batch_size, \n",
    "             validation_data=(val_features, val_labels), \n",
    "             nb_epoch=25)"
   ]
  },
  {
   "cell_type": "code",
   "execution_count": 72,
   "metadata": {
    "collapsed": false
   },
   "outputs": [
    {
     "name": "stdout",
     "output_type": "stream",
     "text": [
      "Train on 3635 samples, validate on 909 samples\n",
      "Epoch 1/25\n",
      "3635/3635 [==============================] - 2s - loss: 5.9117 - acc: 0.0105 - val_loss: 5.9962 - val_acc: 0.0099\n",
      "Epoch 2/25\n",
      "3635/3635 [==============================] - 2s - loss: 5.9108 - acc: 0.0105 - val_loss: 5.9957 - val_acc: 0.0099\n",
      "Epoch 3/25\n",
      "3635/3635 [==============================] - 2s - loss: 5.9100 - acc: 0.0105 - val_loss: 5.9956 - val_acc: 0.0099\n",
      "Epoch 4/25\n",
      "3635/3635 [==============================] - 2s - loss: 5.9091 - acc: 0.0105 - val_loss: 5.9951 - val_acc: 0.0099\n",
      "Epoch 5/25\n",
      "3635/3635 [==============================] - 2s - loss: 5.9082 - acc: 0.0105 - val_loss: 5.9953 - val_acc: 0.0099\n",
      "Epoch 6/25\n",
      "3635/3635 [==============================] - 2s - loss: 5.9074 - acc: 0.0105 - val_loss: 5.9949 - val_acc: 0.0099\n",
      "Epoch 7/25\n",
      "3635/3635 [==============================] - 2s - loss: 5.9066 - acc: 0.0105 - val_loss: 5.9950 - val_acc: 0.0099\n",
      "Epoch 8/25\n",
      "3635/3635 [==============================] - 2s - loss: 5.9057 - acc: 0.0105 - val_loss: 5.9946 - val_acc: 0.0099\n",
      "Epoch 9/25\n",
      "3635/3635 [==============================] - 2s - loss: 5.9049 - acc: 0.0105 - val_loss: 5.9945 - val_acc: 0.0099\n",
      "Epoch 10/25\n",
      "3635/3635 [==============================] - 2s - loss: 5.9041 - acc: 0.0105 - val_loss: 5.9943 - val_acc: 0.0099\n",
      "Epoch 11/25\n",
      "3635/3635 [==============================] - 2s - loss: 5.9032 - acc: 0.0105 - val_loss: 5.9939 - val_acc: 0.0099\n",
      "Epoch 12/25\n",
      "3635/3635 [==============================] - 2s - loss: 5.9024 - acc: 0.0105 - val_loss: 5.9942 - val_acc: 0.0099\n",
      "Epoch 13/25\n",
      "3635/3635 [==============================] - 2s - loss: 5.9016 - acc: 0.0105 - val_loss: 5.9938 - val_acc: 0.0099\n",
      "Epoch 14/25\n",
      "3635/3635 [==============================] - 2s - loss: 5.9008 - acc: 0.0105 - val_loss: 5.9936 - val_acc: 0.0099\n",
      "Epoch 15/25\n",
      "3635/3635 [==============================] - 2s - loss: 5.9000 - acc: 0.0105 - val_loss: 5.9934 - val_acc: 0.0099\n",
      "Epoch 16/25\n",
      "3635/3635 [==============================] - 2s - loss: 5.8991 - acc: 0.0105 - val_loss: 5.9933 - val_acc: 0.0099\n",
      "Epoch 17/25\n",
      "3635/3635 [==============================] - 2s - loss: 5.8983 - acc: 0.0105 - val_loss: 5.9931 - val_acc: 0.0099\n",
      "Epoch 18/25\n",
      "3635/3635 [==============================] - 2s - loss: 5.8976 - acc: 0.0105 - val_loss: 5.9931 - val_acc: 0.0099\n",
      "Epoch 19/25\n",
      "3635/3635 [==============================] - 2s - loss: 5.8968 - acc: 0.0105 - val_loss: 5.9927 - val_acc: 0.0099\n",
      "Epoch 20/25\n",
      "3635/3635 [==============================] - 2s - loss: 5.8960 - acc: 0.0105 - val_loss: 5.9926 - val_acc: 0.0099\n",
      "Epoch 21/25\n",
      "3635/3635 [==============================] - 2s - loss: 5.8952 - acc: 0.0105 - val_loss: 5.9923 - val_acc: 0.0099\n",
      "Epoch 22/25\n",
      "3635/3635 [==============================] - 2s - loss: 5.8945 - acc: 0.0105 - val_loss: 5.9921 - val_acc: 0.0099\n",
      "Epoch 23/25\n",
      "3635/3635 [==============================] - 2s - loss: 5.8937 - acc: 0.0105 - val_loss: 5.9922 - val_acc: 0.0099\n",
      "Epoch 24/25\n",
      "3635/3635 [==============================] - 2s - loss: 5.8929 - acc: 0.0105 - val_loss: 5.9921 - val_acc: 0.0099\n",
      "Epoch 25/25\n",
      "3635/3635 [==============================] - 2s - loss: 5.8922 - acc: 0.0105 - val_loss: 5.9918 - val_acc: 0.0099\n"
     ]
    },
    {
     "data": {
      "text/plain": [
       "<keras.callbacks.History at 0x7f82a0d355d0>"
      ]
     },
     "execution_count": 72,
     "metadata": {},
     "output_type": "execute_result"
    }
   ],
   "source": [
    "fc_model.fit(tr_features, \n",
    "             tr_labels,\n",
    "             batch_size=batch_size, \n",
    "             validation_data=(val_features, val_labels), \n",
    "             nb_epoch=25)"
   ]
  },
  {
   "cell_type": "code",
   "execution_count": 73,
   "metadata": {
    "collapsed": false
   },
   "outputs": [
    {
     "name": "stdout",
     "output_type": "stream",
     "text": [
      "Train on 3635 samples, validate on 909 samples\n",
      "Epoch 1/25\n",
      "3635/3635 [==============================] - 2s - loss: 5.8913 - acc: 0.0105 - val_loss: 5.9921 - val_acc: 0.0099\n",
      "Epoch 2/25\n",
      "3635/3635 [==============================] - 2s - loss: 5.8906 - acc: 0.0105 - val_loss: 5.9917 - val_acc: 0.0099\n",
      "Epoch 3/25\n",
      "3635/3635 [==============================] - 2s - loss: 5.8898 - acc: 0.0105 - val_loss: 5.9916 - val_acc: 0.0099\n",
      "Epoch 4/25\n",
      "3635/3635 [==============================] - 2s - loss: 5.8891 - acc: 0.0105 - val_loss: 5.9914 - val_acc: 0.0099\n",
      "Epoch 5/25\n",
      "3635/3635 [==============================] - 2s - loss: 5.8884 - acc: 0.0105 - val_loss: 5.9914 - val_acc: 0.0099\n",
      "Epoch 6/25\n",
      "3635/3635 [==============================] - 2s - loss: 5.8876 - acc: 0.0105 - val_loss: 5.9911 - val_acc: 0.0099\n",
      "Epoch 7/25\n",
      "3635/3635 [==============================] - 2s - loss: 5.8869 - acc: 0.0105 - val_loss: 5.9910 - val_acc: 0.0099\n",
      "Epoch 8/25\n",
      "3635/3635 [==============================] - 2s - loss: 5.8861 - acc: 0.0105 - val_loss: 5.9913 - val_acc: 0.0099\n",
      "Epoch 9/25\n",
      "3635/3635 [==============================] - 2s - loss: 5.8855 - acc: 0.0105 - val_loss: 5.9915 - val_acc: 0.0099\n",
      "Epoch 10/25\n",
      "3635/3635 [==============================] - 2s - loss: 5.8847 - acc: 0.0105 - val_loss: 5.9909 - val_acc: 0.0099\n",
      "Epoch 11/25\n",
      "3635/3635 [==============================] - 2s - loss: 5.8840 - acc: 0.0105 - val_loss: 5.9910 - val_acc: 0.0099\n",
      "Epoch 12/25\n",
      "3635/3635 [==============================] - 2s - loss: 5.8832 - acc: 0.0105 - val_loss: 5.9911 - val_acc: 0.0099\n",
      "Epoch 13/25\n",
      "3635/3635 [==============================] - 2s - loss: 5.8826 - acc: 0.0105 - val_loss: 5.9908 - val_acc: 0.0099\n",
      "Epoch 14/25\n",
      "3635/3635 [==============================] - 2s - loss: 5.8818 - acc: 0.0105 - val_loss: 5.9905 - val_acc: 0.0099\n",
      "Epoch 15/25\n",
      "3635/3635 [==============================] - 2s - loss: 5.8811 - acc: 0.0105 - val_loss: 5.9901 - val_acc: 0.0099\n",
      "Epoch 16/25\n",
      "3635/3635 [==============================] - 2s - loss: 5.8805 - acc: 0.0105 - val_loss: 5.9907 - val_acc: 0.0099\n",
      "Epoch 17/25\n",
      "3635/3635 [==============================] - 2s - loss: 5.8797 - acc: 0.0105 - val_loss: 5.9907 - val_acc: 0.0099\n",
      "Epoch 18/25\n",
      "3635/3635 [==============================] - 2s - loss: 5.8790 - acc: 0.0105 - val_loss: 5.9904 - val_acc: 0.0099\n",
      "Epoch 19/25\n",
      "3635/3635 [==============================] - 2s - loss: 5.8783 - acc: 0.0105 - val_loss: 5.9903 - val_acc: 0.0099\n",
      "Epoch 20/25\n",
      "3635/3635 [==============================] - 2s - loss: 5.8776 - acc: 0.0105 - val_loss: 5.9904 - val_acc: 0.0099\n",
      "Epoch 21/25\n",
      "3635/3635 [==============================] - 2s - loss: 5.8770 - acc: 0.0105 - val_loss: 5.9902 - val_acc: 0.0099\n",
      "Epoch 22/25\n",
      "3635/3635 [==============================] - 2s - loss: 5.8763 - acc: 0.0105 - val_loss: 5.9904 - val_acc: 0.0099\n",
      "Epoch 23/25\n",
      "3635/3635 [==============================] - 2s - loss: 5.8755 - acc: 0.0105 - val_loss: 5.9902 - val_acc: 0.0099\n",
      "Epoch 24/25\n",
      "3635/3635 [==============================] - 2s - loss: 5.8749 - acc: 0.0105 - val_loss: 5.9902 - val_acc: 0.0099\n",
      "Epoch 25/25\n",
      "3635/3635 [==============================] - 2s - loss: 5.8742 - acc: 0.0105 - val_loss: 5.9900 - val_acc: 0.0099\n"
     ]
    },
    {
     "data": {
      "text/plain": [
       "<keras.callbacks.History at 0x7f82a14346d0>"
      ]
     },
     "execution_count": 73,
     "metadata": {},
     "output_type": "execute_result"
    }
   ],
   "source": [
    "fc_model.fit(tr_features, \n",
    "             tr_labels,\n",
    "             batch_size=batch_size, \n",
    "             validation_data=(val_features, val_labels), \n",
    "             nb_epoch=25)"
   ]
  },
  {
   "cell_type": "code",
   "execution_count": 74,
   "metadata": {
    "collapsed": false
   },
   "outputs": [
    {
     "name": "stdout",
     "output_type": "stream",
     "text": [
      "Train on 3635 samples, validate on 909 samples\n",
      "Epoch 1/25\n",
      "3635/3635 [==============================] - 2s - loss: 5.8735 - acc: 0.0105 - val_loss: 5.9903 - val_acc: 0.0099\n",
      "Epoch 2/25\n",
      "3635/3635 [==============================] - 2s - loss: 5.8729 - acc: 0.0105 - val_loss: 5.9902 - val_acc: 0.0099\n",
      "Epoch 3/25\n",
      "3635/3635 [==============================] - 2s - loss: 5.8722 - acc: 0.0105 - val_loss: 5.9903 - val_acc: 0.0099\n",
      "Epoch 4/25\n",
      "3635/3635 [==============================] - 2s - loss: 5.8717 - acc: 0.0105 - val_loss: 5.9898 - val_acc: 0.0099\n",
      "Epoch 5/25\n",
      "3635/3635 [==============================] - 2s - loss: 5.8710 - acc: 0.0105 - val_loss: 5.9902 - val_acc: 0.0099\n",
      "Epoch 6/25\n",
      "3635/3635 [==============================] - 2s - loss: 5.8703 - acc: 0.0105 - val_loss: 5.9901 - val_acc: 0.0099\n",
      "Epoch 7/25\n",
      "3635/3635 [==============================] - 2s - loss: 5.8697 - acc: 0.0105 - val_loss: 5.9901 - val_acc: 0.0099\n",
      "Epoch 8/25\n",
      "3635/3635 [==============================] - 2s - loss: 5.8689 - acc: 0.0105 - val_loss: 5.9895 - val_acc: 0.0099\n",
      "Epoch 9/25\n",
      "3635/3635 [==============================] - 2s - loss: 5.8685 - acc: 0.0105 - val_loss: 5.9900 - val_acc: 0.0099\n",
      "Epoch 10/25\n",
      "3635/3635 [==============================] - 2s - loss: 5.8677 - acc: 0.0105 - val_loss: 5.9899 - val_acc: 0.0099\n",
      "Epoch 11/25\n",
      "3635/3635 [==============================] - 2s - loss: 5.8671 - acc: 0.0105 - val_loss: 5.9899 - val_acc: 0.0099\n",
      "Epoch 12/25\n",
      "3635/3635 [==============================] - 2s - loss: 5.8664 - acc: 0.0105 - val_loss: 5.9900 - val_acc: 0.0099\n",
      "Epoch 13/25\n",
      "3635/3635 [==============================] - 2s - loss: 5.8659 - acc: 0.0105 - val_loss: 5.9904 - val_acc: 0.0099\n",
      "Epoch 14/25\n",
      "3635/3635 [==============================] - 2s - loss: 5.8653 - acc: 0.0105 - val_loss: 5.9898 - val_acc: 0.0099\n",
      "Epoch 15/25\n",
      "3635/3635 [==============================] - 2s - loss: 5.8646 - acc: 0.0105 - val_loss: 5.9899 - val_acc: 0.0099\n",
      "Epoch 16/25\n",
      "3635/3635 [==============================] - 2s - loss: 5.8639 - acc: 0.0105 - val_loss: 5.9902 - val_acc: 0.0099\n",
      "Epoch 17/25\n",
      "3635/3635 [==============================] - 2s - loss: 5.8634 - acc: 0.0105 - val_loss: 5.9903 - val_acc: 0.0099\n",
      "Epoch 18/25\n",
      "3635/3635 [==============================] - 2s - loss: 5.8628 - acc: 0.0105 - val_loss: 5.9904 - val_acc: 0.0099\n",
      "Epoch 19/25\n",
      "3635/3635 [==============================] - 2s - loss: 5.8621 - acc: 0.0107 - val_loss: 5.9903 - val_acc: 0.0110\n",
      "Epoch 20/25\n",
      "3635/3635 [==============================] - 2s - loss: 5.8615 - acc: 0.0105 - val_loss: 5.9898 - val_acc: 0.0099\n",
      "Epoch 21/25\n",
      "3635/3635 [==============================] - 2s - loss: 5.8610 - acc: 0.0099 - val_loss: 5.9902 - val_acc: 0.0110\n",
      "Epoch 22/25\n",
      "3635/3635 [==============================] - 2s - loss: 5.8603 - acc: 0.0105 - val_loss: 5.9901 - val_acc: 0.0099\n",
      "Epoch 23/25\n",
      "3635/3635 [==============================] - 2s - loss: 5.8597 - acc: 0.0107 - val_loss: 5.9903 - val_acc: 0.0121\n",
      "Epoch 24/25\n",
      "3635/3635 [==============================] - 2s - loss: 5.8591 - acc: 0.0107 - val_loss: 5.9902 - val_acc: 0.0099\n",
      "Epoch 25/25\n",
      "3635/3635 [==============================] - 2s - loss: 5.8585 - acc: 0.0107 - val_loss: 5.9908 - val_acc: 0.0121\n"
     ]
    },
    {
     "data": {
      "text/plain": [
       "<keras.callbacks.History at 0x7f82a0d35510>"
      ]
     },
     "execution_count": 74,
     "metadata": {},
     "output_type": "execute_result"
    }
   ],
   "source": [
    "fc_model.fit(tr_features, \n",
    "             tr_labels,\n",
    "             batch_size=batch_size, \n",
    "             validation_data=(val_features, val_labels), \n",
    "             nb_epoch=25)"
   ]
  },
  {
   "cell_type": "code",
   "execution_count": 76,
   "metadata": {
    "collapsed": false
   },
   "outputs": [],
   "source": [
    "fc_model.optimizer.lr = 0.00001"
   ]
  },
  {
   "cell_type": "code",
   "execution_count": 77,
   "metadata": {
    "collapsed": false
   },
   "outputs": [
    {
     "name": "stdout",
     "output_type": "stream",
     "text": [
      "Train on 3635 samples, validate on 909 samples\n",
      "Epoch 1/25\n",
      "3635/3635 [==============================] - 2s - loss: 5.8579 - acc: 0.0107 - val_loss: 5.9907 - val_acc: 0.0121\n",
      "Epoch 2/25\n",
      "3635/3635 [==============================] - 2s - loss: 5.8574 - acc: 0.0107 - val_loss: 5.9906 - val_acc: 0.0121\n",
      "Epoch 3/25\n",
      "3635/3635 [==============================] - 2s - loss: 5.8568 - acc: 0.0107 - val_loss: 5.9907 - val_acc: 0.0121\n",
      "Epoch 4/25\n",
      "3635/3635 [==============================] - 2s - loss: 5.8562 - acc: 0.0107 - val_loss: 5.9906 - val_acc: 0.0121\n",
      "Epoch 5/25\n",
      "3635/3635 [==============================] - 2s - loss: 5.8556 - acc: 0.0107 - val_loss: 5.9905 - val_acc: 0.0121\n",
      "Epoch 6/25\n",
      "3635/3635 [==============================] - 2s - loss: 5.8551 - acc: 0.0107 - val_loss: 5.9907 - val_acc: 0.0121\n",
      "Epoch 7/25\n",
      "3635/3635 [==============================] - 2s - loss: 5.8545 - acc: 0.0105 - val_loss: 5.9906 - val_acc: 0.0121\n",
      "Epoch 8/25\n",
      "3635/3635 [==============================] - 2s - loss: 5.8539 - acc: 0.0105 - val_loss: 5.9912 - val_acc: 0.0121\n",
      "Epoch 9/25\n",
      "3635/3635 [==============================] - 2s - loss: 5.8533 - acc: 0.0107 - val_loss: 5.9910 - val_acc: 0.0121\n",
      "Epoch 10/25\n",
      "3635/3635 [==============================] - 2s - loss: 5.8527 - acc: 0.0107 - val_loss: 5.9908 - val_acc: 0.0121\n",
      "Epoch 11/25\n",
      "3635/3635 [==============================] - 2s - loss: 5.8521 - acc: 0.0113 - val_loss: 5.9907 - val_acc: 0.0121\n",
      "Epoch 12/25\n",
      "3635/3635 [==============================] - 2s - loss: 5.8516 - acc: 0.0110 - val_loss: 5.9910 - val_acc: 0.0121\n",
      "Epoch 13/25\n",
      "3635/3635 [==============================] - 2s - loss: 5.8511 - acc: 0.0113 - val_loss: 5.9912 - val_acc: 0.0121\n",
      "Epoch 14/25\n",
      "3635/3635 [==============================] - 2s - loss: 5.8505 - acc: 0.0110 - val_loss: 5.9914 - val_acc: 0.0121\n",
      "Epoch 15/25\n",
      "3635/3635 [==============================] - 2s - loss: 5.8499 - acc: 0.0113 - val_loss: 5.9914 - val_acc: 0.0121\n",
      "Epoch 16/25\n",
      "3635/3635 [==============================] - 2s - loss: 5.8494 - acc: 0.0113 - val_loss: 5.9916 - val_acc: 0.0121\n",
      "Epoch 17/25\n",
      "3635/3635 [==============================] - 2s - loss: 5.8489 - acc: 0.0113 - val_loss: 5.9916 - val_acc: 0.0121\n",
      "Epoch 18/25\n",
      "3635/3635 [==============================] - 2s - loss: 5.8483 - acc: 0.0113 - val_loss: 5.9917 - val_acc: 0.0121\n",
      "Epoch 19/25\n",
      "3635/3635 [==============================] - 2s - loss: 5.8478 - acc: 0.0116 - val_loss: 5.9916 - val_acc: 0.0121\n",
      "Epoch 20/25\n",
      "3635/3635 [==============================] - 2s - loss: 5.8473 - acc: 0.0110 - val_loss: 5.9920 - val_acc: 0.0132\n",
      "Epoch 21/25\n",
      "3635/3635 [==============================] - 2s - loss: 5.8467 - acc: 0.0113 - val_loss: 5.9915 - val_acc: 0.0121\n",
      "Epoch 22/25\n",
      "3635/3635 [==============================] - 2s - loss: 5.8462 - acc: 0.0116 - val_loss: 5.9918 - val_acc: 0.0121\n",
      "Epoch 23/25\n",
      "3635/3635 [==============================] - 2s - loss: 5.8457 - acc: 0.0113 - val_loss: 5.9925 - val_acc: 0.0132\n",
      "Epoch 24/25\n",
      "3635/3635 [==============================] - 2s - loss: 5.8451 - acc: 0.0118 - val_loss: 5.9930 - val_acc: 0.0132\n",
      "Epoch 25/25\n",
      "3635/3635 [==============================] - 2s - loss: 5.8447 - acc: 0.0116 - val_loss: 5.9925 - val_acc: 0.0132\n"
     ]
    },
    {
     "data": {
      "text/plain": [
       "<keras.callbacks.History at 0x7f82a1504b10>"
      ]
     },
     "execution_count": 77,
     "metadata": {},
     "output_type": "execute_result"
    }
   ],
   "source": [
    "fc_model.fit(tr_features, \n",
    "             tr_labels,\n",
    "             batch_size=batch_size, \n",
    "             validation_data=(val_features, val_labels), \n",
    "             nb_epoch=25)"
   ]
  },
  {
   "cell_type": "code",
   "execution_count": 78,
   "metadata": {
    "collapsed": true
   },
   "outputs": [],
   "source": [
    "test_features = load_array('vgg_conv_test.bc')"
   ]
  },
  {
   "cell_type": "code",
   "execution_count": 79,
   "metadata": {
    "collapsed": true
   },
   "outputs": [],
   "source": [
    "fc_model.predict?"
   ]
  },
  {
   "cell_type": "code",
   "execution_count": 80,
   "metadata": {
    "collapsed": true
   },
   "outputs": [],
   "source": [
    "preds = fc_model.predict(test_features)"
   ]
  },
  {
   "cell_type": "code",
   "execution_count": 82,
   "metadata": {
    "collapsed": true
   },
   "outputs": [],
   "source": [
    "from create_whale_sub import create_sub"
   ]
  },
  {
   "cell_type": "code",
   "execution_count": 86,
   "metadata": {
    "collapsed": false
   },
   "outputs": [
    {
     "name": "stdout",
     "output_type": "stream",
     "text": [
      "Found 6925 images belonging to 1 classes.\n",
      "Found 3635 images belonging to 447 classes.\n"
     ]
    }
   ],
   "source": [
    "test_batches = ImageDataGenerator().flow_from_directory(img_dir+'/test', shuffle=False)\n",
    "tr_batches = ImageDataGenerator().flow_from_directory(img_dir+'/train', shuffle=False)"
   ]
  },
  {
   "cell_type": "code",
   "execution_count": 41,
   "metadata": {
    "collapsed": true
   },
   "outputs": [],
   "source": [
    "def create_sub(preds, test_batches, train_batches):\n",
    "    file_names = np.array([f[f.find('/') +1:] for f in test_batches.filenames])\n",
    "    \n",
    "    idx_class = [(v, k) for k,v in tr_batches.class_indices.items()]\n",
    "    idx_class= sorted(idx_class, key=lambda x: x[0])\n",
    "    classes = [x[1] for x in idx_class]\n",
    "    data = np.hstack((file_names[:, np.newaxis], preds))\n",
    "    columns = ['Image'] + classes\n",
    "    return pd.DataFrame(data, columns=columns)"
   ]
  },
  {
   "cell_type": "code",
   "execution_count": 87,
   "metadata": {
    "collapsed": false
   },
   "outputs": [],
   "source": [
    "sub = create_sub(preds, test_batches, tr_batches)"
   ]
  },
  {
   "cell_type": "code",
   "execution_count": 89,
   "metadata": {
    "collapsed": false
   },
   "outputs": [
    {
     "data": {
      "text/plain": [
       "6925"
      ]
     },
     "execution_count": 89,
     "metadata": {},
     "output_type": "execute_result"
    }
   ],
   "source": [
    "len(sub)"
   ]
  },
  {
   "cell_type": "code",
   "execution_count": 90,
   "metadata": {
    "collapsed": true
   },
   "outputs": [],
   "source": [
    "sub.to_csv('vgg_train_ll.csv', index=False)"
   ]
  },
  {
   "cell_type": "code",
   "execution_count": 91,
   "metadata": {
    "collapsed": false
   },
   "outputs": [
    {
     "data": {
      "text/html": [
       "<a href='vgg_train_ll.csv' target='_blank'>vgg_train_ll.csv</a><br>"
      ],
      "text/plain": [
       "/home/ubuntu/courses/deeplearning1/nbs/vgg_train_ll.csv"
      ]
     },
     "execution_count": 91,
     "metadata": {},
     "output_type": "execute_result"
    }
   ],
   "source": [
    "from IPython.display import FileLink\n",
    "FileLink('vgg_train_ll.csv')"
   ]
  },
  {
   "cell_type": "markdown",
   "metadata": {},
   "source": [
    "scores 5.99777"
   ]
  },
  {
   "cell_type": "markdown",
   "metadata": {},
   "source": [
    "# Train FC Layers"
   ]
  },
  {
   "cell_type": "code",
   "execution_count": 15,
   "metadata": {
    "collapsed": true
   },
   "outputs": [],
   "source": [
    "def get_fc_model():\n",
    "    model = Sequential([\n",
    "            MaxPooling2D(input_shape=conv_layers[-1].output_shape[1:]),\n",
    "            Flatten(),\n",
    "            Dense(4096, activation='relu'),\n",
    "            Dropout(0.),\n",
    "            Dense(4096, activation='relu'),\n",
    "            Dropout(0.),\n",
    "            Dense(1000, activation='softmax')\n",
    "        ])\n",
    "    \n",
    "    for l1, l2, in zip(model.layers, fc_layers): l1.set_weights(l2.get_weights())\n",
    "    return model"
   ]
  },
  {
   "cell_type": "code",
   "execution_count": 17,
   "metadata": {
    "collapsed": false
   },
   "outputs": [],
   "source": [
    "fc_model = get_fc_model()"
   ]
  },
  {
   "cell_type": "code",
   "execution_count": 18,
   "metadata": {
    "collapsed": true
   },
   "outputs": [],
   "source": [
    "fc_model.layers = fc_model.layers[:-1]"
   ]
  },
  {
   "cell_type": "code",
   "execution_count": 19,
   "metadata": {
    "collapsed": true
   },
   "outputs": [],
   "source": [
    "fc_model.add(Dense(num_class, activation='softmax'))"
   ]
  },
  {
   "cell_type": "code",
   "execution_count": 21,
   "metadata": {
    "collapsed": true
   },
   "outputs": [],
   "source": [
    "fc_model.compile(Adam(lr=0.0001), 'sparse_categorical_crossentropy', metrics=['accuracy'])"
   ]
  },
  {
   "cell_type": "code",
   "execution_count": 22,
   "metadata": {
    "collapsed": false
   },
   "outputs": [
    {
     "name": "stdout",
     "output_type": "stream",
     "text": [
      "Train on 3635 samples, validate on 909 samples\n",
      "Epoch 1/5\n",
      "3635/3635 [==============================] - 6s - loss: 6.1004 - acc: 0.0050 - val_loss: 6.1013 - val_acc: 0.0011\n",
      "Epoch 2/5\n",
      "3635/3635 [==============================] - 6s - loss: 6.0972 - acc: 0.0052 - val_loss: 6.0996 - val_acc: 0.0011\n",
      "Epoch 3/5\n",
      "3635/3635 [==============================] - 6s - loss: 6.0951 - acc: 0.0052 - val_loss: 6.0995 - val_acc: 0.0011\n",
      "Epoch 4/5\n",
      "3635/3635 [==============================] - 6s - loss: 6.0929 - acc: 0.0052 - val_loss: 6.0964 - val_acc: 0.0011\n",
      "Epoch 5/5\n",
      "3635/3635 [==============================] - 6s - loss: 6.0909 - acc: 0.0052 - val_loss: 6.0949 - val_acc: 0.0011\n"
     ]
    },
    {
     "data": {
      "text/plain": [
       "<keras.callbacks.History at 0x7f4451ef62d0>"
      ]
     },
     "execution_count": 22,
     "metadata": {},
     "output_type": "execute_result"
    }
   ],
   "source": [
    "fc_model.fit(tr_features, \n",
    "             tr_labels,\n",
    "             batch_size=batch_size, \n",
    "             validation_data=(val_features, val_labels), \n",
    "             nb_epoch=5)"
   ]
  },
  {
   "cell_type": "code",
   "execution_count": 23,
   "metadata": {
    "collapsed": true
   },
   "outputs": [],
   "source": [
    "fc_model.optimizer.lr = 0.001"
   ]
  },
  {
   "cell_type": "code",
   "execution_count": 24,
   "metadata": {
    "collapsed": false
   },
   "outputs": [
    {
     "name": "stdout",
     "output_type": "stream",
     "text": [
      "Train on 3635 samples, validate on 909 samples\n",
      "Epoch 1/50\n",
      "3635/3635 [==============================] - 7s - loss: 6.0888 - acc: 0.0052 - val_loss: 6.0934 - val_acc: 0.0011\n",
      "Epoch 2/50\n",
      "3635/3635 [==============================] - 7s - loss: 6.0868 - acc: 0.0052 - val_loss: 6.0919 - val_acc: 0.0011\n",
      "Epoch 3/50\n",
      "3635/3635 [==============================] - 7s - loss: 6.0848 - acc: 0.0074 - val_loss: 6.0924 - val_acc: 0.0066\n",
      "Epoch 4/50\n",
      "3635/3635 [==============================] - 7s - loss: 6.0902 - acc: 0.0052 - val_loss: 6.0924 - val_acc: 0.0066\n",
      "Epoch 5/50\n",
      "3635/3635 [==============================] - 7s - loss: 6.0868 - acc: 0.0050 - val_loss: 6.0899 - val_acc: 0.0066\n",
      "Epoch 6/50\n",
      "3635/3635 [==============================] - 7s - loss: 6.0837 - acc: 0.0072 - val_loss: 6.0877 - val_acc: 0.0132\n",
      "Epoch 7/50\n",
      "3635/3635 [==============================] - 7s - loss: 6.0810 - acc: 0.0085 - val_loss: 6.0858 - val_acc: 0.0132\n",
      "Epoch 8/50\n",
      "3635/3635 [==============================] - 7s - loss: 6.0785 - acc: 0.0085 - val_loss: 6.0840 - val_acc: 0.0132\n",
      "Epoch 9/50\n",
      "3635/3635 [==============================] - 7s - loss: 6.0761 - acc: 0.0085 - val_loss: 6.0823 - val_acc: 0.0132\n",
      "Epoch 10/50\n",
      "3635/3635 [==============================] - 7s - loss: 6.0739 - acc: 0.0085 - val_loss: 6.0807 - val_acc: 0.0132\n",
      "Epoch 11/50\n",
      "3635/3635 [==============================] - 7s - loss: 6.0717 - acc: 0.0085 - val_loss: 6.0791 - val_acc: 0.0132\n",
      "Epoch 12/50\n",
      "3635/3635 [==============================] - 7s - loss: 6.0696 - acc: 0.0085 - val_loss: 6.0776 - val_acc: 0.0132\n",
      "Epoch 13/50\n",
      "3635/3635 [==============================] - 7s - loss: 6.0675 - acc: 0.0085 - val_loss: 6.0761 - val_acc: 0.0132\n",
      "Epoch 14/50\n",
      "3635/3635 [==============================] - 7s - loss: 6.0655 - acc: 0.0085 - val_loss: 6.0747 - val_acc: 0.0132\n",
      "Epoch 15/50\n",
      "3635/3635 [==============================] - 7s - loss: 6.0636 - acc: 0.0085 - val_loss: 6.0732 - val_acc: 0.0132\n",
      "Epoch 16/50\n",
      "3635/3635 [==============================] - 7s - loss: 6.0617 - acc: 0.0085 - val_loss: 6.0718 - val_acc: 0.0132\n",
      "Epoch 17/50\n",
      "3635/3635 [==============================] - 7s - loss: 6.0598 - acc: 0.0085 - val_loss: 6.0705 - val_acc: 0.0132\n",
      "Epoch 18/50\n",
      "3635/3635 [==============================] - 6s - loss: 6.0579 - acc: 0.0085 - val_loss: 6.0691 - val_acc: 0.0132\n",
      "Epoch 19/50\n",
      "3635/3635 [==============================] - 6s - loss: 6.0561 - acc: 0.0085 - val_loss: 6.0678 - val_acc: 0.0132\n",
      "Epoch 20/50\n",
      "3635/3635 [==============================] - 6s - loss: 6.0543 - acc: 0.0085 - val_loss: 6.0665 - val_acc: 0.0132\n",
      "Epoch 21/50\n",
      "3635/3635 [==============================] - 6s - loss: 6.0525 - acc: 0.0085 - val_loss: 6.0653 - val_acc: 0.0132\n",
      "Epoch 22/50\n",
      "3635/3635 [==============================] - 6s - loss: 6.0508 - acc: 0.0085 - val_loss: 6.0640 - val_acc: 0.0132\n",
      "Epoch 23/50\n",
      "3635/3635 [==============================] - 6s - loss: 6.0491 - acc: 0.0085 - val_loss: 6.0628 - val_acc: 0.0132\n",
      "Epoch 24/50\n",
      "3635/3635 [==============================] - 6s - loss: 6.0474 - acc: 0.0085 - val_loss: 6.0616 - val_acc: 0.0132\n",
      "Epoch 25/50\n",
      "3635/3635 [==============================] - 6s - loss: 6.0457 - acc: 0.0085 - val_loss: 6.0604 - val_acc: 0.0132\n",
      "Epoch 26/50\n",
      "3635/3635 [==============================] - 6s - loss: 6.0441 - acc: 0.0085 - val_loss: 6.0592 - val_acc: 0.0132\n",
      "Epoch 27/50\n",
      "3635/3635 [==============================] - 6s - loss: 6.0424 - acc: 0.0085 - val_loss: 6.0581 - val_acc: 0.0132\n",
      "Epoch 28/50\n",
      "3635/3635 [==============================] - 6s - loss: 6.0408 - acc: 0.0085 - val_loss: 6.0570 - val_acc: 0.0132\n",
      "Epoch 29/50\n",
      "3635/3635 [==============================] - 6s - loss: 6.0392 - acc: 0.0085 - val_loss: 6.0558 - val_acc: 0.0132\n",
      "Epoch 30/50\n",
      "3635/3635 [==============================] - 6s - loss: 6.0377 - acc: 0.0085 - val_loss: 6.0547 - val_acc: 0.0132\n",
      "Epoch 31/50\n",
      "3635/3635 [==============================] - 6s - loss: 6.0361 - acc: 0.0085 - val_loss: 6.0536 - val_acc: 0.0132\n",
      "Epoch 32/50\n",
      "3635/3635 [==============================] - 6s - loss: 6.0346 - acc: 0.0085 - val_loss: 6.0526 - val_acc: 0.0132\n",
      "Epoch 33/50\n",
      "3635/3635 [==============================] - 6s - loss: 6.0330 - acc: 0.0085 - val_loss: 6.0515 - val_acc: 0.0132\n",
      "Epoch 34/50\n",
      "3635/3635 [==============================] - 6s - loss: 6.0315 - acc: 0.0085 - val_loss: 6.0505 - val_acc: 0.0132\n",
      "Epoch 35/50\n",
      "3635/3635 [==============================] - 6s - loss: 6.0301 - acc: 0.0085 - val_loss: 6.0494 - val_acc: 0.0132\n",
      "Epoch 36/50\n",
      "3635/3635 [==============================] - 6s - loss: 6.0286 - acc: 0.0085 - val_loss: 6.0484 - val_acc: 0.0132\n",
      "Epoch 37/50\n",
      "3635/3635 [==============================] - 6s - loss: 6.0271 - acc: 0.0085 - val_loss: 6.0474 - val_acc: 0.0132\n",
      "Epoch 38/50\n",
      "3635/3635 [==============================] - 6s - loss: 6.0257 - acc: 0.0085 - val_loss: 6.0464 - val_acc: 0.0132\n",
      "Epoch 39/50\n",
      "3635/3635 [==============================] - 6s - loss: 6.0243 - acc: 0.0085 - val_loss: 6.0454 - val_acc: 0.0132\n",
      "Epoch 40/50\n",
      "3635/3635 [==============================] - 6s - loss: 6.0228 - acc: 0.0085 - val_loss: 6.0444 - val_acc: 0.0132\n",
      "Epoch 41/50\n",
      "3635/3635 [==============================] - 6s - loss: 6.0215 - acc: 0.0088 - val_loss: 6.0435 - val_acc: 0.0099\n",
      "Epoch 42/50\n",
      "3635/3635 [==============================] - 6s - loss: 6.0201 - acc: 0.0105 - val_loss: 6.0426 - val_acc: 0.0099\n",
      "Epoch 43/50\n",
      "3635/3635 [==============================] - 6s - loss: 6.0187 - acc: 0.0105 - val_loss: 6.0416 - val_acc: 0.0099\n",
      "Epoch 44/50\n",
      "3635/3635 [==============================] - 6s - loss: 6.0173 - acc: 0.0105 - val_loss: 6.0408 - val_acc: 0.0099\n",
      "Epoch 45/50\n",
      "3635/3635 [==============================] - 6s - loss: 6.0160 - acc: 0.0105 - val_loss: 6.0398 - val_acc: 0.0099\n",
      "Epoch 46/50\n",
      "3635/3635 [==============================] - 6s - loss: 6.0147 - acc: 0.0105 - val_loss: 6.0389 - val_acc: 0.0099\n",
      "Epoch 47/50\n",
      "3635/3635 [==============================] - 6s - loss: 6.0133 - acc: 0.0105 - val_loss: 6.0380 - val_acc: 0.0099\n",
      "Epoch 48/50\n",
      "3635/3635 [==============================] - 6s - loss: 6.0120 - acc: 0.0105 - val_loss: 6.0372 - val_acc: 0.0099\n",
      "Epoch 49/50\n",
      "3635/3635 [==============================] - 6s - loss: 6.0108 - acc: 0.0105 - val_loss: 6.0363 - val_acc: 0.0099\n",
      "Epoch 50/50\n",
      "3635/3635 [==============================] - 6s - loss: 6.0095 - acc: 0.0105 - val_loss: 6.0355 - val_acc: 0.0099\n"
     ]
    },
    {
     "data": {
      "text/plain": [
       "<keras.callbacks.History at 0x7f44583bad10>"
      ]
     },
     "execution_count": 24,
     "metadata": {},
     "output_type": "execute_result"
    }
   ],
   "source": [
    "fc_model.fit(tr_features, \n",
    "             tr_labels,\n",
    "             batch_size=batch_size, \n",
    "             validation_data=(val_features, val_labels), \n",
    "             nb_epoch=50)"
   ]
  },
  {
   "cell_type": "code",
   "execution_count": 25,
   "metadata": {
    "collapsed": false
   },
   "outputs": [
    {
     "name": "stdout",
     "output_type": "stream",
     "text": [
      "Train on 3635 samples, validate on 909 samples\n",
      "Epoch 1/50\n",
      "3635/3635 [==============================] - 6s - loss: 6.0082 - acc: 0.0105 - val_loss: 6.0346 - val_acc: 0.0099\n",
      "Epoch 2/50\n",
      "3635/3635 [==============================] - 6s - loss: 6.0069 - acc: 0.0105 - val_loss: 6.0338 - val_acc: 0.0099\n",
      "Epoch 3/50\n",
      "3635/3635 [==============================] - 6s - loss: 6.0057 - acc: 0.0105 - val_loss: 6.0329 - val_acc: 0.0099\n",
      "Epoch 4/50\n",
      "3635/3635 [==============================] - 6s - loss: 6.0045 - acc: 0.0105 - val_loss: 6.0322 - val_acc: 0.0099\n",
      "Epoch 5/50\n",
      "3635/3635 [==============================] - 6s - loss: 6.0033 - acc: 0.0105 - val_loss: 6.0314 - val_acc: 0.0099\n",
      "Epoch 6/50\n",
      "3635/3635 [==============================] - 6s - loss: 6.0020 - acc: 0.0105 - val_loss: 6.0306 - val_acc: 0.0099\n",
      "Epoch 7/50\n",
      "3635/3635 [==============================] - 6s - loss: 6.0008 - acc: 0.0105 - val_loss: 6.0298 - val_acc: 0.0099\n",
      "Epoch 8/50\n",
      "3635/3635 [==============================] - 6s - loss: 5.9997 - acc: 0.0105 - val_loss: 6.0290 - val_acc: 0.0099\n",
      "Epoch 9/50\n",
      "3635/3635 [==============================] - 6s - loss: 5.9985 - acc: 0.0105 - val_loss: 6.0283 - val_acc: 0.0099\n",
      "Epoch 10/50\n",
      "3635/3635 [==============================] - 6s - loss: 5.9973 - acc: 0.0105 - val_loss: 6.0276 - val_acc: 0.0099\n",
      "Epoch 11/50\n",
      "3635/3635 [==============================] - 6s - loss: 5.9962 - acc: 0.0105 - val_loss: 6.0268 - val_acc: 0.0099\n",
      "Epoch 12/50\n",
      "3635/3635 [==============================] - 6s - loss: 5.9951 - acc: 0.0105 - val_loss: 6.0261 - val_acc: 0.0099\n",
      "Epoch 13/50\n",
      "3635/3635 [==============================] - 6s - loss: 5.9939 - acc: 0.0105 - val_loss: 6.0254 - val_acc: 0.0099\n",
      "Epoch 14/50\n",
      "3635/3635 [==============================] - 6s - loss: 5.9928 - acc: 0.0105 - val_loss: 6.0247 - val_acc: 0.0099\n",
      "Epoch 15/50\n",
      "3635/3635 [==============================] - 6s - loss: 5.9917 - acc: 0.0105 - val_loss: 6.0240 - val_acc: 0.0099\n",
      "Epoch 16/50\n",
      "3635/3635 [==============================] - 6s - loss: 5.9906 - acc: 0.0105 - val_loss: 6.0233 - val_acc: 0.0099\n",
      "Epoch 17/50\n",
      "3635/3635 [==============================] - 6s - loss: 5.9895 - acc: 0.0105 - val_loss: 6.0226 - val_acc: 0.0099\n",
      "Epoch 18/50\n",
      "3635/3635 [==============================] - 6s - loss: 5.9884 - acc: 0.0105 - val_loss: 6.0219 - val_acc: 0.0099\n",
      "Epoch 19/50\n",
      "3635/3635 [==============================] - 6s - loss: 5.9874 - acc: 0.0105 - val_loss: 6.0213 - val_acc: 0.0099\n",
      "Epoch 20/50\n",
      "3635/3635 [==============================] - 6s - loss: 5.9863 - acc: 0.0105 - val_loss: 6.0206 - val_acc: 0.0099\n",
      "Epoch 21/50\n",
      "3635/3635 [==============================] - 6s - loss: 5.9853 - acc: 0.0105 - val_loss: 6.0199 - val_acc: 0.0099\n",
      "Epoch 22/50\n",
      "3635/3635 [==============================] - 6s - loss: 5.9842 - acc: 0.0105 - val_loss: 6.0193 - val_acc: 0.0099\n",
      "Epoch 23/50\n",
      "3635/3635 [==============================] - 6s - loss: 5.9832 - acc: 0.0105 - val_loss: 6.0187 - val_acc: 0.0099\n",
      "Epoch 24/50\n",
      "3635/3635 [==============================] - 6s - loss: 5.9822 - acc: 0.0105 - val_loss: 6.0180 - val_acc: 0.0099\n",
      "Epoch 25/50\n",
      "3635/3635 [==============================] - 6s - loss: 5.9812 - acc: 0.0105 - val_loss: 6.0174 - val_acc: 0.0099\n",
      "Epoch 26/50\n",
      "3635/3635 [==============================] - 6s - loss: 5.9802 - acc: 0.0105 - val_loss: 6.0168 - val_acc: 0.0099\n",
      "Epoch 27/50\n",
      "3635/3635 [==============================] - 6s - loss: 5.9792 - acc: 0.0105 - val_loss: 6.0162 - val_acc: 0.0099\n",
      "Epoch 28/50\n",
      "3635/3635 [==============================] - 6s - loss: 5.9782 - acc: 0.0105 - val_loss: 6.0156 - val_acc: 0.0099\n",
      "Epoch 29/50\n",
      "3635/3635 [==============================] - 6s - loss: 5.9772 - acc: 0.0105 - val_loss: 6.0151 - val_acc: 0.0099\n",
      "Epoch 30/50\n",
      "3635/3635 [==============================] - 6s - loss: 5.9763 - acc: 0.0105 - val_loss: 6.0145 - val_acc: 0.0099\n",
      "Epoch 31/50\n",
      "3635/3635 [==============================] - 6s - loss: 5.9753 - acc: 0.0105 - val_loss: 6.0139 - val_acc: 0.0099\n",
      "Epoch 32/50\n",
      "3635/3635 [==============================] - 6s - loss: 5.9744 - acc: 0.0105 - val_loss: 6.0134 - val_acc: 0.0099\n",
      "Epoch 33/50\n",
      "3635/3635 [==============================] - 6s - loss: 5.9734 - acc: 0.0105 - val_loss: 6.0128 - val_acc: 0.0099\n",
      "Epoch 34/50\n",
      "3635/3635 [==============================] - 6s - loss: 5.9725 - acc: 0.0105 - val_loss: 6.0123 - val_acc: 0.0099\n",
      "Epoch 35/50\n",
      "3635/3635 [==============================] - 6s - loss: 5.9716 - acc: 0.0105 - val_loss: 6.0118 - val_acc: 0.0099\n",
      "Epoch 36/50\n",
      "3635/3635 [==============================] - 6s - loss: 5.9707 - acc: 0.0105 - val_loss: 6.0112 - val_acc: 0.0099\n",
      "Epoch 37/50\n",
      "3635/3635 [==============================] - 6s - loss: 5.9697 - acc: 0.0105 - val_loss: 6.0107 - val_acc: 0.0099\n",
      "Epoch 38/50\n",
      "3635/3635 [==============================] - 6s - loss: 5.9689 - acc: 0.0105 - val_loss: 6.0102 - val_acc: 0.0099\n",
      "Epoch 39/50\n",
      "3635/3635 [==============================] - 6s - loss: 5.9680 - acc: 0.0105 - val_loss: 6.0097 - val_acc: 0.0099\n",
      "Epoch 40/50\n",
      "3635/3635 [==============================] - 6s - loss: 5.9671 - acc: 0.0105 - val_loss: 6.0092 - val_acc: 0.0099\n",
      "Epoch 41/50\n",
      "3635/3635 [==============================] - 6s - loss: 5.9662 - acc: 0.0105 - val_loss: 6.0087 - val_acc: 0.0099\n",
      "Epoch 42/50\n",
      "3635/3635 [==============================] - 6s - loss: 5.9654 - acc: 0.0105 - val_loss: 6.0082 - val_acc: 0.0099\n",
      "Epoch 43/50\n",
      "3635/3635 [==============================] - 6s - loss: 5.9645 - acc: 0.0105 - val_loss: 6.0077 - val_acc: 0.0099\n",
      "Epoch 44/50\n",
      "3635/3635 [==============================] - 6s - loss: 5.9637 - acc: 0.0105 - val_loss: 6.0072 - val_acc: 0.0099\n",
      "Epoch 45/50\n",
      "3635/3635 [==============================] - 6s - loss: 5.9628 - acc: 0.0105 - val_loss: 6.0068 - val_acc: 0.0099\n",
      "Epoch 46/50\n",
      "3635/3635 [==============================] - 6s - loss: 5.9620 - acc: 0.0105 - val_loss: 6.0063 - val_acc: 0.0099\n",
      "Epoch 47/50\n",
      "3635/3635 [==============================] - 6s - loss: 5.9612 - acc: 0.0105 - val_loss: 6.0059 - val_acc: 0.0099\n",
      "Epoch 48/50\n",
      "3635/3635 [==============================] - 6s - loss: 5.9603 - acc: 0.0105 - val_loss: 6.0054 - val_acc: 0.0099\n",
      "Epoch 49/50\n",
      "3635/3635 [==============================] - 6s - loss: 5.9595 - acc: 0.0105 - val_loss: 6.0050 - val_acc: 0.0099\n",
      "Epoch 50/50\n",
      "3635/3635 [==============================] - 6s - loss: 5.9587 - acc: 0.0105 - val_loss: 6.0045 - val_acc: 0.0099\n"
     ]
    },
    {
     "data": {
      "text/plain": [
       "<keras.callbacks.History at 0x7f4451ef6410>"
      ]
     },
     "execution_count": 25,
     "metadata": {},
     "output_type": "execute_result"
    }
   ],
   "source": [
    "fc_model.fit(tr_features, \n",
    "             tr_labels,\n",
    "             batch_size=batch_size, \n",
    "             validation_data=(val_features, val_labels), \n",
    "             nb_epoch=50)"
   ]
  },
  {
   "cell_type": "code",
   "execution_count": null,
   "metadata": {
    "collapsed": true
   },
   "outputs": [],
   "source": []
  },
  {
   "cell_type": "code",
   "execution_count": 26,
   "metadata": {
    "collapsed": false
   },
   "outputs": [
    {
     "name": "stdout",
     "output_type": "stream",
     "text": [
      "Train on 3635 samples, validate on 909 samples\n",
      "Epoch 1/25\n",
      "3635/3635 [==============================] - 6s - loss: 5.9579 - acc: 0.0105 - val_loss: 6.0041 - val_acc: 0.0099\n",
      "Epoch 2/25\n",
      "3635/3635 [==============================] - 6s - loss: 5.9571 - acc: 0.0105 - val_loss: 6.0037 - val_acc: 0.0099\n",
      "Epoch 3/25\n",
      "3635/3635 [==============================] - 6s - loss: 5.9564 - acc: 0.0105 - val_loss: 6.0033 - val_acc: 0.0099\n",
      "Epoch 4/25\n",
      "3635/3635 [==============================] - 6s - loss: 5.9556 - acc: 0.0105 - val_loss: 6.0029 - val_acc: 0.0099\n",
      "Epoch 5/25\n",
      "3635/3635 [==============================] - 6s - loss: 5.9548 - acc: 0.0105 - val_loss: 6.0025 - val_acc: 0.0099\n",
      "Epoch 6/25\n",
      "3635/3635 [==============================] - 6s - loss: 5.9541 - acc: 0.0105 - val_loss: 6.0021 - val_acc: 0.0099\n",
      "Epoch 7/25\n",
      "3635/3635 [==============================] - 6s - loss: 5.9533 - acc: 0.0105 - val_loss: 6.0017 - val_acc: 0.0099\n",
      "Epoch 8/25\n",
      "3635/3635 [==============================] - 6s - loss: 5.9526 - acc: 0.0105 - val_loss: 6.0013 - val_acc: 0.0099\n",
      "Epoch 9/25\n",
      "3635/3635 [==============================] - 6s - loss: 5.9518 - acc: 0.0105 - val_loss: 6.0009 - val_acc: 0.0099\n",
      "Epoch 10/25\n",
      "3635/3635 [==============================] - 6s - loss: 5.9511 - acc: 0.0105 - val_loss: 6.0005 - val_acc: 0.0099\n",
      "Epoch 11/25\n",
      "3635/3635 [==============================] - 6s - loss: 5.9504 - acc: 0.0105 - val_loss: 6.0002 - val_acc: 0.0099\n",
      "Epoch 12/25\n",
      "3635/3635 [==============================] - 6s - loss: 5.9497 - acc: 0.0105 - val_loss: 5.9998 - val_acc: 0.0099\n",
      "Epoch 13/25\n",
      "3635/3635 [==============================] - 6s - loss: 5.9489 - acc: 0.0105 - val_loss: 5.9995 - val_acc: 0.0099\n",
      "Epoch 14/25\n",
      "3635/3635 [==============================] - 6s - loss: 5.9482 - acc: 0.0105 - val_loss: 5.9991 - val_acc: 0.0099\n",
      "Epoch 15/25\n",
      "3635/3635 [==============================] - 6s - loss: 5.9475 - acc: 0.0105 - val_loss: 5.9988 - val_acc: 0.0099\n",
      "Epoch 16/25\n",
      "3635/3635 [==============================] - 6s - loss: 5.9469 - acc: 0.0105 - val_loss: 5.9984 - val_acc: 0.0099\n",
      "Epoch 17/25\n",
      "3635/3635 [==============================] - 6s - loss: 5.9462 - acc: 0.0105 - val_loss: 5.9981 - val_acc: 0.0099\n",
      "Epoch 18/25\n",
      "3635/3635 [==============================] - 6s - loss: 5.9455 - acc: 0.0105 - val_loss: 5.9977 - val_acc: 0.0099\n",
      "Epoch 19/25\n",
      "3635/3635 [==============================] - 6s - loss: 5.9448 - acc: 0.0105 - val_loss: 5.9974 - val_acc: 0.0099\n",
      "Epoch 20/25\n",
      "3635/3635 [==============================] - 6s - loss: 5.9441 - acc: 0.0105 - val_loss: 5.9971 - val_acc: 0.0099\n",
      "Epoch 21/25\n",
      "3635/3635 [==============================] - 6s - loss: 5.9435 - acc: 0.0105 - val_loss: 5.9968 - val_acc: 0.0099\n",
      "Epoch 22/25\n",
      "3635/3635 [==============================] - 6s - loss: 5.9428 - acc: 0.0105 - val_loss: 5.9965 - val_acc: 0.0099\n",
      "Epoch 23/25\n",
      "3635/3635 [==============================] - 6s - loss: 5.9422 - acc: 0.0105 - val_loss: 5.9962 - val_acc: 0.0099\n",
      "Epoch 24/25\n",
      "3635/3635 [==============================] - 6s - loss: 5.9415 - acc: 0.0105 - val_loss: 5.9959 - val_acc: 0.0099\n",
      "Epoch 25/25\n",
      "3635/3635 [==============================] - 6s - loss: 5.9409 - acc: 0.0105 - val_loss: 5.9956 - val_acc: 0.0099\n"
     ]
    },
    {
     "data": {
      "text/plain": [
       "<keras.callbacks.History at 0x7f4451ef6390>"
      ]
     },
     "execution_count": 26,
     "metadata": {},
     "output_type": "execute_result"
    }
   ],
   "source": [
    "fc_model.fit(tr_features, \n",
    "             tr_labels,\n",
    "             batch_size=batch_size, \n",
    "             validation_data=(val_features, val_labels), \n",
    "             nb_epoch=25)"
   ]
  },
  {
   "cell_type": "code",
   "execution_count": 27,
   "metadata": {
    "collapsed": false
   },
   "outputs": [
    {
     "name": "stdout",
     "output_type": "stream",
     "text": [
      "Train on 3635 samples, validate on 909 samples\n",
      "Epoch 1/10\n",
      "3635/3635 [==============================] - 7s - loss: 5.9403 - acc: 0.0105 - val_loss: 5.9953 - val_acc: 0.0099\n",
      "Epoch 2/10\n",
      "3635/3635 [==============================] - 6s - loss: 5.9396 - acc: 0.0105 - val_loss: 5.9950 - val_acc: 0.0099\n",
      "Epoch 3/10\n",
      "3635/3635 [==============================] - 6s - loss: 5.9390 - acc: 0.0105 - val_loss: 5.9948 - val_acc: 0.0099\n",
      "Epoch 4/10\n",
      "3635/3635 [==============================] - 6s - loss: 5.9384 - acc: 0.0105 - val_loss: 5.9945 - val_acc: 0.0099\n",
      "Epoch 5/10\n",
      "3635/3635 [==============================] - 6s - loss: 5.9378 - acc: 0.0105 - val_loss: 5.9942 - val_acc: 0.0099\n",
      "Epoch 6/10\n",
      "3635/3635 [==============================] - 6s - loss: 5.9372 - acc: 0.0105 - val_loss: 5.9939 - val_acc: 0.0099\n",
      "Epoch 7/10\n",
      "3635/3635 [==============================] - 6s - loss: 5.9366 - acc: 0.0105 - val_loss: 5.9937 - val_acc: 0.0099\n",
      "Epoch 8/10\n",
      "3635/3635 [==============================] - 6s - loss: 5.9360 - acc: 0.0105 - val_loss: 5.9934 - val_acc: 0.0099\n",
      "Epoch 9/10\n",
      "3635/3635 [==============================] - 6s - loss: 5.9354 - acc: 0.0105 - val_loss: 5.9932 - val_acc: 0.0099\n",
      "Epoch 10/10\n",
      "3635/3635 [==============================] - 6s - loss: 5.9348 - acc: 0.0105 - val_loss: 5.9929 - val_acc: 0.0099\n"
     ]
    },
    {
     "data": {
      "text/plain": [
       "<keras.callbacks.History at 0x7f44caae5290>"
      ]
     },
     "execution_count": 27,
     "metadata": {},
     "output_type": "execute_result"
    }
   ],
   "source": [
    "fc_model.fit(tr_features, \n",
    "             tr_labels,\n",
    "             batch_size=batch_size, \n",
    "             validation_data=(val_features, val_labels), \n",
    "             nb_epoch=10)"
   ]
  },
  {
   "cell_type": "code",
   "execution_count": 28,
   "metadata": {
    "collapsed": false
   },
   "outputs": [
    {
     "name": "stdout",
     "output_type": "stream",
     "text": [
      "Train on 3635 samples, validate on 909 samples\n",
      "Epoch 1/10\n",
      "3635/3635 [==============================] - 7s - loss: 5.9342 - acc: 0.0105 - val_loss: 5.9927 - val_acc: 0.0099\n",
      "Epoch 2/10\n",
      "3635/3635 [==============================] - 6s - loss: 5.9337 - acc: 0.0105 - val_loss: 5.9925 - val_acc: 0.0099\n",
      "Epoch 3/10\n",
      "3635/3635 [==============================] - 6s - loss: 5.9331 - acc: 0.0105 - val_loss: 5.9922 - val_acc: 0.0099\n",
      "Epoch 4/10\n",
      "3635/3635 [==============================] - 6s - loss: 5.9326 - acc: 0.0105 - val_loss: 5.9920 - val_acc: 0.0099\n",
      "Epoch 5/10\n",
      "3635/3635 [==============================] - 6s - loss: 5.9320 - acc: 0.0105 - val_loss: 5.9918 - val_acc: 0.0099\n",
      "Epoch 6/10\n",
      "3635/3635 [==============================] - 6s - loss: 5.9315 - acc: 0.0105 - val_loss: 5.9916 - val_acc: 0.0099\n",
      "Epoch 7/10\n",
      "3635/3635 [==============================] - 6s - loss: 5.9309 - acc: 0.0105 - val_loss: 5.9914 - val_acc: 0.0099\n",
      "Epoch 8/10\n",
      "3635/3635 [==============================] - 6s - loss: 5.9304 - acc: 0.0105 - val_loss: 5.9911 - val_acc: 0.0099\n",
      "Epoch 9/10\n",
      "3635/3635 [==============================] - 6s - loss: 5.9298 - acc: 0.0105 - val_loss: 5.9909 - val_acc: 0.0099\n",
      "Epoch 10/10\n",
      "3635/3635 [==============================] - 6s - loss: 5.9293 - acc: 0.0105 - val_loss: 5.9907 - val_acc: 0.0099\n"
     ]
    },
    {
     "data": {
      "text/plain": [
       "<keras.callbacks.History at 0x7f4451ef6850>"
      ]
     },
     "execution_count": 28,
     "metadata": {},
     "output_type": "execute_result"
    }
   ],
   "source": [
    "fc_model.fit(tr_features, \n",
    "             tr_labels,\n",
    "             batch_size=batch_size, \n",
    "             validation_data=(val_features, val_labels), \n",
    "             nb_epoch=10)"
   ]
  },
  {
   "cell_type": "code",
   "execution_count": 29,
   "metadata": {
    "collapsed": false
   },
   "outputs": [
    {
     "name": "stdout",
     "output_type": "stream",
     "text": [
      "Train on 3635 samples, validate on 909 samples\n",
      "Epoch 1/10\n",
      "3635/3635 [==============================] - 6s - loss: 5.9288 - acc: 0.0105 - val_loss: 5.9906 - val_acc: 0.0099\n",
      "Epoch 2/10\n",
      "3635/3635 [==============================] - 6s - loss: 5.9283 - acc: 0.0105 - val_loss: 5.9903 - val_acc: 0.0099\n",
      "Epoch 3/10\n",
      "3635/3635 [==============================] - 6s - loss: 5.9277 - acc: 0.0105 - val_loss: 5.9902 - val_acc: 0.0099\n",
      "Epoch 4/10\n",
      "3635/3635 [==============================] - 6s - loss: 5.9272 - acc: 0.0105 - val_loss: 5.9900 - val_acc: 0.0099\n",
      "Epoch 5/10\n",
      "3635/3635 [==============================] - 6s - loss: 5.9267 - acc: 0.0105 - val_loss: 5.9898 - val_acc: 0.0099\n",
      "Epoch 6/10\n",
      "3635/3635 [==============================] - 6s - loss: 5.9262 - acc: 0.0105 - val_loss: 5.9896 - val_acc: 0.0099\n",
      "Epoch 7/10\n",
      "3635/3635 [==============================] - 6s - loss: 5.9257 - acc: 0.0105 - val_loss: 5.9894 - val_acc: 0.0099\n",
      "Epoch 8/10\n",
      "3635/3635 [==============================] - 6s - loss: 5.9252 - acc: 0.0105 - val_loss: 5.9893 - val_acc: 0.0099\n",
      "Epoch 9/10\n",
      "3635/3635 [==============================] - 6s - loss: 5.9247 - acc: 0.0105 - val_loss: 5.9891 - val_acc: 0.0099\n",
      "Epoch 10/10\n",
      "3635/3635 [==============================] - 6s - loss: 5.9243 - acc: 0.0105 - val_loss: 5.9890 - val_acc: 0.0099\n"
     ]
    },
    {
     "data": {
      "text/plain": [
       "<keras.callbacks.History at 0x7f4451ef6590>"
      ]
     },
     "execution_count": 29,
     "metadata": {},
     "output_type": "execute_result"
    }
   ],
   "source": [
    "fc_model.fit(tr_features, \n",
    "             tr_labels,\n",
    "             batch_size=batch_size, \n",
    "             validation_data=(val_features, val_labels), \n",
    "             nb_epoch=10)"
   ]
  },
  {
   "cell_type": "code",
   "execution_count": 30,
   "metadata": {
    "collapsed": true
   },
   "outputs": [],
   "source": [
    "fc_model.save_weights('all_fc_layers_5.9890.h5')"
   ]
  },
  {
   "cell_type": "code",
   "execution_count": 31,
   "metadata": {
    "collapsed": false
   },
   "outputs": [
    {
     "name": "stdout",
     "output_type": "stream",
     "text": [
      "Train on 3635 samples, validate on 909 samples\n",
      "Epoch 1/25\n",
      "3635/3635 [==============================] - 6s - loss: 5.9238 - acc: 0.0105 - val_loss: 5.9888 - val_acc: 0.0099\n",
      "Epoch 2/25\n",
      "3635/3635 [==============================] - 6s - loss: 5.9233 - acc: 0.0105 - val_loss: 5.9886 - val_acc: 0.0099\n",
      "Epoch 3/25\n",
      "3635/3635 [==============================] - 6s - loss: 5.9228 - acc: 0.0105 - val_loss: 5.9885 - val_acc: 0.0099\n",
      "Epoch 4/25\n",
      "3635/3635 [==============================] - 6s - loss: 5.9224 - acc: 0.0105 - val_loss: 5.9883 - val_acc: 0.0099\n",
      "Epoch 5/25\n",
      "3635/3635 [==============================] - 6s - loss: 5.9219 - acc: 0.0105 - val_loss: 5.9882 - val_acc: 0.0099\n",
      "Epoch 6/25\n",
      "3635/3635 [==============================] - 6s - loss: 5.9215 - acc: 0.0105 - val_loss: 5.9880 - val_acc: 0.0099\n",
      "Epoch 7/25\n",
      "3635/3635 [==============================] - 6s - loss: 5.9210 - acc: 0.0105 - val_loss: 5.9879 - val_acc: 0.0099\n",
      "Epoch 8/25\n",
      "3635/3635 [==============================] - 6s - loss: 5.9205 - acc: 0.0105 - val_loss: 5.9878 - val_acc: 0.0099\n",
      "Epoch 9/25\n",
      "3635/3635 [==============================] - 6s - loss: 5.9201 - acc: 0.0105 - val_loss: 5.9876 - val_acc: 0.0099\n",
      "Epoch 10/25\n",
      "3635/3635 [==============================] - 6s - loss: 5.9197 - acc: 0.0105 - val_loss: 5.9875 - val_acc: 0.0099\n",
      "Epoch 11/25\n",
      "3635/3635 [==============================] - 6s - loss: 5.9192 - acc: 0.0105 - val_loss: 5.9874 - val_acc: 0.0099\n",
      "Epoch 12/25\n",
      "3635/3635 [==============================] - 6s - loss: 5.9188 - acc: 0.0105 - val_loss: 5.9873 - val_acc: 0.0099\n",
      "Epoch 13/25\n",
      "3635/3635 [==============================] - 6s - loss: 5.9184 - acc: 0.0105 - val_loss: 5.9872 - val_acc: 0.0099\n",
      "Epoch 14/25\n",
      "3635/3635 [==============================] - 6s - loss: 5.9179 - acc: 0.0105 - val_loss: 5.9870 - val_acc: 0.0099\n",
      "Epoch 15/25\n",
      "3635/3635 [==============================] - 6s - loss: 5.9175 - acc: 0.0105 - val_loss: 5.9869 - val_acc: 0.0099\n",
      "Epoch 16/25\n",
      "3635/3635 [==============================] - 6s - loss: 5.9171 - acc: 0.0105 - val_loss: 5.9868 - val_acc: 0.0099\n",
      "Epoch 17/25\n",
      "3635/3635 [==============================] - 6s - loss: 5.9167 - acc: 0.0105 - val_loss: 5.9867 - val_acc: 0.0099\n",
      "Epoch 18/25\n",
      "3635/3635 [==============================] - 6s - loss: 5.9163 - acc: 0.0105 - val_loss: 5.9866 - val_acc: 0.0099\n",
      "Epoch 19/25\n",
      "3635/3635 [==============================] - 6s - loss: 5.9159 - acc: 0.0105 - val_loss: 5.9865 - val_acc: 0.0099\n",
      "Epoch 20/25\n",
      "3635/3635 [==============================] - 6s - loss: 5.9155 - acc: 0.0105 - val_loss: 5.9864 - val_acc: 0.0099\n",
      "Epoch 21/25\n",
      "3635/3635 [==============================] - 6s - loss: 5.9151 - acc: 0.0105 - val_loss: 5.9863 - val_acc: 0.0099\n",
      "Epoch 22/25\n",
      "3635/3635 [==============================] - 6s - loss: 5.9147 - acc: 0.0105 - val_loss: 5.9862 - val_acc: 0.0099\n",
      "Epoch 23/25\n",
      "3635/3635 [==============================] - 6s - loss: 5.9143 - acc: 0.0105 - val_loss: 5.9861 - val_acc: 0.0099\n",
      "Epoch 24/25\n",
      "3635/3635 [==============================] - 6s - loss: 5.9139 - acc: 0.0105 - val_loss: 5.9860 - val_acc: 0.0099\n",
      "Epoch 25/25\n",
      "3635/3635 [==============================] - 6s - loss: 5.9135 - acc: 0.0105 - val_loss: 5.9860 - val_acc: 0.0099\n"
     ]
    },
    {
     "data": {
      "text/plain": [
       "<keras.callbacks.History at 0x7f4451ef6bd0>"
      ]
     },
     "execution_count": 31,
     "metadata": {},
     "output_type": "execute_result"
    }
   ],
   "source": [
    "fc_model.fit(tr_features, \n",
    "             tr_labels,\n",
    "             batch_size=batch_size, \n",
    "             validation_data=(val_features, val_labels), \n",
    "             nb_epoch=25)"
   ]
  },
  {
   "cell_type": "code",
   "execution_count": 32,
   "metadata": {
    "collapsed": true
   },
   "outputs": [],
   "source": [
    "fc_model.save_weights('all_fc_layers_5.9860.h5')"
   ]
  },
  {
   "cell_type": "code",
   "execution_count": 33,
   "metadata": {
    "collapsed": false
   },
   "outputs": [
    {
     "name": "stdout",
     "output_type": "stream",
     "text": [
      "Train on 3635 samples, validate on 909 samples\n",
      "Epoch 1/10\n",
      "3635/3635 [==============================] - 6s - loss: 5.9131 - acc: 0.0105 - val_loss: 5.9859 - val_acc: 0.0099\n",
      "Epoch 2/10\n",
      "3635/3635 [==============================] - 6s - loss: 5.9127 - acc: 0.0105 - val_loss: 5.9858 - val_acc: 0.0099\n",
      "Epoch 3/10\n",
      "3635/3635 [==============================] - 6s - loss: 5.9124 - acc: 0.0105 - val_loss: 5.9857 - val_acc: 0.0099\n",
      "Epoch 4/10\n",
      "3635/3635 [==============================] - 6s - loss: 5.9120 - acc: 0.0105 - val_loss: 5.9857 - val_acc: 0.0099\n",
      "Epoch 5/10\n",
      "3635/3635 [==============================] - 6s - loss: 5.9116 - acc: 0.0105 - val_loss: 5.9856 - val_acc: 0.0099\n",
      "Epoch 6/10\n",
      "3635/3635 [==============================] - 6s - loss: 5.9113 - acc: 0.0105 - val_loss: 5.9855 - val_acc: 0.0099\n",
      "Epoch 7/10\n",
      "3635/3635 [==============================] - 6s - loss: 5.9109 - acc: 0.0105 - val_loss: 5.9855 - val_acc: 0.0099\n",
      "Epoch 8/10\n",
      "3635/3635 [==============================] - 6s - loss: 5.9106 - acc: 0.0105 - val_loss: 5.9854 - val_acc: 0.0099\n",
      "Epoch 9/10\n",
      "3635/3635 [==============================] - 6s - loss: 5.9102 - acc: 0.0105 - val_loss: 5.9854 - val_acc: 0.0099\n",
      "Epoch 10/10\n",
      "3635/3635 [==============================] - 6s - loss: 5.9098 - acc: 0.0105 - val_loss: 5.9853 - val_acc: 0.0099\n"
     ]
    },
    {
     "data": {
      "text/plain": [
       "<keras.callbacks.History at 0x7f444e497590>"
      ]
     },
     "execution_count": 33,
     "metadata": {},
     "output_type": "execute_result"
    }
   ],
   "source": [
    "fc_model.fit(tr_features, \n",
    "             tr_labels,\n",
    "             batch_size=batch_size, \n",
    "             validation_data=(val_features, val_labels), \n",
    "             nb_epoch=10)"
   ]
  },
  {
   "cell_type": "code",
   "execution_count": 34,
   "metadata": {
    "collapsed": false
   },
   "outputs": [
    {
     "name": "stdout",
     "output_type": "stream",
     "text": [
      "Train on 3635 samples, validate on 909 samples\n",
      "Epoch 1/10\n",
      "3635/3635 [==============================] - 7s - loss: 5.9095 - acc: 0.0105 - val_loss: 5.9852 - val_acc: 0.0099\n",
      "Epoch 2/10\n",
      "3635/3635 [==============================] - 6s - loss: 5.9092 - acc: 0.0105 - val_loss: 5.9852 - val_acc: 0.0099\n",
      "Epoch 3/10\n",
      "3635/3635 [==============================] - 6s - loss: 5.9088 - acc: 0.0105 - val_loss: 5.9852 - val_acc: 0.0099\n",
      "Epoch 4/10\n",
      "3635/3635 [==============================] - 6s - loss: 5.9085 - acc: 0.0105 - val_loss: 5.9851 - val_acc: 0.0099\n",
      "Epoch 5/10\n",
      "3635/3635 [==============================] - 6s - loss: 5.9082 - acc: 0.0105 - val_loss: 5.9851 - val_acc: 0.0099\n",
      "Epoch 6/10\n",
      "3635/3635 [==============================] - 6s - loss: 5.9078 - acc: 0.0105 - val_loss: 5.9850 - val_acc: 0.0099\n",
      "Epoch 7/10\n",
      "3635/3635 [==============================] - 6s - loss: 5.9075 - acc: 0.0105 - val_loss: 5.9850 - val_acc: 0.0099\n",
      "Epoch 8/10\n",
      "3635/3635 [==============================] - 6s - loss: 5.9072 - acc: 0.0105 - val_loss: 5.9849 - val_acc: 0.0099\n",
      "Epoch 9/10\n",
      "3635/3635 [==============================] - 6s - loss: 5.9068 - acc: 0.0105 - val_loss: 5.9849 - val_acc: 0.0099\n",
      "Epoch 10/10\n",
      "3635/3635 [==============================] - 6s - loss: 5.9065 - acc: 0.0105 - val_loss: 5.9849 - val_acc: 0.0099\n"
     ]
    },
    {
     "data": {
      "text/plain": [
       "<keras.callbacks.History at 0x7f44584f7450>"
      ]
     },
     "execution_count": 34,
     "metadata": {},
     "output_type": "execute_result"
    }
   ],
   "source": [
    "fc_model.fit(tr_features, \n",
    "             tr_labels,\n",
    "             batch_size=batch_size, \n",
    "             validation_data=(val_features, val_labels), \n",
    "             nb_epoch=10)"
   ]
  },
  {
   "cell_type": "code",
   "execution_count": 35,
   "metadata": {
    "collapsed": true
   },
   "outputs": [],
   "source": [
    "fc_model.save_weights('all_fc_layers_5.9849.h5')"
   ]
  },
  {
   "cell_type": "code",
   "execution_count": 36,
   "metadata": {
    "collapsed": true
   },
   "outputs": [],
   "source": [
    "fc_model.optimizer.lr = 0.00001"
   ]
  },
  {
   "cell_type": "code",
   "execution_count": 37,
   "metadata": {
    "collapsed": false
   },
   "outputs": [
    {
     "name": "stdout",
     "output_type": "stream",
     "text": [
      "Train on 3635 samples, validate on 909 samples\n",
      "Epoch 1/10\n",
      "3635/3635 [==============================] - 6s - loss: 5.9062 - acc: 0.0105 - val_loss: 5.9849 - val_acc: 0.0099\n",
      "Epoch 2/10\n",
      "3635/3635 [==============================] - 6s - loss: 5.9059 - acc: 0.0105 - val_loss: 5.9849 - val_acc: 0.0099\n",
      "Epoch 3/10\n",
      "3635/3635 [==============================] - 6s - loss: 5.9056 - acc: 0.0105 - val_loss: 5.9848 - val_acc: 0.0099\n",
      "Epoch 4/10\n",
      "3635/3635 [==============================] - 6s - loss: 5.9053 - acc: 0.0105 - val_loss: 5.9848 - val_acc: 0.0099\n",
      "Epoch 5/10\n",
      "3635/3635 [==============================] - 6s - loss: 5.9050 - acc: 0.0105 - val_loss: 5.9848 - val_acc: 0.0099\n",
      "Epoch 6/10\n",
      "3635/3635 [==============================] - 6s - loss: 5.9047 - acc: 0.0105 - val_loss: 5.9848 - val_acc: 0.0099\n",
      "Epoch 7/10\n",
      "3635/3635 [==============================] - 6s - loss: 5.9044 - acc: 0.0105 - val_loss: 5.9848 - val_acc: 0.0099\n",
      "Epoch 8/10\n",
      "3635/3635 [==============================] - 6s - loss: 5.9041 - acc: 0.0105 - val_loss: 5.9847 - val_acc: 0.0099\n",
      "Epoch 9/10\n",
      "3635/3635 [==============================] - 6s - loss: 5.9038 - acc: 0.0105 - val_loss: 5.9847 - val_acc: 0.0099\n",
      "Epoch 10/10\n",
      "3635/3635 [==============================] - 6s - loss: 5.9035 - acc: 0.0105 - val_loss: 5.9847 - val_acc: 0.0099\n"
     ]
    },
    {
     "data": {
      "text/plain": [
       "<keras.callbacks.History at 0x7f4451ef6310>"
      ]
     },
     "execution_count": 37,
     "metadata": {},
     "output_type": "execute_result"
    }
   ],
   "source": [
    "fc_model.fit(tr_features, \n",
    "             tr_labels,\n",
    "             batch_size=batch_size, \n",
    "             validation_data=(val_features, val_labels), \n",
    "             nb_epoch=10)"
   ]
  },
  {
   "cell_type": "code",
   "execution_count": 38,
   "metadata": {
    "collapsed": true
   },
   "outputs": [],
   "source": [
    "fc_model.save_weights('all_fc_layers_5.9847.h5')"
   ]
  },
  {
   "cell_type": "code",
   "execution_count": 39,
   "metadata": {
    "collapsed": true
   },
   "outputs": [],
   "source": [
    "fc_model.optimizer.lr = 0.0000001"
   ]
  },
  {
   "cell_type": "code",
   "execution_count": 40,
   "metadata": {
    "collapsed": false
   },
   "outputs": [
    {
     "name": "stdout",
     "output_type": "stream",
     "text": [
      "Train on 3635 samples, validate on 909 samples\n",
      "Epoch 1/10\n",
      "3635/3635 [==============================] - 7s - loss: 5.9032 - acc: 0.0105 - val_loss: 5.9847 - val_acc: 0.0099\n",
      "Epoch 2/10\n",
      "3635/3635 [==============================] - 6s - loss: 5.9029 - acc: 0.0105 - val_loss: 5.9847 - val_acc: 0.0099\n",
      "Epoch 3/10\n",
      "3635/3635 [==============================] - 6s - loss: 5.9026 - acc: 0.0105 - val_loss: 5.9847 - val_acc: 0.0099\n",
      "Epoch 4/10\n",
      "3635/3635 [==============================] - 6s - loss: 5.9023 - acc: 0.0105 - val_loss: 5.9847 - val_acc: 0.0099\n",
      "Epoch 5/10\n",
      "3635/3635 [==============================] - 6s - loss: 5.9021 - acc: 0.0105 - val_loss: 5.9847 - val_acc: 0.0099\n",
      "Epoch 6/10\n",
      "3635/3635 [==============================] - 6s - loss: 5.9018 - acc: 0.0105 - val_loss: 5.9847 - val_acc: 0.0099\n",
      "Epoch 7/10\n",
      "3635/3635 [==============================] - 6s - loss: 5.9015 - acc: 0.0105 - val_loss: 5.9847 - val_acc: 0.0099\n",
      "Epoch 8/10\n",
      "3635/3635 [==============================] - 6s - loss: 5.9013 - acc: 0.0105 - val_loss: 5.9847 - val_acc: 0.0099\n",
      "Epoch 9/10\n",
      "3635/3635 [==============================] - 6s - loss: 5.9010 - acc: 0.0105 - val_loss: 5.9847 - val_acc: 0.0099\n",
      "Epoch 10/10\n",
      "3635/3635 [==============================] - 6s - loss: 5.9007 - acc: 0.0105 - val_loss: 5.9848 - val_acc: 0.0099\n"
     ]
    },
    {
     "data": {
      "text/plain": [
       "<keras.callbacks.History at 0x7f4451ef6810>"
      ]
     },
     "execution_count": 40,
     "metadata": {},
     "output_type": "execute_result"
    }
   ],
   "source": [
    "fc_model.fit(tr_features, \n",
    "             tr_labels,\n",
    "             batch_size=batch_size, \n",
    "             validation_data=(val_features, val_labels), \n",
    "             nb_epoch=10)"
   ]
  },
  {
   "cell_type": "code",
   "execution_count": 42,
   "metadata": {
    "collapsed": true
   },
   "outputs": [],
   "source": [
    "test_features = load_array('vgg_conv_test.bc')"
   ]
  },
  {
   "cell_type": "code",
   "execution_count": 79,
   "metadata": {
    "collapsed": true
   },
   "outputs": [],
   "source": [
    "fc_model.predict?"
   ]
  },
  {
   "cell_type": "code",
   "execution_count": 43,
   "metadata": {
    "collapsed": true
   },
   "outputs": [],
   "source": [
    "preds = fc_model.predict(test_features)"
   ]
  },
  {
   "cell_type": "code",
   "execution_count": 47,
   "metadata": {
    "collapsed": false
   },
   "outputs": [],
   "source": [
    "from create_whale_sub import create_sub"
   ]
  },
  {
   "cell_type": "code",
   "execution_count": 48,
   "metadata": {
    "collapsed": false
   },
   "outputs": [
    {
     "ename": "TypeError",
     "evalue": "__init__() got an unexpected keyword argument 'shuffle'",
     "output_type": "error",
     "traceback": [
      "\u001b[0;31m---------------------------------------------------------------------------\u001b[0m",
      "\u001b[0;31mTypeError\u001b[0m                                 Traceback (most recent call last)",
      "\u001b[0;32m<ipython-input-48-45f6bffa2650>\u001b[0m in \u001b[0;36m<module>\u001b[0;34m()\u001b[0m\n\u001b[0;32m----> 1\u001b[0;31m \u001b[0msub\u001b[0m \u001b[0;34m=\u001b[0m \u001b[0mcreate_sub\u001b[0m\u001b[0;34m(\u001b[0m\u001b[0mpreds\u001b[0m\u001b[0;34m)\u001b[0m\u001b[0;34m\u001b[0m\u001b[0m\n\u001b[0m",
      "\u001b[0;32m/home/ubuntu/courses/deeplearning1/nbs/create_whale_sub.py\u001b[0m in \u001b[0;36mcreate_sub\u001b[0;34m(preds)\u001b[0m\n\u001b[1;32m      5\u001b[0m \u001b[0;34m\u001b[0m\u001b[0m\n\u001b[1;32m      6\u001b[0m \u001b[0;32mdef\u001b[0m \u001b[0mcreate_sub\u001b[0m\u001b[0;34m(\u001b[0m\u001b[0mpreds\u001b[0m\u001b[0;34m)\u001b[0m\u001b[0;34m:\u001b[0m\u001b[0;34m\u001b[0m\u001b[0m\n\u001b[0;32m----> 7\u001b[0;31m     \u001b[0mtrain_batches\u001b[0m \u001b[0;34m=\u001b[0m \u001b[0mImageDataGenerator\u001b[0m\u001b[0;34m(\u001b[0m\u001b[0;34m)\u001b[0m\u001b[0;34m.\u001b[0m\u001b[0mflow_from_directory\u001b[0m\u001b[0;34m(\u001b[0m\u001b[0mos\u001b[0m\u001b[0;34m.\u001b[0m\u001b[0mgetcwd\u001b[0m\u001b[0;34m(\u001b[0m\u001b[0;34m)\u001b[0m\u001b[0;34m+\u001b[0m\u001b[0;34m'/data/whale/imgs/train'\u001b[0m\u001b[0;34m,\u001b[0m \u001b[0mshuffle\u001b[0m\u001b[0;34m=\u001b[0m\u001b[0mFalse\u001b[0m\u001b[0;34m)\u001b[0m\u001b[0;34m\u001b[0m\u001b[0m\n\u001b[0m\u001b[1;32m      8\u001b[0m     \u001b[0mtest_batches\u001b[0m \u001b[0;34m=\u001b[0m \u001b[0mImageDataGenerator\u001b[0m\u001b[0;34m(\u001b[0m\u001b[0;34m)\u001b[0m\u001b[0;34m.\u001b[0m\u001b[0mflow_from_directory\u001b[0m\u001b[0;34m(\u001b[0m\u001b[0mos\u001b[0m\u001b[0;34m.\u001b[0m\u001b[0mgetcwd\u001b[0m\u001b[0;34m(\u001b[0m\u001b[0;34m)\u001b[0m\u001b[0;34m+\u001b[0m\u001b[0;34m'/data/whale/imgs/test'\u001b[0m\u001b[0;34m,\u001b[0m \u001b[0mshuffle\u001b[0m\u001b[0;34m=\u001b[0m\u001b[0mFalse\u001b[0m\u001b[0;34m)\u001b[0m\u001b[0;34m\u001b[0m\u001b[0m\n\u001b[1;32m      9\u001b[0m     \u001b[0mfile_names\u001b[0m \u001b[0;34m=\u001b[0m \u001b[0mnp\u001b[0m\u001b[0;34m.\u001b[0m\u001b[0marray\u001b[0m\u001b[0;34m(\u001b[0m\u001b[0;34m[\u001b[0m\u001b[0mf\u001b[0m\u001b[0;34m[\u001b[0m\u001b[0mf\u001b[0m\u001b[0;34m.\u001b[0m\u001b[0mfind\u001b[0m\u001b[0;34m(\u001b[0m\u001b[0;34m'/'\u001b[0m\u001b[0;34m)\u001b[0m \u001b[0;34m+\u001b[0m\u001b[0;36m1\u001b[0m\u001b[0;34m:\u001b[0m\u001b[0;34m]\u001b[0m \u001b[0;32mfor\u001b[0m \u001b[0mf\u001b[0m \u001b[0;32min\u001b[0m \u001b[0mtest_batches\u001b[0m\u001b[0;34m.\u001b[0m\u001b[0mfilenames\u001b[0m\u001b[0;34m]\u001b[0m\u001b[0;34m)\u001b[0m\u001b[0;34m\u001b[0m\u001b[0m\n",
      "\u001b[0;31mTypeError\u001b[0m: __init__() got an unexpected keyword argument 'shuffle'"
     ]
    }
   ],
   "source": [
    "sub = create_sub(preds)"
   ]
  },
  {
   "cell_type": "code",
   "execution_count": 49,
   "metadata": {
    "collapsed": false
   },
   "outputs": [
    {
     "name": "stdout",
     "output_type": "stream",
     "text": [
      "Found 6925 images belonging to 1 classes.\n",
      "Found 3635 images belonging to 447 classes.\n"
     ]
    }
   ],
   "source": [
    "test_batches = ImageDataGenerator().flow_from_directory(img_dir+'/test', shuffle=False)\n",
    "tr_batches = ImageDataGenerator().flow_from_directory(img_dir+'/train', shuffle=False)"
   ]
  },
  {
   "cell_type": "code",
   "execution_count": 52,
   "metadata": {
    "collapsed": true
   },
   "outputs": [],
   "source": [
    "def create_sub(preds, test_batches, train_batches):\n",
    "    file_names = np.array([f[f.find('/') +1:] for f in test_batches.filenames])\n",
    "    \n",
    "    idx_class = [(v, k) for k,v in tr_batches.class_indices.items()]\n",
    "    idx_class= sorted(idx_class, key=lambda x: x[0])\n",
    "    classes = [x[1] for x in idx_class]\n",
    "    data = np.hstack((file_names[:, np.newaxis], preds))\n",
    "    columns = ['Image'] + classes\n",
    "    return pd.DataFrame(data, columns=columns)"
   ]
  },
  {
   "cell_type": "code",
   "execution_count": 53,
   "metadata": {
    "collapsed": false
   },
   "outputs": [],
   "source": [
    "sub = create_sub(preds, test_batches, tr_batches)"
   ]
  },
  {
   "cell_type": "code",
   "execution_count": 56,
   "metadata": {
    "collapsed": true
   },
   "outputs": [],
   "source": [
    "sub.to_csv('vgg_train_fc_layers_no_drop.csv', index=False)"
   ]
  },
  {
   "cell_type": "code",
   "execution_count": 57,
   "metadata": {
    "collapsed": false
   },
   "outputs": [
    {
     "data": {
      "text/html": [
       "<a href='vgg_train_fc_layers_no_drop.csv' target='_blank'>vgg_train_fc_layers_no_drop.csv</a><br>"
      ],
      "text/plain": [
       "/home/ubuntu/courses/deeplearning1/nbs/vgg_train_fc_layers_no_drop.csv"
      ]
     },
     "execution_count": 57,
     "metadata": {},
     "output_type": "execute_result"
    }
   ],
   "source": [
    "from IPython.display import FileLink\n",
    "FileLink('vgg_train_fc_layers_no_drop.csv')"
   ]
  },
  {
   "cell_type": "markdown",
   "metadata": {},
   "source": [
    "scores 5.98228. We've learned the training distribution."
   ]
  },
  {
   "cell_type": "markdown",
   "metadata": {},
   "source": [
    "# Train layers Dropout 0.5"
   ]
  },
  {
   "cell_type": "code",
   "execution_count": 63,
   "metadata": {
    "collapsed": true
   },
   "outputs": [],
   "source": [
    "def get_fc_model():\n",
    "    model = Sequential([\n",
    "            MaxPooling2D(input_shape=conv_layers[-1].output_shape[1:]),\n",
    "            Flatten(),\n",
    "            Dense(4096, activation='relu'),\n",
    "            Dropout(0.5),\n",
    "            Dense(4096, activation='relu'),\n",
    "            Dropout(0.5),\n",
    "            Dense(1000, activation='softmax')\n",
    "        ])\n",
    "    \n",
    "    for l1, l2, in zip(model.layers, fc_layers): l1.set_weights(l2.get_weights())\n",
    "    return model"
   ]
  },
  {
   "cell_type": "code",
   "execution_count": 64,
   "metadata": {
    "collapsed": false
   },
   "outputs": [],
   "source": [
    "fc_model = get_fc_model()"
   ]
  },
  {
   "cell_type": "code",
   "execution_count": 65,
   "metadata": {
    "collapsed": true
   },
   "outputs": [],
   "source": [
    "fc_model.layers = fc_model.layers[:-1]"
   ]
  },
  {
   "cell_type": "code",
   "execution_count": 66,
   "metadata": {
    "collapsed": true
   },
   "outputs": [],
   "source": [
    "fc_model.add(Dense(num_class, activation='softmax'))"
   ]
  },
  {
   "cell_type": "code",
   "execution_count": 67,
   "metadata": {
    "collapsed": true
   },
   "outputs": [],
   "source": [
    "fc_model.compile(Adam(lr=0.001), 'sparse_categorical_crossentropy', metrics=['accuracy'])"
   ]
  },
  {
   "cell_type": "code",
   "execution_count": 68,
   "metadata": {
    "collapsed": false
   },
   "outputs": [
    {
     "name": "stdout",
     "output_type": "stream",
     "text": [
      "Train on 3635 samples, validate on 909 samples\n",
      "Epoch 1/200\n",
      "3635/3635 [==============================] - 7s - loss: 6.0946 - acc: 0.0036 - val_loss: 6.0873 - val_acc: 0.0132\n",
      "Epoch 2/200\n",
      "3635/3635 [==============================] - 7s - loss: 6.0730 - acc: 0.0085 - val_loss: 6.0738 - val_acc: 0.0132\n",
      "Epoch 3/200\n",
      "3635/3635 [==============================] - 7s - loss: 6.0552 - acc: 0.0085 - val_loss: 6.0612 - val_acc: 0.0132\n",
      "Epoch 4/200\n",
      "3635/3635 [==============================] - 7s - loss: 6.0390 - acc: 0.0085 - val_loss: 6.0504 - val_acc: 0.0132\n",
      "Epoch 5/200\n",
      "3635/3635 [==============================] - 7s - loss: 6.0246 - acc: 0.0085 - val_loss: 6.0411 - val_acc: 0.0132\n",
      "Epoch 6/200\n",
      "3635/3635 [==============================] - 6s - loss: 6.0114 - acc: 0.0085 - val_loss: 6.0326 - val_acc: 0.0132\n",
      "Epoch 7/200\n",
      "3635/3635 [==============================] - 6s - loss: 5.9994 - acc: 0.0085 - val_loss: 6.0250 - val_acc: 0.0132\n",
      "Epoch 8/200\n",
      "3635/3635 [==============================] - 7s - loss: 5.9885 - acc: 0.0085 - val_loss: 6.0181 - val_acc: 0.0132\n",
      "Epoch 9/200\n",
      "3635/3635 [==============================] - 7s - loss: 5.9786 - acc: 0.0102 - val_loss: 6.0125 - val_acc: 0.0099\n",
      "Epoch 10/200\n",
      "3635/3635 [==============================] - 7s - loss: 5.9695 - acc: 0.0105 - val_loss: 6.0071 - val_acc: 0.0099\n",
      "Epoch 11/200\n",
      "3635/3635 [==============================] - 7s - loss: 5.9614 - acc: 0.0105 - val_loss: 6.0028 - val_acc: 0.0099\n",
      "Epoch 12/200\n",
      "3635/3635 [==============================] - 7s - loss: 5.9539 - acc: 0.0105 - val_loss: 5.9989 - val_acc: 0.0099\n",
      "Epoch 13/200\n",
      "3635/3635 [==============================] - 7s - loss: 5.9471 - acc: 0.0105 - val_loss: 5.9951 - val_acc: 0.0099\n",
      "Epoch 14/200\n",
      "3635/3635 [==============================] - 7s - loss: 5.9408 - acc: 0.0105 - val_loss: 5.9922 - val_acc: 0.0099\n",
      "Epoch 15/200\n",
      "3635/3635 [==============================] - 6s - loss: 5.9353 - acc: 0.0105 - val_loss: 5.9897 - val_acc: 0.0099\n",
      "Epoch 16/200\n",
      "3635/3635 [==============================] - 6s - loss: 5.9299 - acc: 0.0105 - val_loss: 5.9874 - val_acc: 0.0099\n",
      "Epoch 17/200\n",
      "3635/3635 [==============================] - 6s - loss: 5.9252 - acc: 0.0105 - val_loss: 5.9855 - val_acc: 0.0099\n",
      "Epoch 18/200\n",
      "3635/3635 [==============================] - 6s - loss: 5.9211 - acc: 0.0105 - val_loss: 5.9836 - val_acc: 0.0099\n",
      "Epoch 19/200\n",
      "3635/3635 [==============================] - 6s - loss: 5.9170 - acc: 0.0105 - val_loss: 5.9824 - val_acc: 0.0099\n",
      "Epoch 20/200\n",
      "3635/3635 [==============================] - 6s - loss: 5.9135 - acc: 0.0105 - val_loss: 5.9815 - val_acc: 0.0099\n",
      "Epoch 21/200\n",
      "3635/3635 [==============================] - 6s - loss: 5.9102 - acc: 0.0105 - val_loss: 5.9804 - val_acc: 0.0099\n",
      "Epoch 22/200\n",
      "3635/3635 [==============================] - 6s - loss: 5.9071 - acc: 0.0105 - val_loss: 5.9797 - val_acc: 0.0099\n",
      "Epoch 23/200\n",
      "3635/3635 [==============================] - 6s - loss: 5.9044 - acc: 0.0105 - val_loss: 5.9792 - val_acc: 0.0099\n",
      "Epoch 24/200\n",
      "3635/3635 [==============================] - 6s - loss: 5.9019 - acc: 0.0105 - val_loss: 5.9787 - val_acc: 0.0099\n",
      "Epoch 25/200\n",
      "3635/3635 [==============================] - 6s - loss: 5.8996 - acc: 0.0105 - val_loss: 5.9786 - val_acc: 0.0099\n",
      "Epoch 26/200\n",
      "3635/3635 [==============================] - 6s - loss: 5.8974 - acc: 0.0105 - val_loss: 5.9783 - val_acc: 0.0099\n",
      "Epoch 27/200\n",
      "3635/3635 [==============================] - 6s - loss: 5.8955 - acc: 0.0105 - val_loss: 5.9783 - val_acc: 0.0099\n",
      "Epoch 28/200\n",
      "3635/3635 [==============================] - 6s - loss: 5.8939 - acc: 0.0105 - val_loss: 5.9782 - val_acc: 0.0099\n",
      "Epoch 29/200\n",
      "3635/3635 [==============================] - 6s - loss: 5.8921 - acc: 0.0105 - val_loss: 5.9784 - val_acc: 0.0099\n",
      "Epoch 30/200\n",
      "3635/3635 [==============================] - 6s - loss: 5.8907 - acc: 0.0105 - val_loss: 5.9786 - val_acc: 0.0099\n",
      "Epoch 31/200\n",
      "1984/3635 [===============>..............] - ETA: 2s - loss: 5.8883 - acc: 0.0161"
     ]
    },
    {
     "ename": "KeyboardInterrupt",
     "evalue": "",
     "output_type": "error",
     "traceback": [
      "\u001b[0;31m---------------------------------------------------------------------------\u001b[0m",
      "\u001b[0;31mKeyboardInterrupt\u001b[0m                         Traceback (most recent call last)",
      "\u001b[0;32m<ipython-input-68-d041318e5a6c>\u001b[0m in \u001b[0;36m<module>\u001b[0;34m()\u001b[0m\n\u001b[1;32m      3\u001b[0m              \u001b[0mbatch_size\u001b[0m\u001b[0;34m=\u001b[0m\u001b[0mbatch_size\u001b[0m\u001b[0;34m,\u001b[0m\u001b[0;34m\u001b[0m\u001b[0m\n\u001b[1;32m      4\u001b[0m              \u001b[0mvalidation_data\u001b[0m\u001b[0;34m=\u001b[0m\u001b[0;34m(\u001b[0m\u001b[0mval_features\u001b[0m\u001b[0;34m,\u001b[0m \u001b[0mval_labels\u001b[0m\u001b[0;34m)\u001b[0m\u001b[0;34m,\u001b[0m\u001b[0;34m\u001b[0m\u001b[0m\n\u001b[0;32m----> 5\u001b[0;31m              nb_epoch=200)\n\u001b[0m",
      "\u001b[0;32m/home/ubuntu/anaconda2/lib/python2.7/site-packages/keras/models.pyc\u001b[0m in \u001b[0;36mfit\u001b[0;34m(self, x, y, batch_size, nb_epoch, verbose, callbacks, validation_split, validation_data, shuffle, class_weight, sample_weight, **kwargs)\u001b[0m\n\u001b[1;32m    618\u001b[0m                               \u001b[0mshuffle\u001b[0m\u001b[0;34m=\u001b[0m\u001b[0mshuffle\u001b[0m\u001b[0;34m,\u001b[0m\u001b[0;34m\u001b[0m\u001b[0m\n\u001b[1;32m    619\u001b[0m                               \u001b[0mclass_weight\u001b[0m\u001b[0;34m=\u001b[0m\u001b[0mclass_weight\u001b[0m\u001b[0;34m,\u001b[0m\u001b[0;34m\u001b[0m\u001b[0m\n\u001b[0;32m--> 620\u001b[0;31m                               sample_weight=sample_weight)\n\u001b[0m\u001b[1;32m    621\u001b[0m \u001b[0;34m\u001b[0m\u001b[0m\n\u001b[1;32m    622\u001b[0m     def evaluate(self, x, y, batch_size=32, verbose=1,\n",
      "\u001b[0;32m/home/ubuntu/anaconda2/lib/python2.7/site-packages/keras/engine/training.pyc\u001b[0m in \u001b[0;36mfit\u001b[0;34m(self, x, y, batch_size, nb_epoch, verbose, callbacks, validation_split, validation_data, shuffle, class_weight, sample_weight)\u001b[0m\n\u001b[1;32m   1104\u001b[0m                               \u001b[0mverbose\u001b[0m\u001b[0;34m=\u001b[0m\u001b[0mverbose\u001b[0m\u001b[0;34m,\u001b[0m \u001b[0mcallbacks\u001b[0m\u001b[0;34m=\u001b[0m\u001b[0mcallbacks\u001b[0m\u001b[0;34m,\u001b[0m\u001b[0;34m\u001b[0m\u001b[0m\n\u001b[1;32m   1105\u001b[0m                               \u001b[0mval_f\u001b[0m\u001b[0;34m=\u001b[0m\u001b[0mval_f\u001b[0m\u001b[0;34m,\u001b[0m \u001b[0mval_ins\u001b[0m\u001b[0;34m=\u001b[0m\u001b[0mval_ins\u001b[0m\u001b[0;34m,\u001b[0m \u001b[0mshuffle\u001b[0m\u001b[0;34m=\u001b[0m\u001b[0mshuffle\u001b[0m\u001b[0;34m,\u001b[0m\u001b[0;34m\u001b[0m\u001b[0m\n\u001b[0;32m-> 1106\u001b[0;31m                               callback_metrics=callback_metrics)\n\u001b[0m\u001b[1;32m   1107\u001b[0m \u001b[0;34m\u001b[0m\u001b[0m\n\u001b[1;32m   1108\u001b[0m     \u001b[0;32mdef\u001b[0m \u001b[0mevaluate\u001b[0m\u001b[0;34m(\u001b[0m\u001b[0mself\u001b[0m\u001b[0;34m,\u001b[0m \u001b[0mx\u001b[0m\u001b[0;34m,\u001b[0m \u001b[0my\u001b[0m\u001b[0;34m,\u001b[0m \u001b[0mbatch_size\u001b[0m\u001b[0;34m=\u001b[0m\u001b[0;36m32\u001b[0m\u001b[0;34m,\u001b[0m \u001b[0mverbose\u001b[0m\u001b[0;34m=\u001b[0m\u001b[0;36m1\u001b[0m\u001b[0;34m,\u001b[0m \u001b[0msample_weight\u001b[0m\u001b[0;34m=\u001b[0m\u001b[0mNone\u001b[0m\u001b[0;34m)\u001b[0m\u001b[0;34m:\u001b[0m\u001b[0;34m\u001b[0m\u001b[0m\n",
      "\u001b[0;32m/home/ubuntu/anaconda2/lib/python2.7/site-packages/keras/engine/training.pyc\u001b[0m in \u001b[0;36m_fit_loop\u001b[0;34m(self, f, ins, out_labels, batch_size, nb_epoch, verbose, callbacks, val_f, val_ins, shuffle, callback_metrics)\u001b[0m\n\u001b[1;32m    811\u001b[0m                     \u001b[0;32mif\u001b[0m \u001b[0mtype\u001b[0m\u001b[0;34m(\u001b[0m\u001b[0mins\u001b[0m\u001b[0;34m[\u001b[0m\u001b[0;34m-\u001b[0m\u001b[0;36m1\u001b[0m\u001b[0;34m]\u001b[0m\u001b[0;34m)\u001b[0m \u001b[0;32mis\u001b[0m \u001b[0mfloat\u001b[0m\u001b[0;34m:\u001b[0m\u001b[0;34m\u001b[0m\u001b[0m\n\u001b[1;32m    812\u001b[0m                         \u001b[0;31m# do not slice the training phase flag\u001b[0m\u001b[0;34m\u001b[0m\u001b[0;34m\u001b[0m\u001b[0m\n\u001b[0;32m--> 813\u001b[0;31m                         \u001b[0mins_batch\u001b[0m \u001b[0;34m=\u001b[0m \u001b[0mslice_X\u001b[0m\u001b[0;34m(\u001b[0m\u001b[0mins\u001b[0m\u001b[0;34m[\u001b[0m\u001b[0;34m:\u001b[0m\u001b[0;34m-\u001b[0m\u001b[0;36m1\u001b[0m\u001b[0;34m]\u001b[0m\u001b[0;34m,\u001b[0m \u001b[0mbatch_ids\u001b[0m\u001b[0;34m)\u001b[0m \u001b[0;34m+\u001b[0m \u001b[0;34m[\u001b[0m\u001b[0mins\u001b[0m\u001b[0;34m[\u001b[0m\u001b[0;34m-\u001b[0m\u001b[0;36m1\u001b[0m\u001b[0;34m]\u001b[0m\u001b[0;34m]\u001b[0m\u001b[0;34m\u001b[0m\u001b[0m\n\u001b[0m\u001b[1;32m    814\u001b[0m                     \u001b[0;32melse\u001b[0m\u001b[0;34m:\u001b[0m\u001b[0;34m\u001b[0m\u001b[0m\n\u001b[1;32m    815\u001b[0m                         \u001b[0mins_batch\u001b[0m \u001b[0;34m=\u001b[0m \u001b[0mslice_X\u001b[0m\u001b[0;34m(\u001b[0m\u001b[0mins\u001b[0m\u001b[0;34m,\u001b[0m \u001b[0mbatch_ids\u001b[0m\u001b[0;34m)\u001b[0m\u001b[0;34m\u001b[0m\u001b[0m\n",
      "\u001b[0;32m/home/ubuntu/anaconda2/lib/python2.7/site-packages/keras/engine/training.pyc\u001b[0m in \u001b[0;36mslice_X\u001b[0;34m(X, start, stop)\u001b[0m\n\u001b[1;32m    303\u001b[0m             \u001b[0;32mif\u001b[0m \u001b[0mhasattr\u001b[0m\u001b[0;34m(\u001b[0m\u001b[0mstart\u001b[0m\u001b[0;34m,\u001b[0m \u001b[0;34m'shape'\u001b[0m\u001b[0;34m)\u001b[0m\u001b[0;34m:\u001b[0m\u001b[0;34m\u001b[0m\u001b[0m\n\u001b[1;32m    304\u001b[0m                 \u001b[0mstart\u001b[0m \u001b[0;34m=\u001b[0m \u001b[0mstart\u001b[0m\u001b[0;34m.\u001b[0m\u001b[0mtolist\u001b[0m\u001b[0;34m(\u001b[0m\u001b[0;34m)\u001b[0m\u001b[0;34m\u001b[0m\u001b[0m\n\u001b[0;32m--> 305\u001b[0;31m             \u001b[0;32mreturn\u001b[0m \u001b[0;34m[\u001b[0m\u001b[0mx\u001b[0m\u001b[0;34m[\u001b[0m\u001b[0mstart\u001b[0m\u001b[0;34m]\u001b[0m \u001b[0;32mfor\u001b[0m \u001b[0mx\u001b[0m \u001b[0;32min\u001b[0m \u001b[0mX\u001b[0m\u001b[0;34m]\u001b[0m\u001b[0;34m\u001b[0m\u001b[0m\n\u001b[0m\u001b[1;32m    306\u001b[0m         \u001b[0;32melse\u001b[0m\u001b[0;34m:\u001b[0m\u001b[0;34m\u001b[0m\u001b[0m\n\u001b[1;32m    307\u001b[0m             \u001b[0;32mreturn\u001b[0m \u001b[0;34m[\u001b[0m\u001b[0mx\u001b[0m\u001b[0;34m[\u001b[0m\u001b[0mstart\u001b[0m\u001b[0;34m:\u001b[0m\u001b[0mstop\u001b[0m\u001b[0;34m]\u001b[0m \u001b[0;32mfor\u001b[0m \u001b[0mx\u001b[0m \u001b[0;32min\u001b[0m \u001b[0mX\u001b[0m\u001b[0;34m]\u001b[0m\u001b[0;34m\u001b[0m\u001b[0m\n",
      "\u001b[0;31mKeyboardInterrupt\u001b[0m: "
     ]
    }
   ],
   "source": [
    "fc_model.fit(tr_features, \n",
    "             tr_labels,\n",
    "             batch_size=batch_size, \n",
    "             validation_data=(val_features, val_labels), \n",
    "             nb_epoch=200)"
   ]
  },
  {
   "cell_type": "code",
   "execution_count": 69,
   "metadata": {
    "collapsed": true
   },
   "outputs": [],
   "source": [
    "fc_model.save_weights('vgg_train_fc_drop_.5_.h5')"
   ]
  },
  {
   "cell_type": "code",
   "execution_count": 70,
   "metadata": {
    "collapsed": true
   },
   "outputs": [],
   "source": [
    "fc_model.optimizer.lr = 0.0001"
   ]
  },
  {
   "cell_type": "code",
   "execution_count": 71,
   "metadata": {
    "collapsed": false
   },
   "outputs": [
    {
     "name": "stdout",
     "output_type": "stream",
     "text": [
      "Train on 3635 samples, validate on 909 samples\n",
      "Epoch 1/10\n",
      "3635/3635 [==============================] - 6s - loss: 5.8886 - acc: 0.0105 - val_loss: 5.9790 - val_acc: 0.0099\n",
      "Epoch 2/10\n",
      "3635/3635 [==============================] - 6s - loss: 5.8874 - acc: 0.0105 - val_loss: 5.9794 - val_acc: 0.0099\n",
      "Epoch 3/10\n",
      "3635/3635 [==============================] - 6s - loss: 5.9164 - acc: 0.0105 - val_loss: 5.9952 - val_acc: 0.0099\n",
      "Epoch 4/10\n",
      " 256/3635 [=>............................] - ETA: 6s - loss: 5.9672 - acc: 0.0117    "
     ]
    },
    {
     "ename": "KeyboardInterrupt",
     "evalue": "",
     "output_type": "error",
     "traceback": [
      "\u001b[0;31m---------------------------------------------------------------------------\u001b[0m",
      "\u001b[0;31mKeyboardInterrupt\u001b[0m                         Traceback (most recent call last)",
      "\u001b[0;32m<ipython-input-71-254e1ccd8f08>\u001b[0m in \u001b[0;36m<module>\u001b[0;34m()\u001b[0m\n\u001b[1;32m      3\u001b[0m              \u001b[0mbatch_size\u001b[0m\u001b[0;34m=\u001b[0m\u001b[0mbatch_size\u001b[0m\u001b[0;34m,\u001b[0m\u001b[0;34m\u001b[0m\u001b[0m\n\u001b[1;32m      4\u001b[0m              \u001b[0mvalidation_data\u001b[0m\u001b[0;34m=\u001b[0m\u001b[0;34m(\u001b[0m\u001b[0mval_features\u001b[0m\u001b[0;34m,\u001b[0m \u001b[0mval_labels\u001b[0m\u001b[0;34m)\u001b[0m\u001b[0;34m,\u001b[0m\u001b[0;34m\u001b[0m\u001b[0m\n\u001b[0;32m----> 5\u001b[0;31m              nb_epoch=10)\n\u001b[0m",
      "\u001b[0;32m/home/ubuntu/anaconda2/lib/python2.7/site-packages/keras/models.pyc\u001b[0m in \u001b[0;36mfit\u001b[0;34m(self, x, y, batch_size, nb_epoch, verbose, callbacks, validation_split, validation_data, shuffle, class_weight, sample_weight, **kwargs)\u001b[0m\n\u001b[1;32m    618\u001b[0m                               \u001b[0mshuffle\u001b[0m\u001b[0;34m=\u001b[0m\u001b[0mshuffle\u001b[0m\u001b[0;34m,\u001b[0m\u001b[0;34m\u001b[0m\u001b[0m\n\u001b[1;32m    619\u001b[0m                               \u001b[0mclass_weight\u001b[0m\u001b[0;34m=\u001b[0m\u001b[0mclass_weight\u001b[0m\u001b[0;34m,\u001b[0m\u001b[0;34m\u001b[0m\u001b[0m\n\u001b[0;32m--> 620\u001b[0;31m                               sample_weight=sample_weight)\n\u001b[0m\u001b[1;32m    621\u001b[0m \u001b[0;34m\u001b[0m\u001b[0m\n\u001b[1;32m    622\u001b[0m     def evaluate(self, x, y, batch_size=32, verbose=1,\n",
      "\u001b[0;32m/home/ubuntu/anaconda2/lib/python2.7/site-packages/keras/engine/training.pyc\u001b[0m in \u001b[0;36mfit\u001b[0;34m(self, x, y, batch_size, nb_epoch, verbose, callbacks, validation_split, validation_data, shuffle, class_weight, sample_weight)\u001b[0m\n\u001b[1;32m   1104\u001b[0m                               \u001b[0mverbose\u001b[0m\u001b[0;34m=\u001b[0m\u001b[0mverbose\u001b[0m\u001b[0;34m,\u001b[0m \u001b[0mcallbacks\u001b[0m\u001b[0;34m=\u001b[0m\u001b[0mcallbacks\u001b[0m\u001b[0;34m,\u001b[0m\u001b[0;34m\u001b[0m\u001b[0m\n\u001b[1;32m   1105\u001b[0m                               \u001b[0mval_f\u001b[0m\u001b[0;34m=\u001b[0m\u001b[0mval_f\u001b[0m\u001b[0;34m,\u001b[0m \u001b[0mval_ins\u001b[0m\u001b[0;34m=\u001b[0m\u001b[0mval_ins\u001b[0m\u001b[0;34m,\u001b[0m \u001b[0mshuffle\u001b[0m\u001b[0;34m=\u001b[0m\u001b[0mshuffle\u001b[0m\u001b[0;34m,\u001b[0m\u001b[0;34m\u001b[0m\u001b[0m\n\u001b[0;32m-> 1106\u001b[0;31m                               callback_metrics=callback_metrics)\n\u001b[0m\u001b[1;32m   1107\u001b[0m \u001b[0;34m\u001b[0m\u001b[0m\n\u001b[1;32m   1108\u001b[0m     \u001b[0;32mdef\u001b[0m \u001b[0mevaluate\u001b[0m\u001b[0;34m(\u001b[0m\u001b[0mself\u001b[0m\u001b[0;34m,\u001b[0m \u001b[0mx\u001b[0m\u001b[0;34m,\u001b[0m \u001b[0my\u001b[0m\u001b[0;34m,\u001b[0m \u001b[0mbatch_size\u001b[0m\u001b[0;34m=\u001b[0m\u001b[0;36m32\u001b[0m\u001b[0;34m,\u001b[0m \u001b[0mverbose\u001b[0m\u001b[0;34m=\u001b[0m\u001b[0;36m1\u001b[0m\u001b[0;34m,\u001b[0m \u001b[0msample_weight\u001b[0m\u001b[0;34m=\u001b[0m\u001b[0mNone\u001b[0m\u001b[0;34m)\u001b[0m\u001b[0;34m:\u001b[0m\u001b[0;34m\u001b[0m\u001b[0m\n",
      "\u001b[0;32m/home/ubuntu/anaconda2/lib/python2.7/site-packages/keras/engine/training.pyc\u001b[0m in \u001b[0;36m_fit_loop\u001b[0;34m(self, f, ins, out_labels, batch_size, nb_epoch, verbose, callbacks, val_f, val_ins, shuffle, callback_metrics)\u001b[0m\n\u001b[1;32m    822\u001b[0m                 \u001b[0mbatch_logs\u001b[0m\u001b[0;34m[\u001b[0m\u001b[0;34m'size'\u001b[0m\u001b[0;34m]\u001b[0m \u001b[0;34m=\u001b[0m \u001b[0mlen\u001b[0m\u001b[0;34m(\u001b[0m\u001b[0mbatch_ids\u001b[0m\u001b[0;34m)\u001b[0m\u001b[0;34m\u001b[0m\u001b[0m\n\u001b[1;32m    823\u001b[0m                 \u001b[0mcallbacks\u001b[0m\u001b[0;34m.\u001b[0m\u001b[0mon_batch_begin\u001b[0m\u001b[0;34m(\u001b[0m\u001b[0mbatch_index\u001b[0m\u001b[0;34m,\u001b[0m \u001b[0mbatch_logs\u001b[0m\u001b[0;34m)\u001b[0m\u001b[0;34m\u001b[0m\u001b[0m\n\u001b[0;32m--> 824\u001b[0;31m                 \u001b[0mouts\u001b[0m \u001b[0;34m=\u001b[0m \u001b[0mf\u001b[0m\u001b[0;34m(\u001b[0m\u001b[0mins_batch\u001b[0m\u001b[0;34m)\u001b[0m\u001b[0;34m\u001b[0m\u001b[0m\n\u001b[0m\u001b[1;32m    825\u001b[0m                 \u001b[0;32mif\u001b[0m \u001b[0mtype\u001b[0m\u001b[0;34m(\u001b[0m\u001b[0mouts\u001b[0m\u001b[0;34m)\u001b[0m \u001b[0;34m!=\u001b[0m \u001b[0mlist\u001b[0m\u001b[0;34m:\u001b[0m\u001b[0;34m\u001b[0m\u001b[0m\n\u001b[1;32m    826\u001b[0m                     \u001b[0mouts\u001b[0m \u001b[0;34m=\u001b[0m \u001b[0;34m[\u001b[0m\u001b[0mouts\u001b[0m\u001b[0;34m]\u001b[0m\u001b[0;34m\u001b[0m\u001b[0m\n",
      "\u001b[0;32m/home/ubuntu/anaconda2/lib/python2.7/site-packages/keras/backend/theano_backend.pyc\u001b[0m in \u001b[0;36m__call__\u001b[0;34m(self, inputs)\u001b[0m\n\u001b[1;32m    715\u001b[0m     \u001b[0;32mdef\u001b[0m \u001b[0m__call__\u001b[0m\u001b[0;34m(\u001b[0m\u001b[0mself\u001b[0m\u001b[0;34m,\u001b[0m \u001b[0minputs\u001b[0m\u001b[0;34m)\u001b[0m\u001b[0;34m:\u001b[0m\u001b[0;34m\u001b[0m\u001b[0m\n\u001b[1;32m    716\u001b[0m         \u001b[0;32massert\u001b[0m \u001b[0mtype\u001b[0m\u001b[0;34m(\u001b[0m\u001b[0minputs\u001b[0m\u001b[0;34m)\u001b[0m \u001b[0;32min\u001b[0m \u001b[0;34m{\u001b[0m\u001b[0mlist\u001b[0m\u001b[0;34m,\u001b[0m \u001b[0mtuple\u001b[0m\u001b[0;34m}\u001b[0m\u001b[0;34m\u001b[0m\u001b[0m\n\u001b[0;32m--> 717\u001b[0;31m         \u001b[0;32mreturn\u001b[0m \u001b[0mself\u001b[0m\u001b[0;34m.\u001b[0m\u001b[0mfunction\u001b[0m\u001b[0;34m(\u001b[0m\u001b[0;34m*\u001b[0m\u001b[0minputs\u001b[0m\u001b[0;34m)\u001b[0m\u001b[0;34m\u001b[0m\u001b[0m\n\u001b[0m\u001b[1;32m    718\u001b[0m \u001b[0;34m\u001b[0m\u001b[0m\n\u001b[1;32m    719\u001b[0m \u001b[0;34m\u001b[0m\u001b[0m\n",
      "\u001b[0;32m/home/ubuntu/anaconda2/lib/python2.7/site-packages/theano/compile/function_module.pyc\u001b[0m in \u001b[0;36m__call__\u001b[0;34m(self, *args, **kwargs)\u001b[0m\n\u001b[1;32m    857\u001b[0m         \u001b[0mt0_fn\u001b[0m \u001b[0;34m=\u001b[0m \u001b[0mtime\u001b[0m\u001b[0;34m.\u001b[0m\u001b[0mtime\u001b[0m\u001b[0;34m(\u001b[0m\u001b[0;34m)\u001b[0m\u001b[0;34m\u001b[0m\u001b[0m\n\u001b[1;32m    858\u001b[0m         \u001b[0;32mtry\u001b[0m\u001b[0;34m:\u001b[0m\u001b[0;34m\u001b[0m\u001b[0m\n\u001b[0;32m--> 859\u001b[0;31m             \u001b[0moutputs\u001b[0m \u001b[0;34m=\u001b[0m \u001b[0mself\u001b[0m\u001b[0;34m.\u001b[0m\u001b[0mfn\u001b[0m\u001b[0;34m(\u001b[0m\u001b[0;34m)\u001b[0m\u001b[0;34m\u001b[0m\u001b[0m\n\u001b[0m\u001b[1;32m    860\u001b[0m         \u001b[0;32mexcept\u001b[0m \u001b[0mException\u001b[0m\u001b[0;34m:\u001b[0m\u001b[0;34m\u001b[0m\u001b[0m\n\u001b[1;32m    861\u001b[0m             \u001b[0;32mif\u001b[0m \u001b[0mhasattr\u001b[0m\u001b[0;34m(\u001b[0m\u001b[0mself\u001b[0m\u001b[0;34m.\u001b[0m\u001b[0mfn\u001b[0m\u001b[0;34m,\u001b[0m \u001b[0;34m'position_of_error'\u001b[0m\u001b[0;34m)\u001b[0m\u001b[0;34m:\u001b[0m\u001b[0;34m\u001b[0m\u001b[0m\n",
      "\u001b[0;31mKeyboardInterrupt\u001b[0m: "
     ]
    }
   ],
   "source": [
    "fc_model.fit(tr_features, \n",
    "             tr_labels,\n",
    "             batch_size=batch_size, \n",
    "             validation_data=(val_features, val_labels), \n",
    "             nb_epoch=10)"
   ]
  },
  {
   "cell_type": "code",
   "execution_count": 72,
   "metadata": {
    "collapsed": true
   },
   "outputs": [],
   "source": [
    "fc_model.optimizer.lr = 0.000001"
   ]
  },
  {
   "cell_type": "code",
   "execution_count": 71,
   "metadata": {
    "collapsed": false
   },
   "outputs": [
    {
     "name": "stdout",
     "output_type": "stream",
     "text": [
      "Train on 3635 samples, validate on 909 samples\n",
      "Epoch 1/10\n",
      "3635/3635 [==============================] - 6s - loss: 5.8886 - acc: 0.0105 - val_loss: 5.9790 - val_acc: 0.0099\n",
      "Epoch 2/10\n",
      "3635/3635 [==============================] - 6s - loss: 5.8874 - acc: 0.0105 - val_loss: 5.9794 - val_acc: 0.0099\n",
      "Epoch 3/10\n",
      "3635/3635 [==============================] - 6s - loss: 5.9164 - acc: 0.0105 - val_loss: 5.9952 - val_acc: 0.0099\n",
      "Epoch 4/10\n",
      " 256/3635 [=>............................] - ETA: 6s - loss: 5.9672 - acc: 0.0117    "
     ]
    },
    {
     "ename": "KeyboardInterrupt",
     "evalue": "",
     "output_type": "error",
     "traceback": [
      "\u001b[0;31m---------------------------------------------------------------------------\u001b[0m",
      "\u001b[0;31mKeyboardInterrupt\u001b[0m                         Traceback (most recent call last)",
      "\u001b[0;32m<ipython-input-71-254e1ccd8f08>\u001b[0m in \u001b[0;36m<module>\u001b[0;34m()\u001b[0m\n\u001b[1;32m      3\u001b[0m              \u001b[0mbatch_size\u001b[0m\u001b[0;34m=\u001b[0m\u001b[0mbatch_size\u001b[0m\u001b[0;34m,\u001b[0m\u001b[0;34m\u001b[0m\u001b[0m\n\u001b[1;32m      4\u001b[0m              \u001b[0mvalidation_data\u001b[0m\u001b[0;34m=\u001b[0m\u001b[0;34m(\u001b[0m\u001b[0mval_features\u001b[0m\u001b[0;34m,\u001b[0m \u001b[0mval_labels\u001b[0m\u001b[0;34m)\u001b[0m\u001b[0;34m,\u001b[0m\u001b[0;34m\u001b[0m\u001b[0m\n\u001b[0;32m----> 5\u001b[0;31m              nb_epoch=10)\n\u001b[0m",
      "\u001b[0;32m/home/ubuntu/anaconda2/lib/python2.7/site-packages/keras/models.pyc\u001b[0m in \u001b[0;36mfit\u001b[0;34m(self, x, y, batch_size, nb_epoch, verbose, callbacks, validation_split, validation_data, shuffle, class_weight, sample_weight, **kwargs)\u001b[0m\n\u001b[1;32m    618\u001b[0m                               \u001b[0mshuffle\u001b[0m\u001b[0;34m=\u001b[0m\u001b[0mshuffle\u001b[0m\u001b[0;34m,\u001b[0m\u001b[0;34m\u001b[0m\u001b[0m\n\u001b[1;32m    619\u001b[0m                               \u001b[0mclass_weight\u001b[0m\u001b[0;34m=\u001b[0m\u001b[0mclass_weight\u001b[0m\u001b[0;34m,\u001b[0m\u001b[0;34m\u001b[0m\u001b[0m\n\u001b[0;32m--> 620\u001b[0;31m                               sample_weight=sample_weight)\n\u001b[0m\u001b[1;32m    621\u001b[0m \u001b[0;34m\u001b[0m\u001b[0m\n\u001b[1;32m    622\u001b[0m     def evaluate(self, x, y, batch_size=32, verbose=1,\n",
      "\u001b[0;32m/home/ubuntu/anaconda2/lib/python2.7/site-packages/keras/engine/training.pyc\u001b[0m in \u001b[0;36mfit\u001b[0;34m(self, x, y, batch_size, nb_epoch, verbose, callbacks, validation_split, validation_data, shuffle, class_weight, sample_weight)\u001b[0m\n\u001b[1;32m   1104\u001b[0m                               \u001b[0mverbose\u001b[0m\u001b[0;34m=\u001b[0m\u001b[0mverbose\u001b[0m\u001b[0;34m,\u001b[0m \u001b[0mcallbacks\u001b[0m\u001b[0;34m=\u001b[0m\u001b[0mcallbacks\u001b[0m\u001b[0;34m,\u001b[0m\u001b[0;34m\u001b[0m\u001b[0m\n\u001b[1;32m   1105\u001b[0m                               \u001b[0mval_f\u001b[0m\u001b[0;34m=\u001b[0m\u001b[0mval_f\u001b[0m\u001b[0;34m,\u001b[0m \u001b[0mval_ins\u001b[0m\u001b[0;34m=\u001b[0m\u001b[0mval_ins\u001b[0m\u001b[0;34m,\u001b[0m \u001b[0mshuffle\u001b[0m\u001b[0;34m=\u001b[0m\u001b[0mshuffle\u001b[0m\u001b[0;34m,\u001b[0m\u001b[0;34m\u001b[0m\u001b[0m\n\u001b[0;32m-> 1106\u001b[0;31m                               callback_metrics=callback_metrics)\n\u001b[0m\u001b[1;32m   1107\u001b[0m \u001b[0;34m\u001b[0m\u001b[0m\n\u001b[1;32m   1108\u001b[0m     \u001b[0;32mdef\u001b[0m \u001b[0mevaluate\u001b[0m\u001b[0;34m(\u001b[0m\u001b[0mself\u001b[0m\u001b[0;34m,\u001b[0m \u001b[0mx\u001b[0m\u001b[0;34m,\u001b[0m \u001b[0my\u001b[0m\u001b[0;34m,\u001b[0m \u001b[0mbatch_size\u001b[0m\u001b[0;34m=\u001b[0m\u001b[0;36m32\u001b[0m\u001b[0;34m,\u001b[0m \u001b[0mverbose\u001b[0m\u001b[0;34m=\u001b[0m\u001b[0;36m1\u001b[0m\u001b[0;34m,\u001b[0m \u001b[0msample_weight\u001b[0m\u001b[0;34m=\u001b[0m\u001b[0mNone\u001b[0m\u001b[0;34m)\u001b[0m\u001b[0;34m:\u001b[0m\u001b[0;34m\u001b[0m\u001b[0m\n",
      "\u001b[0;32m/home/ubuntu/anaconda2/lib/python2.7/site-packages/keras/engine/training.pyc\u001b[0m in \u001b[0;36m_fit_loop\u001b[0;34m(self, f, ins, out_labels, batch_size, nb_epoch, verbose, callbacks, val_f, val_ins, shuffle, callback_metrics)\u001b[0m\n\u001b[1;32m    822\u001b[0m                 \u001b[0mbatch_logs\u001b[0m\u001b[0;34m[\u001b[0m\u001b[0;34m'size'\u001b[0m\u001b[0;34m]\u001b[0m \u001b[0;34m=\u001b[0m \u001b[0mlen\u001b[0m\u001b[0;34m(\u001b[0m\u001b[0mbatch_ids\u001b[0m\u001b[0;34m)\u001b[0m\u001b[0;34m\u001b[0m\u001b[0m\n\u001b[1;32m    823\u001b[0m                 \u001b[0mcallbacks\u001b[0m\u001b[0;34m.\u001b[0m\u001b[0mon_batch_begin\u001b[0m\u001b[0;34m(\u001b[0m\u001b[0mbatch_index\u001b[0m\u001b[0;34m,\u001b[0m \u001b[0mbatch_logs\u001b[0m\u001b[0;34m)\u001b[0m\u001b[0;34m\u001b[0m\u001b[0m\n\u001b[0;32m--> 824\u001b[0;31m                 \u001b[0mouts\u001b[0m \u001b[0;34m=\u001b[0m \u001b[0mf\u001b[0m\u001b[0;34m(\u001b[0m\u001b[0mins_batch\u001b[0m\u001b[0;34m)\u001b[0m\u001b[0;34m\u001b[0m\u001b[0m\n\u001b[0m\u001b[1;32m    825\u001b[0m                 \u001b[0;32mif\u001b[0m \u001b[0mtype\u001b[0m\u001b[0;34m(\u001b[0m\u001b[0mouts\u001b[0m\u001b[0;34m)\u001b[0m \u001b[0;34m!=\u001b[0m \u001b[0mlist\u001b[0m\u001b[0;34m:\u001b[0m\u001b[0;34m\u001b[0m\u001b[0m\n\u001b[1;32m    826\u001b[0m                     \u001b[0mouts\u001b[0m \u001b[0;34m=\u001b[0m \u001b[0;34m[\u001b[0m\u001b[0mouts\u001b[0m\u001b[0;34m]\u001b[0m\u001b[0;34m\u001b[0m\u001b[0m\n",
      "\u001b[0;32m/home/ubuntu/anaconda2/lib/python2.7/site-packages/keras/backend/theano_backend.pyc\u001b[0m in \u001b[0;36m__call__\u001b[0;34m(self, inputs)\u001b[0m\n\u001b[1;32m    715\u001b[0m     \u001b[0;32mdef\u001b[0m \u001b[0m__call__\u001b[0m\u001b[0;34m(\u001b[0m\u001b[0mself\u001b[0m\u001b[0;34m,\u001b[0m \u001b[0minputs\u001b[0m\u001b[0;34m)\u001b[0m\u001b[0;34m:\u001b[0m\u001b[0;34m\u001b[0m\u001b[0m\n\u001b[1;32m    716\u001b[0m         \u001b[0;32massert\u001b[0m \u001b[0mtype\u001b[0m\u001b[0;34m(\u001b[0m\u001b[0minputs\u001b[0m\u001b[0;34m)\u001b[0m \u001b[0;32min\u001b[0m \u001b[0;34m{\u001b[0m\u001b[0mlist\u001b[0m\u001b[0;34m,\u001b[0m \u001b[0mtuple\u001b[0m\u001b[0;34m}\u001b[0m\u001b[0;34m\u001b[0m\u001b[0m\n\u001b[0;32m--> 717\u001b[0;31m         \u001b[0;32mreturn\u001b[0m \u001b[0mself\u001b[0m\u001b[0;34m.\u001b[0m\u001b[0mfunction\u001b[0m\u001b[0;34m(\u001b[0m\u001b[0;34m*\u001b[0m\u001b[0minputs\u001b[0m\u001b[0;34m)\u001b[0m\u001b[0;34m\u001b[0m\u001b[0m\n\u001b[0m\u001b[1;32m    718\u001b[0m \u001b[0;34m\u001b[0m\u001b[0m\n\u001b[1;32m    719\u001b[0m \u001b[0;34m\u001b[0m\u001b[0m\n",
      "\u001b[0;32m/home/ubuntu/anaconda2/lib/python2.7/site-packages/theano/compile/function_module.pyc\u001b[0m in \u001b[0;36m__call__\u001b[0;34m(self, *args, **kwargs)\u001b[0m\n\u001b[1;32m    857\u001b[0m         \u001b[0mt0_fn\u001b[0m \u001b[0;34m=\u001b[0m \u001b[0mtime\u001b[0m\u001b[0;34m.\u001b[0m\u001b[0mtime\u001b[0m\u001b[0;34m(\u001b[0m\u001b[0;34m)\u001b[0m\u001b[0;34m\u001b[0m\u001b[0m\n\u001b[1;32m    858\u001b[0m         \u001b[0;32mtry\u001b[0m\u001b[0;34m:\u001b[0m\u001b[0;34m\u001b[0m\u001b[0m\n\u001b[0;32m--> 859\u001b[0;31m             \u001b[0moutputs\u001b[0m \u001b[0;34m=\u001b[0m \u001b[0mself\u001b[0m\u001b[0;34m.\u001b[0m\u001b[0mfn\u001b[0m\u001b[0;34m(\u001b[0m\u001b[0;34m)\u001b[0m\u001b[0;34m\u001b[0m\u001b[0m\n\u001b[0m\u001b[1;32m    860\u001b[0m         \u001b[0;32mexcept\u001b[0m \u001b[0mException\u001b[0m\u001b[0;34m:\u001b[0m\u001b[0;34m\u001b[0m\u001b[0m\n\u001b[1;32m    861\u001b[0m             \u001b[0;32mif\u001b[0m \u001b[0mhasattr\u001b[0m\u001b[0;34m(\u001b[0m\u001b[0mself\u001b[0m\u001b[0;34m.\u001b[0m\u001b[0mfn\u001b[0m\u001b[0;34m,\u001b[0m \u001b[0;34m'position_of_error'\u001b[0m\u001b[0;34m)\u001b[0m\u001b[0;34m:\u001b[0m\u001b[0;34m\u001b[0m\u001b[0m\n",
      "\u001b[0;31mKeyboardInterrupt\u001b[0m: "
     ]
    }
   ],
   "source": [
    "fc_model.fit(tr_features, \n",
    "             tr_labels,\n",
    "             batch_size=batch_size, \n",
    "             validation_data=(val_features, val_labels), \n",
    "             nb_epoch=10)"
   ]
  },
  {
   "cell_type": "code",
   "execution_count": 73,
   "metadata": {
    "collapsed": false
   },
   "outputs": [
    {
     "name": "stdout",
     "output_type": "stream",
     "text": [
      "Train on 3635 samples, validate on 909 samples\n",
      "Epoch 1/10\n",
      "3635/3635 [==============================] - 6s - loss: 5.9384 - acc: 0.0105 - val_loss: 5.9909 - val_acc: 0.0099\n",
      "Epoch 2/10\n",
      "3635/3635 [==============================] - 6s - loss: 5.9255 - acc: 0.0105 - val_loss: 5.9872 - val_acc: 0.0099\n",
      "Epoch 3/10\n",
      "3635/3635 [==============================] - 6s - loss: 5.9175 - acc: 0.0105 - val_loss: 5.9857 - val_acc: 0.0099\n",
      "Epoch 4/10\n",
      "3635/3635 [==============================] - 6s - loss: 5.9114 - acc: 0.0105 - val_loss: 5.9845 - val_acc: 0.0099\n",
      "Epoch 5/10\n",
      "3635/3635 [==============================] - 6s - loss: 5.9065 - acc: 0.0105 - val_loss: 5.9839 - val_acc: 0.0099\n",
      "Epoch 6/10\n",
      "3635/3635 [==============================] - 6s - loss: 5.9028 - acc: 0.0105 - val_loss: 5.9838 - val_acc: 0.0099\n",
      "Epoch 7/10\n",
      "3635/3635 [==============================] - 6s - loss: 5.8993 - acc: 0.0105 - val_loss: 5.9836 - val_acc: 0.0099\n",
      "Epoch 8/10\n",
      "3635/3635 [==============================] - 6s - loss: 5.8964 - acc: 0.0105 - val_loss: 5.9841 - val_acc: 0.0099\n",
      "Epoch 9/10\n",
      "1600/3635 [============>.................] - ETA: 3s - loss: 5.9036 - acc: 0.0106"
     ]
    },
    {
     "ename": "KeyboardInterrupt",
     "evalue": "",
     "output_type": "error",
     "traceback": [
      "\u001b[0;31m---------------------------------------------------------------------------\u001b[0m",
      "\u001b[0;31mKeyboardInterrupt\u001b[0m                         Traceback (most recent call last)",
      "\u001b[0;32m<ipython-input-73-254e1ccd8f08>\u001b[0m in \u001b[0;36m<module>\u001b[0;34m()\u001b[0m\n\u001b[1;32m      3\u001b[0m              \u001b[0mbatch_size\u001b[0m\u001b[0;34m=\u001b[0m\u001b[0mbatch_size\u001b[0m\u001b[0;34m,\u001b[0m\u001b[0;34m\u001b[0m\u001b[0m\n\u001b[1;32m      4\u001b[0m              \u001b[0mvalidation_data\u001b[0m\u001b[0;34m=\u001b[0m\u001b[0;34m(\u001b[0m\u001b[0mval_features\u001b[0m\u001b[0;34m,\u001b[0m \u001b[0mval_labels\u001b[0m\u001b[0;34m)\u001b[0m\u001b[0;34m,\u001b[0m\u001b[0;34m\u001b[0m\u001b[0m\n\u001b[0;32m----> 5\u001b[0;31m              nb_epoch=10)\n\u001b[0m",
      "\u001b[0;32m/home/ubuntu/anaconda2/lib/python2.7/site-packages/keras/models.pyc\u001b[0m in \u001b[0;36mfit\u001b[0;34m(self, x, y, batch_size, nb_epoch, verbose, callbacks, validation_split, validation_data, shuffle, class_weight, sample_weight, **kwargs)\u001b[0m\n\u001b[1;32m    618\u001b[0m                               \u001b[0mshuffle\u001b[0m\u001b[0;34m=\u001b[0m\u001b[0mshuffle\u001b[0m\u001b[0;34m,\u001b[0m\u001b[0;34m\u001b[0m\u001b[0m\n\u001b[1;32m    619\u001b[0m                               \u001b[0mclass_weight\u001b[0m\u001b[0;34m=\u001b[0m\u001b[0mclass_weight\u001b[0m\u001b[0;34m,\u001b[0m\u001b[0;34m\u001b[0m\u001b[0m\n\u001b[0;32m--> 620\u001b[0;31m                               sample_weight=sample_weight)\n\u001b[0m\u001b[1;32m    621\u001b[0m \u001b[0;34m\u001b[0m\u001b[0m\n\u001b[1;32m    622\u001b[0m     def evaluate(self, x, y, batch_size=32, verbose=1,\n",
      "\u001b[0;32m/home/ubuntu/anaconda2/lib/python2.7/site-packages/keras/engine/training.pyc\u001b[0m in \u001b[0;36mfit\u001b[0;34m(self, x, y, batch_size, nb_epoch, verbose, callbacks, validation_split, validation_data, shuffle, class_weight, sample_weight)\u001b[0m\n\u001b[1;32m   1104\u001b[0m                               \u001b[0mverbose\u001b[0m\u001b[0;34m=\u001b[0m\u001b[0mverbose\u001b[0m\u001b[0;34m,\u001b[0m \u001b[0mcallbacks\u001b[0m\u001b[0;34m=\u001b[0m\u001b[0mcallbacks\u001b[0m\u001b[0;34m,\u001b[0m\u001b[0;34m\u001b[0m\u001b[0m\n\u001b[1;32m   1105\u001b[0m                               \u001b[0mval_f\u001b[0m\u001b[0;34m=\u001b[0m\u001b[0mval_f\u001b[0m\u001b[0;34m,\u001b[0m \u001b[0mval_ins\u001b[0m\u001b[0;34m=\u001b[0m\u001b[0mval_ins\u001b[0m\u001b[0;34m,\u001b[0m \u001b[0mshuffle\u001b[0m\u001b[0;34m=\u001b[0m\u001b[0mshuffle\u001b[0m\u001b[0;34m,\u001b[0m\u001b[0;34m\u001b[0m\u001b[0m\n\u001b[0;32m-> 1106\u001b[0;31m                               callback_metrics=callback_metrics)\n\u001b[0m\u001b[1;32m   1107\u001b[0m \u001b[0;34m\u001b[0m\u001b[0m\n\u001b[1;32m   1108\u001b[0m     \u001b[0;32mdef\u001b[0m \u001b[0mevaluate\u001b[0m\u001b[0;34m(\u001b[0m\u001b[0mself\u001b[0m\u001b[0;34m,\u001b[0m \u001b[0mx\u001b[0m\u001b[0;34m,\u001b[0m \u001b[0my\u001b[0m\u001b[0;34m,\u001b[0m \u001b[0mbatch_size\u001b[0m\u001b[0;34m=\u001b[0m\u001b[0;36m32\u001b[0m\u001b[0;34m,\u001b[0m \u001b[0mverbose\u001b[0m\u001b[0;34m=\u001b[0m\u001b[0;36m1\u001b[0m\u001b[0;34m,\u001b[0m \u001b[0msample_weight\u001b[0m\u001b[0;34m=\u001b[0m\u001b[0mNone\u001b[0m\u001b[0;34m)\u001b[0m\u001b[0;34m:\u001b[0m\u001b[0;34m\u001b[0m\u001b[0m\n",
      "\u001b[0;32m/home/ubuntu/anaconda2/lib/python2.7/site-packages/keras/engine/training.pyc\u001b[0m in \u001b[0;36m_fit_loop\u001b[0;34m(self, f, ins, out_labels, batch_size, nb_epoch, verbose, callbacks, val_f, val_ins, shuffle, callback_metrics)\u001b[0m\n\u001b[1;32m    822\u001b[0m                 \u001b[0mbatch_logs\u001b[0m\u001b[0;34m[\u001b[0m\u001b[0;34m'size'\u001b[0m\u001b[0;34m]\u001b[0m \u001b[0;34m=\u001b[0m \u001b[0mlen\u001b[0m\u001b[0;34m(\u001b[0m\u001b[0mbatch_ids\u001b[0m\u001b[0;34m)\u001b[0m\u001b[0;34m\u001b[0m\u001b[0m\n\u001b[1;32m    823\u001b[0m                 \u001b[0mcallbacks\u001b[0m\u001b[0;34m.\u001b[0m\u001b[0mon_batch_begin\u001b[0m\u001b[0;34m(\u001b[0m\u001b[0mbatch_index\u001b[0m\u001b[0;34m,\u001b[0m \u001b[0mbatch_logs\u001b[0m\u001b[0;34m)\u001b[0m\u001b[0;34m\u001b[0m\u001b[0m\n\u001b[0;32m--> 824\u001b[0;31m                 \u001b[0mouts\u001b[0m \u001b[0;34m=\u001b[0m \u001b[0mf\u001b[0m\u001b[0;34m(\u001b[0m\u001b[0mins_batch\u001b[0m\u001b[0;34m)\u001b[0m\u001b[0;34m\u001b[0m\u001b[0m\n\u001b[0m\u001b[1;32m    825\u001b[0m                 \u001b[0;32mif\u001b[0m \u001b[0mtype\u001b[0m\u001b[0;34m(\u001b[0m\u001b[0mouts\u001b[0m\u001b[0;34m)\u001b[0m \u001b[0;34m!=\u001b[0m \u001b[0mlist\u001b[0m\u001b[0;34m:\u001b[0m\u001b[0;34m\u001b[0m\u001b[0m\n\u001b[1;32m    826\u001b[0m                     \u001b[0mouts\u001b[0m \u001b[0;34m=\u001b[0m \u001b[0;34m[\u001b[0m\u001b[0mouts\u001b[0m\u001b[0;34m]\u001b[0m\u001b[0;34m\u001b[0m\u001b[0m\n",
      "\u001b[0;32m/home/ubuntu/anaconda2/lib/python2.7/site-packages/keras/backend/theano_backend.pyc\u001b[0m in \u001b[0;36m__call__\u001b[0;34m(self, inputs)\u001b[0m\n\u001b[1;32m    715\u001b[0m     \u001b[0;32mdef\u001b[0m \u001b[0m__call__\u001b[0m\u001b[0;34m(\u001b[0m\u001b[0mself\u001b[0m\u001b[0;34m,\u001b[0m \u001b[0minputs\u001b[0m\u001b[0;34m)\u001b[0m\u001b[0;34m:\u001b[0m\u001b[0;34m\u001b[0m\u001b[0m\n\u001b[1;32m    716\u001b[0m         \u001b[0;32massert\u001b[0m \u001b[0mtype\u001b[0m\u001b[0;34m(\u001b[0m\u001b[0minputs\u001b[0m\u001b[0;34m)\u001b[0m \u001b[0;32min\u001b[0m \u001b[0;34m{\u001b[0m\u001b[0mlist\u001b[0m\u001b[0;34m,\u001b[0m \u001b[0mtuple\u001b[0m\u001b[0;34m}\u001b[0m\u001b[0;34m\u001b[0m\u001b[0m\n\u001b[0;32m--> 717\u001b[0;31m         \u001b[0;32mreturn\u001b[0m \u001b[0mself\u001b[0m\u001b[0;34m.\u001b[0m\u001b[0mfunction\u001b[0m\u001b[0;34m(\u001b[0m\u001b[0;34m*\u001b[0m\u001b[0minputs\u001b[0m\u001b[0;34m)\u001b[0m\u001b[0;34m\u001b[0m\u001b[0m\n\u001b[0m\u001b[1;32m    718\u001b[0m \u001b[0;34m\u001b[0m\u001b[0m\n\u001b[1;32m    719\u001b[0m \u001b[0;34m\u001b[0m\u001b[0m\n",
      "\u001b[0;32m/home/ubuntu/anaconda2/lib/python2.7/site-packages/theano/compile/function_module.pyc\u001b[0m in \u001b[0;36m__call__\u001b[0;34m(self, *args, **kwargs)\u001b[0m\n\u001b[1;32m    857\u001b[0m         \u001b[0mt0_fn\u001b[0m \u001b[0;34m=\u001b[0m \u001b[0mtime\u001b[0m\u001b[0;34m.\u001b[0m\u001b[0mtime\u001b[0m\u001b[0;34m(\u001b[0m\u001b[0;34m)\u001b[0m\u001b[0;34m\u001b[0m\u001b[0m\n\u001b[1;32m    858\u001b[0m         \u001b[0;32mtry\u001b[0m\u001b[0;34m:\u001b[0m\u001b[0;34m\u001b[0m\u001b[0m\n\u001b[0;32m--> 859\u001b[0;31m             \u001b[0moutputs\u001b[0m \u001b[0;34m=\u001b[0m \u001b[0mself\u001b[0m\u001b[0;34m.\u001b[0m\u001b[0mfn\u001b[0m\u001b[0;34m(\u001b[0m\u001b[0;34m)\u001b[0m\u001b[0;34m\u001b[0m\u001b[0m\n\u001b[0m\u001b[1;32m    860\u001b[0m         \u001b[0;32mexcept\u001b[0m \u001b[0mException\u001b[0m\u001b[0;34m:\u001b[0m\u001b[0;34m\u001b[0m\u001b[0m\n\u001b[1;32m    861\u001b[0m             \u001b[0;32mif\u001b[0m \u001b[0mhasattr\u001b[0m\u001b[0;34m(\u001b[0m\u001b[0mself\u001b[0m\u001b[0;34m.\u001b[0m\u001b[0mfn\u001b[0m\u001b[0;34m,\u001b[0m \u001b[0;34m'position_of_error'\u001b[0m\u001b[0;34m)\u001b[0m\u001b[0;34m:\u001b[0m\u001b[0;34m\u001b[0m\u001b[0m\n",
      "\u001b[0;31mKeyboardInterrupt\u001b[0m: "
     ]
    }
   ],
   "source": [
    "fc_model.fit(tr_features, \n",
    "             tr_labels,\n",
    "             batch_size=batch_size, \n",
    "             validation_data=(val_features, val_labels), \n",
    "             nb_epoch=10)"
   ]
  },
  {
   "cell_type": "code",
   "execution_count": 83,
   "metadata": {
    "collapsed": true
   },
   "outputs": [],
   "source": [
    "fc_model.load_weights('vgg_train_fc_drop_.5_.h5')"
   ]
  },
  {
   "cell_type": "code",
   "execution_count": 84,
   "metadata": {
    "collapsed": true
   },
   "outputs": [],
   "source": [
    "val_preds = fc_model.predict(val_features)"
   ]
  },
  {
   "cell_type": "code",
   "execution_count": 87,
   "metadata": {
    "collapsed": false
   },
   "outputs": [
    {
     "data": {
      "text/plain": [
       "6.0063844692326747"
      ]
     },
     "execution_count": 87,
     "metadata": {},
     "output_type": "execute_result"
    }
   ],
   "source": [
    "log_loss(val_labels, val_preds, labels=range(447))"
   ]
  },
  {
   "cell_type": "markdown",
   "metadata": {},
   "source": [
    "# Train layers Dropout 0.3"
   ]
  },
  {
   "cell_type": "code",
   "execution_count": 74,
   "metadata": {
    "collapsed": true
   },
   "outputs": [],
   "source": [
    "def get_fc_model():\n",
    "    model = Sequential([\n",
    "            MaxPooling2D(input_shape=conv_layers[-1].output_shape[1:]),\n",
    "            Flatten(),\n",
    "            Dense(4096, activation='relu'),\n",
    "            Dropout(0.3),\n",
    "            Dense(4096, activation='relu'),\n",
    "            Dropout(0.3),\n",
    "            Dense(1000, activation='softmax')\n",
    "        ])\n",
    "    \n",
    "    for l1, l2, in zip(model.layers, fc_layers): l1.set_weights(proc_wgts(l2))\n",
    "    return model"
   ]
  },
  {
   "cell_type": "code",
   "execution_count": 75,
   "metadata": {
    "collapsed": false
   },
   "outputs": [],
   "source": [
    "fc_model = get_fc_model()"
   ]
  },
  {
   "cell_type": "code",
   "execution_count": 76,
   "metadata": {
    "collapsed": true
   },
   "outputs": [],
   "source": [
    "fc_model.layers = fc_model.layers[:-1]"
   ]
  },
  {
   "cell_type": "code",
   "execution_count": 77,
   "metadata": {
    "collapsed": true
   },
   "outputs": [],
   "source": [
    "fc_model.add(Dense(num_class, activation='softmax'))"
   ]
  },
  {
   "cell_type": "code",
   "execution_count": 78,
   "metadata": {
    "collapsed": true
   },
   "outputs": [],
   "source": [
    "fc_model.compile(Adam(lr=0.001), 'sparse_categorical_crossentropy', metrics=['accuracy'])"
   ]
  },
  {
   "cell_type": "code",
   "execution_count": 79,
   "metadata": {
    "collapsed": false
   },
   "outputs": [
    {
     "name": "stdout",
     "output_type": "stream",
     "text": [
      "Train on 3635 samples, validate on 909 samples\n",
      "Epoch 1/25\n",
      "3635/3635 [==============================] - 7s - loss: 6.0936 - acc: 0.0058 - val_loss: 6.0860 - val_acc: 0.0132\n",
      "Epoch 2/25\n",
      "3635/3635 [==============================] - 7s - loss: 6.0722 - acc: 0.0085 - val_loss: 6.0721 - val_acc: 0.0132\n",
      "Epoch 3/25\n",
      "3635/3635 [==============================] - 7s - loss: 6.0544 - acc: 0.0085 - val_loss: 6.0599 - val_acc: 0.0132\n",
      "Epoch 4/25\n",
      "3635/3635 [==============================] - 7s - loss: 6.0384 - acc: 0.0085 - val_loss: 6.0491 - val_acc: 0.0132\n",
      "Epoch 5/25\n",
      "3635/3635 [==============================] - 7s - loss: 6.0238 - acc: 0.0085 - val_loss: 6.0397 - val_acc: 0.0132\n",
      "Epoch 6/25\n",
      "3635/3635 [==============================] - 7s - loss: 6.0107 - acc: 0.0085 - val_loss: 6.0312 - val_acc: 0.0132\n",
      "Epoch 7/25\n",
      "3635/3635 [==============================] - 7s - loss: 5.9988 - acc: 0.0085 - val_loss: 6.0236 - val_acc: 0.0132\n",
      "Epoch 8/25\n",
      "3635/3635 [==============================] - 7s - loss: 5.9879 - acc: 0.0085 - val_loss: 6.0172 - val_acc: 0.0132\n",
      "Epoch 9/25\n",
      "3635/3635 [==============================] - 7s - loss: 5.9781 - acc: 0.0085 - val_loss: 6.0115 - val_acc: 0.0132\n",
      "Epoch 10/25\n",
      "3635/3635 [==============================] - 7s - loss: 5.9692 - acc: 0.0091 - val_loss: 6.0064 - val_acc: 0.0099\n",
      "Epoch 11/25\n",
      "3635/3635 [==============================] - 7s - loss: 5.9610 - acc: 0.0105 - val_loss: 6.0016 - val_acc: 0.0099\n",
      "Epoch 12/25\n",
      "3635/3635 [==============================] - 7s - loss: 5.9536 - acc: 0.0105 - val_loss: 5.9979 - val_acc: 0.0099\n",
      "Epoch 13/25\n",
      "3635/3635 [==============================] - 7s - loss: 5.9467 - acc: 0.0105 - val_loss: 5.9948 - val_acc: 0.0099\n",
      "Epoch 14/25\n",
      "3635/3635 [==============================] - 7s - loss: 5.9406 - acc: 0.0105 - val_loss: 5.9918 - val_acc: 0.0099\n",
      "Epoch 15/25\n",
      "3635/3635 [==============================] - 7s - loss: 5.9349 - acc: 0.0105 - val_loss: 5.9889 - val_acc: 0.0099\n",
      "Epoch 16/25\n",
      "3635/3635 [==============================] - 7s - loss: 5.9298 - acc: 0.0105 - val_loss: 5.9867 - val_acc: 0.0099\n",
      "Epoch 17/25\n",
      "3635/3635 [==============================] - 7s - loss: 5.9251 - acc: 0.0105 - val_loss: 5.9849 - val_acc: 0.0099\n",
      "Epoch 18/25\n",
      "3635/3635 [==============================] - 7s - loss: 5.9208 - acc: 0.0105 - val_loss: 5.9833 - val_acc: 0.0099\n",
      "Epoch 19/25\n",
      "3635/3635 [==============================] - 7s - loss: 5.9169 - acc: 0.0105 - val_loss: 5.9817 - val_acc: 0.0099\n",
      "Epoch 20/25\n",
      "3635/3635 [==============================] - 7s - loss: 5.9133 - acc: 0.0105 - val_loss: 5.9807 - val_acc: 0.0099\n",
      "Epoch 21/25\n",
      "3635/3635 [==============================] - 7s - loss: 5.9100 - acc: 0.0105 - val_loss: 5.9799 - val_acc: 0.0099\n",
      "Epoch 22/25\n",
      "3635/3635 [==============================] - 7s - loss: 5.9071 - acc: 0.0105 - val_loss: 5.9791 - val_acc: 0.0099\n",
      "Epoch 23/25\n",
      "3635/3635 [==============================] - 7s - loss: 5.9043 - acc: 0.0105 - val_loss: 5.9787 - val_acc: 0.0099\n",
      "Epoch 24/25\n",
      "3635/3635 [==============================] - 7s - loss: 5.9019 - acc: 0.0105 - val_loss: 5.9783 - val_acc: 0.0099\n",
      "Epoch 25/25\n",
      "3635/3635 [==============================] - 7s - loss: 5.8995 - acc: 0.0105 - val_loss: 5.9779 - val_acc: 0.0099\n"
     ]
    },
    {
     "data": {
      "text/plain": [
       "<keras.callbacks.History at 0x7f43a536c510>"
      ]
     },
     "execution_count": 79,
     "metadata": {},
     "output_type": "execute_result"
    }
   ],
   "source": [
    "fc_model.fit(tr_features, \n",
    "             tr_labels,\n",
    "             batch_size=batch_size, \n",
    "             validation_data=(val_features, val_labels), \n",
    "             nb_epoch=25)"
   ]
  },
  {
   "cell_type": "code",
   "execution_count": 80,
   "metadata": {
    "collapsed": false
   },
   "outputs": [
    {
     "name": "stdout",
     "output_type": "stream",
     "text": [
      "Train on 3635 samples, validate on 909 samples\n",
      "Epoch 1/10\n",
      "3635/3635 [==============================] - 7s - loss: 5.8974 - acc: 0.0105 - val_loss: 5.9779 - val_acc: 0.0099\n",
      "Epoch 2/10\n",
      "3635/3635 [==============================] - 7s - loss: 5.8955 - acc: 0.0105 - val_loss: 5.9777 - val_acc: 0.0099\n",
      "Epoch 3/10\n",
      "3635/3635 [==============================] - 7s - loss: 5.8937 - acc: 0.0105 - val_loss: 5.9779 - val_acc: 0.0099\n",
      "Epoch 4/10\n",
      "3635/3635 [==============================] - 7s - loss: 5.8921 - acc: 0.0105 - val_loss: 5.9779 - val_acc: 0.0099\n",
      "Epoch 5/10\n",
      "1664/3635 [============>.................] - ETA: 3s - loss: 5.8928 - acc: 0.0102"
     ]
    },
    {
     "ename": "KeyboardInterrupt",
     "evalue": "",
     "output_type": "error",
     "traceback": [
      "\u001b[0;31m---------------------------------------------------------------------------\u001b[0m",
      "\u001b[0;31mKeyboardInterrupt\u001b[0m                         Traceback (most recent call last)",
      "\u001b[0;32m<ipython-input-80-254e1ccd8f08>\u001b[0m in \u001b[0;36m<module>\u001b[0;34m()\u001b[0m\n\u001b[1;32m      3\u001b[0m              \u001b[0mbatch_size\u001b[0m\u001b[0;34m=\u001b[0m\u001b[0mbatch_size\u001b[0m\u001b[0;34m,\u001b[0m\u001b[0;34m\u001b[0m\u001b[0m\n\u001b[1;32m      4\u001b[0m              \u001b[0mvalidation_data\u001b[0m\u001b[0;34m=\u001b[0m\u001b[0;34m(\u001b[0m\u001b[0mval_features\u001b[0m\u001b[0;34m,\u001b[0m \u001b[0mval_labels\u001b[0m\u001b[0;34m)\u001b[0m\u001b[0;34m,\u001b[0m\u001b[0;34m\u001b[0m\u001b[0m\n\u001b[0;32m----> 5\u001b[0;31m              nb_epoch=10)\n\u001b[0m",
      "\u001b[0;32m/home/ubuntu/anaconda2/lib/python2.7/site-packages/keras/models.pyc\u001b[0m in \u001b[0;36mfit\u001b[0;34m(self, x, y, batch_size, nb_epoch, verbose, callbacks, validation_split, validation_data, shuffle, class_weight, sample_weight, **kwargs)\u001b[0m\n\u001b[1;32m    618\u001b[0m                               \u001b[0mshuffle\u001b[0m\u001b[0;34m=\u001b[0m\u001b[0mshuffle\u001b[0m\u001b[0;34m,\u001b[0m\u001b[0;34m\u001b[0m\u001b[0m\n\u001b[1;32m    619\u001b[0m                               \u001b[0mclass_weight\u001b[0m\u001b[0;34m=\u001b[0m\u001b[0mclass_weight\u001b[0m\u001b[0;34m,\u001b[0m\u001b[0;34m\u001b[0m\u001b[0m\n\u001b[0;32m--> 620\u001b[0;31m                               sample_weight=sample_weight)\n\u001b[0m\u001b[1;32m    621\u001b[0m \u001b[0;34m\u001b[0m\u001b[0m\n\u001b[1;32m    622\u001b[0m     def evaluate(self, x, y, batch_size=32, verbose=1,\n",
      "\u001b[0;32m/home/ubuntu/anaconda2/lib/python2.7/site-packages/keras/engine/training.pyc\u001b[0m in \u001b[0;36mfit\u001b[0;34m(self, x, y, batch_size, nb_epoch, verbose, callbacks, validation_split, validation_data, shuffle, class_weight, sample_weight)\u001b[0m\n\u001b[1;32m   1104\u001b[0m                               \u001b[0mverbose\u001b[0m\u001b[0;34m=\u001b[0m\u001b[0mverbose\u001b[0m\u001b[0;34m,\u001b[0m \u001b[0mcallbacks\u001b[0m\u001b[0;34m=\u001b[0m\u001b[0mcallbacks\u001b[0m\u001b[0;34m,\u001b[0m\u001b[0;34m\u001b[0m\u001b[0m\n\u001b[1;32m   1105\u001b[0m                               \u001b[0mval_f\u001b[0m\u001b[0;34m=\u001b[0m\u001b[0mval_f\u001b[0m\u001b[0;34m,\u001b[0m \u001b[0mval_ins\u001b[0m\u001b[0;34m=\u001b[0m\u001b[0mval_ins\u001b[0m\u001b[0;34m,\u001b[0m \u001b[0mshuffle\u001b[0m\u001b[0;34m=\u001b[0m\u001b[0mshuffle\u001b[0m\u001b[0;34m,\u001b[0m\u001b[0;34m\u001b[0m\u001b[0m\n\u001b[0;32m-> 1106\u001b[0;31m                               callback_metrics=callback_metrics)\n\u001b[0m\u001b[1;32m   1107\u001b[0m \u001b[0;34m\u001b[0m\u001b[0m\n\u001b[1;32m   1108\u001b[0m     \u001b[0;32mdef\u001b[0m \u001b[0mevaluate\u001b[0m\u001b[0;34m(\u001b[0m\u001b[0mself\u001b[0m\u001b[0;34m,\u001b[0m \u001b[0mx\u001b[0m\u001b[0;34m,\u001b[0m \u001b[0my\u001b[0m\u001b[0;34m,\u001b[0m \u001b[0mbatch_size\u001b[0m\u001b[0;34m=\u001b[0m\u001b[0;36m32\u001b[0m\u001b[0;34m,\u001b[0m \u001b[0mverbose\u001b[0m\u001b[0;34m=\u001b[0m\u001b[0;36m1\u001b[0m\u001b[0;34m,\u001b[0m \u001b[0msample_weight\u001b[0m\u001b[0;34m=\u001b[0m\u001b[0mNone\u001b[0m\u001b[0;34m)\u001b[0m\u001b[0;34m:\u001b[0m\u001b[0;34m\u001b[0m\u001b[0m\n",
      "\u001b[0;32m/home/ubuntu/anaconda2/lib/python2.7/site-packages/keras/engine/training.pyc\u001b[0m in \u001b[0;36m_fit_loop\u001b[0;34m(self, f, ins, out_labels, batch_size, nb_epoch, verbose, callbacks, val_f, val_ins, shuffle, callback_metrics)\u001b[0m\n\u001b[1;32m    822\u001b[0m                 \u001b[0mbatch_logs\u001b[0m\u001b[0;34m[\u001b[0m\u001b[0;34m'size'\u001b[0m\u001b[0;34m]\u001b[0m \u001b[0;34m=\u001b[0m \u001b[0mlen\u001b[0m\u001b[0;34m(\u001b[0m\u001b[0mbatch_ids\u001b[0m\u001b[0;34m)\u001b[0m\u001b[0;34m\u001b[0m\u001b[0m\n\u001b[1;32m    823\u001b[0m                 \u001b[0mcallbacks\u001b[0m\u001b[0;34m.\u001b[0m\u001b[0mon_batch_begin\u001b[0m\u001b[0;34m(\u001b[0m\u001b[0mbatch_index\u001b[0m\u001b[0;34m,\u001b[0m \u001b[0mbatch_logs\u001b[0m\u001b[0;34m)\u001b[0m\u001b[0;34m\u001b[0m\u001b[0m\n\u001b[0;32m--> 824\u001b[0;31m                 \u001b[0mouts\u001b[0m \u001b[0;34m=\u001b[0m \u001b[0mf\u001b[0m\u001b[0;34m(\u001b[0m\u001b[0mins_batch\u001b[0m\u001b[0;34m)\u001b[0m\u001b[0;34m\u001b[0m\u001b[0m\n\u001b[0m\u001b[1;32m    825\u001b[0m                 \u001b[0;32mif\u001b[0m \u001b[0mtype\u001b[0m\u001b[0;34m(\u001b[0m\u001b[0mouts\u001b[0m\u001b[0;34m)\u001b[0m \u001b[0;34m!=\u001b[0m \u001b[0mlist\u001b[0m\u001b[0;34m:\u001b[0m\u001b[0;34m\u001b[0m\u001b[0m\n\u001b[1;32m    826\u001b[0m                     \u001b[0mouts\u001b[0m \u001b[0;34m=\u001b[0m \u001b[0;34m[\u001b[0m\u001b[0mouts\u001b[0m\u001b[0;34m]\u001b[0m\u001b[0;34m\u001b[0m\u001b[0m\n",
      "\u001b[0;32m/home/ubuntu/anaconda2/lib/python2.7/site-packages/keras/backend/theano_backend.pyc\u001b[0m in \u001b[0;36m__call__\u001b[0;34m(self, inputs)\u001b[0m\n\u001b[1;32m    715\u001b[0m     \u001b[0;32mdef\u001b[0m \u001b[0m__call__\u001b[0m\u001b[0;34m(\u001b[0m\u001b[0mself\u001b[0m\u001b[0;34m,\u001b[0m \u001b[0minputs\u001b[0m\u001b[0;34m)\u001b[0m\u001b[0;34m:\u001b[0m\u001b[0;34m\u001b[0m\u001b[0m\n\u001b[1;32m    716\u001b[0m         \u001b[0;32massert\u001b[0m \u001b[0mtype\u001b[0m\u001b[0;34m(\u001b[0m\u001b[0minputs\u001b[0m\u001b[0;34m)\u001b[0m \u001b[0;32min\u001b[0m \u001b[0;34m{\u001b[0m\u001b[0mlist\u001b[0m\u001b[0;34m,\u001b[0m \u001b[0mtuple\u001b[0m\u001b[0;34m}\u001b[0m\u001b[0;34m\u001b[0m\u001b[0m\n\u001b[0;32m--> 717\u001b[0;31m         \u001b[0;32mreturn\u001b[0m \u001b[0mself\u001b[0m\u001b[0;34m.\u001b[0m\u001b[0mfunction\u001b[0m\u001b[0;34m(\u001b[0m\u001b[0;34m*\u001b[0m\u001b[0minputs\u001b[0m\u001b[0;34m)\u001b[0m\u001b[0;34m\u001b[0m\u001b[0m\n\u001b[0m\u001b[1;32m    718\u001b[0m \u001b[0;34m\u001b[0m\u001b[0m\n\u001b[1;32m    719\u001b[0m \u001b[0;34m\u001b[0m\u001b[0m\n",
      "\u001b[0;32m/home/ubuntu/anaconda2/lib/python2.7/site-packages/theano/compile/function_module.pyc\u001b[0m in \u001b[0;36m__call__\u001b[0;34m(self, *args, **kwargs)\u001b[0m\n\u001b[1;32m    857\u001b[0m         \u001b[0mt0_fn\u001b[0m \u001b[0;34m=\u001b[0m \u001b[0mtime\u001b[0m\u001b[0;34m.\u001b[0m\u001b[0mtime\u001b[0m\u001b[0;34m(\u001b[0m\u001b[0;34m)\u001b[0m\u001b[0;34m\u001b[0m\u001b[0m\n\u001b[1;32m    858\u001b[0m         \u001b[0;32mtry\u001b[0m\u001b[0;34m:\u001b[0m\u001b[0;34m\u001b[0m\u001b[0m\n\u001b[0;32m--> 859\u001b[0;31m             \u001b[0moutputs\u001b[0m \u001b[0;34m=\u001b[0m \u001b[0mself\u001b[0m\u001b[0;34m.\u001b[0m\u001b[0mfn\u001b[0m\u001b[0;34m(\u001b[0m\u001b[0;34m)\u001b[0m\u001b[0;34m\u001b[0m\u001b[0m\n\u001b[0m\u001b[1;32m    860\u001b[0m         \u001b[0;32mexcept\u001b[0m \u001b[0mException\u001b[0m\u001b[0;34m:\u001b[0m\u001b[0;34m\u001b[0m\u001b[0m\n\u001b[1;32m    861\u001b[0m             \u001b[0;32mif\u001b[0m \u001b[0mhasattr\u001b[0m\u001b[0;34m(\u001b[0m\u001b[0mself\u001b[0m\u001b[0;34m.\u001b[0m\u001b[0mfn\u001b[0m\u001b[0;34m,\u001b[0m \u001b[0;34m'position_of_error'\u001b[0m\u001b[0;34m)\u001b[0m\u001b[0;34m:\u001b[0m\u001b[0;34m\u001b[0m\u001b[0m\n",
      "\u001b[0;31mKeyboardInterrupt\u001b[0m: "
     ]
    }
   ],
   "source": [
    "fc_model.fit(tr_features, \n",
    "             tr_labels,\n",
    "             batch_size=batch_size, \n",
    "             validation_data=(val_features, val_labels), \n",
    "             nb_epoch=10)"
   ]
  },
  {
   "cell_type": "code",
   "execution_count": 81,
   "metadata": {
    "collapsed": true
   },
   "outputs": [],
   "source": [
    "fc_model.optimizer.lr = 0.00001"
   ]
  },
  {
   "cell_type": "code",
   "execution_count": 82,
   "metadata": {
    "collapsed": false
   },
   "outputs": [
    {
     "name": "stdout",
     "output_type": "stream",
     "text": [
      "Train on 3635 samples, validate on 909 samples\n",
      "Epoch 1/10\n",
      "3635/3635 [==============================] - 7s - loss: 5.8899 - acc: 0.0105 - val_loss: 5.9782 - val_acc: 0.0099\n",
      "Epoch 2/10\n",
      "3635/3635 [==============================] - 7s - loss: 5.8886 - acc: 0.0105 - val_loss: 5.9789 - val_acc: 0.0099\n",
      "Epoch 3/10\n",
      "3635/3635 [==============================] - 7s - loss: 5.8874 - acc: 0.0105 - val_loss: 5.9792 - val_acc: 0.0099\n",
      "Epoch 4/10\n",
      " 384/3635 [==>...........................] - ETA: 5s - loss: 5.9317 - acc: 0.0078"
     ]
    },
    {
     "ename": "KeyboardInterrupt",
     "evalue": "",
     "output_type": "error",
     "traceback": [
      "\u001b[0;31m---------------------------------------------------------------------------\u001b[0m",
      "\u001b[0;31mKeyboardInterrupt\u001b[0m                         Traceback (most recent call last)",
      "\u001b[0;32m<ipython-input-82-254e1ccd8f08>\u001b[0m in \u001b[0;36m<module>\u001b[0;34m()\u001b[0m\n\u001b[1;32m      3\u001b[0m              \u001b[0mbatch_size\u001b[0m\u001b[0;34m=\u001b[0m\u001b[0mbatch_size\u001b[0m\u001b[0;34m,\u001b[0m\u001b[0;34m\u001b[0m\u001b[0m\n\u001b[1;32m      4\u001b[0m              \u001b[0mvalidation_data\u001b[0m\u001b[0;34m=\u001b[0m\u001b[0;34m(\u001b[0m\u001b[0mval_features\u001b[0m\u001b[0;34m,\u001b[0m \u001b[0mval_labels\u001b[0m\u001b[0;34m)\u001b[0m\u001b[0;34m,\u001b[0m\u001b[0;34m\u001b[0m\u001b[0m\n\u001b[0;32m----> 5\u001b[0;31m              nb_epoch=10)\n\u001b[0m",
      "\u001b[0;32m/home/ubuntu/anaconda2/lib/python2.7/site-packages/keras/models.pyc\u001b[0m in \u001b[0;36mfit\u001b[0;34m(self, x, y, batch_size, nb_epoch, verbose, callbacks, validation_split, validation_data, shuffle, class_weight, sample_weight, **kwargs)\u001b[0m\n\u001b[1;32m    618\u001b[0m                               \u001b[0mshuffle\u001b[0m\u001b[0;34m=\u001b[0m\u001b[0mshuffle\u001b[0m\u001b[0;34m,\u001b[0m\u001b[0;34m\u001b[0m\u001b[0m\n\u001b[1;32m    619\u001b[0m                               \u001b[0mclass_weight\u001b[0m\u001b[0;34m=\u001b[0m\u001b[0mclass_weight\u001b[0m\u001b[0;34m,\u001b[0m\u001b[0;34m\u001b[0m\u001b[0m\n\u001b[0;32m--> 620\u001b[0;31m                               sample_weight=sample_weight)\n\u001b[0m\u001b[1;32m    621\u001b[0m \u001b[0;34m\u001b[0m\u001b[0m\n\u001b[1;32m    622\u001b[0m     def evaluate(self, x, y, batch_size=32, verbose=1,\n",
      "\u001b[0;32m/home/ubuntu/anaconda2/lib/python2.7/site-packages/keras/engine/training.pyc\u001b[0m in \u001b[0;36mfit\u001b[0;34m(self, x, y, batch_size, nb_epoch, verbose, callbacks, validation_split, validation_data, shuffle, class_weight, sample_weight)\u001b[0m\n\u001b[1;32m   1104\u001b[0m                               \u001b[0mverbose\u001b[0m\u001b[0;34m=\u001b[0m\u001b[0mverbose\u001b[0m\u001b[0;34m,\u001b[0m \u001b[0mcallbacks\u001b[0m\u001b[0;34m=\u001b[0m\u001b[0mcallbacks\u001b[0m\u001b[0;34m,\u001b[0m\u001b[0;34m\u001b[0m\u001b[0m\n\u001b[1;32m   1105\u001b[0m                               \u001b[0mval_f\u001b[0m\u001b[0;34m=\u001b[0m\u001b[0mval_f\u001b[0m\u001b[0;34m,\u001b[0m \u001b[0mval_ins\u001b[0m\u001b[0;34m=\u001b[0m\u001b[0mval_ins\u001b[0m\u001b[0;34m,\u001b[0m \u001b[0mshuffle\u001b[0m\u001b[0;34m=\u001b[0m\u001b[0mshuffle\u001b[0m\u001b[0;34m,\u001b[0m\u001b[0;34m\u001b[0m\u001b[0m\n\u001b[0;32m-> 1106\u001b[0;31m                               callback_metrics=callback_metrics)\n\u001b[0m\u001b[1;32m   1107\u001b[0m \u001b[0;34m\u001b[0m\u001b[0m\n\u001b[1;32m   1108\u001b[0m     \u001b[0;32mdef\u001b[0m \u001b[0mevaluate\u001b[0m\u001b[0;34m(\u001b[0m\u001b[0mself\u001b[0m\u001b[0;34m,\u001b[0m \u001b[0mx\u001b[0m\u001b[0;34m,\u001b[0m \u001b[0my\u001b[0m\u001b[0;34m,\u001b[0m \u001b[0mbatch_size\u001b[0m\u001b[0;34m=\u001b[0m\u001b[0;36m32\u001b[0m\u001b[0;34m,\u001b[0m \u001b[0mverbose\u001b[0m\u001b[0;34m=\u001b[0m\u001b[0;36m1\u001b[0m\u001b[0;34m,\u001b[0m \u001b[0msample_weight\u001b[0m\u001b[0;34m=\u001b[0m\u001b[0mNone\u001b[0m\u001b[0;34m)\u001b[0m\u001b[0;34m:\u001b[0m\u001b[0;34m\u001b[0m\u001b[0m\n",
      "\u001b[0;32m/home/ubuntu/anaconda2/lib/python2.7/site-packages/keras/engine/training.pyc\u001b[0m in \u001b[0;36m_fit_loop\u001b[0;34m(self, f, ins, out_labels, batch_size, nb_epoch, verbose, callbacks, val_f, val_ins, shuffle, callback_metrics)\u001b[0m\n\u001b[1;32m    822\u001b[0m                 \u001b[0mbatch_logs\u001b[0m\u001b[0;34m[\u001b[0m\u001b[0;34m'size'\u001b[0m\u001b[0;34m]\u001b[0m \u001b[0;34m=\u001b[0m \u001b[0mlen\u001b[0m\u001b[0;34m(\u001b[0m\u001b[0mbatch_ids\u001b[0m\u001b[0;34m)\u001b[0m\u001b[0;34m\u001b[0m\u001b[0m\n\u001b[1;32m    823\u001b[0m                 \u001b[0mcallbacks\u001b[0m\u001b[0;34m.\u001b[0m\u001b[0mon_batch_begin\u001b[0m\u001b[0;34m(\u001b[0m\u001b[0mbatch_index\u001b[0m\u001b[0;34m,\u001b[0m \u001b[0mbatch_logs\u001b[0m\u001b[0;34m)\u001b[0m\u001b[0;34m\u001b[0m\u001b[0m\n\u001b[0;32m--> 824\u001b[0;31m                 \u001b[0mouts\u001b[0m \u001b[0;34m=\u001b[0m \u001b[0mf\u001b[0m\u001b[0;34m(\u001b[0m\u001b[0mins_batch\u001b[0m\u001b[0;34m)\u001b[0m\u001b[0;34m\u001b[0m\u001b[0m\n\u001b[0m\u001b[1;32m    825\u001b[0m                 \u001b[0;32mif\u001b[0m \u001b[0mtype\u001b[0m\u001b[0;34m(\u001b[0m\u001b[0mouts\u001b[0m\u001b[0;34m)\u001b[0m \u001b[0;34m!=\u001b[0m \u001b[0mlist\u001b[0m\u001b[0;34m:\u001b[0m\u001b[0;34m\u001b[0m\u001b[0m\n\u001b[1;32m    826\u001b[0m                     \u001b[0mouts\u001b[0m \u001b[0;34m=\u001b[0m \u001b[0;34m[\u001b[0m\u001b[0mouts\u001b[0m\u001b[0;34m]\u001b[0m\u001b[0;34m\u001b[0m\u001b[0m\n",
      "\u001b[0;32m/home/ubuntu/anaconda2/lib/python2.7/site-packages/keras/backend/theano_backend.pyc\u001b[0m in \u001b[0;36m__call__\u001b[0;34m(self, inputs)\u001b[0m\n\u001b[1;32m    715\u001b[0m     \u001b[0;32mdef\u001b[0m \u001b[0m__call__\u001b[0m\u001b[0;34m(\u001b[0m\u001b[0mself\u001b[0m\u001b[0;34m,\u001b[0m \u001b[0minputs\u001b[0m\u001b[0;34m)\u001b[0m\u001b[0;34m:\u001b[0m\u001b[0;34m\u001b[0m\u001b[0m\n\u001b[1;32m    716\u001b[0m         \u001b[0;32massert\u001b[0m \u001b[0mtype\u001b[0m\u001b[0;34m(\u001b[0m\u001b[0minputs\u001b[0m\u001b[0;34m)\u001b[0m \u001b[0;32min\u001b[0m \u001b[0;34m{\u001b[0m\u001b[0mlist\u001b[0m\u001b[0;34m,\u001b[0m \u001b[0mtuple\u001b[0m\u001b[0;34m}\u001b[0m\u001b[0;34m\u001b[0m\u001b[0m\n\u001b[0;32m--> 717\u001b[0;31m         \u001b[0;32mreturn\u001b[0m \u001b[0mself\u001b[0m\u001b[0;34m.\u001b[0m\u001b[0mfunction\u001b[0m\u001b[0;34m(\u001b[0m\u001b[0;34m*\u001b[0m\u001b[0minputs\u001b[0m\u001b[0;34m)\u001b[0m\u001b[0;34m\u001b[0m\u001b[0m\n\u001b[0m\u001b[1;32m    718\u001b[0m \u001b[0;34m\u001b[0m\u001b[0m\n\u001b[1;32m    719\u001b[0m \u001b[0;34m\u001b[0m\u001b[0m\n",
      "\u001b[0;32m/home/ubuntu/anaconda2/lib/python2.7/site-packages/theano/compile/function_module.pyc\u001b[0m in \u001b[0;36m__call__\u001b[0;34m(self, *args, **kwargs)\u001b[0m\n\u001b[1;32m    857\u001b[0m         \u001b[0mt0_fn\u001b[0m \u001b[0;34m=\u001b[0m \u001b[0mtime\u001b[0m\u001b[0;34m.\u001b[0m\u001b[0mtime\u001b[0m\u001b[0;34m(\u001b[0m\u001b[0;34m)\u001b[0m\u001b[0;34m\u001b[0m\u001b[0m\n\u001b[1;32m    858\u001b[0m         \u001b[0;32mtry\u001b[0m\u001b[0;34m:\u001b[0m\u001b[0;34m\u001b[0m\u001b[0m\n\u001b[0;32m--> 859\u001b[0;31m             \u001b[0moutputs\u001b[0m \u001b[0;34m=\u001b[0m \u001b[0mself\u001b[0m\u001b[0;34m.\u001b[0m\u001b[0mfn\u001b[0m\u001b[0;34m(\u001b[0m\u001b[0;34m)\u001b[0m\u001b[0;34m\u001b[0m\u001b[0m\n\u001b[0m\u001b[1;32m    860\u001b[0m         \u001b[0;32mexcept\u001b[0m \u001b[0mException\u001b[0m\u001b[0;34m:\u001b[0m\u001b[0;34m\u001b[0m\u001b[0m\n\u001b[1;32m    861\u001b[0m             \u001b[0;32mif\u001b[0m \u001b[0mhasattr\u001b[0m\u001b[0;34m(\u001b[0m\u001b[0mself\u001b[0m\u001b[0;34m.\u001b[0m\u001b[0mfn\u001b[0m\u001b[0;34m,\u001b[0m \u001b[0;34m'position_of_error'\u001b[0m\u001b[0;34m)\u001b[0m\u001b[0;34m:\u001b[0m\u001b[0;34m\u001b[0m\u001b[0m\n",
      "\u001b[0;31mKeyboardInterrupt\u001b[0m: "
     ]
    }
   ],
   "source": [
    "fc_model.fit(tr_features, \n",
    "             tr_labels,\n",
    "             batch_size=batch_size, \n",
    "             validation_data=(val_features, val_labels), \n",
    "             nb_epoch=10)"
   ]
  },
  {
   "cell_type": "code",
   "execution_count": null,
   "metadata": {
    "collapsed": true
   },
   "outputs": [],
   "source": []
  },
  {
   "cell_type": "code",
   "execution_count": null,
   "metadata": {
    "collapsed": true
   },
   "outputs": [],
   "source": []
  },
  {
   "cell_type": "code",
   "execution_count": null,
   "metadata": {
    "collapsed": true
   },
   "outputs": [],
   "source": []
  },
  {
   "cell_type": "code",
   "execution_count": null,
   "metadata": {
    "collapsed": true
   },
   "outputs": [],
   "source": []
  },
  {
   "cell_type": "code",
   "execution_count": null,
   "metadata": {
    "collapsed": true
   },
   "outputs": [],
   "source": []
  },
  {
   "cell_type": "code",
   "execution_count": 44,
   "metadata": {
    "collapsed": true
   },
   "outputs": [],
   "source": [
    "def calc_loss(model, val_batches, classes):\n",
    "    preds = model.predict_generator(val_batches, val_batches.nb_sample)\n",
    "    clipped_preds = np.maximum(preds, 0.00022)\n",
    "    #log_loss(val_b.classes, preds, labels=range(447))\n",
    "    print('raw val loss: {}'.format(log_loss(classes, preds, labels=range(447))))\n",
    "    print('clipped val loss: {}'.format(log_loss(classes, clipped_preds, labels=range(447))))"
   ]
  },
  {
   "cell_type": "code",
   "execution_count": 45,
   "metadata": {
    "collapsed": false
   },
   "outputs": [],
   "source": [
    "class LossCallback(keras.callbacks.Callback):\n",
    "    \n",
    "    def __init__(self):\n",
    "        self.val_batches = get_val_batches()\n",
    "        self.classes = self.val_batches.classes\n",
    "        #self.n_val = self.val_batches.nb_sample\n",
    "    \n",
    "    def on_epoch_end(self, epoch, logs={}):\n",
    "        calc_loss(self.model, self.val_batches, self.classes) \n",
    "    "
   ]
  },
  {
   "cell_type": "code",
   "execution_count": 46,
   "metadata": {
    "collapsed": false
   },
   "outputs": [
    {
     "name": "stdout",
     "output_type": "stream",
     "text": [
      "Found 909 images belonging to 447 classes.\n"
     ]
    }
   ],
   "source": [
    "loss_cb = LossCallback()"
   ]
  }
 ],
 "metadata": {
  "anaconda-cloud": {},
  "kernelspec": {
   "display_name": "Python [conda root]",
   "language": "python",
   "name": "conda-root-py"
  },
  "language_info": {
   "codemirror_mode": {
    "name": "ipython",
    "version": 2
   },
   "file_extension": ".py",
   "mimetype": "text/x-python",
   "name": "python",
   "nbconvert_exporter": "python",
   "pygments_lexer": "ipython2",
   "version": "2.7.12"
  }
 },
 "nbformat": 4,
 "nbformat_minor": 1
}
