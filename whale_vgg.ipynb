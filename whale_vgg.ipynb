{
 "cells": [
  {
   "cell_type": "code",
   "execution_count": 1,
   "metadata": {
    "collapsed": false
   },
   "outputs": [
    {
     "name": "stderr",
     "output_type": "stream",
     "text": [
      "Using gpu device 0: Tesla K80 (CNMeM is disabled, cuDNN 5103)\n",
      "/home/ubuntu/anaconda2/lib/python2.7/site-packages/theano/sandbox/cuda/__init__.py:600: UserWarning: Your cuDNN version is more recent than the one Theano officially supports. If you see any problems, try updating Theano or downgrading cuDNN to version 5.\n",
      "  warnings.warn(warn)\n",
      "Using Theano backend.\n"
     ]
    }
   ],
   "source": [
    "import sys\n",
    "import os\n",
    "sys.path.insert(1, os.path.join(sys.path[0], '..'))\n",
    "from utils import *\n",
    "import vgg16\n",
    "import pandas as pd\n",
    "import numpy as np\n",
    "from glob import glob\n",
    "from keras.layers import Dense, Conv2D, BatchNormalization, Dropout, Flatten, MaxPooling2D\n",
    "from keras.models import Sequential\n",
    "from keras.preprocessing.image import ImageDataGenerator\n",
    "from keras.optimizers import Adam\n",
    "from sklearn.metrics import log_loss\n",
    "%matplotlib inline\n",
    "\n",
    "data_dir = os.path.join(os.getcwd(), 'data', 'whale')\n",
    "img_dir  = os.path.join(os.getcwd(), 'data', 'whale', 'imgs')\n",
    "batch_size=64\n",
    "num_class = 447\n",
    "img_shape=(3, 224, 224)\n",
    "target_size = (224,224)"
   ]
  },
  {
   "cell_type": "code",
   "execution_count": 37,
   "metadata": {
    "collapsed": false
   },
   "outputs": [
    {
     "data": {
      "text/plain": [
       "'/home/ubuntu/courses/deeplearning1/nbs/data/whale'"
      ]
     },
     "execution_count": 37,
     "metadata": {},
     "output_type": "execute_result"
    }
   ],
   "source": [
    "data_dir"
   ]
  },
  {
   "cell_type": "code",
   "execution_count": 38,
   "metadata": {
    "collapsed": false
   },
   "outputs": [
    {
     "data": {
      "text/plain": [
       "'/home/ubuntu/courses/deeplearning1/nbs/data/whale/imgs'"
      ]
     },
     "execution_count": 38,
     "metadata": {},
     "output_type": "execute_result"
    }
   ],
   "source": [
    "img_dir"
   ]
  },
  {
   "cell_type": "code",
   "execution_count": 85,
   "metadata": {
    "collapsed": true
   },
   "outputs": [],
   "source": [
    "def get_tr_batches(dr = img_dir+ '/train', gen = ImageDataGenerator(), batch_size=batch_size):\n",
    "    return gen.flow_from_directory(dr, shuffle=True, target_size=target_size, batch_size=64)\n",
    "\n",
    "def get_val_batches(dr = img_dir+ '/valid', gen = ImageDataGenerator(), batch_size=batch_size):\n",
    "    return gen.flow_from_directory(dr, shuffle=False, target_size=target_size, batch_size=batch_size)"
   ]
  },
  {
   "cell_type": "code",
   "execution_count": 23,
   "metadata": {
    "collapsed": false
   },
   "outputs": [],
   "source": [
    "tr_features = load_array('vgg_conv_tr.bc')\n",
    "val_features = load_array('vgg_val_tr.bc')\n"
   ]
  },
  {
   "cell_type": "code",
   "execution_count": 26,
   "metadata": {
    "collapsed": true
   },
   "outputs": [],
   "source": [
    "tr_labels = load_array('whale_tr_classes.bc')\n",
    "val_labels = load_array('whale_val_classes.bc')\n"
   ]
  },
  {
   "cell_type": "code",
   "execution_count": 41,
   "metadata": {
    "collapsed": false
   },
   "outputs": [
    {
     "name": "stdout",
     "output_type": "stream",
     "text": [
      "Found 3635 images belonging to 447 classes.\n",
      "Found 909 images belonging to 447 classes.\n"
     ]
    }
   ],
   "source": [
    "def fit_model(model, epochs, tr_b = get_tr_batches(), val_b = get_val_batches()):\n",
    "    model.fit_generator(tr_b, tr_b.nb_sample, \n",
    "                    validation_data=val_b, \n",
    "                    nb_val_samples=val_b.nb_sample, \n",
    "                    nb_epoch=epochs)"
   ]
  },
  {
   "cell_type": "code",
   "execution_count": 92,
   "metadata": {
    "collapsed": true
   },
   "outputs": [],
   "source": [
    "vgg = Vgg16()"
   ]
  },
  {
   "cell_type": "code",
   "execution_count": 93,
   "metadata": {
    "collapsed": true
   },
   "outputs": [],
   "source": [
    "model = vgg.model"
   ]
  },
  {
   "cell_type": "code",
   "execution_count": 94,
   "metadata": {
    "collapsed": true
   },
   "outputs": [],
   "source": [
    "last_conv = [i for i, v in enumerate(vgg.model.layers) if type(v) is Conv2D][-1]\n",
    "conv_layers = vgg.model.layers[:last_conv+1] \n",
    "fc_layers = vgg.model.layers[last_conv+1:]"
   ]
  },
  {
   "cell_type": "code",
   "execution_count": 95,
   "metadata": {
    "collapsed": true
   },
   "outputs": [],
   "source": [
    "def get_fc_model():\n",
    "    model = Sequential([\n",
    "            MaxPooling2D(input_shape=conv_layers[-1].output_shape[1:]),\n",
    "            Flatten(),\n",
    "            Dense(4096, activation='relu'),\n",
    "            Dropout(0.5),\n",
    "            Dense(4096, activation='relu'),\n",
    "            Dropout(0.5),\n",
    "            Dense(1000, activation='softmax')\n",
    "        ])\n",
    "    \n",
    "    for l1, l2, in zip(model.layers, fc_layers): l1.set_weights(l2.get_weights())\n",
    "    return model"
   ]
  },
  {
   "cell_type": "code",
   "execution_count": 96,
   "metadata": {
    "collapsed": false
   },
   "outputs": [],
   "source": [
    "fc_model = get_fc_model()"
   ]
  },
  {
   "cell_type": "code",
   "execution_count": 97,
   "metadata": {
    "collapsed": true
   },
   "outputs": [],
   "source": [
    "fc_model.layers = fc_model.layers[:-1]"
   ]
  },
  {
   "cell_type": "code",
   "execution_count": 98,
   "metadata": {
    "collapsed": false
   },
   "outputs": [],
   "source": [
    "for l in fc_model.layers: l.trainable = False"
   ]
  },
  {
   "cell_type": "code",
   "execution_count": 99,
   "metadata": {
    "collapsed": true
   },
   "outputs": [],
   "source": [
    "fc_model.add(Dense(num_class, activation='softmax'))"
   ]
  },
  {
   "cell_type": "code",
   "execution_count": 100,
   "metadata": {
    "collapsed": false
   },
   "outputs": [
    {
     "name": "stdout",
     "output_type": "stream",
     "text": [
      "____________________________________________________________________________________________________\n",
      "Layer (type)                     Output Shape          Param #     Connected to                     \n",
      "====================================================================================================\n",
      "maxpooling2d_18 (MaxPooling2D)   (None, 512, 7, 7)     0           maxpooling2d_input_7[0][0]       \n",
      "____________________________________________________________________________________________________\n",
      "flatten_9 (Flatten)              (None, 25088)         0           maxpooling2d_18[0][0]            \n",
      "____________________________________________________________________________________________________\n",
      "dense_29 (Dense)                 (None, 4096)          0           flatten_9[0][0]                  \n",
      "____________________________________________________________________________________________________\n",
      "dropout_17 (Dropout)             (None, 4096)          0           dense_29[0][0]                   \n",
      "____________________________________________________________________________________________________\n",
      "dense_30 (Dense)                 (None, 4096)          0           dropout_17[0][0]                 \n",
      "____________________________________________________________________________________________________\n",
      "dropout_18 (Dropout)             (None, 4096)          0           dense_30[0][0]                   \n",
      "____________________________________________________________________________________________________\n",
      "dense_32 (Dense)                 (None, 447)           447447      dense_31[0][0]                   \n",
      "====================================================================================================\n",
      "Total params: 447447\n",
      "____________________________________________________________________________________________________\n"
     ]
    }
   ],
   "source": [
    "fc_model.summary()"
   ]
  },
  {
   "cell_type": "code",
   "execution_count": 101,
   "metadata": {
    "collapsed": true
   },
   "outputs": [],
   "source": [
    "fc_model.compile(Adam(lr=0.0001), 'sparse_categorical_crossentropy', metrics=['accuracy'])"
   ]
  },
  {
   "cell_type": "code",
   "execution_count": null,
   "metadata": {
    "collapsed": false
   },
   "outputs": [
    {
     "name": "stdout",
     "output_type": "stream",
     "text": [
      "Train on 3635 samples, validate on 909 samples\n",
      "Epoch 1/300\n",
      "3635/3635 [==============================] - 2s - loss: 6.1020 - acc: 0.0025 - val_loss: 6.1013 - val_acc: 0.0055\n",
      "Epoch 2/300\n",
      "3635/3635 [==============================] - 2s - loss: 6.0977 - acc: 0.0080 - val_loss: 6.0987 - val_acc: 0.0055\n",
      "Epoch 3/300\n",
      "1024/3635 [=======>......................] - ETA: 1s - loss: 6.0943 - acc: 0.0107"
     ]
    }
   ],
   "source": [
    "fc_model.fit(tr_features, tr_labels,batch_size=batch_size, validation_data=(val_features, val_labels), nb_epoch=300)"
   ]
  },
  {
   "cell_type": "code",
   "execution_count": null,
   "metadata": {
    "collapsed": true
   },
   "outputs": [],
   "source": []
  },
  {
   "cell_type": "code",
   "execution_count": null,
   "metadata": {
    "collapsed": true
   },
   "outputs": [],
   "source": []
  },
  {
   "cell_type": "code",
   "execution_count": null,
   "metadata": {
    "collapsed": true
   },
   "outputs": [],
   "source": []
  },
  {
   "cell_type": "code",
   "execution_count": null,
   "metadata": {
    "collapsed": true
   },
   "outputs": [],
   "source": []
  },
  {
   "cell_type": "code",
   "execution_count": null,
   "metadata": {
    "collapsed": true
   },
   "outputs": [],
   "source": []
  },
  {
   "cell_type": "code",
   "execution_count": 34,
   "metadata": {
    "collapsed": false
   },
   "outputs": [
    {
     "name": "stdout",
     "output_type": "stream",
     "text": [
      "Train on 3635 samples, validate on 909 samples\n",
      "Epoch 1/5\n",
      "3635/3635 [==============================] - 2s - loss: 6.0970 - acc: 0.0085 - val_loss: 6.0973 - val_acc: 0.0055\n",
      "Epoch 2/5\n",
      "3635/3635 [==============================] - 2s - loss: 6.0927 - acc: 0.0102 - val_loss: 6.0951 - val_acc: 0.0055\n",
      "Epoch 3/5\n",
      "3635/3635 [==============================] - 2s - loss: 6.0892 - acc: 0.0077 - val_loss: 6.0931 - val_acc: 0.0055\n",
      "Epoch 4/5\n",
      "3635/3635 [==============================] - 2s - loss: 6.0854 - acc: 0.0091 - val_loss: 6.0917 - val_acc: 0.0044\n",
      "Epoch 5/5\n",
      "3635/3635 [==============================] - 2s - loss: 6.0816 - acc: 0.0099 - val_loss: 6.0903 - val_acc: 0.0033\n"
     ]
    },
    {
     "data": {
      "text/plain": [
       "<keras.callbacks.History at 0x7f82ad8c53d0>"
      ]
     },
     "execution_count": 34,
     "metadata": {},
     "output_type": "execute_result"
    }
   ],
   "source": [
    "fc_model.fit(tr_features, tr_labels,batch_size=batch_size, validation_data=(val_features, val_labels), nb_epoch=5)"
   ]
  },
  {
   "cell_type": "code",
   "execution_count": 36,
   "metadata": {
    "collapsed": true
   },
   "outputs": [],
   "source": [
    "fc_model.lr = 0.001"
   ]
  },
  {
   "cell_type": "code",
   "execution_count": 35,
   "metadata": {
    "collapsed": false
   },
   "outputs": [
    {
     "name": "stdout",
     "output_type": "stream",
     "text": [
      "Train on 3635 samples, validate on 909 samples\n",
      "Epoch 1/10\n",
      "3635/3635 [==============================] - 2s - loss: 6.0774 - acc: 0.0096 - val_loss: 6.0888 - val_acc: 0.0066\n",
      "Epoch 2/10\n",
      "3635/3635 [==============================] - 2s - loss: 6.0737 - acc: 0.0091 - val_loss: 6.0872 - val_acc: 0.0077\n",
      "Epoch 3/10\n",
      "3635/3635 [==============================] - 2s - loss: 6.0696 - acc: 0.0107 - val_loss: 6.0851 - val_acc: 0.0055\n",
      "Epoch 4/10\n",
      "3635/3635 [==============================] - 2s - loss: 6.0653 - acc: 0.0099 - val_loss: 6.0834 - val_acc: 0.0055\n",
      "Epoch 5/10\n",
      "3635/3635 [==============================] - 2s - loss: 6.0614 - acc: 0.0116 - val_loss: 6.0817 - val_acc: 0.0066\n",
      "Epoch 6/10\n",
      "3635/3635 [==============================] - 2s - loss: 6.0575 - acc: 0.0121 - val_loss: 6.0800 - val_acc: 0.0055\n",
      "Epoch 7/10\n",
      "3635/3635 [==============================] - 2s - loss: 6.0535 - acc: 0.0118 - val_loss: 6.0783 - val_acc: 0.0055\n",
      "Epoch 8/10\n",
      "3635/3635 [==============================] - 2s - loss: 6.0504 - acc: 0.0113 - val_loss: 6.0769 - val_acc: 0.0066\n",
      "Epoch 9/10\n",
      "3635/3635 [==============================] - 2s - loss: 6.0467 - acc: 0.0138 - val_loss: 6.0750 - val_acc: 0.0077\n",
      "Epoch 10/10\n",
      "3635/3635 [==============================] - 2s - loss: 6.0436 - acc: 0.0140 - val_loss: 6.0739 - val_acc: 0.0110\n"
     ]
    },
    {
     "data": {
      "text/plain": [
       "<keras.callbacks.History at 0x7f82a7931f50>"
      ]
     },
     "execution_count": 35,
     "metadata": {},
     "output_type": "execute_result"
    }
   ],
   "source": [
    "fc_model.fit(tr_features, tr_labels,batch_size=batch_size, validation_data=(val_features, val_labels), nb_epoch=10)"
   ]
  },
  {
   "cell_type": "code",
   "execution_count": 38,
   "metadata": {
    "collapsed": false
   },
   "outputs": [
    {
     "name": "stdout",
     "output_type": "stream",
     "text": [
      "Train on 3635 samples, validate on 909 samples\n",
      "Epoch 1/25\n",
      "3635/3635 [==============================] - 2s - loss: 6.0081 - acc: 0.0146 - val_loss: 6.0612 - val_acc: 0.0088\n",
      "Epoch 2/25\n",
      "3635/3635 [==============================] - 2s - loss: 6.0048 - acc: 0.0146 - val_loss: 6.0604 - val_acc: 0.0088\n",
      "Epoch 3/25\n",
      "3635/3635 [==============================] - 2s - loss: 6.0018 - acc: 0.0140 - val_loss: 6.0593 - val_acc: 0.0088\n",
      "Epoch 4/25\n",
      "3635/3635 [==============================] - 2s - loss: 5.9985 - acc: 0.0143 - val_loss: 6.0579 - val_acc: 0.0088\n",
      "Epoch 5/25\n",
      "3635/3635 [==============================] - 2s - loss: 5.9953 - acc: 0.0146 - val_loss: 6.0572 - val_acc: 0.0088\n",
      "Epoch 6/25\n",
      "3635/3635 [==============================] - 2s - loss: 5.9926 - acc: 0.0165 - val_loss: 6.0562 - val_acc: 0.0088\n",
      "Epoch 7/25\n",
      "3635/3635 [==============================] - 2s - loss: 5.9903 - acc: 0.0151 - val_loss: 6.0553 - val_acc: 0.0088\n",
      "Epoch 8/25\n",
      "3635/3635 [==============================] - 2s - loss: 5.9865 - acc: 0.0143 - val_loss: 6.0543 - val_acc: 0.0088\n",
      "Epoch 9/25\n",
      "3635/3635 [==============================] - 2s - loss: 5.9840 - acc: 0.0160 - val_loss: 6.0537 - val_acc: 0.0088\n",
      "Epoch 10/25\n",
      "3635/3635 [==============================] - 2s - loss: 5.9811 - acc: 0.0151 - val_loss: 6.0526 - val_acc: 0.0099\n",
      "Epoch 11/25\n",
      "3635/3635 [==============================] - 2s - loss: 5.9783 - acc: 0.0138 - val_loss: 6.0512 - val_acc: 0.0088\n",
      "Epoch 12/25\n",
      "3635/3635 [==============================] - 2s - loss: 5.9761 - acc: 0.0149 - val_loss: 6.0502 - val_acc: 0.0088\n",
      "Epoch 13/25\n",
      "3635/3635 [==============================] - 2s - loss: 5.9727 - acc: 0.0140 - val_loss: 6.0499 - val_acc: 0.0099\n",
      "Epoch 14/25\n",
      "3635/3635 [==============================] - 2s - loss: 5.9705 - acc: 0.0140 - val_loss: 6.0488 - val_acc: 0.0088\n",
      "Epoch 15/25\n",
      "3635/3635 [==============================] - 2s - loss: 5.9672 - acc: 0.0151 - val_loss: 6.0484 - val_acc: 0.0088\n",
      "Epoch 16/25\n",
      "3635/3635 [==============================] - 2s - loss: 5.9649 - acc: 0.0149 - val_loss: 6.0474 - val_acc: 0.0066\n",
      "Epoch 17/25\n",
      "3635/3635 [==============================] - 2s - loss: 5.9618 - acc: 0.0149 - val_loss: 6.0466 - val_acc: 0.0088\n",
      "Epoch 18/25\n",
      "3635/3635 [==============================] - 2s - loss: 5.9595 - acc: 0.0140 - val_loss: 6.0455 - val_acc: 0.0099\n",
      "Epoch 19/25\n",
      "3635/3635 [==============================] - 2s - loss: 5.9562 - acc: 0.0162 - val_loss: 6.0447 - val_acc: 0.0099\n",
      "Epoch 20/25\n",
      "3635/3635 [==============================] - 2s - loss: 5.9541 - acc: 0.0160 - val_loss: 6.0443 - val_acc: 0.0099\n",
      "Epoch 21/25\n",
      "3635/3635 [==============================] - 2s - loss: 5.9514 - acc: 0.0162 - val_loss: 6.0432 - val_acc: 0.0088\n",
      "Epoch 22/25\n",
      "3635/3635 [==============================] - 2s - loss: 5.9492 - acc: 0.0135 - val_loss: 6.0424 - val_acc: 0.0088\n",
      "Epoch 23/25\n",
      "3635/3635 [==============================] - 2s - loss: 5.9454 - acc: 0.0143 - val_loss: 6.0418 - val_acc: 0.0099\n",
      "Epoch 24/25\n",
      "3635/3635 [==============================] - 2s - loss: 5.9432 - acc: 0.0146 - val_loss: 6.0413 - val_acc: 0.0110\n",
      "Epoch 25/25\n",
      "3635/3635 [==============================] - 2s - loss: 5.9412 - acc: 0.0143 - val_loss: 6.0406 - val_acc: 0.0110\n"
     ]
    },
    {
     "data": {
      "text/plain": [
       "<keras.callbacks.History at 0x7f82ae21f250>"
      ]
     },
     "execution_count": 38,
     "metadata": {},
     "output_type": "execute_result"
    }
   ],
   "source": [
    "fc_model.fit(tr_features, tr_labels,batch_size=batch_size, validation_data=(val_features, val_labels), nb_epoch=25)"
   ]
  },
  {
   "cell_type": "code",
   "execution_count": 39,
   "metadata": {
    "collapsed": false
   },
   "outputs": [
    {
     "name": "stdout",
     "output_type": "stream",
     "text": [
      "Train on 3635 samples, validate on 909 samples\n",
      "Epoch 1/50\n",
      "3635/3635 [==============================] - 2s - loss: 5.9381 - acc: 0.0146 - val_loss: 6.0393 - val_acc: 0.0099\n",
      "Epoch 2/50\n",
      "3635/3635 [==============================] - 2s - loss: 5.9360 - acc: 0.0149 - val_loss: 6.0392 - val_acc: 0.0110\n",
      "Epoch 3/50\n",
      "3635/3635 [==============================] - 2s - loss: 5.9330 - acc: 0.0165 - val_loss: 6.0375 - val_acc: 0.0099\n",
      "Epoch 4/50\n",
      "3635/3635 [==============================] - 2s - loss: 5.9309 - acc: 0.0143 - val_loss: 6.0381 - val_acc: 0.0099\n",
      "Epoch 5/50\n",
      "3635/3635 [==============================] - 2s - loss: 5.9280 - acc: 0.0162 - val_loss: 6.0370 - val_acc: 0.0099\n",
      "Epoch 6/50\n",
      "3635/3635 [==============================] - 2s - loss: 5.9260 - acc: 0.0151 - val_loss: 6.0363 - val_acc: 0.0099\n",
      "Epoch 7/50\n",
      "3635/3635 [==============================] - 2s - loss: 5.9238 - acc: 0.0157 - val_loss: 6.0355 - val_acc: 0.0099\n",
      "Epoch 8/50\n",
      "3635/3635 [==============================] - 2s - loss: 5.9215 - acc: 0.0157 - val_loss: 6.0353 - val_acc: 0.0110\n",
      "Epoch 9/50\n",
      "3635/3635 [==============================] - 2s - loss: 5.9193 - acc: 0.0157 - val_loss: 6.0341 - val_acc: 0.0110\n",
      "Epoch 10/50\n",
      "3635/3635 [==============================] - 2s - loss: 5.9163 - acc: 0.0149 - val_loss: 6.0338 - val_acc: 0.0099\n",
      "Epoch 11/50\n",
      "3635/3635 [==============================] - 2s - loss: 5.9139 - acc: 0.0149 - val_loss: 6.0325 - val_acc: 0.0110\n",
      "Epoch 12/50\n",
      "3635/3635 [==============================] - 2s - loss: 5.9114 - acc: 0.0162 - val_loss: 6.0322 - val_acc: 0.0099\n",
      "Epoch 13/50\n",
      "3635/3635 [==============================] - 2s - loss: 5.9095 - acc: 0.0143 - val_loss: 6.0313 - val_acc: 0.0099\n",
      "Epoch 14/50\n",
      "3635/3635 [==============================] - 2s - loss: 5.9062 - acc: 0.0146 - val_loss: 6.0309 - val_acc: 0.0110\n",
      "Epoch 15/50\n",
      "3635/3635 [==============================] - 2s - loss: 5.9038 - acc: 0.0143 - val_loss: 6.0310 - val_acc: 0.0088\n",
      "Epoch 16/50\n",
      "3635/3635 [==============================] - 2s - loss: 5.9021 - acc: 0.0151 - val_loss: 6.0303 - val_acc: 0.0088\n",
      "Epoch 17/50\n",
      "3635/3635 [==============================] - 2s - loss: 5.8992 - acc: 0.0157 - val_loss: 6.0294 - val_acc: 0.0099\n",
      "Epoch 18/50\n",
      "3635/3635 [==============================] - 2s - loss: 5.8968 - acc: 0.0143 - val_loss: 6.0290 - val_acc: 0.0088\n",
      "Epoch 19/50\n",
      "3635/3635 [==============================] - 2s - loss: 5.8944 - acc: 0.0143 - val_loss: 6.0279 - val_acc: 0.0088\n",
      "Epoch 20/50\n",
      "3635/3635 [==============================] - 2s - loss: 5.8923 - acc: 0.0140 - val_loss: 6.0273 - val_acc: 0.0088\n",
      "Epoch 21/50\n",
      "3635/3635 [==============================] - 2s - loss: 5.8909 - acc: 0.0157 - val_loss: 6.0266 - val_acc: 0.0088\n",
      "Epoch 22/50\n",
      "3635/3635 [==============================] - 2s - loss: 5.8872 - acc: 0.0160 - val_loss: 6.0265 - val_acc: 0.0088\n",
      "Epoch 23/50\n",
      "3635/3635 [==============================] - 2s - loss: 5.8850 - acc: 0.0154 - val_loss: 6.0259 - val_acc: 0.0088\n",
      "Epoch 24/50\n",
      "3635/3635 [==============================] - 2s - loss: 5.8830 - acc: 0.0146 - val_loss: 6.0259 - val_acc: 0.0088\n",
      "Epoch 25/50\n",
      "3635/3635 [==============================] - 2s - loss: 5.8808 - acc: 0.0143 - val_loss: 6.0248 - val_acc: 0.0088\n",
      "Epoch 26/50\n",
      "3635/3635 [==============================] - 2s - loss: 5.8788 - acc: 0.0135 - val_loss: 6.0240 - val_acc: 0.0088\n",
      "Epoch 27/50\n",
      "3635/3635 [==============================] - 2s - loss: 5.8768 - acc: 0.0138 - val_loss: 6.0243 - val_acc: 0.0088\n",
      "Epoch 28/50\n",
      "3635/3635 [==============================] - 2s - loss: 5.8739 - acc: 0.0154 - val_loss: 6.0240 - val_acc: 0.0088\n",
      "Epoch 29/50\n",
      "3635/3635 [==============================] - 2s - loss: 5.8704 - acc: 0.0143 - val_loss: 6.0235 - val_acc: 0.0099\n",
      "Epoch 30/50\n",
      "3635/3635 [==============================] - 2s - loss: 5.8695 - acc: 0.0132 - val_loss: 6.0232 - val_acc: 0.0088\n",
      "Epoch 31/50\n",
      "3635/3635 [==============================] - 2s - loss: 5.8668 - acc: 0.0157 - val_loss: 6.0221 - val_acc: 0.0088\n",
      "Epoch 32/50\n",
      "3635/3635 [==============================] - 2s - loss: 5.8641 - acc: 0.0154 - val_loss: 6.0219 - val_acc: 0.0099\n",
      "Epoch 33/50\n",
      "3635/3635 [==============================] - 2s - loss: 5.8613 - acc: 0.0149 - val_loss: 6.0223 - val_acc: 0.0088\n",
      "Epoch 34/50\n",
      "3635/3635 [==============================] - 2s - loss: 5.8603 - acc: 0.0138 - val_loss: 6.0208 - val_acc: 0.0088\n",
      "Epoch 35/50\n",
      "3635/3635 [==============================] - 2s - loss: 5.8579 - acc: 0.0146 - val_loss: 6.0219 - val_acc: 0.0088\n",
      "Epoch 36/50\n",
      "3635/3635 [==============================] - 2s - loss: 5.8565 - acc: 0.0138 - val_loss: 6.0215 - val_acc: 0.0088\n",
      "Epoch 37/50\n",
      "3635/3635 [==============================] - 2s - loss: 5.8544 - acc: 0.0132 - val_loss: 6.0211 - val_acc: 0.0088\n",
      "Epoch 38/50\n",
      "3635/3635 [==============================] - 2s - loss: 5.8512 - acc: 0.0146 - val_loss: 6.0189 - val_acc: 0.0088\n",
      "Epoch 39/50\n",
      "3635/3635 [==============================] - 2s - loss: 5.8504 - acc: 0.0143 - val_loss: 6.0189 - val_acc: 0.0088\n",
      "Epoch 40/50\n",
      "3635/3635 [==============================] - 2s - loss: 5.8480 - acc: 0.0143 - val_loss: 6.0196 - val_acc: 0.0088\n",
      "Epoch 41/50\n",
      "3635/3635 [==============================] - 2s - loss: 5.8447 - acc: 0.0135 - val_loss: 6.0193 - val_acc: 0.0088\n",
      "Epoch 42/50\n",
      "3635/3635 [==============================] - 2s - loss: 5.8420 - acc: 0.0162 - val_loss: 6.0191 - val_acc: 0.0088\n",
      "Epoch 43/50\n",
      "3635/3635 [==============================] - 2s - loss: 5.8399 - acc: 0.0146 - val_loss: 6.0184 - val_acc: 0.0088\n",
      "Epoch 44/50\n",
      "3635/3635 [==============================] - 2s - loss: 5.8393 - acc: 0.0124 - val_loss: 6.0188 - val_acc: 0.0088\n",
      "Epoch 45/50\n",
      "3635/3635 [==============================] - 2s - loss: 5.8364 - acc: 0.0135 - val_loss: 6.0174 - val_acc: 0.0099\n",
      "Epoch 46/50\n",
      "3635/3635 [==============================] - 2s - loss: 5.8343 - acc: 0.0132 - val_loss: 6.0178 - val_acc: 0.0099\n",
      "Epoch 47/50\n",
      "3635/3635 [==============================] - 2s - loss: 5.8319 - acc: 0.0146 - val_loss: 6.0175 - val_acc: 0.0099\n",
      "Epoch 48/50\n",
      "3635/3635 [==============================] - 2s - loss: 5.8299 - acc: 0.0138 - val_loss: 6.0177 - val_acc: 0.0099\n",
      "Epoch 49/50\n",
      "3635/3635 [==============================] - 2s - loss: 5.8272 - acc: 0.0138 - val_loss: 6.0173 - val_acc: 0.0099\n",
      "Epoch 50/50\n",
      "3635/3635 [==============================] - 2s - loss: 5.8246 - acc: 0.0154 - val_loss: 6.0161 - val_acc: 0.0099\n"
     ]
    },
    {
     "data": {
      "text/plain": [
       "<keras.callbacks.History at 0x7f82a7931d10>"
      ]
     },
     "execution_count": 39,
     "metadata": {},
     "output_type": "execute_result"
    }
   ],
   "source": [
    "cfc_model.fit(tr_features, tr_labels,batch_size=batch_size, validation_data=(val_features, val_labels), nb_epoch=50)`"
   ]
  },
  {
   "cell_type": "code",
   "execution_count": null,
   "metadata": {
    "collapsed": true
   },
   "outputs": [],
   "source": []
  },
  {
   "cell_type": "code",
   "execution_count": null,
   "metadata": {
    "collapsed": true
   },
   "outputs": [],
   "source": []
  },
  {
   "cell_type": "markdown",
   "metadata": {},
   "source": [
    "# Train all FC layers"
   ]
  },
  {
   "cell_type": "code",
   "execution_count": 49,
   "metadata": {
    "collapsed": false
   },
   "outputs": [],
   "source": [
    "fc_model = get_fc_model()"
   ]
  },
  {
   "cell_type": "code",
   "execution_count": 50,
   "metadata": {
    "collapsed": true
   },
   "outputs": [],
   "source": [
    "fc_model.layers = fc_model.layers[:-1]"
   ]
  },
  {
   "cell_type": "code",
   "execution_count": 51,
   "metadata": {
    "collapsed": true
   },
   "outputs": [],
   "source": [
    "fc_model.add(Dense(num_class, activation='softmax'))"
   ]
  },
  {
   "cell_type": "code",
   "execution_count": 52,
   "metadata": {
    "collapsed": false
   },
   "outputs": [],
   "source": [
    "fc_model.compile(RMSprop(lr=0.00001), 'sparse_categorical_crossentropy', metrics=['accuracy'])"
   ]
  },
  {
   "cell_type": "code",
   "execution_count": 53,
   "metadata": {
    "collapsed": false
   },
   "outputs": [
    {
     "name": "stdout",
     "output_type": "stream",
     "text": [
      "Train on 3635 samples, validate on 909 samples\n",
      "Epoch 1/3\n",
      "3635/3635 [==============================] - 6s - loss: 6.1025 - acc: 0.0022 - val_loss: 6.1018 - val_acc: 0.0011\n",
      "Epoch 2/3\n",
      "3635/3635 [==============================] - 6s - loss: 6.0999 - acc: 0.0039 - val_loss: 6.1022 - val_acc: 0.0044\n",
      "Epoch 3/3\n",
      "3635/3635 [==============================] - 6s - loss: 6.0973 - acc: 0.0063 - val_loss: 6.1023 - val_acc: 0.0055\n"
     ]
    },
    {
     "data": {
      "text/plain": [
       "<keras.callbacks.History at 0x7f82a1504950>"
      ]
     },
     "execution_count": 53,
     "metadata": {},
     "output_type": "execute_result"
    }
   ],
   "source": [
    "fc_model.fit(tr_features, \n",
    "             tr_labels,\n",
    "             batch_size=batch_size, \n",
    "             validation_data=(val_features, val_labels), \n",
    "             nb_epoch=3)"
   ]
  },
  {
   "cell_type": "code",
   "execution_count": 54,
   "metadata": {
    "collapsed": true
   },
   "outputs": [],
   "source": [
    "fc_model.optimizer.lr = 0.001"
   ]
  },
  {
   "cell_type": "code",
   "execution_count": 55,
   "metadata": {
    "collapsed": false
   },
   "outputs": [
    {
     "name": "stdout",
     "output_type": "stream",
     "text": [
      "Train on 3635 samples, validate on 909 samples\n",
      "Epoch 1/3\n",
      "3635/3635 [==============================] - 6s - loss: 6.0951 - acc: 0.0074 - val_loss: 6.1022 - val_acc: 0.0044\n",
      "Epoch 2/3\n",
      "3635/3635 [==============================] - 6s - loss: 6.0926 - acc: 0.0083 - val_loss: 6.1018 - val_acc: 0.0055\n",
      "Epoch 3/3\n",
      "3635/3635 [==============================] - 6s - loss: 6.0904 - acc: 0.0096 - val_loss: 6.1017 - val_acc: 0.0033\n"
     ]
    },
    {
     "data": {
      "text/plain": [
       "<keras.callbacks.History at 0x7f82a148e110>"
      ]
     },
     "execution_count": 55,
     "metadata": {},
     "output_type": "execute_result"
    }
   ],
   "source": [
    "fc_model.fit(tr_features, \n",
    "             tr_labels,\n",
    "             batch_size=batch_size, \n",
    "             validation_data=(val_features, val_labels), \n",
    "             nb_epoch=3)"
   ]
  },
  {
   "cell_type": "code",
   "execution_count": 56,
   "metadata": {
    "collapsed": true
   },
   "outputs": [],
   "source": [
    "fc_model.optimizer.lr = 0.01"
   ]
  },
  {
   "cell_type": "code",
   "execution_count": 57,
   "metadata": {
    "collapsed": false
   },
   "outputs": [
    {
     "name": "stdout",
     "output_type": "stream",
     "text": [
      "Train on 3635 samples, validate on 909 samples\n",
      "Epoch 1/10\n",
      "3635/3635 [==============================] - 6s - loss: 6.0879 - acc: 0.0102 - val_loss: 6.1021 - val_acc: 0.0033\n",
      "Epoch 2/10\n",
      "3635/3635 [==============================] - 6s - loss: 6.0854 - acc: 0.0116 - val_loss: 6.1022 - val_acc: 0.0033\n",
      "Epoch 3/10\n",
      "3635/3635 [==============================] - 6s - loss: 6.0834 - acc: 0.0127 - val_loss: 6.1013 - val_acc: 0.0033\n",
      "Epoch 4/10\n",
      "3635/3635 [==============================] - 6s - loss: 6.0815 - acc: 0.0135 - val_loss: 6.1013 - val_acc: 0.0022\n",
      "Epoch 5/10\n",
      "3635/3635 [==============================] - 6s - loss: 6.0792 - acc: 0.0160 - val_loss: 6.1013 - val_acc: 0.0022\n",
      "Epoch 6/10\n",
      "3635/3635 [==============================] - 6s - loss: 6.0773 - acc: 0.0160 - val_loss: 6.1010 - val_acc: 0.0044\n",
      "Epoch 7/10\n",
      "3635/3635 [==============================] - 6s - loss: 6.0752 - acc: 0.0168 - val_loss: 6.1009 - val_acc: 0.0044\n",
      "Epoch 8/10\n",
      "3635/3635 [==============================] - 6s - loss: 6.0732 - acc: 0.0182 - val_loss: 6.1009 - val_acc: 0.0055\n",
      "Epoch 9/10\n",
      "3635/3635 [==============================] - 6s - loss: 6.0715 - acc: 0.0245 - val_loss: 6.1000 - val_acc: 0.0044\n",
      "Epoch 10/10\n",
      "3635/3635 [==============================] - 6s - loss: 6.0697 - acc: 0.0242 - val_loss: 6.1007 - val_acc: 0.0033\n"
     ]
    },
    {
     "data": {
      "text/plain": [
       "<keras.callbacks.History at 0x7f82a148e190>"
      ]
     },
     "execution_count": 57,
     "metadata": {},
     "output_type": "execute_result"
    }
   ],
   "source": [
    "fc_model.fit(tr_features, \n",
    "             tr_labels,\n",
    "             batch_size=batch_size, \n",
    "             validation_data=(val_features, val_labels), \n",
    "             nb_epoch=10)"
   ]
  },
  {
   "cell_type": "code",
   "execution_count": null,
   "metadata": {
    "collapsed": true
   },
   "outputs": [],
   "source": []
  },
  {
   "cell_type": "markdown",
   "metadata": {},
   "source": [
    "# Less Dropout"
   ]
  },
  {
   "cell_type": "code",
   "execution_count": 58,
   "metadata": {
    "collapsed": true
   },
   "outputs": [],
   "source": [
    "def proc_wgts(layer): return [o/2 for o in layer.get_weights()]"
   ]
  },
  {
   "cell_type": "code",
   "execution_count": 59,
   "metadata": {
    "collapsed": true
   },
   "outputs": [],
   "source": [
    "def get_fc_model():\n",
    "    model = Sequential([\n",
    "            MaxPooling2D(input_shape=conv_layers[-1].output_shape[1:]),\n",
    "            Flatten(),\n",
    "            Dense(4096, activation='relu'),\n",
    "            Dropout(0.),\n",
    "            Dense(4096, activation='relu'),\n",
    "            Dropout(0.),\n",
    "            Dense(1000, activation='softmax')\n",
    "        ])\n",
    "    \n",
    "    for l1, l2, in zip(model.layers, fc_layers): l1.set_weights(proc_wgts(l2))\n",
    "    return model"
   ]
  },
  {
   "cell_type": "code",
   "execution_count": 60,
   "metadata": {
    "collapsed": false
   },
   "outputs": [],
   "source": [
    "fc_model = get_fc_model()"
   ]
  },
  {
   "cell_type": "code",
   "execution_count": 61,
   "metadata": {
    "collapsed": true
   },
   "outputs": [],
   "source": [
    "fc_model.layers = fc_model.layers[:-1]"
   ]
  },
  {
   "cell_type": "code",
   "execution_count": 62,
   "metadata": {
    "collapsed": false
   },
   "outputs": [],
   "source": [
    "for l in fc_model.layers: l.trainable = False"
   ]
  },
  {
   "cell_type": "code",
   "execution_count": 63,
   "metadata": {
    "collapsed": true
   },
   "outputs": [],
   "source": [
    "fc_model.add(Dense(num_class, activation='softmax'))"
   ]
  },
  {
   "cell_type": "code",
   "execution_count": 64,
   "metadata": {
    "collapsed": false
   },
   "outputs": [
    {
     "name": "stdout",
     "output_type": "stream",
     "text": [
      "____________________________________________________________________________________________________\n",
      "Layer (type)                     Output Shape          Param #     Connected to                     \n",
      "====================================================================================================\n",
      "maxpooling2d_12 (MaxPooling2D)   (None, 512, 7, 7)     0           maxpooling2d_input_6[0][0]       \n",
      "____________________________________________________________________________________________________\n",
      "flatten_7 (Flatten)              (None, 25088)         0           maxpooling2d_12[0][0]            \n",
      "____________________________________________________________________________________________________\n",
      "dense_22 (Dense)                 (None, 4096)          0           flatten_7[0][0]                  \n",
      "____________________________________________________________________________________________________\n",
      "dropout_13 (Dropout)             (None, 4096)          0           dense_22[0][0]                   \n",
      "____________________________________________________________________________________________________\n",
      "dense_23 (Dense)                 (None, 4096)          0           dropout_13[0][0]                 \n",
      "____________________________________________________________________________________________________\n",
      "dropout_14 (Dropout)             (None, 4096)          0           dense_23[0][0]                   \n",
      "____________________________________________________________________________________________________\n",
      "dense_25 (Dense)                 (None, 447)           447447      dense_24[0][0]                   \n",
      "====================================================================================================\n",
      "Total params: 447447\n",
      "____________________________________________________________________________________________________\n"
     ]
    }
   ],
   "source": [
    "fc_model.summary()"
   ]
  },
  {
   "cell_type": "code",
   "execution_count": 65,
   "metadata": {
    "collapsed": true
   },
   "outputs": [],
   "source": [
    "fc_model.compile(Adam(lr=0.0001), 'sparse_categorical_crossentropy', metrics=['accuracy'])"
   ]
  },
  {
   "cell_type": "code",
   "execution_count": 66,
   "metadata": {
    "collapsed": false
   },
   "outputs": [
    {
     "name": "stdout",
     "output_type": "stream",
     "text": [
      "Train on 3635 samples, validate on 909 samples\n",
      "Epoch 1/5\n",
      "3635/3635 [==============================] - 2s - loss: 6.1014 - acc: 0.0044 - val_loss: 6.1001 - val_acc: 0.0154\n",
      "Epoch 2/5\n",
      "3635/3635 [==============================] - 2s - loss: 6.0976 - acc: 0.0085 - val_loss: 6.0966 - val_acc: 0.0066\n",
      "Epoch 3/5\n",
      "3635/3635 [==============================] - 2s - loss: 6.0928 - acc: 0.0072 - val_loss: 6.0926 - val_acc: 0.0022\n",
      "Epoch 4/5\n",
      "3635/3635 [==============================] - 2s - loss: 6.0889 - acc: 0.0072 - val_loss: 6.0896 - val_acc: 0.0022\n",
      "Epoch 5/5\n",
      "3635/3635 [==============================] - 2s - loss: 6.0858 - acc: 0.0072 - val_loss: 6.0875 - val_acc: 0.0022\n"
     ]
    },
    {
     "data": {
      "text/plain": [
       "<keras.callbacks.History at 0x7f82a0eaa3d0>"
      ]
     },
     "execution_count": 66,
     "metadata": {},
     "output_type": "execute_result"
    }
   ],
   "source": [
    "fc_model.fit(tr_features, \n",
    "             tr_labels,\n",
    "             batch_size=batch_size, \n",
    "             validation_data=(val_features, val_labels), \n",
    "             nb_epoch=5)"
   ]
  },
  {
   "cell_type": "code",
   "execution_count": 67,
   "metadata": {
    "collapsed": false
   },
   "outputs": [
    {
     "name": "stdout",
     "output_type": "stream",
     "text": [
      "Train on 3635 samples, validate on 909 samples\n",
      "Epoch 1/25\n",
      "3635/3635 [==============================] - 2s - loss: 6.0832 - acc: 0.0072 - val_loss: 6.0856 - val_acc: 0.0022\n",
      "Epoch 2/25\n",
      "3635/3635 [==============================] - 2s - loss: 6.0808 - acc: 0.0072 - val_loss: 6.0839 - val_acc: 0.0022\n",
      "Epoch 3/25\n",
      "3635/3635 [==============================] - 2s - loss: 6.0785 - acc: 0.0072 - val_loss: 6.0823 - val_acc: 0.0022\n",
      "Epoch 4/25\n",
      "3635/3635 [==============================] - 2s - loss: 6.0762 - acc: 0.0072 - val_loss: 6.0809 - val_acc: 0.0022\n",
      "Epoch 5/25\n",
      "3635/3635 [==============================] - 2s - loss: 6.0740 - acc: 0.0072 - val_loss: 6.0794 - val_acc: 0.0022\n",
      "Epoch 6/25\n",
      "3635/3635 [==============================] - 2s - loss: 6.0718 - acc: 0.0072 - val_loss: 6.0782 - val_acc: 0.0022\n",
      "Epoch 7/25\n",
      "3635/3635 [==============================] - 2s - loss: 6.0695 - acc: 0.0077 - val_loss: 6.0768 - val_acc: 0.0022\n",
      "Epoch 8/25\n",
      "3635/3635 [==============================] - 2s - loss: 6.0672 - acc: 0.0077 - val_loss: 6.0757 - val_acc: 0.0033\n",
      "Epoch 9/25\n",
      "3635/3635 [==============================] - 2s - loss: 6.0649 - acc: 0.0083 - val_loss: 6.0744 - val_acc: 0.0022\n",
      "Epoch 10/25\n",
      "3635/3635 [==============================] - 2s - loss: 6.0625 - acc: 0.0091 - val_loss: 6.0730 - val_acc: 0.0044\n",
      "Epoch 11/25\n",
      "3635/3635 [==============================] - 2s - loss: 6.0603 - acc: 0.0091 - val_loss: 6.0716 - val_acc: 0.0055\n",
      "Epoch 12/25\n",
      "3635/3635 [==============================] - 2s - loss: 6.0580 - acc: 0.0099 - val_loss: 6.0702 - val_acc: 0.0044\n",
      "Epoch 13/25\n",
      "3635/3635 [==============================] - 2s - loss: 6.0558 - acc: 0.0096 - val_loss: 6.0688 - val_acc: 0.0066\n",
      "Epoch 14/25\n",
      "3635/3635 [==============================] - 2s - loss: 6.0537 - acc: 0.0102 - val_loss: 6.0675 - val_acc: 0.0077\n",
      "Epoch 15/25\n",
      "3635/3635 [==============================] - 2s - loss: 6.0515 - acc: 0.0107 - val_loss: 6.0660 - val_acc: 0.0066\n",
      "Epoch 16/25\n",
      "3635/3635 [==============================] - 2s - loss: 6.0495 - acc: 0.0107 - val_loss: 6.0646 - val_acc: 0.0077\n",
      "Epoch 17/25\n",
      "3635/3635 [==============================] - 2s - loss: 6.0475 - acc: 0.0110 - val_loss: 6.0632 - val_acc: 0.0077\n",
      "Epoch 18/25\n",
      "3635/3635 [==============================] - 2s - loss: 6.0455 - acc: 0.0099 - val_loss: 6.0618 - val_acc: 0.0099\n",
      "Epoch 19/25\n",
      "3635/3635 [==============================] - 2s - loss: 6.0435 - acc: 0.0107 - val_loss: 6.0607 - val_acc: 0.0099\n",
      "Epoch 20/25\n",
      "3635/3635 [==============================] - 2s - loss: 6.0417 - acc: 0.0105 - val_loss: 6.0594 - val_acc: 0.0099\n",
      "Epoch 21/25\n",
      "3635/3635 [==============================] - 2s - loss: 6.0399 - acc: 0.0105 - val_loss: 6.0580 - val_acc: 0.0099\n",
      "Epoch 22/25\n",
      "3635/3635 [==============================] - 2s - loss: 6.0380 - acc: 0.0105 - val_loss: 6.0566 - val_acc: 0.0099\n",
      "Epoch 23/25\n",
      "3635/3635 [==============================] - 2s - loss: 6.0361 - acc: 0.0105 - val_loss: 6.0558 - val_acc: 0.0099\n",
      "Epoch 24/25\n",
      "3635/3635 [==============================] - 2s - loss: 6.0344 - acc: 0.0105 - val_loss: 6.0547 - val_acc: 0.0099\n",
      "Epoch 25/25\n",
      "3635/3635 [==============================] - 2s - loss: 6.0326 - acc: 0.0105 - val_loss: 6.0532 - val_acc: 0.0099\n"
     ]
    },
    {
     "data": {
      "text/plain": [
       "<keras.callbacks.History at 0x7f82a071bf50>"
      ]
     },
     "execution_count": 67,
     "metadata": {},
     "output_type": "execute_result"
    }
   ],
   "source": [
    "fc_model.fit(tr_features, \n",
    "             tr_labels,\n",
    "             batch_size=batch_size, \n",
    "             validation_data=(val_features, val_labels), \n",
    "             nb_epoch=25)"
   ]
  },
  {
   "cell_type": "code",
   "execution_count": 68,
   "metadata": {
    "collapsed": false
   },
   "outputs": [
    {
     "name": "stdout",
     "output_type": "stream",
     "text": [
      "Train on 3635 samples, validate on 909 samples\n",
      "Epoch 1/25\n",
      "3635/3635 [==============================] - 2s - loss: 6.0309 - acc: 0.0105 - val_loss: 6.0521 - val_acc: 0.0099\n",
      "Epoch 2/25\n",
      "3635/3635 [==============================] - 2s - loss: 6.0291 - acc: 0.0105 - val_loss: 6.0513 - val_acc: 0.0099\n",
      "Epoch 3/25\n",
      "3635/3635 [==============================] - 2s - loss: 6.0275 - acc: 0.0105 - val_loss: 6.0500 - val_acc: 0.0099\n",
      "Epoch 4/25\n",
      "3635/3635 [==============================] - 2s - loss: 6.0258 - acc: 0.0105 - val_loss: 6.0489 - val_acc: 0.0099\n",
      "Epoch 5/25\n",
      "3635/3635 [==============================] - 2s - loss: 6.0242 - acc: 0.0105 - val_loss: 6.0479 - val_acc: 0.0099\n",
      "Epoch 6/25\n",
      "3635/3635 [==============================] - 2s - loss: 6.0226 - acc: 0.0105 - val_loss: 6.0469 - val_acc: 0.0099\n",
      "Epoch 7/25\n",
      "3635/3635 [==============================] - 2s - loss: 6.0210 - acc: 0.0105 - val_loss: 6.0459 - val_acc: 0.0099\n",
      "Epoch 8/25\n",
      "3635/3635 [==============================] - 2s - loss: 6.0194 - acc: 0.0105 - val_loss: 6.0450 - val_acc: 0.0099\n",
      "Epoch 9/25\n",
      "3635/3635 [==============================] - 2s - loss: 6.0178 - acc: 0.0105 - val_loss: 6.0441 - val_acc: 0.0099\n",
      "Epoch 10/25\n",
      "3635/3635 [==============================] - 2s - loss: 6.0163 - acc: 0.0105 - val_loss: 6.0431 - val_acc: 0.0099\n",
      "Epoch 11/25\n",
      "3635/3635 [==============================] - 2s - loss: 6.0147 - acc: 0.0105 - val_loss: 6.0419 - val_acc: 0.0099\n",
      "Epoch 12/25\n",
      "3635/3635 [==============================] - 2s - loss: 6.0132 - acc: 0.0105 - val_loss: 6.0407 - val_acc: 0.0099\n",
      "Epoch 13/25\n",
      "3635/3635 [==============================] - 2s - loss: 6.0117 - acc: 0.0105 - val_loss: 6.0404 - val_acc: 0.0099\n",
      "Epoch 14/25\n",
      "3635/3635 [==============================] - 2s - loss: 6.0103 - acc: 0.0105 - val_loss: 6.0395 - val_acc: 0.0099\n",
      "Epoch 15/25\n",
      "3635/3635 [==============================] - 2s - loss: 6.0087 - acc: 0.0105 - val_loss: 6.0385 - val_acc: 0.0099\n",
      "Epoch 16/25\n",
      "3635/3635 [==============================] - 2s - loss: 6.0073 - acc: 0.0105 - val_loss: 6.0378 - val_acc: 0.0099\n",
      "Epoch 17/25\n",
      "3635/3635 [==============================] - 2s - loss: 6.0058 - acc: 0.0105 - val_loss: 6.0368 - val_acc: 0.0099\n",
      "Epoch 18/25\n",
      "3635/3635 [==============================] - 2s - loss: 6.0044 - acc: 0.0105 - val_loss: 6.0360 - val_acc: 0.0099\n",
      "Epoch 19/25\n",
      "3635/3635 [==============================] - 2s - loss: 6.0030 - acc: 0.0105 - val_loss: 6.0348 - val_acc: 0.0099\n",
      "Epoch 20/25\n",
      "3635/3635 [==============================] - 2s - loss: 6.0016 - acc: 0.0105 - val_loss: 6.0348 - val_acc: 0.0099\n",
      "Epoch 21/25\n",
      "3635/3635 [==============================] - 2s - loss: 6.0003 - acc: 0.0105 - val_loss: 6.0333 - val_acc: 0.0099\n",
      "Epoch 22/25\n",
      "3635/3635 [==============================] - 2s - loss: 5.9988 - acc: 0.0105 - val_loss: 6.0325 - val_acc: 0.0099\n",
      "Epoch 23/25\n",
      "3635/3635 [==============================] - 2s - loss: 5.9974 - acc: 0.0105 - val_loss: 6.0322 - val_acc: 0.0099\n",
      "Epoch 24/25\n",
      "3635/3635 [==============================] - 2s - loss: 5.9960 - acc: 0.0105 - val_loss: 6.0312 - val_acc: 0.0099\n",
      "Epoch 25/25\n",
      "3635/3635 [==============================] - 2s - loss: 5.9947 - acc: 0.0105 - val_loss: 6.0306 - val_acc: 0.0099\n"
     ]
    },
    {
     "data": {
      "text/plain": [
       "<keras.callbacks.History at 0x7f82a1504f10>"
      ]
     },
     "execution_count": 68,
     "metadata": {},
     "output_type": "execute_result"
    }
   ],
   "source": [
    "fc_model.fit(tr_features, \n",
    "             tr_labels,\n",
    "             batch_size=batch_size, \n",
    "             validation_data=(val_features, val_labels), \n",
    "             nb_epoch=25)"
   ]
  },
  {
   "cell_type": "code",
   "execution_count": 69,
   "metadata": {
    "collapsed": false
   },
   "outputs": [
    {
     "name": "stdout",
     "output_type": "stream",
     "text": [
      "Train on 3635 samples, validate on 909 samples\n",
      "Epoch 1/25\n",
      "3635/3635 [==============================] - 2s - loss: 5.9934 - acc: 0.0105 - val_loss: 6.0301 - val_acc: 0.0099\n",
      "Epoch 2/25\n",
      "3635/3635 [==============================] - 2s - loss: 5.9920 - acc: 0.0105 - val_loss: 6.0292 - val_acc: 0.0099\n",
      "Epoch 3/25\n",
      "3635/3635 [==============================] - 2s - loss: 5.9907 - acc: 0.0105 - val_loss: 6.0284 - val_acc: 0.0099\n",
      "Epoch 4/25\n",
      "3635/3635 [==============================] - 2s - loss: 5.9893 - acc: 0.0105 - val_loss: 6.0274 - val_acc: 0.0099\n",
      "Epoch 5/25\n",
      "3635/3635 [==============================] - 2s - loss: 5.9880 - acc: 0.0105 - val_loss: 6.0271 - val_acc: 0.0099\n",
      "Epoch 6/25\n",
      "3635/3635 [==============================] - 2s - loss: 5.9868 - acc: 0.0105 - val_loss: 6.0259 - val_acc: 0.0099\n",
      "Epoch 7/25\n",
      "3635/3635 [==============================] - 2s - loss: 5.9854 - acc: 0.0105 - val_loss: 6.0259 - val_acc: 0.0099\n",
      "Epoch 8/25\n",
      "3635/3635 [==============================] - 2s - loss: 5.9841 - acc: 0.0105 - val_loss: 6.0252 - val_acc: 0.0099\n",
      "Epoch 9/25\n",
      "3635/3635 [==============================] - 2s - loss: 5.9829 - acc: 0.0105 - val_loss: 6.0242 - val_acc: 0.0099\n",
      "Epoch 10/25\n",
      "3635/3635 [==============================] - 2s - loss: 5.9817 - acc: 0.0105 - val_loss: 6.0239 - val_acc: 0.0099\n",
      "Epoch 11/25\n",
      "3635/3635 [==============================] - 2s - loss: 5.9803 - acc: 0.0105 - val_loss: 6.0227 - val_acc: 0.0099\n",
      "Epoch 12/25\n",
      "3635/3635 [==============================] - 2s - loss: 5.9791 - acc: 0.0105 - val_loss: 6.0224 - val_acc: 0.0099\n",
      "Epoch 13/25\n",
      "3635/3635 [==============================] - 2s - loss: 5.9778 - acc: 0.0105 - val_loss: 6.0215 - val_acc: 0.0099\n",
      "Epoch 14/25\n",
      "3635/3635 [==============================] - 2s - loss: 5.9766 - acc: 0.0105 - val_loss: 6.0208 - val_acc: 0.0099\n",
      "Epoch 15/25\n",
      "3635/3635 [==============================] - 2s - loss: 5.9754 - acc: 0.0105 - val_loss: 6.0204 - val_acc: 0.0099\n",
      "Epoch 16/25\n",
      "3635/3635 [==============================] - 2s - loss: 5.9741 - acc: 0.0105 - val_loss: 6.0200 - val_acc: 0.0099\n",
      "Epoch 17/25\n",
      "3635/3635 [==============================] - 2s - loss: 5.9729 - acc: 0.0105 - val_loss: 6.0191 - val_acc: 0.0099\n",
      "Epoch 18/25\n",
      "3635/3635 [==============================] - 2s - loss: 5.9717 - acc: 0.0105 - val_loss: 6.0187 - val_acc: 0.0099\n",
      "Epoch 19/25\n",
      "3635/3635 [==============================] - 2s - loss: 5.9704 - acc: 0.0105 - val_loss: 6.0183 - val_acc: 0.0099\n",
      "Epoch 20/25\n",
      "3635/3635 [==============================] - 2s - loss: 5.9692 - acc: 0.0105 - val_loss: 6.0177 - val_acc: 0.0099\n",
      "Epoch 21/25\n",
      "3635/3635 [==============================] - 2s - loss: 5.9681 - acc: 0.0105 - val_loss: 6.0170 - val_acc: 0.0099\n",
      "Epoch 22/25\n",
      "3635/3635 [==============================] - 2s - loss: 5.9669 - acc: 0.0105 - val_loss: 6.0162 - val_acc: 0.0099\n",
      "Epoch 23/25\n",
      "3635/3635 [==============================] - 2s - loss: 5.9657 - acc: 0.0105 - val_loss: 6.0161 - val_acc: 0.0099\n",
      "Epoch 24/25\n",
      "3635/3635 [==============================] - 2s - loss: 5.9645 - acc: 0.0105 - val_loss: 6.0152 - val_acc: 0.0099\n",
      "Epoch 25/25\n",
      "3635/3635 [==============================] - 2s - loss: 5.9634 - acc: 0.0105 - val_loss: 6.0148 - val_acc: 0.0099\n"
     ]
    },
    {
     "data": {
      "text/plain": [
       "<keras.callbacks.History at 0x7f82a1504bd0>"
      ]
     },
     "execution_count": 69,
     "metadata": {},
     "output_type": "execute_result"
    }
   ],
   "source": [
    "fc_model.fit(tr_features, \n",
    "             tr_labels,\n",
    "             batch_size=batch_size, \n",
    "             validation_data=(val_features, val_labels), \n",
    "             nb_epoch=25)"
   ]
  },
  {
   "cell_type": "code",
   "execution_count": 70,
   "metadata": {
    "collapsed": false
   },
   "outputs": [
    {
     "name": "stdout",
     "output_type": "stream",
     "text": [
      "Train on 3635 samples, validate on 909 samples\n",
      "Epoch 1/25\n",
      "3635/3635 [==============================] - 2s - loss: 5.9621 - acc: 0.0105 - val_loss: 6.0142 - val_acc: 0.0099\n",
      "Epoch 2/25\n",
      "3635/3635 [==============================] - 2s - loss: 5.9610 - acc: 0.0105 - val_loss: 6.0136 - val_acc: 0.0099\n",
      "Epoch 3/25\n",
      "3635/3635 [==============================] - 2s - loss: 5.9599 - acc: 0.0105 - val_loss: 6.0134 - val_acc: 0.0099\n",
      "Epoch 4/25\n",
      "3635/3635 [==============================] - 2s - loss: 5.9587 - acc: 0.0105 - val_loss: 6.0127 - val_acc: 0.0099\n",
      "Epoch 5/25\n",
      "3635/3635 [==============================] - 2s - loss: 5.9576 - acc: 0.0105 - val_loss: 6.0123 - val_acc: 0.0099\n",
      "Epoch 6/25\n",
      "3635/3635 [==============================] - 2s - loss: 5.9565 - acc: 0.0105 - val_loss: 6.0118 - val_acc: 0.0099\n",
      "Epoch 7/25\n",
      "3635/3635 [==============================] - 2s - loss: 5.9553 - acc: 0.0105 - val_loss: 6.0116 - val_acc: 0.0099\n",
      "Epoch 8/25\n",
      "3635/3635 [==============================] - 2s - loss: 5.9542 - acc: 0.0105 - val_loss: 6.0106 - val_acc: 0.0099\n",
      "Epoch 9/25\n",
      "3635/3635 [==============================] - 2s - loss: 5.9531 - acc: 0.0105 - val_loss: 6.0103 - val_acc: 0.0099\n",
      "Epoch 10/25\n",
      "3635/3635 [==============================] - 2s - loss: 5.9520 - acc: 0.0105 - val_loss: 6.0100 - val_acc: 0.0099\n",
      "Epoch 11/25\n",
      "3635/3635 [==============================] - 2s - loss: 5.9509 - acc: 0.0105 - val_loss: 6.0095 - val_acc: 0.0099\n",
      "Epoch 12/25\n",
      "3635/3635 [==============================] - 2s - loss: 5.9498 - acc: 0.0105 - val_loss: 6.0089 - val_acc: 0.0099\n",
      "Epoch 13/25\n",
      "3635/3635 [==============================] - 2s - loss: 5.9487 - acc: 0.0105 - val_loss: 6.0085 - val_acc: 0.0099\n",
      "Epoch 14/25\n",
      "3635/3635 [==============================] - 2s - loss: 5.9476 - acc: 0.0105 - val_loss: 6.0082 - val_acc: 0.0099\n",
      "Epoch 15/25\n",
      "3635/3635 [==============================] - 2s - loss: 5.9465 - acc: 0.0105 - val_loss: 6.0076 - val_acc: 0.0099\n",
      "Epoch 16/25\n",
      "3635/3635 [==============================] - 2s - loss: 5.9455 - acc: 0.0105 - val_loss: 6.0070 - val_acc: 0.0099\n",
      "Epoch 17/25\n",
      "3635/3635 [==============================] - 2s - loss: 5.9445 - acc: 0.0105 - val_loss: 6.0068 - val_acc: 0.0099\n",
      "Epoch 18/25\n",
      "3635/3635 [==============================] - 2s - loss: 5.9434 - acc: 0.0105 - val_loss: 6.0064 - val_acc: 0.0099\n",
      "Epoch 19/25\n",
      "3635/3635 [==============================] - 2s - loss: 5.9423 - acc: 0.0105 - val_loss: 6.0060 - val_acc: 0.0099\n",
      "Epoch 20/25\n",
      "3635/3635 [==============================] - 2s - loss: 5.9413 - acc: 0.0105 - val_loss: 6.0058 - val_acc: 0.0099\n",
      "Epoch 21/25\n",
      "3635/3635 [==============================] - 2s - loss: 5.9403 - acc: 0.0105 - val_loss: 6.0052 - val_acc: 0.0099\n",
      "Epoch 22/25\n",
      "3635/3635 [==============================] - 2s - loss: 5.9392 - acc: 0.0105 - val_loss: 6.0046 - val_acc: 0.0099\n",
      "Epoch 23/25\n",
      "3635/3635 [==============================] - 2s - loss: 5.9382 - acc: 0.0105 - val_loss: 6.0044 - val_acc: 0.0099\n",
      "Epoch 24/25\n",
      "3635/3635 [==============================] - 2s - loss: 5.9372 - acc: 0.0105 - val_loss: 6.0042 - val_acc: 0.0099\n",
      "Epoch 25/25\n",
      "3635/3635 [==============================] - 2s - loss: 5.9362 - acc: 0.0105 - val_loss: 6.0040 - val_acc: 0.0099\n"
     ]
    },
    {
     "data": {
      "text/plain": [
       "<keras.callbacks.History at 0x7f82a0d35190>"
      ]
     },
     "execution_count": 70,
     "metadata": {},
     "output_type": "execute_result"
    }
   ],
   "source": [
    "fc_model.fit(tr_features, \n",
    "             tr_labels,\n",
    "             batch_size=batch_size, \n",
    "             validation_data=(val_features, val_labels), \n",
    "             nb_epoch=25)"
   ]
  },
  {
   "cell_type": "code",
   "execution_count": 71,
   "metadata": {
    "collapsed": false
   },
   "outputs": [
    {
     "name": "stdout",
     "output_type": "stream",
     "text": [
      "Train on 3635 samples, validate on 909 samples\n",
      "Epoch 1/25\n",
      "3635/3635 [==============================] - 2s - loss: 5.9351 - acc: 0.0105 - val_loss: 6.0032 - val_acc: 0.0099\n",
      "Epoch 2/25\n",
      "3635/3635 [==============================] - 2s - loss: 5.9341 - acc: 0.0105 - val_loss: 6.0028 - val_acc: 0.0099\n",
      "Epoch 3/25\n",
      "3635/3635 [==============================] - 2s - loss: 5.9331 - acc: 0.0105 - val_loss: 6.0026 - val_acc: 0.0099\n",
      "Epoch 4/25\n",
      "3635/3635 [==============================] - 2s - loss: 5.9321 - acc: 0.0105 - val_loss: 6.0026 - val_acc: 0.0099\n",
      "Epoch 5/25\n",
      "3635/3635 [==============================] - 2s - loss: 5.9312 - acc: 0.0105 - val_loss: 6.0022 - val_acc: 0.0099\n",
      "Epoch 6/25\n",
      "3635/3635 [==============================] - 2s - loss: 5.9301 - acc: 0.0105 - val_loss: 6.0020 - val_acc: 0.0099\n",
      "Epoch 7/25\n",
      "3635/3635 [==============================] - 2s - loss: 5.9294 - acc: 0.0105 - val_loss: 6.0013 - val_acc: 0.0099\n",
      "Epoch 8/25\n",
      "3635/3635 [==============================] - 2s - loss: 5.9283 - acc: 0.0105 - val_loss: 6.0010 - val_acc: 0.0099\n",
      "Epoch 9/25\n",
      "3635/3635 [==============================] - 2s - loss: 5.9272 - acc: 0.0105 - val_loss: 6.0005 - val_acc: 0.0099\n",
      "Epoch 10/25\n",
      "3635/3635 [==============================] - 2s - loss: 5.9264 - acc: 0.0105 - val_loss: 6.0003 - val_acc: 0.0099\n",
      "Epoch 11/25\n",
      "3635/3635 [==============================] - 2s - loss: 5.9253 - acc: 0.0105 - val_loss: 6.0001 - val_acc: 0.0099\n",
      "Epoch 12/25\n",
      "3635/3635 [==============================] - 2s - loss: 5.9244 - acc: 0.0105 - val_loss: 5.9997 - val_acc: 0.0099\n",
      "Epoch 13/25\n",
      "3635/3635 [==============================] - 2s - loss: 5.9234 - acc: 0.0105 - val_loss: 5.9994 - val_acc: 0.0099\n",
      "Epoch 14/25\n",
      "3635/3635 [==============================] - 2s - loss: 5.9225 - acc: 0.0105 - val_loss: 5.9992 - val_acc: 0.0099\n",
      "Epoch 15/25\n",
      "3635/3635 [==============================] - 2s - loss: 5.9216 - acc: 0.0105 - val_loss: 5.9990 - val_acc: 0.0099\n",
      "Epoch 16/25\n",
      "3635/3635 [==============================] - 2s - loss: 5.9207 - acc: 0.0105 - val_loss: 5.9988 - val_acc: 0.0099\n",
      "Epoch 17/25\n",
      "3635/3635 [==============================] - 2s - loss: 5.9198 - acc: 0.0105 - val_loss: 5.9985 - val_acc: 0.0099\n",
      "Epoch 18/25\n",
      "3635/3635 [==============================] - 2s - loss: 5.9188 - acc: 0.0105 - val_loss: 5.9981 - val_acc: 0.0099\n",
      "Epoch 19/25\n",
      "3635/3635 [==============================] - 2s - loss: 5.9180 - acc: 0.0105 - val_loss: 5.9977 - val_acc: 0.0099\n",
      "Epoch 20/25\n",
      "3635/3635 [==============================] - 2s - loss: 5.9170 - acc: 0.0105 - val_loss: 5.9976 - val_acc: 0.0099\n",
      "Epoch 21/25\n",
      "3635/3635 [==============================] - 2s - loss: 5.9161 - acc: 0.0105 - val_loss: 5.9971 - val_acc: 0.0099\n",
      "Epoch 22/25\n",
      "3635/3635 [==============================] - 2s - loss: 5.9153 - acc: 0.0105 - val_loss: 5.9971 - val_acc: 0.0099\n",
      "Epoch 23/25\n",
      "3635/3635 [==============================] - 2s - loss: 5.9144 - acc: 0.0105 - val_loss: 5.9968 - val_acc: 0.0099\n",
      "Epoch 24/25\n",
      "3635/3635 [==============================] - 2s - loss: 5.9135 - acc: 0.0105 - val_loss: 5.9966 - val_acc: 0.0099\n",
      "Epoch 25/25\n",
      "3635/3635 [==============================] - 2s - loss: 5.9126 - acc: 0.0105 - val_loss: 5.9965 - val_acc: 0.0099\n"
     ]
    },
    {
     "data": {
      "text/plain": [
       "<keras.callbacks.History at 0x7f82a3d919d0>"
      ]
     },
     "execution_count": 71,
     "metadata": {},
     "output_type": "execute_result"
    }
   ],
   "source": [
    "fc_model.fit(tr_features, \n",
    "             tr_labels,\n",
    "             batch_size=batch_size, \n",
    "             validation_data=(val_features, val_labels), \n",
    "             nb_epoch=25)"
   ]
  },
  {
   "cell_type": "code",
   "execution_count": 72,
   "metadata": {
    "collapsed": false
   },
   "outputs": [
    {
     "name": "stdout",
     "output_type": "stream",
     "text": [
      "Train on 3635 samples, validate on 909 samples\n",
      "Epoch 1/25\n",
      "3635/3635 [==============================] - 2s - loss: 5.9117 - acc: 0.0105 - val_loss: 5.9962 - val_acc: 0.0099\n",
      "Epoch 2/25\n",
      "3635/3635 [==============================] - 2s - loss: 5.9108 - acc: 0.0105 - val_loss: 5.9957 - val_acc: 0.0099\n",
      "Epoch 3/25\n",
      "3635/3635 [==============================] - 2s - loss: 5.9100 - acc: 0.0105 - val_loss: 5.9956 - val_acc: 0.0099\n",
      "Epoch 4/25\n",
      "3635/3635 [==============================] - 2s - loss: 5.9091 - acc: 0.0105 - val_loss: 5.9951 - val_acc: 0.0099\n",
      "Epoch 5/25\n",
      "3635/3635 [==============================] - 2s - loss: 5.9082 - acc: 0.0105 - val_loss: 5.9953 - val_acc: 0.0099\n",
      "Epoch 6/25\n",
      "3635/3635 [==============================] - 2s - loss: 5.9074 - acc: 0.0105 - val_loss: 5.9949 - val_acc: 0.0099\n",
      "Epoch 7/25\n",
      "3635/3635 [==============================] - 2s - loss: 5.9066 - acc: 0.0105 - val_loss: 5.9950 - val_acc: 0.0099\n",
      "Epoch 8/25\n",
      "3635/3635 [==============================] - 2s - loss: 5.9057 - acc: 0.0105 - val_loss: 5.9946 - val_acc: 0.0099\n",
      "Epoch 9/25\n",
      "3635/3635 [==============================] - 2s - loss: 5.9049 - acc: 0.0105 - val_loss: 5.9945 - val_acc: 0.0099\n",
      "Epoch 10/25\n",
      "3635/3635 [==============================] - 2s - loss: 5.9041 - acc: 0.0105 - val_loss: 5.9943 - val_acc: 0.0099\n",
      "Epoch 11/25\n",
      "3635/3635 [==============================] - 2s - loss: 5.9032 - acc: 0.0105 - val_loss: 5.9939 - val_acc: 0.0099\n",
      "Epoch 12/25\n",
      "3635/3635 [==============================] - 2s - loss: 5.9024 - acc: 0.0105 - val_loss: 5.9942 - val_acc: 0.0099\n",
      "Epoch 13/25\n",
      "3635/3635 [==============================] - 2s - loss: 5.9016 - acc: 0.0105 - val_loss: 5.9938 - val_acc: 0.0099\n",
      "Epoch 14/25\n",
      "3635/3635 [==============================] - 2s - loss: 5.9008 - acc: 0.0105 - val_loss: 5.9936 - val_acc: 0.0099\n",
      "Epoch 15/25\n",
      "3635/3635 [==============================] - 2s - loss: 5.9000 - acc: 0.0105 - val_loss: 5.9934 - val_acc: 0.0099\n",
      "Epoch 16/25\n",
      "3635/3635 [==============================] - 2s - loss: 5.8991 - acc: 0.0105 - val_loss: 5.9933 - val_acc: 0.0099\n",
      "Epoch 17/25\n",
      "3635/3635 [==============================] - 2s - loss: 5.8983 - acc: 0.0105 - val_loss: 5.9931 - val_acc: 0.0099\n",
      "Epoch 18/25\n",
      "3635/3635 [==============================] - 2s - loss: 5.8976 - acc: 0.0105 - val_loss: 5.9931 - val_acc: 0.0099\n",
      "Epoch 19/25\n",
      "3635/3635 [==============================] - 2s - loss: 5.8968 - acc: 0.0105 - val_loss: 5.9927 - val_acc: 0.0099\n",
      "Epoch 20/25\n",
      "3635/3635 [==============================] - 2s - loss: 5.8960 - acc: 0.0105 - val_loss: 5.9926 - val_acc: 0.0099\n",
      "Epoch 21/25\n",
      "3635/3635 [==============================] - 2s - loss: 5.8952 - acc: 0.0105 - val_loss: 5.9923 - val_acc: 0.0099\n",
      "Epoch 22/25\n",
      "3635/3635 [==============================] - 2s - loss: 5.8945 - acc: 0.0105 - val_loss: 5.9921 - val_acc: 0.0099\n",
      "Epoch 23/25\n",
      "3635/3635 [==============================] - 2s - loss: 5.8937 - acc: 0.0105 - val_loss: 5.9922 - val_acc: 0.0099\n",
      "Epoch 24/25\n",
      "3635/3635 [==============================] - 2s - loss: 5.8929 - acc: 0.0105 - val_loss: 5.9921 - val_acc: 0.0099\n",
      "Epoch 25/25\n",
      "3635/3635 [==============================] - 2s - loss: 5.8922 - acc: 0.0105 - val_loss: 5.9918 - val_acc: 0.0099\n"
     ]
    },
    {
     "data": {
      "text/plain": [
       "<keras.callbacks.History at 0x7f82a0d355d0>"
      ]
     },
     "execution_count": 72,
     "metadata": {},
     "output_type": "execute_result"
    }
   ],
   "source": [
    "fc_model.fit(tr_features, \n",
    "             tr_labels,\n",
    "             batch_size=batch_size, \n",
    "             validation_data=(val_features, val_labels), \n",
    "             nb_epoch=25)"
   ]
  },
  {
   "cell_type": "code",
   "execution_count": 73,
   "metadata": {
    "collapsed": false
   },
   "outputs": [
    {
     "name": "stdout",
     "output_type": "stream",
     "text": [
      "Train on 3635 samples, validate on 909 samples\n",
      "Epoch 1/25\n",
      "3635/3635 [==============================] - 2s - loss: 5.8913 - acc: 0.0105 - val_loss: 5.9921 - val_acc: 0.0099\n",
      "Epoch 2/25\n",
      "3635/3635 [==============================] - 2s - loss: 5.8906 - acc: 0.0105 - val_loss: 5.9917 - val_acc: 0.0099\n",
      "Epoch 3/25\n",
      "3635/3635 [==============================] - 2s - loss: 5.8898 - acc: 0.0105 - val_loss: 5.9916 - val_acc: 0.0099\n",
      "Epoch 4/25\n",
      "3635/3635 [==============================] - 2s - loss: 5.8891 - acc: 0.0105 - val_loss: 5.9914 - val_acc: 0.0099\n",
      "Epoch 5/25\n",
      "3635/3635 [==============================] - 2s - loss: 5.8884 - acc: 0.0105 - val_loss: 5.9914 - val_acc: 0.0099\n",
      "Epoch 6/25\n",
      "3635/3635 [==============================] - 2s - loss: 5.8876 - acc: 0.0105 - val_loss: 5.9911 - val_acc: 0.0099\n",
      "Epoch 7/25\n",
      "3635/3635 [==============================] - 2s - loss: 5.8869 - acc: 0.0105 - val_loss: 5.9910 - val_acc: 0.0099\n",
      "Epoch 8/25\n",
      "3635/3635 [==============================] - 2s - loss: 5.8861 - acc: 0.0105 - val_loss: 5.9913 - val_acc: 0.0099\n",
      "Epoch 9/25\n",
      "3635/3635 [==============================] - 2s - loss: 5.8855 - acc: 0.0105 - val_loss: 5.9915 - val_acc: 0.0099\n",
      "Epoch 10/25\n",
      "3635/3635 [==============================] - 2s - loss: 5.8847 - acc: 0.0105 - val_loss: 5.9909 - val_acc: 0.0099\n",
      "Epoch 11/25\n",
      "3635/3635 [==============================] - 2s - loss: 5.8840 - acc: 0.0105 - val_loss: 5.9910 - val_acc: 0.0099\n",
      "Epoch 12/25\n",
      "3635/3635 [==============================] - 2s - loss: 5.8832 - acc: 0.0105 - val_loss: 5.9911 - val_acc: 0.0099\n",
      "Epoch 13/25\n",
      "3635/3635 [==============================] - 2s - loss: 5.8826 - acc: 0.0105 - val_loss: 5.9908 - val_acc: 0.0099\n",
      "Epoch 14/25\n",
      "3635/3635 [==============================] - 2s - loss: 5.8818 - acc: 0.0105 - val_loss: 5.9905 - val_acc: 0.0099\n",
      "Epoch 15/25\n",
      "3635/3635 [==============================] - 2s - loss: 5.8811 - acc: 0.0105 - val_loss: 5.9901 - val_acc: 0.0099\n",
      "Epoch 16/25\n",
      "3635/3635 [==============================] - 2s - loss: 5.8805 - acc: 0.0105 - val_loss: 5.9907 - val_acc: 0.0099\n",
      "Epoch 17/25\n",
      "3635/3635 [==============================] - 2s - loss: 5.8797 - acc: 0.0105 - val_loss: 5.9907 - val_acc: 0.0099\n",
      "Epoch 18/25\n",
      "3635/3635 [==============================] - 2s - loss: 5.8790 - acc: 0.0105 - val_loss: 5.9904 - val_acc: 0.0099\n",
      "Epoch 19/25\n",
      "3635/3635 [==============================] - 2s - loss: 5.8783 - acc: 0.0105 - val_loss: 5.9903 - val_acc: 0.0099\n",
      "Epoch 20/25\n",
      "3635/3635 [==============================] - 2s - loss: 5.8776 - acc: 0.0105 - val_loss: 5.9904 - val_acc: 0.0099\n",
      "Epoch 21/25\n",
      "3635/3635 [==============================] - 2s - loss: 5.8770 - acc: 0.0105 - val_loss: 5.9902 - val_acc: 0.0099\n",
      "Epoch 22/25\n",
      "3635/3635 [==============================] - 2s - loss: 5.8763 - acc: 0.0105 - val_loss: 5.9904 - val_acc: 0.0099\n",
      "Epoch 23/25\n",
      "3635/3635 [==============================] - 2s - loss: 5.8755 - acc: 0.0105 - val_loss: 5.9902 - val_acc: 0.0099\n",
      "Epoch 24/25\n",
      "3635/3635 [==============================] - 2s - loss: 5.8749 - acc: 0.0105 - val_loss: 5.9902 - val_acc: 0.0099\n",
      "Epoch 25/25\n",
      "3635/3635 [==============================] - 2s - loss: 5.8742 - acc: 0.0105 - val_loss: 5.9900 - val_acc: 0.0099\n"
     ]
    },
    {
     "data": {
      "text/plain": [
       "<keras.callbacks.History at 0x7f82a14346d0>"
      ]
     },
     "execution_count": 73,
     "metadata": {},
     "output_type": "execute_result"
    }
   ],
   "source": [
    "fc_model.fit(tr_features, \n",
    "             tr_labels,\n",
    "             batch_size=batch_size, \n",
    "             validation_data=(val_features, val_labels), \n",
    "             nb_epoch=25)"
   ]
  },
  {
   "cell_type": "code",
   "execution_count": 74,
   "metadata": {
    "collapsed": false
   },
   "outputs": [
    {
     "name": "stdout",
     "output_type": "stream",
     "text": [
      "Train on 3635 samples, validate on 909 samples\n",
      "Epoch 1/25\n",
      "3635/3635 [==============================] - 2s - loss: 5.8735 - acc: 0.0105 - val_loss: 5.9903 - val_acc: 0.0099\n",
      "Epoch 2/25\n",
      "3635/3635 [==============================] - 2s - loss: 5.8729 - acc: 0.0105 - val_loss: 5.9902 - val_acc: 0.0099\n",
      "Epoch 3/25\n",
      "3635/3635 [==============================] - 2s - loss: 5.8722 - acc: 0.0105 - val_loss: 5.9903 - val_acc: 0.0099\n",
      "Epoch 4/25\n",
      "3635/3635 [==============================] - 2s - loss: 5.8717 - acc: 0.0105 - val_loss: 5.9898 - val_acc: 0.0099\n",
      "Epoch 5/25\n",
      "3635/3635 [==============================] - 2s - loss: 5.8710 - acc: 0.0105 - val_loss: 5.9902 - val_acc: 0.0099\n",
      "Epoch 6/25\n",
      "3635/3635 [==============================] - 2s - loss: 5.8703 - acc: 0.0105 - val_loss: 5.9901 - val_acc: 0.0099\n",
      "Epoch 7/25\n",
      "3635/3635 [==============================] - 2s - loss: 5.8697 - acc: 0.0105 - val_loss: 5.9901 - val_acc: 0.0099\n",
      "Epoch 8/25\n",
      "3635/3635 [==============================] - 2s - loss: 5.8689 - acc: 0.0105 - val_loss: 5.9895 - val_acc: 0.0099\n",
      "Epoch 9/25\n",
      "3635/3635 [==============================] - 2s - loss: 5.8685 - acc: 0.0105 - val_loss: 5.9900 - val_acc: 0.0099\n",
      "Epoch 10/25\n",
      "3635/3635 [==============================] - 2s - loss: 5.8677 - acc: 0.0105 - val_loss: 5.9899 - val_acc: 0.0099\n",
      "Epoch 11/25\n",
      "3635/3635 [==============================] - 2s - loss: 5.8671 - acc: 0.0105 - val_loss: 5.9899 - val_acc: 0.0099\n",
      "Epoch 12/25\n",
      "3635/3635 [==============================] - 2s - loss: 5.8664 - acc: 0.0105 - val_loss: 5.9900 - val_acc: 0.0099\n",
      "Epoch 13/25\n",
      "3635/3635 [==============================] - 2s - loss: 5.8659 - acc: 0.0105 - val_loss: 5.9904 - val_acc: 0.0099\n",
      "Epoch 14/25\n",
      "3635/3635 [==============================] - 2s - loss: 5.8653 - acc: 0.0105 - val_loss: 5.9898 - val_acc: 0.0099\n",
      "Epoch 15/25\n",
      "3635/3635 [==============================] - 2s - loss: 5.8646 - acc: 0.0105 - val_loss: 5.9899 - val_acc: 0.0099\n",
      "Epoch 16/25\n",
      "3635/3635 [==============================] - 2s - loss: 5.8639 - acc: 0.0105 - val_loss: 5.9902 - val_acc: 0.0099\n",
      "Epoch 17/25\n",
      "3635/3635 [==============================] - 2s - loss: 5.8634 - acc: 0.0105 - val_loss: 5.9903 - val_acc: 0.0099\n",
      "Epoch 18/25\n",
      "3635/3635 [==============================] - 2s - loss: 5.8628 - acc: 0.0105 - val_loss: 5.9904 - val_acc: 0.0099\n",
      "Epoch 19/25\n",
      "3635/3635 [==============================] - 2s - loss: 5.8621 - acc: 0.0107 - val_loss: 5.9903 - val_acc: 0.0110\n",
      "Epoch 20/25\n",
      "3635/3635 [==============================] - 2s - loss: 5.8615 - acc: 0.0105 - val_loss: 5.9898 - val_acc: 0.0099\n",
      "Epoch 21/25\n",
      "3635/3635 [==============================] - 2s - loss: 5.8610 - acc: 0.0099 - val_loss: 5.9902 - val_acc: 0.0110\n",
      "Epoch 22/25\n",
      "3635/3635 [==============================] - 2s - loss: 5.8603 - acc: 0.0105 - val_loss: 5.9901 - val_acc: 0.0099\n",
      "Epoch 23/25\n",
      "3635/3635 [==============================] - 2s - loss: 5.8597 - acc: 0.0107 - val_loss: 5.9903 - val_acc: 0.0121\n",
      "Epoch 24/25\n",
      "3635/3635 [==============================] - 2s - loss: 5.8591 - acc: 0.0107 - val_loss: 5.9902 - val_acc: 0.0099\n",
      "Epoch 25/25\n",
      "3635/3635 [==============================] - 2s - loss: 5.8585 - acc: 0.0107 - val_loss: 5.9908 - val_acc: 0.0121\n"
     ]
    },
    {
     "data": {
      "text/plain": [
       "<keras.callbacks.History at 0x7f82a0d35510>"
      ]
     },
     "execution_count": 74,
     "metadata": {},
     "output_type": "execute_result"
    }
   ],
   "source": [
    "fc_model.fit(tr_features, \n",
    "             tr_labels,\n",
    "             batch_size=batch_size, \n",
    "             validation_data=(val_features, val_labels), \n",
    "             nb_epoch=25)"
   ]
  },
  {
   "cell_type": "code",
   "execution_count": 76,
   "metadata": {
    "collapsed": false
   },
   "outputs": [],
   "source": [
    "fc_model.optimizer.lr = 0.00001"
   ]
  },
  {
   "cell_type": "code",
   "execution_count": 77,
   "metadata": {
    "collapsed": false
   },
   "outputs": [
    {
     "name": "stdout",
     "output_type": "stream",
     "text": [
      "Train on 3635 samples, validate on 909 samples\n",
      "Epoch 1/25\n",
      "3635/3635 [==============================] - 2s - loss: 5.8579 - acc: 0.0107 - val_loss: 5.9907 - val_acc: 0.0121\n",
      "Epoch 2/25\n",
      "3635/3635 [==============================] - 2s - loss: 5.8574 - acc: 0.0107 - val_loss: 5.9906 - val_acc: 0.0121\n",
      "Epoch 3/25\n",
      "3635/3635 [==============================] - 2s - loss: 5.8568 - acc: 0.0107 - val_loss: 5.9907 - val_acc: 0.0121\n",
      "Epoch 4/25\n",
      "3635/3635 [==============================] - 2s - loss: 5.8562 - acc: 0.0107 - val_loss: 5.9906 - val_acc: 0.0121\n",
      "Epoch 5/25\n",
      "3635/3635 [==============================] - 2s - loss: 5.8556 - acc: 0.0107 - val_loss: 5.9905 - val_acc: 0.0121\n",
      "Epoch 6/25\n",
      "3635/3635 [==============================] - 2s - loss: 5.8551 - acc: 0.0107 - val_loss: 5.9907 - val_acc: 0.0121\n",
      "Epoch 7/25\n",
      "3635/3635 [==============================] - 2s - loss: 5.8545 - acc: 0.0105 - val_loss: 5.9906 - val_acc: 0.0121\n",
      "Epoch 8/25\n",
      "3635/3635 [==============================] - 2s - loss: 5.8539 - acc: 0.0105 - val_loss: 5.9912 - val_acc: 0.0121\n",
      "Epoch 9/25\n",
      "3635/3635 [==============================] - 2s - loss: 5.8533 - acc: 0.0107 - val_loss: 5.9910 - val_acc: 0.0121\n",
      "Epoch 10/25\n",
      "3635/3635 [==============================] - 2s - loss: 5.8527 - acc: 0.0107 - val_loss: 5.9908 - val_acc: 0.0121\n",
      "Epoch 11/25\n",
      "3635/3635 [==============================] - 2s - loss: 5.8521 - acc: 0.0113 - val_loss: 5.9907 - val_acc: 0.0121\n",
      "Epoch 12/25\n",
      "3635/3635 [==============================] - 2s - loss: 5.8516 - acc: 0.0110 - val_loss: 5.9910 - val_acc: 0.0121\n",
      "Epoch 13/25\n",
      "3635/3635 [==============================] - 2s - loss: 5.8511 - acc: 0.0113 - val_loss: 5.9912 - val_acc: 0.0121\n",
      "Epoch 14/25\n",
      "3635/3635 [==============================] - 2s - loss: 5.8505 - acc: 0.0110 - val_loss: 5.9914 - val_acc: 0.0121\n",
      "Epoch 15/25\n",
      "3635/3635 [==============================] - 2s - loss: 5.8499 - acc: 0.0113 - val_loss: 5.9914 - val_acc: 0.0121\n",
      "Epoch 16/25\n",
      "3635/3635 [==============================] - 2s - loss: 5.8494 - acc: 0.0113 - val_loss: 5.9916 - val_acc: 0.0121\n",
      "Epoch 17/25\n",
      "3635/3635 [==============================] - 2s - loss: 5.8489 - acc: 0.0113 - val_loss: 5.9916 - val_acc: 0.0121\n",
      "Epoch 18/25\n",
      "3635/3635 [==============================] - 2s - loss: 5.8483 - acc: 0.0113 - val_loss: 5.9917 - val_acc: 0.0121\n",
      "Epoch 19/25\n",
      "3635/3635 [==============================] - 2s - loss: 5.8478 - acc: 0.0116 - val_loss: 5.9916 - val_acc: 0.0121\n",
      "Epoch 20/25\n",
      "3635/3635 [==============================] - 2s - loss: 5.8473 - acc: 0.0110 - val_loss: 5.9920 - val_acc: 0.0132\n",
      "Epoch 21/25\n",
      "3635/3635 [==============================] - 2s - loss: 5.8467 - acc: 0.0113 - val_loss: 5.9915 - val_acc: 0.0121\n",
      "Epoch 22/25\n",
      "3635/3635 [==============================] - 2s - loss: 5.8462 - acc: 0.0116 - val_loss: 5.9918 - val_acc: 0.0121\n",
      "Epoch 23/25\n",
      "3635/3635 [==============================] - 2s - loss: 5.8457 - acc: 0.0113 - val_loss: 5.9925 - val_acc: 0.0132\n",
      "Epoch 24/25\n",
      "3635/3635 [==============================] - 2s - loss: 5.8451 - acc: 0.0118 - val_loss: 5.9930 - val_acc: 0.0132\n",
      "Epoch 25/25\n",
      "3635/3635 [==============================] - 2s - loss: 5.8447 - acc: 0.0116 - val_loss: 5.9925 - val_acc: 0.0132\n"
     ]
    },
    {
     "data": {
      "text/plain": [
       "<keras.callbacks.History at 0x7f82a1504b10>"
      ]
     },
     "execution_count": 77,
     "metadata": {},
     "output_type": "execute_result"
    }
   ],
   "source": [
    "fc_model.fit(tr_features, \n",
    "             tr_labels,\n",
    "             batch_size=batch_size, \n",
    "             validation_data=(val_features, val_labels), \n",
    "             nb_epoch=25)"
   ]
  },
  {
   "cell_type": "code",
   "execution_count": 78,
   "metadata": {
    "collapsed": true
   },
   "outputs": [],
   "source": [
    "test_features = load_array('vgg_conv_test.bc')"
   ]
  },
  {
   "cell_type": "code",
   "execution_count": 79,
   "metadata": {
    "collapsed": true
   },
   "outputs": [],
   "source": [
    "fc_model.predict?"
   ]
  },
  {
   "cell_type": "code",
   "execution_count": 80,
   "metadata": {
    "collapsed": true
   },
   "outputs": [],
   "source": [
    "preds = fc_model.predict(test_features)"
   ]
  },
  {
   "cell_type": "code",
   "execution_count": 82,
   "metadata": {
    "collapsed": true
   },
   "outputs": [],
   "source": [
    "from create_whale_sub import create_sub"
   ]
  },
  {
   "cell_type": "code",
   "execution_count": 86,
   "metadata": {
    "collapsed": false
   },
   "outputs": [
    {
     "name": "stdout",
     "output_type": "stream",
     "text": [
      "Found 6925 images belonging to 1 classes.\n",
      "Found 3635 images belonging to 447 classes.\n"
     ]
    }
   ],
   "source": [
    "test_batches = ImageDataGenerator().flow_from_directory(img_dir+'/test', shuffle=False)\n",
    "tr_batches = ImageDataGenerator().flow_from_directory(img_dir+'/train', shuffle=False)"
   ]
  },
  {
   "cell_type": "code",
   "execution_count": 84,
   "metadata": {
    "collapsed": true
   },
   "outputs": [],
   "source": [
    "def create_sub(preds, test_batches, train_batches):\n",
    "    file_names = np.array([f[f.find('/') +1:] for f in test_batches.filenames])\n",
    "    \n",
    "    idx_class = [(v, k) for k,v in tr_batches.class_indices.items()]\n",
    "    idx_class= sorted(idx_class, key=lambda x: x[0])\n",
    "    classes = [x[1] for x in idx_class]\n",
    "    data = np.hstack((file_names[:, np.newaxis], preds))\n",
    "    columns = ['Image'] + classes\n",
    "    return pd.DataFrame(data, columns=columns)"
   ]
  },
  {
   "cell_type": "code",
   "execution_count": 87,
   "metadata": {
    "collapsed": false
   },
   "outputs": [],
   "source": [
    "sub = create_sub(preds, test_batches, tr_batches)"
   ]
  },
  {
   "cell_type": "code",
   "execution_count": 89,
   "metadata": {
    "collapsed": false
   },
   "outputs": [
    {
     "data": {
      "text/plain": [
       "6925"
      ]
     },
     "execution_count": 89,
     "metadata": {},
     "output_type": "execute_result"
    }
   ],
   "source": [
    "len(sub)"
   ]
  },
  {
   "cell_type": "code",
   "execution_count": 90,
   "metadata": {
    "collapsed": true
   },
   "outputs": [],
   "source": [
    "sub.to_csv('vgg_train_ll.csv', index=False)"
   ]
  },
  {
   "cell_type": "code",
   "execution_count": 91,
   "metadata": {
    "collapsed": false
   },
   "outputs": [
    {
     "data": {
      "text/html": [
       "<a href='vgg_train_ll.csv' target='_blank'>vgg_train_ll.csv</a><br>"
      ],
      "text/plain": [
       "/home/ubuntu/courses/deeplearning1/nbs/vgg_train_ll.csv"
      ]
     },
     "execution_count": 91,
     "metadata": {},
     "output_type": "execute_result"
    }
   ],
   "source": [
    "from IPython.display import FileLink\n",
    "FileLink('vgg_train_ll.csv')"
   ]
  },
  {
   "cell_type": "markdown",
   "metadata": {},
   "source": [
    "scores 5.99777"
   ]
  },
  {
   "cell_type": "code",
   "execution_count": null,
   "metadata": {
    "collapsed": true
   },
   "outputs": [],
   "source": []
  },
  {
   "cell_type": "code",
   "execution_count": null,
   "metadata": {
    "collapsed": true
   },
   "outputs": [],
   "source": []
  },
  {
   "cell_type": "code",
   "execution_count": null,
   "metadata": {
    "collapsed": true
   },
   "outputs": [],
   "source": []
  },
  {
   "cell_type": "code",
   "execution_count": null,
   "metadata": {
    "collapsed": true
   },
   "outputs": [],
   "source": []
  },
  {
   "cell_type": "code",
   "execution_count": 44,
   "metadata": {
    "collapsed": true
   },
   "outputs": [],
   "source": [
    "def calc_loss(model, val_batches, classes):\n",
    "    preds = model.predict_generator(val_batches, val_batches.nb_sample)\n",
    "    clipped_preds = np.maximum(preds, 0.00022)\n",
    "    #log_loss(val_b.classes, preds, labels=range(447))\n",
    "    print('raw val loss: {}'.format(log_loss(classes, preds, labels=range(447))))\n",
    "    print('clipped val loss: {}'.format(log_loss(classes, clipped_preds, labels=range(447))))"
   ]
  },
  {
   "cell_type": "code",
   "execution_count": 45,
   "metadata": {
    "collapsed": false
   },
   "outputs": [],
   "source": [
    "class LossCallback(keras.callbacks.Callback):\n",
    "    \n",
    "    def __init__(self):\n",
    "        self.val_batches = get_val_batches()\n",
    "        self.classes = self.val_batches.classes\n",
    "        #self.n_val = self.val_batches.nb_sample\n",
    "    \n",
    "    def on_epoch_end(self, epoch, logs={}):\n",
    "        calc_loss(self.model, self.val_batches, self.classes) \n",
    "    "
   ]
  },
  {
   "cell_type": "code",
   "execution_count": 46,
   "metadata": {
    "collapsed": false
   },
   "outputs": [
    {
     "name": "stdout",
     "output_type": "stream",
     "text": [
      "Found 909 images belonging to 447 classes.\n"
     ]
    }
   ],
   "source": [
    "loss_cb = LossCallback()"
   ]
  }
 ],
 "metadata": {
  "anaconda-cloud": {},
  "kernelspec": {
   "display_name": "Python [conda root]",
   "language": "python",
   "name": "conda-root-py"
  },
  "language_info": {
   "codemirror_mode": {
    "name": "ipython",
    "version": 2
   },
   "file_extension": ".py",
   "mimetype": "text/x-python",
   "name": "python",
   "nbconvert_exporter": "python",
   "pygments_lexer": "ipython2",
   "version": "2.7.12"
  }
 },
 "nbformat": 4,
 "nbformat_minor": 1
}
